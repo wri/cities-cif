{
 "cells": [
  {
   "cell_type": "code",
   "execution_count": 1,
   "id": "678ec2ae-b4b3-4a43-adac-a39093eb579f",
   "metadata": {},
   "outputs": [],
   "source": [
    "import rasterio\n",
    "import os\n",
    "import geopandas as gpd\n",
    "import pandas as pd\n",
    "import matplotlib.pyplot as plt\n",
    "from rasterio.plot import show\n",
    "import rasterio\n",
    "import numpy as np\n",
    "import requests"
   ]
  },
  {
   "cell_type": "code",
   "execution_count": 3,
   "id": "ea30cdae-e43b-41c6-b0ae-0d286c124722",
   "metadata": {},
   "outputs": [],
   "source": [
    "# # update the wd path to be able to laod the modules\n",
    "# # os.getcwd()\n",
    "os.chdir('..')"
   ]
  },
  {
   "cell_type": "code",
   "execution_count": 6,
   "id": "6d06eb1d-c13c-41bf-b010-f72d005c9fec",
   "metadata": {},
   "outputs": [],
   "source": [
    "os.environ['GCS_BUCKET']='gee-exports'\n",
    "os.environ['GOOGLE_APPLICATION_USER']='developers@citiesindicators.iam.gserviceaccount.com'\n",
    "os.environ['GOOGLE_APPLICATION_CREDENTIALS']='C:\\\\Users\\Saif.Shabou\\OneDrive - World Resources Institute\\Documents\\cities-indicators-framework\\citymetrix\\credentials-citiesindicators.json'"
   ]
  },
  {
   "cell_type": "code",
   "execution_count": 7,
   "id": "3bd7c54a-74d7-4cfb-91b4-8291c2387b11",
   "metadata": {},
   "outputs": [
    {
     "name": "stdout",
     "output_type": "stream",
     "text": [
      "Authenticating to GEE with configured credentials file.\n"
     ]
    }
   ],
   "source": [
    "from city_metrix import (\n",
    "    built_land_without_tree_cover, \n",
    "    mean_tree_cover, \n",
    "    built_land_with_low_surface_reflectivity, \n",
    "    built_land_with_high_land_surface_temperature\n",
    ")\n"
   ]
  },
  {
   "cell_type": "markdown",
   "id": "11ef1568-2f43-46de-b543-fdffed9a6afd",
   "metadata": {},
   "source": [
    "# Select a city"
   ]
  },
  {
   "cell_type": "code",
   "execution_count": 8,
   "id": "c78992f9-ace2-43f5-8598-3c708a9aa2e0",
   "metadata": {},
   "outputs": [
    {
     "data": {
      "text/html": [
       "<div>\n",
       "<style scoped>\n",
       "    .dataframe tbody tr th:only-of-type {\n",
       "        vertical-align: middle;\n",
       "    }\n",
       "\n",
       "    .dataframe tbody tr th {\n",
       "        vertical-align: top;\n",
       "    }\n",
       "\n",
       "    .dataframe thead th {\n",
       "        text-align: right;\n",
       "    }\n",
       "</style>\n",
       "<table border=\"1\" class=\"dataframe\">\n",
       "  <thead>\n",
       "    <tr style=\"text-align: right;\">\n",
       "      <th></th>\n",
       "      <th>id</th>\n",
       "      <th>geo_id</th>\n",
       "      <th>geo_name</th>\n",
       "      <th>geo_level</th>\n",
       "      <th>geo_parent_name</th>\n",
       "      <th>geo_version</th>\n",
       "      <th>geometry</th>\n",
       "    </tr>\n",
       "  </thead>\n",
       "  <tbody>\n",
       "    <tr>\n",
       "      <th>0</th>\n",
       "      <td>0</td>\n",
       "      <td>BRA-Salvador_ADM4-union_1</td>\n",
       "      <td>BRA-Salvador</td>\n",
       "      <td>ADM4union</td>\n",
       "      <td>BRA-Salvador</td>\n",
       "      <td>0</td>\n",
       "      <td>MULTIPOLYGON (((-38.50135 -13.01134, -38.50140...</td>\n",
       "    </tr>\n",
       "  </tbody>\n",
       "</table>\n",
       "</div>"
      ],
      "text/plain": [
       "  id                     geo_id      geo_name  geo_level geo_parent_name  \\\n",
       "0  0  BRA-Salvador_ADM4-union_1  BRA-Salvador  ADM4union    BRA-Salvador   \n",
       "\n",
       "   geo_version                                           geometry  \n",
       "0            0  MULTIPOLYGON (((-38.50135 -13.01134, -38.50140...  "
      ]
     },
     "execution_count": 8,
     "metadata": {},
     "output_type": "execute_result"
    }
   ],
   "source": [
    "# Get city boundary\n",
    "cities_api_url = \"http://3.225.116.209:8000/cities\"\n",
    "city_name = \"BRA-Salvador\"\n",
    "admin_level = \"ADM4union\"\n",
    "city_geom = cities_api_url + \"/\"+city_name+\"/\"+admin_level+\"/geojson\"\n",
    "city_gdf = gpd.read_file(city_geom)\n",
    "city_gdf.head()"
   ]
  },
  {
   "cell_type": "code",
   "execution_count": 10,
   "id": "f9d9b3bf",
   "metadata": {},
   "outputs": [
    {
     "data": {
      "application/vnd.jupyter.widget-view+json": {
       "model_id": "940ee04286494af09b9b5d8d9c32ae35",
       "version_major": 2,
       "version_minor": 0
      },
      "text/plain": [
       "Output()"
      ]
     },
     "metadata": {},
     "output_type": "display_data"
    },
    {
     "data": {
      "text/html": [
       "<pre style=\"white-space:pre;overflow-x:auto;line-height:normal;font-family:Menlo,'DejaVu Sans Mono',consolas,'Courier New',monospace\">\n",
       "</pre>\n"
      ],
      "text/plain": [
       "\n"
      ]
     },
     "metadata": {},
     "output_type": "display_data"
    },
    {
     "data": {
      "text/html": [
       "<pre style=\"white-space:pre;overflow-x:auto;line-height:normal;font-family:Menlo,'DejaVu Sans Mono',consolas,'Courier New',monospace\">\n",
       "</pre>\n"
      ],
      "text/plain": [
       "\n"
      ]
     },
     "metadata": {},
     "output_type": "display_data"
    },
    {
     "data": {
      "text/html": [
       "<pre style=\"white-space:pre;overflow-x:auto;line-height:normal;font-family:Menlo,'DejaVu Sans Mono',consolas,'Courier New',monospace\">\n",
       "</pre>\n"
      ],
      "text/plain": [
       "\n"
      ]
     },
     "metadata": {},
     "output_type": "display_data"
    },
    {
     "data": {
      "text/html": [
       "<pre style=\"white-space:pre;overflow-x:auto;line-height:normal;font-family:Menlo,'DejaVu Sans Mono',consolas,'Courier New',monospace\">\n",
       "</pre>\n"
      ],
      "text/plain": [
       "\n"
      ]
     },
     "metadata": {},
     "output_type": "display_data"
    },
    {
     "data": {
      "text/html": [
       "<pre style=\"white-space:pre;overflow-x:auto;line-height:normal;font-family:Menlo,'DejaVu Sans Mono',consolas,'Courier New',monospace\">\n",
       "</pre>\n"
      ],
      "text/plain": [
       "\n"
      ]
     },
     "metadata": {},
     "output_type": "display_data"
    },
    {
     "data": {
      "text/html": [
       "<pre style=\"white-space:pre;overflow-x:auto;line-height:normal;font-family:Menlo,'DejaVu Sans Mono',consolas,'Courier New',monospace\">Package - TBB, Cannot find TBB~=0.2.0 on pypi.org, currently only packages from pypi.org are supported. Custom \n",
       "conda channels are supported if your package is available there instead.\n",
       "</pre>\n"
      ],
      "text/plain": [
       "Package - TBB, Cannot find TBB~=0.2.0 on pypi.org, currently only packages from pypi.org are supported. Custom \n",
       "conda channels are supported if your package is available there instead.\n"
      ]
     },
     "metadata": {},
     "output_type": "display_data"
    },
    {
     "data": {
      "text/html": [
       "<pre style=\"white-space:pre;overflow-x:auto;line-height:normal;font-family:Menlo,'DejaVu Sans Mono',consolas,'Courier New',monospace\">Package - icc_rt, icc_rt~=2019.0.0 has no install candidate for linux-64 on pkgs/main\n",
       "</pre>\n"
      ],
      "text/plain": [
       "Package - icc_rt, icc_rt~=2019.0.0 has no install candidate for linux-64 on pkgs/main\n"
      ]
     },
     "metadata": {},
     "output_type": "display_data"
    },
    {
     "data": {
      "text/html": [
       "<pre style=\"white-space:pre;overflow-x:auto;line-height:normal;font-family:Menlo,'DejaVu Sans Mono',consolas,'Courier New',monospace\">Package - powershell_shortcut, powershell_shortcut~=0.0.1 has no install candidate for linux-64 on pkgs/main\n",
       "</pre>\n"
      ],
      "text/plain": [
       "Package - powershell_shortcut, powershell_shortcut~=0.0.1 has no install candidate for linux-64 on pkgs/main\n"
      ]
     },
     "metadata": {},
     "output_type": "display_data"
    },
    {
     "data": {
      "text/html": [
       "<pre style=\"white-space:pre;overflow-x:auto;line-height:normal;font-family:Menlo,'DejaVu Sans Mono',consolas,'Courier New',monospace\">Package - scikit-learn-intelex, Cannot find scikit-learn-intelex~=2021.20220215.102710 on pypi.org, currently only \n",
       "packages from pypi.org are supported. Custom conda channels are supported if your package is available there \n",
       "instead.\n",
       "</pre>\n"
      ],
      "text/plain": [
       "Package - scikit-learn-intelex, Cannot find scikit-learn-intelex~=2021.20220215.102710 on pypi.org, currently only \n",
       "packages from pypi.org are supported. Custom conda channels are supported if your package is available there \n",
       "instead.\n"
      ]
     },
     "metadata": {},
     "output_type": "display_data"
    },
    {
     "data": {
      "text/html": [
       "<pre style=\"white-space:pre;overflow-x:auto;line-height:normal;font-family:Menlo,'DejaVu Sans Mono',consolas,'Courier New',monospace\">Package - wincertstore, wincertstore~=0.2.0 has no install candidate for linux-64 on pkgs/main\n",
       "</pre>\n"
      ],
      "text/plain": [
       "Package - wincertstore, wincertstore~=0.2.0 has no install candidate for linux-64 on pkgs/main\n"
      ]
     },
     "metadata": {},
     "output_type": "display_data"
    },
    {
     "data": {
      "text/html": [
       "<pre style=\"white-space:pre;overflow-x:auto;line-height:normal;font-family:Menlo,'DejaVu Sans Mono',consolas,'Courier New',monospace\">Package - xlwings, xlwings~=0.24.9 has no install candidate for linux-64 on pkgs/main\n",
       "</pre>\n"
      ],
      "text/plain": [
       "Package - xlwings, xlwings~=0.24.9 has no install candidate for linux-64 on pkgs/main\n"
      ]
     },
     "metadata": {},
     "output_type": "display_data"
    },
    {
     "data": {
      "text/html": [
       "<pre style=\"white-space:pre;overflow-x:auto;line-height:normal;font-family:Menlo,'DejaVu Sans Mono',consolas,'Courier New',monospace\">Package - werkzeug, Pip check had the following issues that need resolving: \n",
       "\n",
       "</pre>\n"
      ],
      "text/plain": [
       "Package - werkzeug, Pip check had the following issues that need resolving: \n",
       "\n"
      ]
     },
     "metadata": {},
     "output_type": "display_data"
    },
    {
     "data": {
      "text/html": [
       "<pre style=\"white-space:pre;overflow-x:auto;line-height:normal;font-family:Menlo,'DejaVu Sans Mono',consolas,'Courier New',monospace\">Package - morecantile, Pip check had the following issues that need resolving: \n",
       "\n",
       "</pre>\n"
      ],
      "text/plain": [
       "Package - morecantile, Pip check had the following issues that need resolving: \n",
       "\n"
      ]
     },
     "metadata": {},
     "output_type": "display_data"
    },
    {
     "data": {
      "text/html": [
       "<pre style=\"white-space:pre;overflow-x:auto;line-height:normal;font-family:Menlo,'DejaVu Sans Mono',consolas,'Courier New',monospace\">Package - jupyter-server, Pip check had the following issues that need resolving: \n",
       "\n",
       "</pre>\n"
      ],
      "text/plain": [
       "Package - jupyter-server, Pip check had the following issues that need resolving: \n",
       "\n"
      ]
     },
     "metadata": {},
     "output_type": "display_data"
    },
    {
     "data": {
      "text/html": [
       "<pre style=\"white-space:pre;overflow-x:auto;line-height:normal;font-family:Menlo,'DejaVu Sans Mono',consolas,'Courier New',monospace\">Package - flask, Pip check had the following issues that need resolving: \n",
       "\n",
       "</pre>\n"
      ],
      "text/plain": [
       "Package - flask, Pip check had the following issues that need resolving: \n",
       "\n"
      ]
     },
     "metadata": {},
     "output_type": "display_data"
    },
    {
     "data": {
      "text/html": [
       "<pre style=\"white-space:pre;overflow-x:auto;line-height:normal;font-family:Menlo,'DejaVu Sans Mono',consolas,'Courier New',monospace\">Package - autopep8, Pip check had the following issues that need resolving: \n",
       "\n",
       "</pre>\n"
      ],
      "text/plain": [
       "Package - autopep8, Pip check had the following issues that need resolving: \n",
       "\n"
      ]
     },
     "metadata": {},
     "output_type": "display_data"
    },
    {
     "data": {
      "text/html": [
       "<pre style=\"white-space:pre;overflow-x:auto;line-height:normal;font-family:Menlo,'DejaVu Sans Mono',consolas,'Courier New',monospace\"></pre>\n"
      ],
      "text/plain": []
     },
     "metadata": {},
     "output_type": "display_data"
    },
    {
     "data": {
      "text/html": [
       "<pre style=\"white-space:pre;overflow-x:auto;line-height:normal;font-family:Menlo,'DejaVu Sans Mono',consolas,'Courier New',monospace\">╭────────────────────────────────────────── <span style=\"color: #008000; text-decoration-color: #008000; font-weight: bold\">Package Info</span> ──────────────────────────────────────────╮\n",
       "│                           ╷                                                                      │\n",
       "│  <span style=\"font-weight: bold\"> Package                 </span>│<span style=\"font-weight: bold\"> Note                                                               </span>  │\n",
       "│ ╶─────────────────────────┼────────────────────────────────────────────────────────────────────╴ │\n",
       "│   coiled_local_cities_cif │ Source wheel built from C:\\Users\\Saif.Shabou\\OneDrive - World        │\n",
       "│                           │ Resources                                                            │\n",
       "│                           │ Institute\\Documents\\cities-indicators-framework\\citymetrix\\cities-   │\n",
       "│                           │ cif                                                                  │\n",
       "│                           ╵                                                                      │\n",
       "╰──────────────────────────────────────────────────────────────────────────────────────────────────╯\n",
       "</pre>\n"
      ],
      "text/plain": [
       "╭────────────────────────────────────────── \u001b[1;32mPackage Info\u001b[0m ──────────────────────────────────────────╮\n",
       "│                           ╷                                                                      │\n",
       "│  \u001b[1m \u001b[0m\u001b[1mPackage                \u001b[0m\u001b[1m \u001b[0m│\u001b[1m \u001b[0m\u001b[1mNote                                                              \u001b[0m\u001b[1m \u001b[0m  │\n",
       "│ ╶─────────────────────────┼────────────────────────────────────────────────────────────────────╴ │\n",
       "│   coiled_local_cities_cif │ Source wheel built from C:\\Users\\Saif.Shabou\\OneDrive - World        │\n",
       "│                           │ Resources                                                            │\n",
       "│                           │ Institute\\Documents\\cities-indicators-framework\\citymetrix\\cities-   │\n",
       "│                           │ cif                                                                  │\n",
       "│                           ╵                                                                      │\n",
       "╰──────────────────────────────────────────────────────────────────────────────────────────────────╯\n"
      ]
     },
     "metadata": {},
     "output_type": "display_data"
    },
    {
     "data": {
      "text/html": [
       "<pre style=\"white-space:pre;overflow-x:auto;line-height:normal;font-family:Menlo,'DejaVu Sans Mono',consolas,'Courier New',monospace\">╭──────────────────────────────────── <span style=\"color: #800000; text-decoration-color: #800000; font-weight: bold\">Not Synced with Cluster</span> ─────────────────────────────────────╮\n",
       "│                        ╷                                                             ╷           │\n",
       "│  <span style=\"font-weight: bold\"> Package              </span>│<span style=\"font-weight: bold\"> Error                                                       </span>│<span style=\"font-weight: bold\"> Risk    </span>  │\n",
       "│ ╶──────────────────────┼─────────────────────────────────────────────────────────────┼─────────╴ │\n",
       "│   xlwings              │ xlwings~=0.24.9 has no install candidate for linux-64 on    │ Warning   │\n",
       "│                        │ pkgs/main                                                   │           │\n",
       "│   wincertstore         │ wincertstore~=0.2.0 has no install candidate for linux-64   │ Warning   │\n",
       "│                        │ on pkgs/main                                                │           │\n",
       "│   werkzeug             │ Pip check had the following issues that need resolving:     │ Warning   │\n",
       "│                        │ werkzeug 2.3.6 has requirement MarkupSafe&gt;=2.1.1, but you   │           │\n",
       "│                        │ have markupsafe 2.0.1.                                      │           │\n",
       "│   scikit-learn-intelex │ Cannot find scikit-learn-intelex~=2021.20220215.102710 on   │ Warning   │\n",
       "│                        │ pypi.org, currently only packages from pypi.org are         │           │\n",
       "│                        │ supported. Custom conda channels are supported if your      │           │\n",
       "│                        │ package is available there instead.                         │           │\n",
       "│   powershell_shortcut  │ powershell_shortcut~=0.0.1 has no install candidate for     │ Warning   │\n",
       "│                        │ linux-64 on pkgs/main                                       │           │\n",
       "│   morecantile          │ Pip check had the following issues that need resolving:     │ Warning   │\n",
       "│                        │ morecantile 4.3.0 has requirement pydantic~=1.0, but you    │           │\n",
       "│                        │ have pydantic 2.0.3.                                        │           │\n",
       "│   jupyter-server       │ Pip check had the following issues that need resolving:     │ Warning   │\n",
       "│                        │ jupyter-server 1.13.5 has requirement pywinpty&lt;2; os_name   │           │\n",
       "│                        │ == \"nt\", but you have pywinpty 2.0.2.                       │           │\n",
       "│   icc_rt               │ icc_rt~=2019.0.0 has no install candidate for linux-64 on   │ Warning   │\n",
       "│                        │ pkgs/main                                                   │           │\n",
       "│   flask                │ Pip check had the following issues that need resolving:     │ Warning   │\n",
       "│                        │ flask 2.3.2 has requirement Jinja2&gt;=3.1.2, but you have     │           │\n",
       "│                        │ jinja2 2.11.3.                                              │           │\n",
       "│   autopep8             │ Pip check had the following issues that need resolving:     │ Warning   │\n",
       "│                        │ autopep8 1.6.0 has requirement pycodestyle&gt;=2.8.0, but you  │           │\n",
       "│                        │ have pycodestyle 2.7.0.                                     │           │\n",
       "│   TBB                  │ Cannot find TBB~=0.2.0 on pypi.org, currently only packages │ Warning   │\n",
       "│                        │ from pypi.org are supported. Custom conda channels are      │           │\n",
       "│                        │ supported if your package is available there instead.       │           │\n",
       "│                        ╵                                                             ╵           │\n",
       "╰──────────────────────────────────────────────────────────────────────────────────────────────────╯\n",
       "</pre>\n"
      ],
      "text/plain": [
       "╭──────────────────────────────────── \u001b[1;31mNot Synced with Cluster\u001b[0m ─────────────────────────────────────╮\n",
       "│                        ╷                                                             ╷           │\n",
       "│  \u001b[1m \u001b[0m\u001b[1mPackage             \u001b[0m\u001b[1m \u001b[0m│\u001b[1m \u001b[0m\u001b[1mError                                                      \u001b[0m\u001b[1m \u001b[0m│\u001b[1m \u001b[0m\u001b[1mRisk   \u001b[0m\u001b[1m \u001b[0m  │\n",
       "│ ╶──────────────────────┼─────────────────────────────────────────────────────────────┼─────────╴ │\n",
       "│   xlwings              │ xlwings~=0.24.9 has no install candidate for linux-64 on    │ Warning   │\n",
       "│                        │ pkgs/main                                                   │           │\n",
       "│   wincertstore         │ wincertstore~=0.2.0 has no install candidate for linux-64   │ Warning   │\n",
       "│                        │ on pkgs/main                                                │           │\n",
       "│   werkzeug             │ Pip check had the following issues that need resolving:     │ Warning   │\n",
       "│                        │ werkzeug 2.3.6 has requirement MarkupSafe>=2.1.1, but you   │           │\n",
       "│                        │ have markupsafe 2.0.1.                                      │           │\n",
       "│   scikit-learn-intelex │ Cannot find scikit-learn-intelex~=2021.20220215.102710 on   │ Warning   │\n",
       "│                        │ pypi.org, currently only packages from pypi.org are         │           │\n",
       "│                        │ supported. Custom conda channels are supported if your      │           │\n",
       "│                        │ package is available there instead.                         │           │\n",
       "│   powershell_shortcut  │ powershell_shortcut~=0.0.1 has no install candidate for     │ Warning   │\n",
       "│                        │ linux-64 on pkgs/main                                       │           │\n",
       "│   morecantile          │ Pip check had the following issues that need resolving:     │ Warning   │\n",
       "│                        │ morecantile 4.3.0 has requirement pydantic~=1.0, but you    │           │\n",
       "│                        │ have pydantic 2.0.3.                                        │           │\n",
       "│   jupyter-server       │ Pip check had the following issues that need resolving:     │ Warning   │\n",
       "│                        │ jupyter-server 1.13.5 has requirement pywinpty<2; os_name   │           │\n",
       "│                        │ == \"nt\", but you have pywinpty 2.0.2.                       │           │\n",
       "│   icc_rt               │ icc_rt~=2019.0.0 has no install candidate for linux-64 on   │ Warning   │\n",
       "│                        │ pkgs/main                                                   │           │\n",
       "│   flask                │ Pip check had the following issues that need resolving:     │ Warning   │\n",
       "│                        │ flask 2.3.2 has requirement Jinja2>=3.1.2, but you have     │           │\n",
       "│                        │ jinja2 2.11.3.                                              │           │\n",
       "│   autopep8             │ Pip check had the following issues that need resolving:     │ Warning   │\n",
       "│                        │ autopep8 1.6.0 has requirement pycodestyle>=2.8.0, but you  │           │\n",
       "│                        │ have pycodestyle 2.7.0.                                     │           │\n",
       "│   TBB                  │ Cannot find TBB~=0.2.0 on pypi.org, currently only packages │ Warning   │\n",
       "│                        │ from pypi.org are supported. Custom conda channels are      │           │\n",
       "│                        │ supported if your package is available there instead.       │           │\n",
       "│                        ╵                                                             ╵           │\n",
       "╰──────────────────────────────────────────────────────────────────────────────────────────────────╯\n"
      ]
     },
     "metadata": {},
     "output_type": "display_data"
    },
    {
     "data": {
      "application/vnd.jupyter.widget-view+json": {
       "model_id": "d1128a92b80449d3844a4c6be325b687",
       "version_major": 2,
       "version_minor": 0
      },
      "text/plain": [
       "Output()"
      ]
     },
     "metadata": {},
     "output_type": "display_data"
    },
    {
     "data": {
      "text/html": [
       "<pre style=\"white-space:pre;overflow-x:auto;line-height:normal;font-family:Menlo,'DejaVu Sans Mono',consolas,'Courier New',monospace\"></pre>\n"
      ],
      "text/plain": []
     },
     "metadata": {},
     "output_type": "display_data"
    },
    {
     "ename": "ClusterCreationError",
     "evalue": "Cluster was waiting for 2 workers but 3 (of 4) workers have already failed. You could try requesting fewer workers or adjust `wait_for_workers` if fewer workers would be acceptable.\n\nFailure Reasons\n---------------\n\nSoftware build failed -> Build timed out\n\t(error affected 3 workers) (cluster_id: 326971)",
     "output_type": "error",
     "traceback": [
      "\u001b[1;31m---------------------------------------------------------------------------\u001b[0m",
      "\u001b[1;31mClusterCreationError\u001b[0m                      Traceback (most recent call last)",
      "Input \u001b[1;32mIn [10]\u001b[0m, in \u001b[0;36m<cell line: 2>\u001b[1;34m()\u001b[0m\n\u001b[0;32m      1\u001b[0m \u001b[38;5;28;01mimport\u001b[39;00m \u001b[38;5;21;01mcoiled\u001b[39;00m\n\u001b[1;32m----> 2\u001b[0m cluster \u001b[38;5;241m=\u001b[39m \u001b[43mcoiled\u001b[49m\u001b[38;5;241;43m.\u001b[39;49m\u001b[43mCluster\u001b[49m\u001b[43m(\u001b[49m\u001b[43mname\u001b[49m\u001b[38;5;241;43m=\u001b[39;49m\u001b[38;5;124;43m\"\u001b[39;49m\u001b[38;5;124;43mcity_metrix\u001b[39;49m\u001b[38;5;124;43m\"\u001b[39;49m\u001b[43m,\u001b[49m\u001b[43m \u001b[49m\n\u001b[0;32m      3\u001b[0m \u001b[43m                         \u001b[49m\u001b[43muse_best_zone\u001b[49m\u001b[38;5;241;43m=\u001b[39;49m\u001b[38;5;28;43;01mTrue\u001b[39;49;00m\u001b[43m,\u001b[49m\u001b[43m \u001b[49m\n\u001b[0;32m      4\u001b[0m \u001b[43m                         \u001b[49m\u001b[43mregion\u001b[49m\u001b[38;5;241;43m=\u001b[39;49m\u001b[38;5;124;43m\"\u001b[39;49m\u001b[38;5;124;43meu-central-1\u001b[39;49m\u001b[38;5;124;43m\"\u001b[39;49m\u001b[43m,\u001b[49m\n\u001b[0;32m      5\u001b[0m \u001b[43m                         \u001b[49m\u001b[43mcompute_purchase_option\u001b[49m\u001b[38;5;241;43m=\u001b[39;49m\u001b[38;5;124;43m\"\u001b[39;49m\u001b[38;5;124;43mspot_with_fallback\u001b[39;49m\u001b[38;5;124;43m\"\u001b[39;49m\u001b[43m)\u001b[49m\n\u001b[0;32m      8\u001b[0m \u001b[38;5;28;01mfrom\u001b[39;00m \u001b[38;5;21;01mdistributed\u001b[39;00m \u001b[38;5;28;01mimport\u001b[39;00m Client\n\u001b[0;32m      9\u001b[0m client \u001b[38;5;241m=\u001b[39m Client(cluster)\n",
      "File \u001b[1;32m~\\anaconda3\\lib\\site-packages\\coiled\\v2\\cluster.py:650\u001b[0m, in \u001b[0;36mCluster.__init__\u001b[1;34m(self, name, software, container, n_workers, worker_class, worker_options, worker_vm_types, worker_cpu, worker_memory, worker_disk_size, worker_disk_throughput, worker_gpu, worker_gpu_type, scheduler_options, scheduler_vm_types, scheduler_cpu, scheduler_memory, scheduler_disk_size, scheduler_gpu, asynchronous, cloud, account, shutdown_on_close, idle_timeout, use_scheduler_public_ip, use_dashboard_https, credentials, credentials_duration_seconds, timeout, environ, tags, send_dask_config, backend_options, show_widget, custom_widget, configure_logging, wait_for_workers, package_sync, package_sync_strict, package_sync_ignore, package_sync_fail_on, private_to_creator, use_best_zone, compute_purchase_option, spot_policy, extra_worker_on_scheduler, _n_worker_specs_per_host, scheduler_port, allow_ingress_from, allow_ssh, jupyter, region, arm)\u001b[0m\n\u001b[0;32m    648\u001b[0m     \u001b[38;5;28;01mif\u001b[39;00m \u001b[38;5;28mself\u001b[39m\u001b[38;5;241m.\u001b[39mcluster_id:\n\u001b[0;32m    649\u001b[0m         log_cluster_debug_info(\u001b[38;5;28mself\u001b[39m\u001b[38;5;241m.\u001b[39mcluster_id, \u001b[38;5;28mself\u001b[39m\u001b[38;5;241m.\u001b[39maccount)\n\u001b[1;32m--> 650\u001b[0m     \u001b[38;5;28;01mraise\u001b[39;00m e\u001b[38;5;241m.\u001b[39mwith_traceback(\u001b[38;5;28;01mNone\u001b[39;00m)\n\u001b[0;32m    651\u001b[0m \u001b[38;5;28;01mexcept\u001b[39;00m \u001b[38;5;167;01mKeyboardInterrupt\u001b[39;00m \u001b[38;5;28;01mas\u001b[39;00m e:\n\u001b[0;32m    652\u001b[0m     error \u001b[38;5;241m=\u001b[39m e\n",
      "\u001b[1;31mClusterCreationError\u001b[0m: Cluster was waiting for 2 workers but 3 (of 4) workers have already failed. You could try requesting fewer workers or adjust `wait_for_workers` if fewer workers would be acceptable.\n\nFailure Reasons\n---------------\n\nSoftware build failed -> Build timed out\n\t(error affected 3 workers) (cluster_id: 326971)"
     ]
    }
   ],
   "source": [
    "import coiled\n",
    "cluster = coiled.Cluster(name=\"city_metrix\", \n",
    "                         use_best_zone=True, \n",
    "                         region=\"eu-central-1\",\n",
    "                         compute_purchase_option=\"spot_with_fallback\")\n",
    "\n",
    "\n",
    "from distributed import Client\n",
    "client = Client(cluster)\n",
    "\n",
    "\n",
    "# set autoscaling to keep it at 1 worker when idle but up to 100 when ctive\n",
    "cluster.adapt(minimum=1, maximum=100, wait_count=10, target_duration=\"1s\", interval=\"1s\")"
   ]
  },
  {
   "cell_type": "markdown",
   "id": "4a94bb91-8d74-4bed-ada5-e69639392e6f",
   "metadata": {
    "tags": []
   },
   "source": [
    "# Calculate indicators - AOI level"
   ]
  },
  {
   "cell_type": "markdown",
   "id": "1dbd3e86-64bc-4f31-bc30-73b8c175f962",
   "metadata": {},
   "source": [
    "## Compute indicators: One city * One indicator"
   ]
  },
  {
   "cell_type": "markdown",
   "id": "60d4f53e-c7c1-4d1e-8673-ee42ae98afc3",
   "metadata": {},
   "source": [
    "### HEA-3 Built land with Low Surface reflectivity"
   ]
  },
  {
   "cell_type": "code",
   "execution_count": null,
   "id": "8c549335-a9c4-41ba-ab37-6fcdc7f076ac",
   "metadata": {},
   "outputs": [],
   "source": [
    "%%time\n",
    "\n",
    "city_gdf[\"built_land_with_low_surface_reflectivity\"] = built_land_with_low_surface_reflectivity(city_gdf) \n",
    "city_gdf"
   ]
  },
  {
   "cell_type": "markdown",
   "id": "55b7902a-4a92-4f5e-b059-eb46d48645f5",
   "metadata": {},
   "source": [
    "### LND-2 Land with Tree cover"
   ]
  },
  {
   "cell_type": "code",
   "execution_count": 9,
   "id": "0544aef6-bbba-4b37-8244-b1b7d409199a",
   "metadata": {},
   "outputs": [
    {
     "name": "stderr",
     "output_type": "stream",
     "text": [
      "/usr/local/anaconda3/envs/cities-cif/lib/python3.10/site-packages/xee/ext.py:549: UserWarning: Unable to retrieve 'system:time_start' values from an ImageCollection due to: No 'system:time_start' values found in the 'ImageCollection'.\n",
      "  warnings.warn(\n"
     ]
    },
    {
     "name": "stdout",
     "output_type": "stream",
     "text": [
      "CPU times: user 6.76 s, sys: 1.09 s, total: 7.85 s\n",
      "Wall time: 11.8 s\n"
     ]
    },
    {
     "data": {
      "text/html": [
       "<div>\n",
       "<style scoped>\n",
       "    .dataframe tbody tr th:only-of-type {\n",
       "        vertical-align: middle;\n",
       "    }\n",
       "\n",
       "    .dataframe tbody tr th {\n",
       "        vertical-align: top;\n",
       "    }\n",
       "\n",
       "    .dataframe thead th {\n",
       "        text-align: right;\n",
       "    }\n",
       "</style>\n",
       "<table border=\"1\" class=\"dataframe\">\n",
       "  <thead>\n",
       "    <tr style=\"text-align: right;\">\n",
       "      <th></th>\n",
       "      <th>id</th>\n",
       "      <th>geo_id</th>\n",
       "      <th>geo_name</th>\n",
       "      <th>geo_level</th>\n",
       "      <th>geo_parent_name</th>\n",
       "      <th>geo_version</th>\n",
       "      <th>geometry</th>\n",
       "      <th>mean_tree_cover</th>\n",
       "    </tr>\n",
       "  </thead>\n",
       "  <tbody>\n",
       "    <tr>\n",
       "      <th>0</th>\n",
       "      <td>0</td>\n",
       "      <td>BRA-Salvador_ADM4-union_1</td>\n",
       "      <td>BRA-Salvador</td>\n",
       "      <td>ADM4union</td>\n",
       "      <td>BRA-Salvador</td>\n",
       "      <td>0</td>\n",
       "      <td>MULTIPOLYGON (((-38.50135 -13.01134, -38.50140...</td>\n",
       "      <td>28.366773</td>\n",
       "    </tr>\n",
       "  </tbody>\n",
       "</table>\n",
       "</div>"
      ],
      "text/plain": [
       "  id                     geo_id      geo_name  geo_level geo_parent_name  \\\n",
       "0  0  BRA-Salvador_ADM4-union_1  BRA-Salvador  ADM4union    BRA-Salvador   \n",
       "\n",
       "   geo_version                                           geometry  \\\n",
       "0            0  MULTIPOLYGON (((-38.50135 -13.01134, -38.50140...   \n",
       "\n",
       "   mean_tree_cover  \n",
       "0        28.366773  "
      ]
     },
     "execution_count": 9,
     "metadata": {},
     "output_type": "execute_result"
    }
   ],
   "source": [
    "%%time\n",
    "\n",
    "city_gdf[\"mean_tree_cover\"] = mean_tree_cover(city_gdf) \n",
    "city_gdf"
   ]
  },
  {
   "cell_type": "code",
   "execution_count": 21,
   "id": "ebb2a5a9",
   "metadata": {},
   "outputs": [
    {
     "data": {
      "text/html": [
       "\n",
       "            <style>\n",
       "                .geemap-dark {\n",
       "                    --jp-widgets-color: white;\n",
       "                    --jp-widgets-label-color: white;\n",
       "                    --jp-ui-font-color1: white;\n",
       "                    --jp-layout-color2: #454545;\n",
       "                    background-color: #383838;\n",
       "                }\n",
       "                    \n",
       "                .geemap-dark .jupyter-button {\n",
       "                    --jp-layout-color3: #383838;\n",
       "                }\n",
       "                \n",
       "                .geemap-colab {\n",
       "                    background-color: var(--colab-primary-surface-color, white);\n",
       "                }\n",
       "                    \n",
       "                .geemap-colab .jupyter-button {\n",
       "                    --jp-layout-color3: var(--colab-primary-surface-color, white);\n",
       "                }\n",
       "            </style>\n",
       "            "
      ],
      "text/plain": [
       "<IPython.core.display.HTML object>"
      ]
     },
     "metadata": {},
     "output_type": "display_data"
    },
    {
     "data": {
      "text/html": [
       "<div>\n",
       "<style scoped>\n",
       "    .dataframe tbody tr th:only-of-type {\n",
       "        vertical-align: middle;\n",
       "    }\n",
       "\n",
       "    .dataframe tbody tr th {\n",
       "        vertical-align: top;\n",
       "    }\n",
       "\n",
       "    .dataframe thead th {\n",
       "        text-align: right;\n",
       "    }\n",
       "</style>\n",
       "<table border=\"1\" class=\"dataframe\">\n",
       "  <thead>\n",
       "    <tr style=\"text-align: right;\">\n",
       "      <th></th>\n",
       "      <th>built_land_with_low_surface_reflectivity</th>\n",
       "      <th>geo_id</th>\n",
       "      <th>geo_level</th>\n",
       "      <th>geo_name</th>\n",
       "      <th>geo_parent_name</th>\n",
       "      <th>geo_version</th>\n",
       "      <th>id</th>\n",
       "      <th>mean</th>\n",
       "    </tr>\n",
       "  </thead>\n",
       "  <tbody>\n",
       "    <tr>\n",
       "      <th>0</th>\n",
       "      <td>0.240654</td>\n",
       "      <td>BRA-Salvador_ADM4-union_1</td>\n",
       "      <td>ADM4union</td>\n",
       "      <td>BRA-Salvador</td>\n",
       "      <td>BRA-Salvador</td>\n",
       "      <td>0</td>\n",
       "      <td>0</td>\n",
       "      <td>28.349677</td>\n",
       "    </tr>\n",
       "  </tbody>\n",
       "</table>\n",
       "</div>"
      ],
      "text/plain": [
       "   built_land_with_low_surface_reflectivity                     geo_id  \\\n",
       "0                                  0.240654  BRA-Salvador_ADM4-union_1   \n",
       "\n",
       "   geo_level      geo_name geo_parent_name  geo_version id       mean  \n",
       "0  ADM4union  BRA-Salvador    BRA-Salvador            0  0  28.349677  "
      ]
     },
     "execution_count": 21,
     "metadata": {},
     "output_type": "execute_result"
    }
   ],
   "source": [
    "import ee\n",
    "import geemap\n",
    "\n",
    "WC = ee.ImageCollection(\"ESA/WorldCover/v100\")\n",
    "WorldCover = WC.first();\n",
    "builtup = WorldCover.eq(50)\n",
    "\n",
    "## read Trees in Mosaic Landscapes tree cover dataset\n",
    "TML = ee.ImageCollection('projects/wri-datalab/TML')\n",
    "TreeCoverImg = TML.reduce(ee.Reducer.mean()).rename('b1')\n",
    "\n",
    "# https://gis.stackexchange.com/questions/421422/google-earth-engine-image-no-data-mask\n",
    "TreeDataMask = TreeCoverImg.unmask(-99).neq(-99)   # give no data pixels an abitrary value outside the range of the data. Then make a boolean raster using the assigned value.\n",
    "\n",
    "fc = geemap.geopandas_to_ee(city_gdf)\n",
    "pixelcounts = TreeCoverImg.reduceRegions(fc,ee.Reducer.mean(),10)\n",
    "df = geemap.ee_to_pandas(pixelcounts)\n",
    "df"
   ]
  },
  {
   "cell_type": "markdown",
   "id": "00139739-19fd-493c-8fe6-c2b9c9fc2e80",
   "metadata": {},
   "source": [
    "### HEA-4 Percent of Built land without tree cover"
   ]
  },
  {
   "cell_type": "code",
   "execution_count": 10,
   "id": "2304f3ab-a091-4012-9016-e326b401a163",
   "metadata": {},
   "outputs": [
    {
     "name": "stderr",
     "output_type": "stream",
     "text": [
      "/usr/local/anaconda3/envs/cities-cif/lib/python3.10/site-packages/xee/ext.py:549: UserWarning: Unable to retrieve 'system:time_start' values from an ImageCollection due to: No 'system:time_start' values found in the 'ImageCollection'.\n",
      "  warnings.warn(\n"
     ]
    },
    {
     "name": "stdout",
     "output_type": "stream",
     "text": [
      "CPU times: user 8.43 s, sys: 1.63 s, total: 10.1 s\n",
      "Wall time: 26.2 s\n"
     ]
    },
    {
     "data": {
      "text/html": [
       "<div>\n",
       "<style scoped>\n",
       "    .dataframe tbody tr th:only-of-type {\n",
       "        vertical-align: middle;\n",
       "    }\n",
       "\n",
       "    .dataframe tbody tr th {\n",
       "        vertical-align: top;\n",
       "    }\n",
       "\n",
       "    .dataframe thead th {\n",
       "        text-align: right;\n",
       "    }\n",
       "</style>\n",
       "<table border=\"1\" class=\"dataframe\">\n",
       "  <thead>\n",
       "    <tr style=\"text-align: right;\">\n",
       "      <th></th>\n",
       "      <th>id</th>\n",
       "      <th>geo_id</th>\n",
       "      <th>geo_name</th>\n",
       "      <th>geo_level</th>\n",
       "      <th>geo_parent_name</th>\n",
       "      <th>geo_version</th>\n",
       "      <th>geometry</th>\n",
       "      <th>mean_tree_cover</th>\n",
       "      <th>built_land_without_tree_cover</th>\n",
       "    </tr>\n",
       "  </thead>\n",
       "  <tbody>\n",
       "    <tr>\n",
       "      <th>0</th>\n",
       "      <td>0</td>\n",
       "      <td>BRA-Salvador_ADM4-union_1</td>\n",
       "      <td>BRA-Salvador</td>\n",
       "      <td>ADM4union</td>\n",
       "      <td>BRA-Salvador</td>\n",
       "      <td>0</td>\n",
       "      <td>MULTIPOLYGON (((-38.50135 -13.01134, -38.50140...</td>\n",
       "      <td>28.366773</td>\n",
       "      <td>0.848291</td>\n",
       "    </tr>\n",
       "  </tbody>\n",
       "</table>\n",
       "</div>"
      ],
      "text/plain": [
       "  id                     geo_id      geo_name  geo_level geo_parent_name  \\\n",
       "0  0  BRA-Salvador_ADM4-union_1  BRA-Salvador  ADM4union    BRA-Salvador   \n",
       "\n",
       "   geo_version                                           geometry  \\\n",
       "0            0  MULTIPOLYGON (((-38.50135 -13.01134, -38.50140...   \n",
       "\n",
       "   mean_tree_cover  built_land_without_tree_cover  \n",
       "0        28.366773                       0.848291  "
      ]
     },
     "execution_count": 10,
     "metadata": {},
     "output_type": "execute_result"
    }
   ],
   "source": [
    "%%time\n",
    "\n",
    "city_gdf[\"built_land_without_tree_cover\"] = built_land_without_tree_cover(city_gdf) \n",
    "city_gdf"
   ]
  },
  {
   "cell_type": "markdown",
   "id": "01c437e9-7c58-4780-b62f-26859eb4eb26",
   "metadata": {},
   "source": [
    "### HEA-2 Built Land With High LST"
   ]
  },
  {
   "cell_type": "code",
   "execution_count": 11,
   "id": "5ef9bff0-4b6c-4520-9dbe-192de21789bb",
   "metadata": {},
   "outputs": [
    {
     "name": "stdout",
     "output_type": "stream",
     "text": [
      "CPU times: user 23.9 s, sys: 44.4 s, total: 1min 8s\n",
      "Wall time: 1min 10s\n"
     ]
    },
    {
     "data": {
      "text/html": [
       "<div>\n",
       "<style scoped>\n",
       "    .dataframe tbody tr th:only-of-type {\n",
       "        vertical-align: middle;\n",
       "    }\n",
       "\n",
       "    .dataframe tbody tr th {\n",
       "        vertical-align: top;\n",
       "    }\n",
       "\n",
       "    .dataframe thead th {\n",
       "        text-align: right;\n",
       "    }\n",
       "</style>\n",
       "<table border=\"1\" class=\"dataframe\">\n",
       "  <thead>\n",
       "    <tr style=\"text-align: right;\">\n",
       "      <th></th>\n",
       "      <th>id</th>\n",
       "      <th>geo_id</th>\n",
       "      <th>geo_name</th>\n",
       "      <th>geo_level</th>\n",
       "      <th>geo_parent_name</th>\n",
       "      <th>geo_version</th>\n",
       "      <th>geometry</th>\n",
       "      <th>mean_tree_cover</th>\n",
       "      <th>built_land_without_tree_cover</th>\n",
       "      <th>built_land_with_high_land_surface_temperature</th>\n",
       "    </tr>\n",
       "  </thead>\n",
       "  <tbody>\n",
       "    <tr>\n",
       "      <th>0</th>\n",
       "      <td>0</td>\n",
       "      <td>BRA-Salvador_ADM4-union_1</td>\n",
       "      <td>BRA-Salvador</td>\n",
       "      <td>ADM4union</td>\n",
       "      <td>BRA-Salvador</td>\n",
       "      <td>0</td>\n",
       "      <td>MULTIPOLYGON (((-38.50135 -13.01134, -38.50140...</td>\n",
       "      <td>28.366773</td>\n",
       "      <td>0.848291</td>\n",
       "      <td>0.080262</td>\n",
       "    </tr>\n",
       "  </tbody>\n",
       "</table>\n",
       "</div>"
      ],
      "text/plain": [
       "  id                     geo_id      geo_name  geo_level geo_parent_name  \\\n",
       "0  0  BRA-Salvador_ADM4-union_1  BRA-Salvador  ADM4union    BRA-Salvador   \n",
       "\n",
       "   geo_version                                           geometry  \\\n",
       "0            0  MULTIPOLYGON (((-38.50135 -13.01134, -38.50140...   \n",
       "\n",
       "   mean_tree_cover  built_land_without_tree_cover  \\\n",
       "0        28.366773                       0.848291   \n",
       "\n",
       "   built_land_with_high_land_surface_temperature  \n",
       "0                                       0.080262  "
      ]
     },
     "execution_count": 11,
     "metadata": {},
     "output_type": "execute_result"
    }
   ],
   "source": [
    "%%time\n",
    "\n",
    "city_gdf[\"built_land_with_high_land_surface_temperature\"] = built_land_with_high_land_surface_temperature(city_gdf) \n",
    "city_gdf"
   ]
  },
  {
   "cell_type": "markdown",
   "id": "fdff4e28-5191-4c4d-be7e-7b9f1dd8afaf",
   "metadata": {},
   "source": [
    "## Compute indicators: One city * Multiple indicators"
   ]
  },
  {
   "cell_type": "code",
   "execution_count": 40,
   "id": "abffaf79-24e4-4b82-8f95-31d10b10cb3c",
   "metadata": {},
   "outputs": [
    {
     "name": "stdout",
     "output_type": "stream",
     "text": [
      "CPU times: total: 3.31 s\n",
      "Wall time: 8.63 s\n"
     ]
    },
    {
     "data": {
      "text/html": [
       "<div>\n",
       "<style scoped>\n",
       "    .dataframe tbody tr th:only-of-type {\n",
       "        vertical-align: middle;\n",
       "    }\n",
       "\n",
       "    .dataframe tbody tr th {\n",
       "        vertical-align: top;\n",
       "    }\n",
       "\n",
       "    .dataframe thead th {\n",
       "        text-align: right;\n",
       "    }\n",
       "</style>\n",
       "<table border=\"1\" class=\"dataframe\">\n",
       "  <thead>\n",
       "    <tr style=\"text-align: right;\">\n",
       "      <th></th>\n",
       "      <th>id</th>\n",
       "      <th>geo_id</th>\n",
       "      <th>geo_name</th>\n",
       "      <th>geo_level</th>\n",
       "      <th>geo_parent_name</th>\n",
       "      <th>geo_version</th>\n",
       "      <th>geometry</th>\n",
       "      <th>LND_2_percentTreeCover</th>\n",
       "      <th>HEA_4_percentBuiltupWithoutTreeCover</th>\n",
       "    </tr>\n",
       "  </thead>\n",
       "  <tbody>\n",
       "    <tr>\n",
       "      <th>0</th>\n",
       "      <td>0</td>\n",
       "      <td>BRA-Salvador_ADM4-union_1</td>\n",
       "      <td>BRA-Salvador</td>\n",
       "      <td>ADM4union</td>\n",
       "      <td>BRA-Salvador</td>\n",
       "      <td>0</td>\n",
       "      <td>MULTIPOLYGON (((-38.50135 -13.01134, -38.50140...</td>\n",
       "      <td>0.283478</td>\n",
       "      <td>0.907352</td>\n",
       "    </tr>\n",
       "  </tbody>\n",
       "</table>\n",
       "</div>"
      ],
      "text/plain": [
       "  id                     geo_id      geo_name  geo_level geo_parent_name  \\\n",
       "0  0  BRA-Salvador_ADM4-union_1  BRA-Salvador  ADM4union    BRA-Salvador   \n",
       "\n",
       "   geo_version                                           geometry  \\\n",
       "0            0  MULTIPOLYGON (((-38.50135 -13.01134, -38.50140...   \n",
       "\n",
       "   LND_2_percentTreeCover  HEA_4_percentBuiltupWithoutTreeCover  \n",
       "0                0.283478                              0.907352  "
      ]
     },
     "execution_count": 40,
     "metadata": {},
     "output_type": "execute_result"
    }
   ],
   "source": [
    "%%time\n",
    "\n",
    "indicators =get_indicators(city_gdf, indicators=[Indicator.TREE_COVER,\n",
    "                                                 Indicator.BUILT_LAND_WITH_TREE_COVER])\n",
    "indicators_df = pd.merge(indicators[0], indicators[1])\n",
    "indicators_df"
   ]
  },
  {
   "cell_type": "code",
   "execution_count": null,
   "id": "3f6085bc-bfef-41ec-aec1-5dad44cdc8f6",
   "metadata": {},
   "outputs": [],
   "source": []
  },
  {
   "cell_type": "markdown",
   "id": "e92378d4-392e-4d69-a9cf-4f5ac877cbb0",
   "metadata": {},
   "source": [
    "# Caculate indicators - Subcity levels"
   ]
  },
  {
   "cell_type": "markdown",
   "id": "d38c00f7-5367-4886-98ba-34c84d60162c",
   "metadata": {},
   "source": [
    "# Calculate indicators for multiple cities"
   ]
  },
  {
   "cell_type": "markdown",
   "id": "ae809ff4-56f4-497b-8ccf-3b5b57dd764c",
   "metadata": {},
   "source": [
    "## Admin Boundary"
   ]
  },
  {
   "cell_type": "markdown",
   "id": "8ec84051-a5da-4632-8a39-b84ec9824ca8",
   "metadata": {},
   "source": [
    "## Esa World Cover"
   ]
  },
  {
   "cell_type": "markdown",
   "id": "e15e2951-fe0b-4da4-8dfa-4dae728a13fb",
   "metadata": {},
   "source": [
    "## Albedo"
   ]
  },
  {
   "cell_type": "markdown",
   "id": "06efceb7-5b7b-456c-ab0e-70f5e4553600",
   "metadata": {},
   "source": [
    "## Trpical Tree cover"
   ]
  },
  {
   "cell_type": "markdown",
   "id": "ef1416a8-223f-41b3-876f-cb97edfce93f",
   "metadata": {},
   "source": [
    "## LST"
   ]
  },
  {
   "cell_type": "code",
   "execution_count": null,
   "id": "e64e0cf1-6833-4161-9bc8-f998b6d5a73f",
   "metadata": {},
   "outputs": [],
   "source": []
  }
 ],
 "metadata": {
  "kernelspec": {
   "display_name": "Python 3 (ipykernel)",
   "language": "python",
   "name": "python3"
  },
  "language_info": {
   "codemirror_mode": {
    "name": "ipython",
    "version": 3
   },
   "file_extension": ".py",
   "mimetype": "text/x-python",
   "name": "python",
   "nbconvert_exporter": "python",
   "pygments_lexer": "ipython3",
   "version": "3.9.12"
  }
 },
 "nbformat": 4,
 "nbformat_minor": 5
}
