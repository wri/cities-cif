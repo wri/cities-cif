{
 "cells": [
  {
   "cell_type": "code",
   "execution_count": null,
   "id": "678ec2ae-b4b3-4a43-adac-a39093eb579f",
   "metadata": {},
   "outputs": [],
   "source": [
    "import rasterio\n",
    "import os\n",
    "import geopandas as gpd\n",
    "import pandas as pd\n",
    "import matplotlib.pyplot as plt\n",
    "from rasterio.plot import show\n",
    "import rasterio\n",
    "import numpy as np\n",
    "import requests"
   ]
  },
  {
   "cell_type": "code",
   "execution_count": null,
   "id": "ea30cdae-e43b-41c6-b0ae-0d286c124722",
   "metadata": {},
   "outputs": [],
   "source": [
    "# # update the wd path to be able to laod the modules\n",
    "# # os.getcwd()\n",
    "os.chdir('..')"
   ]
  },
  {
   "cell_type": "code",
   "execution_count": null,
   "id": "6d06eb1d-c13c-41bf-b010-f72d005c9fec",
   "metadata": {},
   "outputs": [],
   "source": [
    "os.environ['GCS_BUCKET']='gee-exports'\n",
    "os.environ['GOOGLE_APPLICATION_USER']='developers@citiesindicators.iam.gservaiceaccount.com'\n",
    "os.environ['GOOGLE_APPLICATION_CREDENTIALS']='/Users/jt/dev/wri-notebooks/server/citiesindicators-credentials.json'"
   ]
  },
  {
   "cell_type": "code",
   "execution_count": null,
   "id": "3bd7c54a-74d7-4cfb-91b4-8291c2387b11",
   "metadata": {},
   "outputs": [],
   "source": [
    "from city_metrix import (\n",
    "    built_land_without_tree_cover, \n",
    "    mean_tree_cover, \n",
    "    built_land_with_low_surface_reflectivity, \n",
    "    built_land_with_high_land_surface_temperature\n",
    ")\n"
   ]
  },
  {
   "cell_type": "markdown",
   "id": "11ef1568-2f43-46de-b543-fdffed9a6afd",
   "metadata": {},
   "source": [
    "# Select a city"
   ]
  },
  {
   "cell_type": "code",
   "execution_count": 5,
   "id": "c78992f9-ace2-43f5-8598-3c708a9aa2e0",
   "metadata": {},
   "outputs": [
    {
     "data": {
      "text/html": [
       "<div>\n",
       "<style scoped>\n",
       "    .dataframe tbody tr th:only-of-type {\n",
       "        vertical-align: middle;\n",
       "    }\n",
       "\n",
       "    .dataframe tbody tr th {\n",
       "        vertical-align: top;\n",
       "    }\n",
       "\n",
       "    .dataframe thead th {\n",
       "        text-align: right;\n",
       "    }\n",
       "</style>\n",
       "<table border=\"1\" class=\"dataframe\">\n",
       "  <thead>\n",
       "    <tr style=\"text-align: right;\">\n",
       "      <th></th>\n",
       "      <th>id</th>\n",
       "      <th>geo_id</th>\n",
       "      <th>geo_name</th>\n",
       "      <th>geo_level</th>\n",
       "      <th>geo_parent_name</th>\n",
       "      <th>geo_version</th>\n",
       "      <th>geometry</th>\n",
       "    </tr>\n",
       "  </thead>\n",
       "  <tbody>\n",
       "    <tr>\n",
       "      <th>0</th>\n",
       "      <td>0</td>\n",
       "      <td>BRA-Salvador_ADM4-union_1</td>\n",
       "      <td>BRA-Salvador</td>\n",
       "      <td>ADM4union</td>\n",
       "      <td>BRA-Salvador</td>\n",
       "      <td>0</td>\n",
       "      <td>MULTIPOLYGON (((-38.50135 -13.01134, -38.50140...</td>\n",
       "    </tr>\n",
       "  </tbody>\n",
       "</table>\n",
       "</div>"
      ],
      "text/plain": [
       "  id                     geo_id      geo_name  geo_level geo_parent_name  \\\n",
       "0  0  BRA-Salvador_ADM4-union_1  BRA-Salvador  ADM4union    BRA-Salvador   \n",
       "\n",
       "   geo_version                                           geometry  \n",
       "0            0  MULTIPOLYGON (((-38.50135 -13.01134, -38.50140...  "
      ]
     },
     "execution_count": 5,
     "metadata": {},
     "output_type": "execute_result"
    }
   ],
   "source": [
    "# Get city boundary\n",
    "cities_api_url = \"http://3.225.116.209:8000/cities\"\n",
    "city_name = \"BRA-Salvador\"\n",
    "admin_level = \"ADM4union\"\n",
    "city_geom = cities_api_url + \"/\"+city_name+\"/\"+admin_level+\"/geojson\"\n",
    "city_gdf = gpd.read_file(city_geom)\n",
    "city_gdf.head()\n"
   ]
  },
  {
   "cell_type": "markdown",
   "id": "4a94bb91-8d74-4bed-ada5-e69639392e6f",
   "metadata": {
    "tags": []
   },
   "source": [
    "# Calculate indicators - AOI level"
   ]
  },
  {
   "cell_type": "markdown",
   "id": "1dbd3e86-64bc-4f31-bc30-73b8c175f962",
   "metadata": {},
   "source": [
    "## Compute indicators: One city * One indicator"
   ]
  },
  {
   "cell_type": "markdown",
   "id": "60d4f53e-c7c1-4d1e-8673-ee42ae98afc3",
   "metadata": {},
   "source": [
    "### HEA-3 Built land with Low Surface reflectivity"
   ]
  },
  {
   "cell_type": "code",
   "execution_count": 6,
   "id": "8c549335-a9c4-41ba-ab37-6fcdc7f076ac",
   "metadata": {},
   "outputs": [
    {
     "name": "stdout",
     "output_type": "stream",
     "text": [
      "Extracting ESA world cover layer:\n",
      "[########################################] | 100% Completed | 5.74 ss\n",
      "Calculating albedo layer:\n",
      "[########################################] | 100% Completed | 107.24 s\n",
      "Extracting ESA world cover layer:\n",
      "[########################################] | 100% Completed | 5.85 ss\n",
      "CPU times: user 19.5 s, sys: 3.36 s, total: 22.8 s\n",
      "Wall time: 2min 8s\n"
     ]
    },
    {
     "data": {
      "text/html": [
       "<div>\n",
       "<style scoped>\n",
       "    .dataframe tbody tr th:only-of-type {\n",
       "        vertical-align: middle;\n",
       "    }\n",
       "\n",
       "    .dataframe tbody tr th {\n",
       "        vertical-align: top;\n",
       "    }\n",
       "\n",
       "    .dataframe thead th {\n",
       "        text-align: right;\n",
       "    }\n",
       "</style>\n",
       "<table border=\"1\" class=\"dataframe\">\n",
       "  <thead>\n",
       "    <tr style=\"text-align: right;\">\n",
       "      <th></th>\n",
       "      <th>id</th>\n",
       "      <th>geo_id</th>\n",
       "      <th>geo_name</th>\n",
       "      <th>geo_level</th>\n",
       "      <th>geo_parent_name</th>\n",
       "      <th>geo_version</th>\n",
       "      <th>geometry</th>\n",
       "      <th>built_land_with_low_surface_reflectivity</th>\n",
       "    </tr>\n",
       "  </thead>\n",
       "  <tbody>\n",
       "    <tr>\n",
       "      <th>0</th>\n",
       "      <td>0</td>\n",
       "      <td>BRA-Salvador_ADM4-union_1</td>\n",
       "      <td>BRA-Salvador</td>\n",
       "      <td>ADM4union</td>\n",
       "      <td>BRA-Salvador</td>\n",
       "      <td>0</td>\n",
       "      <td>MULTIPOLYGON (((-38.50135 -13.01134, -38.50140...</td>\n",
       "      <td>0.786551</td>\n",
       "    </tr>\n",
       "  </tbody>\n",
       "</table>\n",
       "</div>"
      ],
      "text/plain": [
       "  id                     geo_id      geo_name  geo_level geo_parent_name  \\\n",
       "0  0  BRA-Salvador_ADM4-union_1  BRA-Salvador  ADM4union    BRA-Salvador   \n",
       "\n",
       "   geo_version                                           geometry  \\\n",
       "0            0  MULTIPOLYGON (((-38.50135 -13.01134, -38.50140...   \n",
       "\n",
       "   built_land_with_low_surface_reflectivity  \n",
       "0                                  0.786551  "
      ]
     },
     "execution_count": 6,
     "metadata": {},
     "output_type": "execute_result"
    }
   ],
   "source": [
    "%%time\n",
    "\n",
    "city_gdf[\"built_land_with_low_surface_reflectivity\"] = built_land_with_low_surface_reflectivity(city_gdf) \n",
    "city_gdf"
   ]
  },
  {
   "cell_type": "markdown",
   "id": "55b7902a-4a92-4f5e-b059-eb46d48645f5",
   "metadata": {},
   "source": [
    "### LND-2 Land with Tree cover"
   ]
  },
  {
   "cell_type": "code",
   "execution_count": 6,
   "id": "0544aef6-bbba-4b37-8244-b1b7d409199a",
   "metadata": {},
   "outputs": [
    {
     "name": "stdout",
     "output_type": "stream",
     "text": [
      "CPU times: user 6.03 s, sys: 1.04 s, total: 7.07 s\n",
      "Wall time: 11.6 s\n"
     ]
    },
    {
     "data": {
      "text/html": [
       "<div>\n",
       "<style scoped>\n",
       "    .dataframe tbody tr th:only-of-type {\n",
       "        vertical-align: middle;\n",
       "    }\n",
       "\n",
       "    .dataframe tbody tr th {\n",
       "        vertical-align: top;\n",
       "    }\n",
       "\n",
       "    .dataframe thead th {\n",
       "        text-align: right;\n",
       "    }\n",
       "</style>\n",
       "<table border=\"1\" class=\"dataframe\">\n",
       "  <thead>\n",
       "    <tr style=\"text-align: right;\">\n",
       "      <th></th>\n",
       "      <th>id</th>\n",
       "      <th>geo_id</th>\n",
       "      <th>geo_name</th>\n",
       "      <th>geo_level</th>\n",
       "      <th>geo_parent_name</th>\n",
       "      <th>geo_version</th>\n",
       "      <th>geometry</th>\n",
       "      <th>built_land_with_low_surface_reflectivity</th>\n",
       "      <th>mean_tree_cover</th>\n",
       "    </tr>\n",
       "  </thead>\n",
       "  <tbody>\n",
       "    <tr>\n",
       "      <th>0</th>\n",
       "      <td>0</td>\n",
       "      <td>BRA-Salvador_ADM4-union_1</td>\n",
       "      <td>BRA-Salvador</td>\n",
       "      <td>ADM4union</td>\n",
       "      <td>BRA-Salvador</td>\n",
       "      <td>0</td>\n",
       "      <td>MULTIPOLYGON (((-38.50135 -13.01134, -38.50140...</td>\n",
       "      <td>0.786551</td>\n",
       "      <td>28.366773</td>\n",
       "    </tr>\n",
       "  </tbody>\n",
       "</table>\n",
       "</div>"
      ],
      "text/plain": [
       "  id                     geo_id      geo_name  geo_level geo_parent_name  \\\n",
       "0  0  BRA-Salvador_ADM4-union_1  BRA-Salvador  ADM4union    BRA-Salvador   \n",
       "\n",
       "   geo_version                                           geometry  \\\n",
       "0            0  MULTIPOLYGON (((-38.50135 -13.01134, -38.50140...   \n",
       "\n",
       "   built_land_with_low_surface_reflectivity  mean_tree_cover  \n",
       "0                                  0.786551        28.366773  "
      ]
     },
     "execution_count": 6,
     "metadata": {},
     "output_type": "execute_result"
    }
   ],
   "source": [
    "%%time\n",
    "\n",
    "city_gdf[\"mean_tree_cover\"] = mean_tree_cover(city_gdf) \n",
    "city_gdf"
   ]
  },
  {
   "cell_type": "code",
   "execution_count": 21,
   "id": "ebb2a5a9",
   "metadata": {},
   "outputs": [
    {
     "data": {
      "text/html": [
       "\n",
       "            <style>\n",
       "                .geemap-dark {\n",
       "                    --jp-widgets-color: white;\n",
       "                    --jp-widgets-label-color: white;\n",
       "                    --jp-ui-font-color1: white;\n",
       "                    --jp-layout-color2: #454545;\n",
       "                    background-color: #383838;\n",
       "                }\n",
       "                    \n",
       "                .geemap-dark .jupyter-button {\n",
       "                    --jp-layout-color3: #383838;\n",
       "                }\n",
       "                \n",
       "                .geemap-colab {\n",
       "                    background-color: var(--colab-primary-surface-color, white);\n",
       "                }\n",
       "                    \n",
       "                .geemap-colab .jupyter-button {\n",
       "                    --jp-layout-color3: var(--colab-primary-surface-color, white);\n",
       "                }\n",
       "            </style>\n",
       "            "
      ],
      "text/plain": [
       "<IPython.core.display.HTML object>"
      ]
     },
     "metadata": {},
     "output_type": "display_data"
    },
    {
     "data": {
      "text/html": [
       "<div>\n",
       "<style scoped>\n",
       "    .dataframe tbody tr th:only-of-type {\n",
       "        vertical-align: middle;\n",
       "    }\n",
       "\n",
       "    .dataframe tbody tr th {\n",
       "        vertical-align: top;\n",
       "    }\n",
       "\n",
       "    .dataframe thead th {\n",
       "        text-align: right;\n",
       "    }\n",
       "</style>\n",
       "<table border=\"1\" class=\"dataframe\">\n",
       "  <thead>\n",
       "    <tr style=\"text-align: right;\">\n",
       "      <th></th>\n",
       "      <th>built_land_with_low_surface_reflectivity</th>\n",
       "      <th>geo_id</th>\n",
       "      <th>geo_level</th>\n",
       "      <th>geo_name</th>\n",
       "      <th>geo_parent_name</th>\n",
       "      <th>geo_version</th>\n",
       "      <th>id</th>\n",
       "      <th>mean</th>\n",
       "    </tr>\n",
       "  </thead>\n",
       "  <tbody>\n",
       "    <tr>\n",
       "      <th>0</th>\n",
       "      <td>0.240654</td>\n",
       "      <td>BRA-Salvador_ADM4-union_1</td>\n",
       "      <td>ADM4union</td>\n",
       "      <td>BRA-Salvador</td>\n",
       "      <td>BRA-Salvador</td>\n",
       "      <td>0</td>\n",
       "      <td>0</td>\n",
       "      <td>28.349677</td>\n",
       "    </tr>\n",
       "  </tbody>\n",
       "</table>\n",
       "</div>"
      ],
      "text/plain": [
       "   built_land_with_low_surface_reflectivity                     geo_id  \\\n",
       "0                                  0.240654  BRA-Salvador_ADM4-union_1   \n",
       "\n",
       "   geo_level      geo_name geo_parent_name  geo_version id       mean  \n",
       "0  ADM4union  BRA-Salvador    BRA-Salvador            0  0  28.349677  "
      ]
     },
     "execution_count": 21,
     "metadata": {},
     "output_type": "execute_result"
    }
   ],
   "source": [
    "import ee\n",
    "import geemap\n",
    "\n",
    "WC = ee.ImageCollection(\"ESA/WorldCover/v100\")\n",
    "WorldCover = WC.first();\n",
    "builtup = WorldCover.eq(50)\n",
    "\n",
    "## read Trees in Mosaic Landscapes tree cover dataset\n",
    "TML = ee.ImageCollection('projects/wri-datalab/TML')\n",
    "TreeCoverImg = TML.reduce(ee.Reducer.mean()).rename('b1')\n",
    "\n",
    "# https://gis.stackexchange.com/questions/421422/google-earth-engine-image-no-data-mask\n",
    "TreeDataMask = TreeCoverImg.unmask(-99).neq(-99)   # give no data pixels an abitrary value outside the range of the data. Then make a boolean raster using the assigned value.\n",
    "\n",
    "fc = geemap.geopandas_to_ee(city_gdf)\n",
    "pixelcounts = TreeCoverImg.reduceRegions(fc,ee.Reducer.mean(),10)\n",
    "df = geemap.ee_to_pandas(pixelcounts)\n",
    "df"
   ]
  },
  {
   "cell_type": "markdown",
   "id": "00139739-19fd-493c-8fe6-c2b9c9fc2e80",
   "metadata": {},
   "source": [
    "### HEA-4 Percent of Built land without tree cover"
   ]
  },
  {
   "cell_type": "code",
   "execution_count": 7,
   "id": "2304f3ab-a091-4012-9016-e326b401a163",
   "metadata": {},
   "outputs": [
    {
     "name": "stdout",
     "output_type": "stream",
     "text": [
      "CPU times: user 16.2 s, sys: 2.7 s, total: 18.9 s\n",
      "Wall time: 2min 53s\n"
     ]
    },
    {
     "data": {
      "text/html": [
       "<div>\n",
       "<style scoped>\n",
       "    .dataframe tbody tr th:only-of-type {\n",
       "        vertical-align: middle;\n",
       "    }\n",
       "\n",
       "    .dataframe tbody tr th {\n",
       "        vertical-align: top;\n",
       "    }\n",
       "\n",
       "    .dataframe thead th {\n",
       "        text-align: right;\n",
       "    }\n",
       "</style>\n",
       "<table border=\"1\" class=\"dataframe\">\n",
       "  <thead>\n",
       "    <tr style=\"text-align: right;\">\n",
       "      <th></th>\n",
       "      <th>id</th>\n",
       "      <th>geo_id</th>\n",
       "      <th>geo_name</th>\n",
       "      <th>geo_level</th>\n",
       "      <th>geo_parent_name</th>\n",
       "      <th>geo_version</th>\n",
       "      <th>geometry</th>\n",
       "      <th>built_land_with_low_surface_reflectivity</th>\n",
       "      <th>mean_tree_cover</th>\n",
       "      <th>built_land_without_tree_cover</th>\n",
       "    </tr>\n",
       "  </thead>\n",
       "  <tbody>\n",
       "    <tr>\n",
       "      <th>0</th>\n",
       "      <td>0</td>\n",
       "      <td>BRA-Salvador_ADM4-union_1</td>\n",
       "      <td>BRA-Salvador</td>\n",
       "      <td>ADM4union</td>\n",
       "      <td>BRA-Salvador</td>\n",
       "      <td>0</td>\n",
       "      <td>MULTIPOLYGON (((-38.50135 -13.01134, -38.50140...</td>\n",
       "      <td>0.786551</td>\n",
       "      <td>28.366773</td>\n",
       "      <td>0.907382</td>\n",
       "    </tr>\n",
       "  </tbody>\n",
       "</table>\n",
       "</div>"
      ],
      "text/plain": [
       "  id                     geo_id      geo_name  geo_level geo_parent_name  \\\n",
       "0  0  BRA-Salvador_ADM4-union_1  BRA-Salvador  ADM4union    BRA-Salvador   \n",
       "\n",
       "   geo_version                                           geometry  \\\n",
       "0            0  MULTIPOLYGON (((-38.50135 -13.01134, -38.50140...   \n",
       "\n",
       "   built_land_with_low_surface_reflectivity  mean_tree_cover  \\\n",
       "0                                  0.786551        28.366773   \n",
       "\n",
       "   built_land_without_tree_cover  \n",
       "0                       0.907382  "
      ]
     },
     "execution_count": 7,
     "metadata": {},
     "output_type": "execute_result"
    }
   ],
   "source": [
    "%%time\n",
    "\n",
    "city_gdf[\"built_land_without_tree_cover\"] = built_land_without_tree_cover(city_gdf) \n",
    "city_gdf"
   ]
  },
  {
   "cell_type": "markdown",
   "id": "01c437e9-7c58-4780-b62f-26859eb4eb26",
   "metadata": {},
   "source": [
    "### HEA-2 Built Land With High LST"
   ]
  },
  {
   "cell_type": "code",
   "execution_count": 7,
   "id": "5ef9bff0-4b6c-4520-9dbe-192de21789bb",
   "metadata": {},
   "outputs": [
    {
     "name": "stdout",
     "output_type": "stream",
     "text": [
      "Extracting ESA world cover layer:\n",
      "[########################################] | 100% Completed | 5.82 ss\n",
      "Calculating land surface temperature layer:\n",
      "[########################################] | 100% Completed | 1.74 sms\n",
      "Extracting ESA world cover layer:\n",
      "[########################################] | 100% Completed | 5.71 ss\n",
      "CPU times: user 10.8 s, sys: 1.64 s, total: 12.4 s\n",
      "Wall time: 18.2 s\n"
     ]
    },
    {
     "data": {
      "text/html": [
       "<div>\n",
       "<style scoped>\n",
       "    .dataframe tbody tr th:only-of-type {\n",
       "        vertical-align: middle;\n",
       "    }\n",
       "\n",
       "    .dataframe tbody tr th {\n",
       "        vertical-align: top;\n",
       "    }\n",
       "\n",
       "    .dataframe thead th {\n",
       "        text-align: right;\n",
       "    }\n",
       "</style>\n",
       "<table border=\"1\" class=\"dataframe\">\n",
       "  <thead>\n",
       "    <tr style=\"text-align: right;\">\n",
       "      <th></th>\n",
       "      <th>id</th>\n",
       "      <th>geo_id</th>\n",
       "      <th>geo_name</th>\n",
       "      <th>geo_level</th>\n",
       "      <th>geo_parent_name</th>\n",
       "      <th>geo_version</th>\n",
       "      <th>geometry</th>\n",
       "      <th>built_land_with_low_surface_reflectivity</th>\n",
       "      <th>built_land_with_high_land_surface_temperature</th>\n",
       "    </tr>\n",
       "  </thead>\n",
       "  <tbody>\n",
       "    <tr>\n",
       "      <th>0</th>\n",
       "      <td>0</td>\n",
       "      <td>BRA-Salvador_ADM4-union_1</td>\n",
       "      <td>BRA-Salvador</td>\n",
       "      <td>ADM4union</td>\n",
       "      <td>BRA-Salvador</td>\n",
       "      <td>0</td>\n",
       "      <td>MULTIPOLYGON (((-38.50135 -13.01134, -38.50140...</td>\n",
       "      <td>0.786551</td>\n",
       "      <td>0.096108</td>\n",
       "    </tr>\n",
       "  </tbody>\n",
       "</table>\n",
       "</div>"
      ],
      "text/plain": [
       "  id                     geo_id      geo_name  geo_level geo_parent_name  \\\n",
       "0  0  BRA-Salvador_ADM4-union_1  BRA-Salvador  ADM4union    BRA-Salvador   \n",
       "\n",
       "   geo_version                                           geometry  \\\n",
       "0            0  MULTIPOLYGON (((-38.50135 -13.01134, -38.50140...   \n",
       "\n",
       "   built_land_with_low_surface_reflectivity  \\\n",
       "0                                  0.786551   \n",
       "\n",
       "   built_land_with_high_land_surface_temperature  \n",
       "0                                       0.096108  "
      ]
     },
     "execution_count": 7,
     "metadata": {},
     "output_type": "execute_result"
    }
   ],
   "source": [
    "%%time\n",
    "\n",
    "city_gdf[\"built_land_with_high_land_surface_temperature\"] = built_land_with_high_land_surface_temperature(city_gdf) \n",
    "city_gdf"
   ]
  },
  {
   "cell_type": "markdown",
   "id": "fdff4e28-5191-4c4d-be7e-7b9f1dd8afaf",
   "metadata": {},
   "source": [
    "## Compute indicators: One city * Multiple indicators"
   ]
  },
  {
   "cell_type": "code",
   "execution_count": 40,
   "id": "abffaf79-24e4-4b82-8f95-31d10b10cb3c",
   "metadata": {},
   "outputs": [
    {
     "name": "stdout",
     "output_type": "stream",
     "text": [
      "CPU times: total: 3.31 s\n",
      "Wall time: 8.63 s\n"
     ]
    },
    {
     "data": {
      "text/html": [
       "<div>\n",
       "<style scoped>\n",
       "    .dataframe tbody tr th:only-of-type {\n",
       "        vertical-align: middle;\n",
       "    }\n",
       "\n",
       "    .dataframe tbody tr th {\n",
       "        vertical-align: top;\n",
       "    }\n",
       "\n",
       "    .dataframe thead th {\n",
       "        text-align: right;\n",
       "    }\n",
       "</style>\n",
       "<table border=\"1\" class=\"dataframe\">\n",
       "  <thead>\n",
       "    <tr style=\"text-align: right;\">\n",
       "      <th></th>\n",
       "      <th>id</th>\n",
       "      <th>geo_id</th>\n",
       "      <th>geo_name</th>\n",
       "      <th>geo_level</th>\n",
       "      <th>geo_parent_name</th>\n",
       "      <th>geo_version</th>\n",
       "      <th>geometry</th>\n",
       "      <th>LND_2_percentTreeCover</th>\n",
       "      <th>HEA_4_percentBuiltupWithoutTreeCover</th>\n",
       "    </tr>\n",
       "  </thead>\n",
       "  <tbody>\n",
       "    <tr>\n",
       "      <th>0</th>\n",
       "      <td>0</td>\n",
       "      <td>BRA-Salvador_ADM4-union_1</td>\n",
       "      <td>BRA-Salvador</td>\n",
       "      <td>ADM4union</td>\n",
       "      <td>BRA-Salvador</td>\n",
       "      <td>0</td>\n",
       "      <td>MULTIPOLYGON (((-38.50135 -13.01134, -38.50140...</td>\n",
       "      <td>0.283478</td>\n",
       "      <td>0.907352</td>\n",
       "    </tr>\n",
       "  </tbody>\n",
       "</table>\n",
       "</div>"
      ],
      "text/plain": [
       "  id                     geo_id      geo_name  geo_level geo_parent_name  \\\n",
       "0  0  BRA-Salvador_ADM4-union_1  BRA-Salvador  ADM4union    BRA-Salvador   \n",
       "\n",
       "   geo_version                                           geometry  \\\n",
       "0            0  MULTIPOLYGON (((-38.50135 -13.01134, -38.50140...   \n",
       "\n",
       "   LND_2_percentTreeCover  HEA_4_percentBuiltupWithoutTreeCover  \n",
       "0                0.283478                              0.907352  "
      ]
     },
     "execution_count": 40,
     "metadata": {},
     "output_type": "execute_result"
    }
   ],
   "source": [
    "%%time\n",
    "\n",
    "indicators =get_indicators(city_gdf, indicators=[Indicator.TREE_COVER,\n",
    "                                                 Indicator.BUILT_LAND_WITH_TREE_COVER])\n",
    "indicators_df = pd.merge(indicators[0], indicators[1])\n",
    "indicators_df"
   ]
  },
  {
   "cell_type": "code",
   "execution_count": null,
   "id": "3f6085bc-bfef-41ec-aec1-5dad44cdc8f6",
   "metadata": {},
   "outputs": [],
   "source": []
  },
  {
   "cell_type": "markdown",
   "id": "e92378d4-392e-4d69-a9cf-4f5ac877cbb0",
   "metadata": {},
   "source": [
    "# Caculate indicators - Subcity levels"
   ]
  },
  {
   "cell_type": "markdown",
   "id": "5dfc61db-14e7-43c6-8bd2-fad46d08f867",
   "metadata": {},
   "source": [
    "# Get layers"
   ]
  },
  {
   "cell_type": "markdown",
   "id": "ae809ff4-56f4-497b-8ccf-3b5b57dd764c",
   "metadata": {},
   "source": [
    "## Admin Boundary"
   ]
  },
  {
   "cell_type": "markdown",
   "id": "8ec84051-a5da-4632-8a39-b84ec9824ca8",
   "metadata": {},
   "source": [
    "## Esa World Cover"
   ]
  },
  {
   "cell_type": "markdown",
   "id": "e15e2951-fe0b-4da4-8dfa-4dae728a13fb",
   "metadata": {},
   "source": [
    "## Albedo"
   ]
  },
  {
   "cell_type": "markdown",
   "id": "06efceb7-5b7b-456c-ab0e-70f5e4553600",
   "metadata": {},
   "source": [
    "## Trpical Tree cover"
   ]
  },
  {
   "cell_type": "markdown",
   "id": "ef1416a8-223f-41b3-876f-cb97edfce93f",
   "metadata": {},
   "source": [
    "## LST"
   ]
  },
  {
   "cell_type": "code",
   "execution_count": null,
   "id": "e64e0cf1-6833-4161-9bc8-f998b6d5a73f",
   "metadata": {},
   "outputs": [],
   "source": []
  }
 ],
 "metadata": {
  "kernelspec": {
   "display_name": "Python 3 (ipykernel)",
   "language": "python",
   "name": "python3"
  },
  "language_info": {
   "codemirror_mode": {
    "name": "ipython",
    "version": 3
   },
   "file_extension": ".py",
   "mimetype": "text/x-python",
   "name": "python",
   "nbconvert_exporter": "python",
   "pygments_lexer": "ipython3",
   "version": "3.10.13"
  }
 },
 "nbformat": 4,
 "nbformat_minor": 5
}