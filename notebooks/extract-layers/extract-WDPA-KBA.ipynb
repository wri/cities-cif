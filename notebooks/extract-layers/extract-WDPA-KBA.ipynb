{
 "cells": [
  {
   "cell_type": "code",
   "execution_count": null,
   "id": "cb454f14-522f-450c-b90b-a022f3714fa3",
   "metadata": {},
   "outputs": [],
   "source": [
    "import warnings\n",
    "warnings.filterwarnings(action='ignore')"
   ]
  },
  {
   "cell_type": "code",
   "execution_count": null,
   "id": "90ed0cfe-4d8f-403c-9c06-6bd5982b9ecb",
   "metadata": {},
   "outputs": [],
   "source": [
    "import os, requests, json, geojson\n",
    "import pandas as pd\n",
    "import geopandas as gpd\n",
    "from shapely.geometry import Point, Polygon, MultiPolygon, shape\n",
    "from shapely.ops import unary_union\n",
    "from shapely.ops import transform\n",
    "import fiona\n",
    "import shapely\n",
    "import pyproj\n",
    "import boto3"
   ]
  },
  {
   "cell_type": "code",
   "execution_count": null,
   "id": "41d9a906-e859-41a3-a8eb-5f6118a79378",
   "metadata": {},
   "outputs": [],
   "source": [
    "# define directory\n",
    "out_dir = os.getcwd()\n",
    "bucket_name = 'cities-indicators'\n",
    "aws_s3_dir = \"https://\"+bucket_name+\".s3.eu-west-3.amazonaws.com\"\n",
    "boundary_ext = '/data/boundaries/'\n",
    "indicators_file_aws = 'indicators/indicators.csv'"
   ]
  },
  {
   "cell_type": "code",
   "execution_count": null,
   "id": "8c2266af-ccdf-44ea-b553-d270e7a8f094",
   "metadata": {},
   "outputs": [],
   "source": [
    "WDPA_FILENAME = 'data/WDPA_data/WDPA_Oct2022_Public_shp-polygons'\n",
    "KBA_FILENAME = 'data/KBA_data/KBAsGlobal_2022_March_01_POL'\n",
    "WDPA_TEMPFILENAME = 'temp_wdpadata'\n",
    "KBA_TEMPFILENAME = 'temp_kbadata'"
   ]
  },
  {
   "cell_type": "code",
   "execution_count": null,
   "id": "739193b6-96c2-40cc-a8ce-2ae874658c84",
   "metadata": {},
   "outputs": [],
   "source": [
    "# connect to s3\n",
    "aws_credentials = pd.read_csv('/home/jovyan/PlanetaryComputerExamples/aws_credentials.csv')\n",
    "aws_key = aws_credentials.iloc[0]['Access key ID']\n",
    "aws_secret = aws_credentials.iloc[0]['Secret access key']\n",
    "\n",
    "s3 = boto3.resource(\n",
    "    service_name='s3',\n",
    "    aws_access_key_id=aws_key,\n",
    "    aws_secret_access_key=aws_secret\n",
    ")"
   ]
  },
  {
   "cell_type": "code",
   "execution_count": null,
   "id": "65fae857-68f1-45a3-bad3-b36a4fcb83bb",
   "metadata": {},
   "outputs": [],
   "source": [
    "source_bucket = s3.Bucket(bucket_name)\n",
    "for ext in ('shp', 'shx'):\n",
    "    source_bucket.download_file('{0}.{1}'.format(WDPA_FILENAME, ext), '{0}.{1}'.format(WDPA_TEMPFILENAME, ext))\n",
    "    source_bucket.download_file('{0}.{1}'.format(KBA_FILENAME, ext), '{0}.{1}'.format(KBA_TEMPFILENAME, ext))"
   ]
  },
  {
   "cell_type": "code",
   "execution_count": null,
   "id": "2b0ff53b-c145-4476-8c14-e04d2c460378",
   "metadata": {},
   "outputs": [],
   "source": [
    "wdpa_multi = shapely.geometry.MultiPolygon([shapely.geometry.shape(poly['geometry']) for poly in fiona.open('{0}.shp'.format(WDPA_TEMPFILENAME))])\n",
    "kba_multi = shapely.geometry.MultiPolygon([shapely.geometry.shape(poly['geometry']) for poly in fiona.open('{0}.shp'.format(KBA_TEMPFILENAME))]) "
   ]
  },
  {
   "cell_type": "code",
   "execution_count": null,
   "id": "8a4136ee-5adf-4363-984d-c32893df7dff",
   "metadata": {
    "tags": []
   },
   "outputs": [],
   "source": [
    "# get list of cities\n",
    "boundary_georef = pd.read_csv(aws_s3_dir + boundary_ext + 'boundary_georef.csv')\n",
    "boundary_georef"
   ]
  },
  {
   "cell_type": "code",
   "execution_count": null,
   "id": "8ab64cd3-d7f0-4503-b6a5-e1239186f44f",
   "metadata": {},
   "outputs": [],
   "source": [
    "# download extracts and upload to AWS\n",
    "\n",
    "SOURCEDATA = {\n",
    "    'KBA': kba_multi,\n",
    "    'WDPA': wdpa_multi\n",
    "}\n",
    "for i in range(0,len(boundary_georef)):\n",
    "    boundary_id = boundary_georef.loc[i, 'geo_name']+'-' + boundary_georef.loc[i, 'aoi_boundary_name']\n",
    "    boundary_path = aws_s3_dir + boundary_ext +'boundary-'+boundary_id+'.geojson'\n",
    "    boundary_geo = requests.get(boundary_path).json()\n",
    "    temp_gdf = gpd.GeoDataFrame.from_features(boundary_geo)\n",
    "    for sourcename in SOURCEDATA:\n",
    "        sourcegeom = SOURCEDATA[sourcename]\n",
    "        result = unary_union(MultiPolygon([i for i in sourcegeom.geoms if i.intersects(temp_gdf.iloc[0]['geometry'])]))\n",
    "        g = gpd.GeoDataFrame(geometry=[result])\n",
    "        g['boundary_id'] = [boundary_id]\n",
    "        filepath = \"data/{1}-{0}-2022.geojson\".format(sourcename, boundary_id) # local folder must already exist or be created manually before running. \n",
    "        g.to_file(filepath, driver='GeoJSON')\n",
    "\n",
    "        # upload in s3\n",
    "        s3.meta.client.upload_file(\n",
    "            filepath, \n",
    "            bucket_name, \n",
    "            'data/biodiversity/{0}/{1}-{0}-2022.geojson'.format(sourcename, boundary_id),\n",
    "            ExtraArgs={'ACL':'public-read'}\n",
    "        )\n",
    "            \n"
   ]
  },
  {
   "cell_type": "code",
   "execution_count": null,
   "id": "0a1d6625-1bfc-44de-b50c-45faedf6862d",
   "metadata": {},
   "outputs": [],
   "source": []
  }
 ],
 "metadata": {
  "kernelspec": {
   "display_name": "Python [conda env:notebook] *",
   "language": "python",
   "name": "conda-env-notebook-py"
  },
  "language_info": {
   "codemirror_mode": {
    "name": "ipython",
    "version": 3
   },
   "file_extension": ".py",
   "mimetype": "text/x-python",
   "name": "python",
   "nbconvert_exporter": "python",
   "pygments_lexer": "ipython3",
   "version": "3.10.6"
  }
 },
 "nbformat": 4,
 "nbformat_minor": 5
}
