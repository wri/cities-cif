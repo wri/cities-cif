{
 "cells": [
  {
   "cell_type": "code",
   "execution_count": 8,
   "id": "c7af501c-fe5e-48ed-b5ab-d86caac92477",
   "metadata": {},
   "outputs": [],
   "source": [
    "import os\n",
    "import geopandas as gpd\n",
    "from rasterio.plot import show\n",
    "import rasterio"
   ]
  },
  {
   "cell_type": "code",
   "execution_count": null,
   "id": "6d8ed792-0bd0-4700-95b0-990b50822d88",
   "metadata": {},
   "outputs": [
    {
     "data": {
      "text/plain": [
       "'C:\\\\Users\\\\Saif.Shabou\\\\OneDrive - World Resources Institute\\\\Documents\\\\cities-indicators-framework\\\\citymetrix'"
      ]
     },
     "execution_count": 9,
     "metadata": {},
     "output_type": "execute_result"
    }
   ],
   "source": [
    "# # update the wd path to be able to laod the module\n",
    "os.chdir('..')\n",
    "os.getcwd()"
   ]
  },
  {
   "cell_type": "code",
   "execution_count": 11,
   "id": "4479b034-ded0-4008-bed8-8873f120217c",
   "metadata": {},
   "outputs": [],
   "source": [
    "os.environ['GCS_BUCKET']='gee-exports'\n",
    "os.environ['GOOGLE_APPLICATION_USER']='developers@citiesindicators.iam.gserviceaccount.com'\n",
    "os.environ['GOOGLE_APPLICATION_CREDENTIALS']='C:\\\\Users\\Saif.Shabou\\OneDrive - World Resources Institute\\Documents\\cities-indicators-framework\\citymetrix\\credentials-citiesindicators.json'"
   ]
  },
  {
   "cell_type": "code",
   "execution_count": 12,
   "id": "7ac7a9f4-0cbb-4f35-b454-0a6f45a05dd5",
   "metadata": {},
   "outputs": [
    {
     "name": "stdout",
     "output_type": "stream",
     "text": [
      "Authenticating to GEE with configured credentials file.\n"
     ]
    }
   ],
   "source": [
    "from city_metrix import mean_tree_cover"
   ]
  },
  {
   "cell_type": "code",
   "execution_count": 40,
   "id": "065862b5-246f-425a-aef8-a29926de3a54",
   "metadata": {},
   "outputs": [
    {
     "data": {
      "text/html": [
       "<div>\n",
       "<style scoped>\n",
       "    .dataframe tbody tr th:only-of-type {\n",
       "        vertical-align: middle;\n",
       "    }\n",
       "\n",
       "    .dataframe tbody tr th {\n",
       "        vertical-align: top;\n",
       "    }\n",
       "\n",
       "    .dataframe thead th {\n",
       "        text-align: right;\n",
       "    }\n",
       "</style>\n",
       "<table border=\"1\" class=\"dataframe\">\n",
       "  <thead>\n",
       "    <tr style=\"text-align: right;\">\n",
       "      <th></th>\n",
       "      <th>geo_id</th>\n",
       "      <th>geo_level</th>\n",
       "      <th>geo_name</th>\n",
       "      <th>geo_parent_name</th>\n",
       "      <th>creation_date</th>\n",
       "      <th>geometry</th>\n",
       "    </tr>\n",
       "  </thead>\n",
       "  <tbody>\n",
       "    <tr>\n",
       "      <th>0</th>\n",
       "      <td>BRA-Salvador_ADM4-union_1</td>\n",
       "      <td>ADM4-union</td>\n",
       "      <td>BRA-Salvador</td>\n",
       "      <td>BRA-Salvador</td>\n",
       "      <td>2022-08-03</td>\n",
       "      <td>MULTIPOLYGON (((-38.50135 -13.01134, -38.50140...</td>\n",
       "    </tr>\n",
       "  </tbody>\n",
       "</table>\n",
       "</div>"
      ],
      "text/plain": [
       "                      geo_id   geo_level      geo_name geo_parent_name  \\\n",
       "0  BRA-Salvador_ADM4-union_1  ADM4-union  BRA-Salvador    BRA-Salvador   \n",
       "\n",
       "  creation_date                                           geometry  \n",
       "0    2022-08-03  MULTIPOLYGON (((-38.50135 -13.01134, -38.50140...  "
      ]
     },
     "execution_count": 40,
     "metadata": {},
     "output_type": "execute_result"
    }
   ],
   "source": [
    "# load boundary of a region of interest\n",
    "boundary_path = 'https://cities-indicators.s3.eu-west-3.amazonaws.com/data/boundaries/boundary-BRA-Salvador-ADM4union.geojson'\n",
    "city_gdf_aoi = gpd.read_file(boundary_path, driver='GeoJSON')\n",
    "city_gdf_aoi.head()"
   ]
  },
  {
   "cell_type": "code",
   "execution_count": 38,
   "id": "c71e75b3-f268-4b5d-973a-fcc01382a008",
   "metadata": {},
   "outputs": [
    {
     "data": {
      "text/html": [
       "<div>\n",
       "<style scoped>\n",
       "    .dataframe tbody tr th:only-of-type {\n",
       "        vertical-align: middle;\n",
       "    }\n",
       "\n",
       "    .dataframe tbody tr th {\n",
       "        vertical-align: top;\n",
       "    }\n",
       "\n",
       "    .dataframe thead th {\n",
       "        text-align: right;\n",
       "    }\n",
       "</style>\n",
       "<table border=\"1\" class=\"dataframe\">\n",
       "  <thead>\n",
       "    <tr style=\"text-align: right;\">\n",
       "      <th></th>\n",
       "      <th>geo_id</th>\n",
       "      <th>geo_level</th>\n",
       "      <th>geo_name</th>\n",
       "      <th>geo_parent_name</th>\n",
       "      <th>creation_date</th>\n",
       "      <th>geometry</th>\n",
       "    </tr>\n",
       "  </thead>\n",
       "  <tbody>\n",
       "    <tr>\n",
       "      <th>0</th>\n",
       "      <td>BRA-Salvador_ADM4_1</td>\n",
       "      <td>ADM4</td>\n",
       "      <td>Pituaçu</td>\n",
       "      <td>BRA-Salvador</td>\n",
       "      <td>2022-08-03</td>\n",
       "      <td>MULTIPOLYGON (((-38.40125 -12.96457, -38.40126...</td>\n",
       "    </tr>\n",
       "    <tr>\n",
       "      <th>1</th>\n",
       "      <td>BRA-Salvador_ADM4_2</td>\n",
       "      <td>ADM4</td>\n",
       "      <td>Patamares</td>\n",
       "      <td>BRA-Salvador</td>\n",
       "      <td>2022-08-03</td>\n",
       "      <td>MULTIPOLYGON (((-38.39898 -12.96269, -38.39898...</td>\n",
       "    </tr>\n",
       "    <tr>\n",
       "      <th>2</th>\n",
       "      <td>BRA-Salvador_ADM4_3</td>\n",
       "      <td>ADM4</td>\n",
       "      <td>Piatã</td>\n",
       "      <td>BRA-Salvador</td>\n",
       "      <td>2022-08-03</td>\n",
       "      <td>MULTIPOLYGON (((-38.37346 -12.93345, -38.37386...</td>\n",
       "    </tr>\n",
       "    <tr>\n",
       "      <th>3</th>\n",
       "      <td>BRA-Salvador_ADM4_4</td>\n",
       "      <td>ADM4</td>\n",
       "      <td>Boca do Rio</td>\n",
       "      <td>BRA-Salvador</td>\n",
       "      <td>2022-08-03</td>\n",
       "      <td>MULTIPOLYGON (((-38.41741 -12.97578, -38.41746...</td>\n",
       "    </tr>\n",
       "    <tr>\n",
       "      <th>4</th>\n",
       "      <td>BRA-Salvador_ADM4_5</td>\n",
       "      <td>ADM4</td>\n",
       "      <td>Jardim Armação</td>\n",
       "      <td>BRA-Salvador</td>\n",
       "      <td>2022-08-03</td>\n",
       "      <td>MULTIPOLYGON (((-38.43383 -12.98742, -38.43386...</td>\n",
       "    </tr>\n",
       "  </tbody>\n",
       "</table>\n",
       "</div>"
      ],
      "text/plain": [
       "                geo_id geo_level        geo_name geo_parent_name  \\\n",
       "0  BRA-Salvador_ADM4_1      ADM4         Pituaçu    BRA-Salvador   \n",
       "1  BRA-Salvador_ADM4_2      ADM4       Patamares    BRA-Salvador   \n",
       "2  BRA-Salvador_ADM4_3      ADM4           Piatã    BRA-Salvador   \n",
       "3  BRA-Salvador_ADM4_4      ADM4     Boca do Rio    BRA-Salvador   \n",
       "4  BRA-Salvador_ADM4_5      ADM4  Jardim Armação    BRA-Salvador   \n",
       "\n",
       "  creation_date                                           geometry  \n",
       "0    2022-08-03  MULTIPOLYGON (((-38.40125 -12.96457, -38.40126...  \n",
       "1    2022-08-03  MULTIPOLYGON (((-38.39898 -12.96269, -38.39898...  \n",
       "2    2022-08-03  MULTIPOLYGON (((-38.37346 -12.93345, -38.37386...  \n",
       "3    2022-08-03  MULTIPOLYGON (((-38.41741 -12.97578, -38.41746...  \n",
       "4    2022-08-03  MULTIPOLYGON (((-38.43383 -12.98742, -38.43386...  "
      ]
     },
     "execution_count": 38,
     "metadata": {},
     "output_type": "execute_result"
    }
   ],
   "source": [
    "# load boundary of sub-georgaphy\n",
    "boundary_path = 'https://cities-indicators.s3.eu-west-3.amazonaws.com/data/boundaries/boundary-BRA-Salvador-ADM4.geojson'\n",
    "city_gdf_sub = gpd.read_file(boundary_path, driver='GeoJSON')\n",
    "city_gdf_sub.head()"
   ]
  },
  {
   "cell_type": "markdown",
   "id": "54ee3c4c-6042-4413-bd62-a1293db565de",
   "metadata": {},
   "source": [
    "# Mean Tree Cover"
   ]
  },
  {
   "cell_type": "code",
   "execution_count": 41,
   "id": "9a4be449-9e4b-4117-8a7a-0f3512d19004",
   "metadata": {},
   "outputs": [
    {
     "name": "stderr",
     "output_type": "stream",
     "text": [
      "C:\\Users\\Saif.Shabou\\anaconda3\\lib\\site-packages\\xee\\ext.py:549: UserWarning: Unable to retrieve 'system:time_start' values from an ImageCollection due to: No 'system:time_start' values found in the 'ImageCollection'.\n",
      "  warnings.warn(\n",
      "C:\\Users\\Saif.Shabou\\anaconda3\\lib\\site-packages\\xarray\\core\\pycompat.py:22: DeprecationWarning: distutils Version classes are deprecated. Use packaging.version instead.\n",
      "  duck_array_version = LooseVersion(duck_array_module.__version__)\n",
      "C:\\Users\\Saif.Shabou\\anaconda3\\lib\\site-packages\\xarray\\core\\pycompat.py:22: DeprecationWarning: distutils Version classes are deprecated. Use packaging.version instead.\n",
      "  duck_array_version = LooseVersion(duck_array_module.__version__)\n"
     ]
    },
    {
     "name": "stdout",
     "output_type": "stream",
     "text": [
      "CPU times: total: 11.6 s\n",
      "Wall time: 20.6 s\n"
     ]
    },
    {
     "data": {
      "text/html": [
       "<div>\n",
       "<style scoped>\n",
       "    .dataframe tbody tr th:only-of-type {\n",
       "        vertical-align: middle;\n",
       "    }\n",
       "\n",
       "    .dataframe tbody tr th {\n",
       "        vertical-align: top;\n",
       "    }\n",
       "\n",
       "    .dataframe thead th {\n",
       "        text-align: right;\n",
       "    }\n",
       "</style>\n",
       "<table border=\"1\" class=\"dataframe\">\n",
       "  <thead>\n",
       "    <tr style=\"text-align: right;\">\n",
       "      <th></th>\n",
       "      <th>geo_id</th>\n",
       "      <th>geo_level</th>\n",
       "      <th>geo_name</th>\n",
       "      <th>geo_parent_name</th>\n",
       "      <th>creation_date</th>\n",
       "      <th>geometry</th>\n",
       "      <th>mean_tree_cover</th>\n",
       "    </tr>\n",
       "  </thead>\n",
       "  <tbody>\n",
       "    <tr>\n",
       "      <th>0</th>\n",
       "      <td>BRA-Salvador_ADM4-union_1</td>\n",
       "      <td>ADM4-union</td>\n",
       "      <td>BRA-Salvador</td>\n",
       "      <td>BRA-Salvador</td>\n",
       "      <td>2022-08-03</td>\n",
       "      <td>MULTIPOLYGON (((-38.50135 -13.01134, -38.50140...</td>\n",
       "      <td>28.366773</td>\n",
       "    </tr>\n",
       "  </tbody>\n",
       "</table>\n",
       "</div>"
      ],
      "text/plain": [
       "                      geo_id   geo_level      geo_name geo_parent_name  \\\n",
       "0  BRA-Salvador_ADM4-union_1  ADM4-union  BRA-Salvador    BRA-Salvador   \n",
       "\n",
       "  creation_date                                           geometry  \\\n",
       "0    2022-08-03  MULTIPOLYGON (((-38.50135 -13.01134, -38.50140...   \n",
       "\n",
       "   mean_tree_cover  \n",
       "0        28.366773  "
      ]
     },
     "execution_count": 41,
     "metadata": {},
     "output_type": "execute_result"
    }
   ],
   "source": [
    "%%time\n",
    "\n",
    "# for one geography\n",
    "city_gdf_aoi[\"mean_tree_cover\"] = mean_tree_cover(city_gdf_aoi) \n",
    "city_gdf_aoi"
   ]
  },
  {
   "cell_type": "code",
   "execution_count": 42,
   "id": "ab6c6a77-2d15-4e06-a5ef-76a372df564b",
   "metadata": {},
   "outputs": [
    {
     "name": "stderr",
     "output_type": "stream",
     "text": [
      "C:\\Users\\Saif.Shabou\\anaconda3\\lib\\site-packages\\xee\\ext.py:549: UserWarning: Unable to retrieve 'system:time_start' values from an ImageCollection due to: No 'system:time_start' values found in the 'ImageCollection'.\n",
      "  warnings.warn(\n",
      "C:\\Users\\Saif.Shabou\\anaconda3\\lib\\site-packages\\xarray\\core\\pycompat.py:22: DeprecationWarning: distutils Version classes are deprecated. Use packaging.version instead.\n",
      "  duck_array_version = LooseVersion(duck_array_module.__version__)\n",
      "C:\\Users\\Saif.Shabou\\anaconda3\\lib\\site-packages\\xarray\\core\\pycompat.py:22: DeprecationWarning: distutils Version classes are deprecated. Use packaging.version instead.\n",
      "  duck_array_version = LooseVersion(duck_array_module.__version__)\n"
     ]
    },
    {
     "name": "stdout",
     "output_type": "stream",
     "text": [
      "CPU times: total: 11.3 s\n",
      "Wall time: 16.3 s\n"
     ]
    },
    {
     "data": {
      "text/html": [
       "<div>\n",
       "<style scoped>\n",
       "    .dataframe tbody tr th:only-of-type {\n",
       "        vertical-align: middle;\n",
       "    }\n",
       "\n",
       "    .dataframe tbody tr th {\n",
       "        vertical-align: top;\n",
       "    }\n",
       "\n",
       "    .dataframe thead th {\n",
       "        text-align: right;\n",
       "    }\n",
       "</style>\n",
       "<table border=\"1\" class=\"dataframe\">\n",
       "  <thead>\n",
       "    <tr style=\"text-align: right;\">\n",
       "      <th></th>\n",
       "      <th>geo_id</th>\n",
       "      <th>geo_level</th>\n",
       "      <th>geo_name</th>\n",
       "      <th>geo_parent_name</th>\n",
       "      <th>creation_date</th>\n",
       "      <th>geometry</th>\n",
       "      <th>mean_tree_cover</th>\n",
       "    </tr>\n",
       "  </thead>\n",
       "  <tbody>\n",
       "    <tr>\n",
       "      <th>0</th>\n",
       "      <td>BRA-Salvador_ADM4_1</td>\n",
       "      <td>ADM4</td>\n",
       "      <td>Pituaçu</td>\n",
       "      <td>BRA-Salvador</td>\n",
       "      <td>2022-08-03</td>\n",
       "      <td>MULTIPOLYGON (((-38.40125 -12.96457, -38.40126...</td>\n",
       "      <td>52.392370</td>\n",
       "    </tr>\n",
       "    <tr>\n",
       "      <th>1</th>\n",
       "      <td>BRA-Salvador_ADM4_2</td>\n",
       "      <td>ADM4</td>\n",
       "      <td>Patamares</td>\n",
       "      <td>BRA-Salvador</td>\n",
       "      <td>2022-08-03</td>\n",
       "      <td>MULTIPOLYGON (((-38.39898 -12.96269, -38.39898...</td>\n",
       "      <td>43.309331</td>\n",
       "    </tr>\n",
       "    <tr>\n",
       "      <th>2</th>\n",
       "      <td>BRA-Salvador_ADM4_3</td>\n",
       "      <td>ADM4</td>\n",
       "      <td>Piatã</td>\n",
       "      <td>BRA-Salvador</td>\n",
       "      <td>2022-08-03</td>\n",
       "      <td>MULTIPOLYGON (((-38.37346 -12.93345, -38.37386...</td>\n",
       "      <td>27.407306</td>\n",
       "    </tr>\n",
       "    <tr>\n",
       "      <th>3</th>\n",
       "      <td>BRA-Salvador_ADM4_4</td>\n",
       "      <td>ADM4</td>\n",
       "      <td>Boca do Rio</td>\n",
       "      <td>BRA-Salvador</td>\n",
       "      <td>2022-08-03</td>\n",
       "      <td>MULTIPOLYGON (((-38.41741 -12.97578, -38.41746...</td>\n",
       "      <td>15.772191</td>\n",
       "    </tr>\n",
       "    <tr>\n",
       "      <th>4</th>\n",
       "      <td>BRA-Salvador_ADM4_5</td>\n",
       "      <td>ADM4</td>\n",
       "      <td>Jardim Armação</td>\n",
       "      <td>BRA-Salvador</td>\n",
       "      <td>2022-08-03</td>\n",
       "      <td>MULTIPOLYGON (((-38.43383 -12.98742, -38.43386...</td>\n",
       "      <td>21.087379</td>\n",
       "    </tr>\n",
       "  </tbody>\n",
       "</table>\n",
       "</div>"
      ],
      "text/plain": [
       "                geo_id geo_level        geo_name geo_parent_name  \\\n",
       "0  BRA-Salvador_ADM4_1      ADM4         Pituaçu    BRA-Salvador   \n",
       "1  BRA-Salvador_ADM4_2      ADM4       Patamares    BRA-Salvador   \n",
       "2  BRA-Salvador_ADM4_3      ADM4           Piatã    BRA-Salvador   \n",
       "3  BRA-Salvador_ADM4_4      ADM4     Boca do Rio    BRA-Salvador   \n",
       "4  BRA-Salvador_ADM4_5      ADM4  Jardim Armação    BRA-Salvador   \n",
       "\n",
       "  creation_date                                           geometry  \\\n",
       "0    2022-08-03  MULTIPOLYGON (((-38.40125 -12.96457, -38.40126...   \n",
       "1    2022-08-03  MULTIPOLYGON (((-38.39898 -12.96269, -38.39898...   \n",
       "2    2022-08-03  MULTIPOLYGON (((-38.37346 -12.93345, -38.37386...   \n",
       "3    2022-08-03  MULTIPOLYGON (((-38.41741 -12.97578, -38.41746...   \n",
       "4    2022-08-03  MULTIPOLYGON (((-38.43383 -12.98742, -38.43386...   \n",
       "\n",
       "   mean_tree_cover  \n",
       "0        52.392370  \n",
       "1        43.309331  \n",
       "2        27.407306  \n",
       "3        15.772191  \n",
       "4        21.087379  "
      ]
     },
     "execution_count": 42,
     "metadata": {},
     "output_type": "execute_result"
    }
   ],
   "source": [
    "%%time\n",
    "\n",
    "# for sub geographies\n",
    "city_gdf_sub[\"mean_tree_cover\"] = mean_tree_cover(city_gdf_sub) \n",
    "city_gdf_sub.head()"
   ]
  },
  {
   "cell_type": "code",
   "execution_count": 84,
   "id": "509517ea-8bc1-4cf6-9b4e-03113ae75545",
   "metadata": {},
   "outputs": [
    {
     "data": {
      "text/html": [
       "<div>\n",
       "<style scoped>\n",
       "    .dataframe tbody tr th:only-of-type {\n",
       "        vertical-align: middle;\n",
       "    }\n",
       "\n",
       "    .dataframe tbody tr th {\n",
       "        vertical-align: top;\n",
       "    }\n",
       "\n",
       "    .dataframe thead th {\n",
       "        text-align: right;\n",
       "    }\n",
       "</style>\n",
       "<table border=\"1\" class=\"dataframe\">\n",
       "  <thead>\n",
       "    <tr style=\"text-align: right;\">\n",
       "      <th></th>\n",
       "      <th>geo_id</th>\n",
       "      <th>geo_level</th>\n",
       "      <th>geo_name</th>\n",
       "      <th>geo_parent_name</th>\n",
       "      <th>creation_date</th>\n",
       "      <th>geometry</th>\n",
       "    </tr>\n",
       "  </thead>\n",
       "  <tbody>\n",
       "    <tr>\n",
       "      <th>0</th>\n",
       "      <td>BRA-Salvador_ADM4-union_1</td>\n",
       "      <td>ADM4-union</td>\n",
       "      <td>BRA-Salvador</td>\n",
       "      <td>BRA-Salvador</td>\n",
       "      <td>2022-08-03</td>\n",
       "      <td>MULTIPOLYGON (((-38.50135 -13.01134, -38.50140...</td>\n",
       "    </tr>\n",
       "    <tr>\n",
       "      <th>1</th>\n",
       "      <td>IDN-Jakarta_ADM-4-union_1</td>\n",
       "      <td>ADM-4-union</td>\n",
       "      <td>IDN-Jakarta</td>\n",
       "      <td>IDN-Jakarta</td>\n",
       "      <td>2022-06-27</td>\n",
       "      <td>MULTIPOLYGON (((106.78141 -6.31616, 106.78124 ...</td>\n",
       "    </tr>\n",
       "  </tbody>\n",
       "</table>\n",
       "</div>"
      ],
      "text/plain": [
       "                      geo_id    geo_level      geo_name geo_parent_name  \\\n",
       "0  BRA-Salvador_ADM4-union_1   ADM4-union  BRA-Salvador    BRA-Salvador   \n",
       "1  IDN-Jakarta_ADM-4-union_1  ADM-4-union   IDN-Jakarta     IDN-Jakarta   \n",
       "\n",
       "  creation_date                                           geometry  \n",
       "0    2022-08-03  MULTIPOLYGON (((-38.50135 -13.01134, -38.50140...  \n",
       "1    2022-06-27  MULTIPOLYGON (((106.78141 -6.31616, 106.78124 ...  "
      ]
     },
     "execution_count": 84,
     "metadata": {},
     "output_type": "execute_result"
    }
   ],
   "source": [
    "# Calculate indicator for multiple regions of interest\n",
    "\n",
    "boundary_path = 'https://cities-indicators.s3.eu-west-3.amazonaws.com/data/boundaries/boundary-BRA-Salvador-ADM4union.geojson'\n",
    "city_Salvador = gpd.read_file(boundary_path, driver='GeoJSON')\n",
    "\n",
    "boundary_path = 'https://cities-indicators.s3.eu-west-3.amazonaws.com/data/boundaries/boundary-IDN-Jakarta-ADM4union.geojson'\n",
    "city_Jakarta = gpd.read_file(boundary_path, driver='GeoJSON')\n",
    "\n",
    "cities = pd.concat([city_Salvador, city_Jakarta])\n",
    "cities = cities.reset_index(drop=True)\n",
    "cities"
   ]
  },
  {
   "cell_type": "code",
   "execution_count": 85,
   "id": "a991136f-af1d-4c3e-95b2-b0f8c26ec3d8",
   "metadata": {},
   "outputs": [
    {
     "name": "stderr",
     "output_type": "stream",
     "text": [
      "C:\\Users\\Saif.Shabou\\anaconda3\\lib\\site-packages\\xee\\ext.py:549: UserWarning: Unable to retrieve 'system:time_start' values from an ImageCollection due to: No 'system:time_start' values found in the 'ImageCollection'.\n",
      "  warnings.warn(\n",
      "C:\\Users\\Saif.Shabou\\anaconda3\\lib\\site-packages\\xarray\\core\\pycompat.py:22: DeprecationWarning: distutils Version classes are deprecated. Use packaging.version instead.\n",
      "  duck_array_version = LooseVersion(duck_array_module.__version__)\n",
      "C:\\Users\\Saif.Shabou\\anaconda3\\lib\\site-packages\\xarray\\core\\pycompat.py:22: DeprecationWarning: distutils Version classes are deprecated. Use packaging.version instead.\n",
      "  duck_array_version = LooseVersion(duck_array_module.__version__)\n",
      "C:\\Users\\Saif.Shabou\\anaconda3\\lib\\site-packages\\xee\\ext.py:549: UserWarning: Unable to retrieve 'system:time_start' values from an ImageCollection due to: No 'system:time_start' values found in the 'ImageCollection'.\n",
      "  warnings.warn(\n",
      "C:\\Users\\Saif.Shabou\\anaconda3\\lib\\site-packages\\xarray\\core\\pycompat.py:22: DeprecationWarning: distutils Version classes are deprecated. Use packaging.version instead.\n",
      "  duck_array_version = LooseVersion(duck_array_module.__version__)\n",
      "C:\\Users\\Saif.Shabou\\anaconda3\\lib\\site-packages\\xarray\\core\\pycompat.py:22: DeprecationWarning: distutils Version classes are deprecated. Use packaging.version instead.\n",
      "  duck_array_version = LooseVersion(duck_array_module.__version__)\n"
     ]
    }
   ],
   "source": [
    "# loop over cities\n",
    "for i in range(0,len(cities)):\n",
    "    city = cities.loc[[i]]\n",
    "    city_indicator = float(mean_tree_cover(city))\n",
    "    cities.loc[i,\"mean_tree_cover\"] = city_indicator"
   ]
  },
  {
   "cell_type": "code",
   "execution_count": null,
   "id": "8f5ca54a-761c-47a2-99ae-e7d175c0f341",
   "metadata": {},
   "outputs": [],
   "source": [
    "cities"
   ]
  },
  {
   "cell_type": "code",
   "execution_count": null,
   "id": "d79ad6a4-7b33-40b0-a701-0a87f887585d",
   "metadata": {},
   "outputs": [],
   "source": []
  }
 ],
 "metadata": {
  "kernelspec": {
   "display_name": "Python 3 (ipykernel)",
   "language": "python",
   "name": "python3"
  },
  "language_info": {
   "codemirror_mode": {
    "name": "ipython",
    "version": 3
   },
   "file_extension": ".py",
   "mimetype": "text/x-python",
   "name": "python",
   "nbconvert_exporter": "python",
   "pygments_lexer": "ipython3",
   "version": "3.9.12"
  }
 },
 "nbformat": 4,
 "nbformat_minor": 5
}
