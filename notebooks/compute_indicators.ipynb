{
 "cells": [
  {
   "cell_type": "code",
   "execution_count": 8,
   "id": "c7af501c-fe5e-48ed-b5ab-d86caac92477",
   "metadata": {},
   "outputs": [],
   "source": [
    "import os\n",
    "import geopandas as gpd\n",
    "from rasterio.plot import show\n",
    "import rasterio"
   ]
  },
  {
   "cell_type": "code",
   "execution_count": null,
   "id": "6d8ed792-0bd0-4700-95b0-990b50822d88",
   "metadata": {},
   "outputs": [
    {
     "data": {
      "text/plain": [
       "'C:\\\\Users\\\\Saif.Shabou\\\\OneDrive - World Resources Institute\\\\Documents\\\\cities-indicators-framework\\\\citymetrix'"
      ]
     },
     "execution_count": 9,
     "metadata": {},
     "output_type": "execute_result"
    }
   ],
   "source": [
    "# # update the wd path to be able to laod the module\n",
    "os.chdir('..')\n",
    "os.getcwd()"
   ]
  },
  {
   "cell_type": "code",
   "execution_count": 11,
   "id": "4479b034-ded0-4008-bed8-8873f120217c",
   "metadata": {},
   "outputs": [],
   "source": [
    "os.environ['GCS_BUCKET']='gee-exports'\n",
    "os.environ['GOOGLE_APPLICATION_USER']='developers@citiesindicators.iam.gserviceaccount.com'\n",
    "os.environ['GOOGLE_APPLICATION_CREDENTIALS']='C:\\\\Users\\Saif.Shabou\\OneDrive - World Resources Institute\\Documents\\cities-indicators-framework\\citymetrix\\credentials-citiesindicators.json'"
   ]
  },
  {
   "cell_type": "code",
   "execution_count": 12,
   "id": "7ac7a9f4-0cbb-4f35-b454-0a6f45a05dd5",
   "metadata": {},
   "outputs": [
    {
     "name": "stdout",
     "output_type": "stream",
     "text": [
      "Authenticating to GEE with configured credentials file.\n"
     ]
    }
   ],
   "source": [
    "from city_metrix import mean_tree_cover"
   ]
  },
  {
   "cell_type": "code",
   "execution_count": 40,
   "id": "065862b5-246f-425a-aef8-a29926de3a54",
   "metadata": {},
   "outputs": [
    {
     "data": {
      "text/html": [
       "<div>\n",
       "<style scoped>\n",
       "    .dataframe tbody tr th:only-of-type {\n",
       "        vertical-align: middle;\n",
       "    }\n",
       "\n",
       "    .dataframe tbody tr th {\n",
       "        vertical-align: top;\n",
       "    }\n",
       "\n",
       "    .dataframe thead th {\n",
       "        text-align: right;\n",
       "    }\n",
       "</style>\n",
       "<table border=\"1\" class=\"dataframe\">\n",
       "  <thead>\n",
       "    <tr style=\"text-align: right;\">\n",
       "      <th></th>\n",
       "      <th>geo_id</th>\n",
       "      <th>geo_level</th>\n",
       "      <th>geo_name</th>\n",
       "      <th>geo_parent_name</th>\n",
       "      <th>creation_date</th>\n",
       "      <th>geometry</th>\n",
       "    </tr>\n",
       "  </thead>\n",
       "  <tbody>\n",
       "    <tr>\n",
       "      <th>0</th>\n",
       "      <td>BRA-Salvador_ADM4-union_1</td>\n",
       "      <td>ADM4-union</td>\n",
       "      <td>BRA-Salvador</td>\n",
       "      <td>BRA-Salvador</td>\n",
       "      <td>2022-08-03</td>\n",
       "      <td>MULTIPOLYGON (((-38.50135 -13.01134, -38.50140...</td>\n",
       "    </tr>\n",
       "  </tbody>\n",
       "</table>\n",
       "</div>"
      ],
      "text/plain": [
       "                      geo_id   geo_level      geo_name geo_parent_name  \\\n",
       "0  BRA-Salvador_ADM4-union_1  ADM4-union  BRA-Salvador    BRA-Salvador   \n",
       "\n",
       "  creation_date                                           geometry  \n",
       "0    2022-08-03  MULTIPOLYGON (((-38.50135 -13.01134, -38.50140...  "
      ]
     },
     "execution_count": 40,
     "metadata": {},
     "output_type": "execute_result"
    }
   ],
   "source": [
    "# load boundary of a region of interest\n",
    "boundary_path = 'https://cities-indicators.s3.eu-west-3.amazonaws.com/data/boundaries/boundary-BRA-Salvador-ADM4union.geojson'\n",
    "city_gdf_aoi = gpd.read_file(boundary_path, driver='GeoJSON')\n",
    "city_gdf_aoi.head()"
   ]
  },
  {
   "cell_type": "code",
   "execution_count": 38,
   "id": "c71e75b3-f268-4b5d-973a-fcc01382a008",
   "metadata": {},
   "outputs": [
    {
     "data": {
      "text/html": [
       "<div>\n",
       "<style scoped>\n",
       "    .dataframe tbody tr th:only-of-type {\n",
       "        vertical-align: middle;\n",
       "    }\n",
       "\n",
       "    .dataframe tbody tr th {\n",
       "        vertical-align: top;\n",
       "    }\n",
       "\n",
       "    .dataframe thead th {\n",
       "        text-align: right;\n",
       "    }\n",
       "</style>\n",
       "<table border=\"1\" class=\"dataframe\">\n",
       "  <thead>\n",
       "    <tr style=\"text-align: right;\">\n",
       "      <th></th>\n",
       "      <th>geo_id</th>\n",
       "      <th>geo_level</th>\n",
       "      <th>geo_name</th>\n",
       "      <th>geo_parent_name</th>\n",
       "      <th>creation_date</th>\n",
       "      <th>geometry</th>\n",
       "    </tr>\n",
       "  </thead>\n",
       "  <tbody>\n",
       "    <tr>\n",
       "      <th>0</th>\n",
       "      <td>BRA-Salvador_ADM4_1</td>\n",
       "      <td>ADM4</td>\n",
       "      <td>Pituaçu</td>\n",
       "      <td>BRA-Salvador</td>\n",
       "      <td>2022-08-03</td>\n",
       "      <td>MULTIPOLYGON (((-38.40125 -12.96457, -38.40126...</td>\n",
       "    </tr>\n",
       "    <tr>\n",
       "      <th>1</th>\n",
       "      <td>BRA-Salvador_ADM4_2</td>\n",
       "      <td>ADM4</td>\n",
       "      <td>Patamares</td>\n",
       "      <td>BRA-Salvador</td>\n",
       "      <td>2022-08-03</td>\n",
       "      <td>MULTIPOLYGON (((-38.39898 -12.96269, -38.39898...</td>\n",
       "    </tr>\n",
       "    <tr>\n",
       "      <th>2</th>\n",
       "      <td>BRA-Salvador_ADM4_3</td>\n",
       "      <td>ADM4</td>\n",
       "      <td>Piatã</td>\n",
       "      <td>BRA-Salvador</td>\n",
       "      <td>2022-08-03</td>\n",
       "      <td>MULTIPOLYGON (((-38.37346 -12.93345, -38.37386...</td>\n",
       "    </tr>\n",
       "    <tr>\n",
       "      <th>3</th>\n",
       "      <td>BRA-Salvador_ADM4_4</td>\n",
       "      <td>ADM4</td>\n",
       "      <td>Boca do Rio</td>\n",
       "      <td>BRA-Salvador</td>\n",
       "      <td>2022-08-03</td>\n",
       "      <td>MULTIPOLYGON (((-38.41741 -12.97578, -38.41746...</td>\n",
       "    </tr>\n",
       "    <tr>\n",
       "      <th>4</th>\n",
       "      <td>BRA-Salvador_ADM4_5</td>\n",
       "      <td>ADM4</td>\n",
       "      <td>Jardim Armação</td>\n",
       "      <td>BRA-Salvador</td>\n",
       "      <td>2022-08-03</td>\n",
       "      <td>MULTIPOLYGON (((-38.43383 -12.98742, -38.43386...</td>\n",
       "    </tr>\n",
       "  </tbody>\n",
       "</table>\n",
       "</div>"
      ],
      "text/plain": [
       "                geo_id geo_level        geo_name geo_parent_name  \\\n",
       "0  BRA-Salvador_ADM4_1      ADM4         Pituaçu    BRA-Salvador   \n",
       "1  BRA-Salvador_ADM4_2      ADM4       Patamares    BRA-Salvador   \n",
       "2  BRA-Salvador_ADM4_3      ADM4           Piatã    BRA-Salvador   \n",
       "3  BRA-Salvador_ADM4_4      ADM4     Boca do Rio    BRA-Salvador   \n",
       "4  BRA-Salvador_ADM4_5      ADM4  Jardim Armação    BRA-Salvador   \n",
       "\n",
       "  creation_date                                           geometry  \n",
       "0    2022-08-03  MULTIPOLYGON (((-38.40125 -12.96457, -38.40126...  \n",
       "1    2022-08-03  MULTIPOLYGON (((-38.39898 -12.96269, -38.39898...  \n",
       "2    2022-08-03  MULTIPOLYGON (((-38.37346 -12.93345, -38.37386...  \n",
       "3    2022-08-03  MULTIPOLYGON (((-38.41741 -12.97578, -38.41746...  \n",
       "4    2022-08-03  MULTIPOLYGON (((-38.43383 -12.98742, -38.43386...  "
      ]
     },
     "execution_count": 38,
     "metadata": {},
     "output_type": "execute_result"
    }
   ],
   "source": [
    "# load boundary of sub-georgaphy\n",
    "boundary_path = 'https://cities-indicators.s3.eu-west-3.amazonaws.com/data/boundaries/boundary-BRA-Salvador-ADM4.geojson'\n",
    "city_gdf_sub = gpd.read_file(boundary_path, driver='GeoJSON')\n",
    "city_gdf_sub.head()"
   ]
  },
  {
   "cell_type": "markdown",
   "id": "54ee3c4c-6042-4413-bd62-a1293db565de",
   "metadata": {},
   "source": [
    "# Mean Tree Cover"
   ]
  },
  {
   "cell_type": "code",
   "execution_count": 41,
   "id": "9a4be449-9e4b-4117-8a7a-0f3512d19004",
   "metadata": {},
   "outputs": [
    {
     "name": "stderr",
     "output_type": "stream",
     "text": [
      "C:\\Users\\Saif.Shabou\\anaconda3\\lib\\site-packages\\xee\\ext.py:549: UserWarning: Unable to retrieve 'system:time_start' values from an ImageCollection due to: No 'system:time_start' values found in the 'ImageCollection'.\n",
      "  warnings.warn(\n",
      "C:\\Users\\Saif.Shabou\\anaconda3\\lib\\site-packages\\xarray\\core\\pycompat.py:22: DeprecationWarning: distutils Version classes are deprecated. Use packaging.version instead.\n",
      "  duck_array_version = LooseVersion(duck_array_module.__version__)\n",
      "C:\\Users\\Saif.Shabou\\anaconda3\\lib\\site-packages\\xarray\\core\\pycompat.py:22: DeprecationWarning: distutils Version classes are deprecated. Use packaging.version instead.\n",
      "  duck_array_version = LooseVersion(duck_array_module.__version__)\n"
     ]
    },
    {
     "name": "stdout",
     "output_type": "stream",
     "text": [
      "CPU times: total: 11.6 s\n",
      "Wall time: 20.6 s\n"
     ]
    },
    {
     "data": {
      "text/html": [
       "<div>\n",
       "<style scoped>\n",
       "    .dataframe tbody tr th:only-of-type {\n",
       "        vertical-align: middle;\n",
       "    }\n",
       "\n",
       "    .dataframe tbody tr th {\n",
       "        vertical-align: top;\n",
       "    }\n",
       "\n",
       "    .dataframe thead th {\n",
       "        text-align: right;\n",
       "    }\n",
       "</style>\n",
       "<table border=\"1\" class=\"dataframe\">\n",
       "  <thead>\n",
       "    <tr style=\"text-align: right;\">\n",
       "      <th></th>\n",
       "      <th>geo_id</th>\n",
       "      <th>geo_level</th>\n",
       "      <th>geo_name</th>\n",
       "      <th>geo_parent_name</th>\n",
       "      <th>creation_date</th>\n",
       "      <th>geometry</th>\n",
       "      <th>mean_tree_cover</th>\n",
       "    </tr>\n",
       "  </thead>\n",
       "  <tbody>\n",
       "    <tr>\n",
       "      <th>0</th>\n",
       "      <td>BRA-Salvador_ADM4-union_1</td>\n",
       "      <td>ADM4-union</td>\n",
       "      <td>BRA-Salvador</td>\n",
       "      <td>BRA-Salvador</td>\n",
       "      <td>2022-08-03</td>\n",
       "      <td>MULTIPOLYGON (((-38.50135 -13.01134, -38.50140...</td>\n",
       "      <td>28.366773</td>\n",
       "    </tr>\n",
       "  </tbody>\n",
       "</table>\n",
       "</div>"
      ],
      "text/plain": [
       "                      geo_id   geo_level      geo_name geo_parent_name  \\\n",
       "0  BRA-Salvador_ADM4-union_1  ADM4-union  BRA-Salvador    BRA-Salvador   \n",
       "\n",
       "  creation_date                                           geometry  \\\n",
       "0    2022-08-03  MULTIPOLYGON (((-38.50135 -13.01134, -38.50140...   \n",
       "\n",
       "   mean_tree_cover  \n",
       "0        28.366773  "
      ]
     },
     "execution_count": 41,
     "metadata": {},
     "output_type": "execute_result"
    }
   ],
   "source": [
    "%%time\n",
    "\n",
    "# for one geography\n",
    "city_gdf_aoi[\"mean_tree_cover\"] = mean_tree_cover(city_gdf_aoi) \n",
    "city_gdf_aoi"
   ]
  },
  {
   "cell_type": "code",
   "execution_count": 42,
   "id": "ab6c6a77-2d15-4e06-a5ef-76a372df564b",
   "metadata": {},
   "outputs": [
    {
     "name": "stderr",
     "output_type": "stream",
     "text": [
      "C:\\Users\\Saif.Shabou\\anaconda3\\lib\\site-packages\\xee\\ext.py:549: UserWarning: Unable to retrieve 'system:time_start' values from an ImageCollection due to: No 'system:time_start' values found in the 'ImageCollection'.\n",
      "  warnings.warn(\n",
      "C:\\Users\\Saif.Shabou\\anaconda3\\lib\\site-packages\\xarray\\core\\pycompat.py:22: DeprecationWarning: distutils Version classes are deprecated. Use packaging.version instead.\n",
      "  duck_array_version = LooseVersion(duck_array_module.__version__)\n",
      "C:\\Users\\Saif.Shabou\\anaconda3\\lib\\site-packages\\xarray\\core\\pycompat.py:22: DeprecationWarning: distutils Version classes are deprecated. Use packaging.version instead.\n",
      "  duck_array_version = LooseVersion(duck_array_module.__version__)\n"
     ]
    },
    {
     "name": "stdout",
     "output_type": "stream",
     "text": [
      "CPU times: total: 11.3 s\n",
      "Wall time: 16.3 s\n"
     ]
    },
    {
     "data": {
      "text/html": [
       "<div>\n",
       "<style scoped>\n",
       "    .dataframe tbody tr th:only-of-type {\n",
       "        vertical-align: middle;\n",
       "    }\n",
       "\n",
       "    .dataframe tbody tr th {\n",
       "        vertical-align: top;\n",
       "    }\n",
       "\n",
       "    .dataframe thead th {\n",
       "        text-align: right;\n",
       "    }\n",
       "</style>\n",
       "<table border=\"1\" class=\"dataframe\">\n",
       "  <thead>\n",
       "    <tr style=\"text-align: right;\">\n",
       "      <th></th>\n",
       "      <th>geo_id</th>\n",
       "      <th>geo_level</th>\n",
       "      <th>geo_name</th>\n",
       "      <th>geo_parent_name</th>\n",
       "      <th>creation_date</th>\n",
       "      <th>geometry</th>\n",
       "      <th>mean_tree_cover</th>\n",
       "    </tr>\n",
       "  </thead>\n",
       "  <tbody>\n",
       "    <tr>\n",
       "      <th>0</th>\n",
       "      <td>BRA-Salvador_ADM4_1</td>\n",
       "      <td>ADM4</td>\n",
       "      <td>Pituaçu</td>\n",
       "      <td>BRA-Salvador</td>\n",
       "      <td>2022-08-03</td>\n",
       "      <td>MULTIPOLYGON (((-38.40125 -12.96457, -38.40126...</td>\n",
       "      <td>52.392370</td>\n",
       "    </tr>\n",
       "    <tr>\n",
       "      <th>1</th>\n",
       "      <td>BRA-Salvador_ADM4_2</td>\n",
       "      <td>ADM4</td>\n",
       "      <td>Patamares</td>\n",
       "      <td>BRA-Salvador</td>\n",
       "      <td>2022-08-03</td>\n",
       "      <td>MULTIPOLYGON (((-38.39898 -12.96269, -38.39898...</td>\n",
       "      <td>43.309331</td>\n",
       "    </tr>\n",
       "    <tr>\n",
       "      <th>2</th>\n",
       "      <td>BRA-Salvador_ADM4_3</td>\n",
       "      <td>ADM4</td>\n",
       "      <td>Piatã</td>\n",
       "      <td>BRA-Salvador</td>\n",
       "      <td>2022-08-03</td>\n",
       "      <td>MULTIPOLYGON (((-38.37346 -12.93345, -38.37386...</td>\n",
       "      <td>27.407306</td>\n",
       "    </tr>\n",
       "    <tr>\n",
       "      <th>3</th>\n",
       "      <td>BRA-Salvador_ADM4_4</td>\n",
       "      <td>ADM4</td>\n",
       "      <td>Boca do Rio</td>\n",
       "      <td>BRA-Salvador</td>\n",
       "      <td>2022-08-03</td>\n",
       "      <td>MULTIPOLYGON (((-38.41741 -12.97578, -38.41746...</td>\n",
       "      <td>15.772191</td>\n",
       "    </tr>\n",
       "    <tr>\n",
       "      <th>4</th>\n",
       "      <td>BRA-Salvador_ADM4_5</td>\n",
       "      <td>ADM4</td>\n",
       "      <td>Jardim Armação</td>\n",
       "      <td>BRA-Salvador</td>\n",
       "      <td>2022-08-03</td>\n",
       "      <td>MULTIPOLYGON (((-38.43383 -12.98742, -38.43386...</td>\n",
       "      <td>21.087379</td>\n",
       "    </tr>\n",
       "  </tbody>\n",
       "</table>\n",
       "</div>"
      ],
      "text/plain": [
       "                geo_id geo_level        geo_name geo_parent_name  \\\n",
       "0  BRA-Salvador_ADM4_1      ADM4         Pituaçu    BRA-Salvador   \n",
       "1  BRA-Salvador_ADM4_2      ADM4       Patamares    BRA-Salvador   \n",
       "2  BRA-Salvador_ADM4_3      ADM4           Piatã    BRA-Salvador   \n",
       "3  BRA-Salvador_ADM4_4      ADM4     Boca do Rio    BRA-Salvador   \n",
       "4  BRA-Salvador_ADM4_5      ADM4  Jardim Armação    BRA-Salvador   \n",
       "\n",
       "  creation_date                                           geometry  \\\n",
       "0    2022-08-03  MULTIPOLYGON (((-38.40125 -12.96457, -38.40126...   \n",
       "1    2022-08-03  MULTIPOLYGON (((-38.39898 -12.96269, -38.39898...   \n",
       "2    2022-08-03  MULTIPOLYGON (((-38.37346 -12.93345, -38.37386...   \n",
       "3    2022-08-03  MULTIPOLYGON (((-38.41741 -12.97578, -38.41746...   \n",
       "4    2022-08-03  MULTIPOLYGON (((-38.43383 -12.98742, -38.43386...   \n",
       "\n",
       "   mean_tree_cover  \n",
       "0        52.392370  \n",
       "1        43.309331  \n",
       "2        27.407306  \n",
       "3        15.772191  \n",
       "4        21.087379  "
      ]
     },
     "execution_count": 42,
     "metadata": {},
     "output_type": "execute_result"
    }
   ],
   "source": [
    "%%time\n",
    "\n",
    "# for sub geographies\n",
    "city_gdf_sub[\"mean_tree_cover\"] = mean_tree_cover(city_gdf_sub) \n",
    "city_gdf_sub.head()"
   ]
  },
  {
   "cell_type": "code",
   "execution_count": 45,
   "id": "509517ea-8bc1-4cf6-9b4e-03113ae75545",
   "metadata": {},
   "outputs": [
    {
     "data": {
      "text/html": [
       "<div>\n",
       "<style scoped>\n",
       "    .dataframe tbody tr th:only-of-type {\n",
       "        vertical-align: middle;\n",
       "    }\n",
       "\n",
       "    .dataframe tbody tr th {\n",
       "        vertical-align: top;\n",
       "    }\n",
       "\n",
       "    .dataframe thead th {\n",
       "        text-align: right;\n",
       "    }\n",
       "</style>\n",
       "<table border=\"1\" class=\"dataframe\">\n",
       "  <thead>\n",
       "    <tr style=\"text-align: right;\">\n",
       "      <th></th>\n",
       "      <th>geo_id</th>\n",
       "      <th>geo_level</th>\n",
       "      <th>geo_name</th>\n",
       "      <th>geo_parent_name</th>\n",
       "      <th>creation_date</th>\n",
       "      <th>geometry</th>\n",
       "    </tr>\n",
       "  </thead>\n",
       "  <tbody>\n",
       "    <tr>\n",
       "      <th>0</th>\n",
       "      <td>BRA-Salvador_ADM4-union_1</td>\n",
       "      <td>ADM4-union</td>\n",
       "      <td>BRA-Salvador</td>\n",
       "      <td>BRA-Salvador</td>\n",
       "      <td>2022-08-03</td>\n",
       "      <td>MULTIPOLYGON (((-38.50135 -13.01134, -38.50140...</td>\n",
       "    </tr>\n",
       "    <tr>\n",
       "      <th>0</th>\n",
       "      <td>IDN-Jakarta_ADM-4-union_1</td>\n",
       "      <td>ADM-4-union</td>\n",
       "      <td>IDN-Jakarta</td>\n",
       "      <td>IDN-Jakarta</td>\n",
       "      <td>2022-06-27</td>\n",
       "      <td>MULTIPOLYGON (((106.78141 -6.31616, 106.78124 ...</td>\n",
       "    </tr>\n",
       "  </tbody>\n",
       "</table>\n",
       "</div>"
      ],
      "text/plain": [
       "                      geo_id    geo_level      geo_name geo_parent_name  \\\n",
       "0  BRA-Salvador_ADM4-union_1   ADM4-union  BRA-Salvador    BRA-Salvador   \n",
       "0  IDN-Jakarta_ADM-4-union_1  ADM-4-union   IDN-Jakarta     IDN-Jakarta   \n",
       "\n",
       "  creation_date                                           geometry  \n",
       "0    2022-08-03  MULTIPOLYGON (((-38.50135 -13.01134, -38.50140...  \n",
       "0    2022-06-27  MULTIPOLYGON (((106.78141 -6.31616, 106.78124 ...  "
      ]
     },
     "execution_count": 45,
     "metadata": {},
     "output_type": "execute_result"
    }
   ],
   "source": [
    "# Calculate indicator for multiple regions of interest\n",
    "\n",
    "boundary_path = 'https://cities-indicators.s3.eu-west-3.amazonaws.com/data/boundaries/boundary-BRA-Salvador-ADM4union.geojson'\n",
    "city_Salvador = gpd.read_file(boundary_path, driver='GeoJSON')\n",
    "\n",
    "boundary_path = 'https://cities-indicators.s3.eu-west-3.amazonaws.com/data/boundaries/boundary-IDN-Jakarta-ADM4union.geojson'\n",
    "city_Jakarta = gpd.read_file(boundary_path, driver='GeoJSON')\n",
    "\n",
    "cities = pd.concat([city_Salvador, city_Jakarta])\n",
    "cities"
   ]
  },
  {
   "cell_type": "code",
   "execution_count": 46,
   "id": "6719740e-d4ec-4705-86f6-e3e72717d6bd",
   "metadata": {},
   "outputs": [
    {
     "name": "stderr",
     "output_type": "stream",
     "text": [
      "C:\\Users\\Saif.Shabou\\anaconda3\\lib\\site-packages\\xee\\ext.py:549: UserWarning: Unable to retrieve 'system:time_start' values from an ImageCollection due to: No 'system:time_start' values found in the 'ImageCollection'.\n",
      "  warnings.warn(\n"
     ]
    },
    {
     "ename": "EEException",
     "evalue": "Pixel grid dimensions (1831980x1) must be less than or equal to 32768.",
     "output_type": "error",
     "traceback": [
      "\u001b[1;31m---------------------------------------------------------------------------\u001b[0m",
      "\u001b[1;31mHttpError\u001b[0m                                 Traceback (most recent call last)",
      "File \u001b[1;32m~\\anaconda3\\lib\\site-packages\\ee\\data.py:371\u001b[0m, in \u001b[0;36m_execute_cloud_call\u001b[1;34m(call, num_retries)\u001b[0m\n\u001b[0;32m    370\u001b[0m \u001b[38;5;28;01mtry\u001b[39;00m:\n\u001b[1;32m--> 371\u001b[0m   \u001b[38;5;28;01mreturn\u001b[39;00m \u001b[43mcall\u001b[49m\u001b[38;5;241;43m.\u001b[39;49m\u001b[43mexecute\u001b[49m\u001b[43m(\u001b[49m\u001b[43mnum_retries\u001b[49m\u001b[38;5;241;43m=\u001b[39;49m\u001b[43mnum_retries\u001b[49m\u001b[43m)\u001b[49m\n\u001b[0;32m    372\u001b[0m \u001b[38;5;28;01mexcept\u001b[39;00m googleapiclient\u001b[38;5;241m.\u001b[39merrors\u001b[38;5;241m.\u001b[39mHttpError \u001b[38;5;28;01mas\u001b[39;00m e:\n",
      "File \u001b[1;32m~\\anaconda3\\lib\\site-packages\\googleapiclient\\_helpers.py:134\u001b[0m, in \u001b[0;36mpositional.<locals>.positional_decorator.<locals>.positional_wrapper\u001b[1;34m(*args, **kwargs)\u001b[0m\n\u001b[0;32m    133\u001b[0m         logger\u001b[38;5;241m.\u001b[39mwarning(message)\n\u001b[1;32m--> 134\u001b[0m \u001b[38;5;28;01mreturn\u001b[39;00m wrapped(\u001b[38;5;241m*\u001b[39margs, \u001b[38;5;241m*\u001b[39m\u001b[38;5;241m*\u001b[39mkwargs)\n",
      "File \u001b[1;32m~\\anaconda3\\lib\\site-packages\\googleapiclient\\http.py:915\u001b[0m, in \u001b[0;36mHttpRequest.execute\u001b[1;34m(self, http, num_retries)\u001b[0m\n\u001b[0;32m    914\u001b[0m \u001b[38;5;28;01mif\u001b[39;00m resp\u001b[38;5;241m.\u001b[39mstatus \u001b[38;5;241m>\u001b[39m\u001b[38;5;241m=\u001b[39m \u001b[38;5;241m300\u001b[39m:\n\u001b[1;32m--> 915\u001b[0m     \u001b[38;5;28;01mraise\u001b[39;00m HttpError(resp, content, uri\u001b[38;5;241m=\u001b[39m\u001b[38;5;28mself\u001b[39m\u001b[38;5;241m.\u001b[39muri)\n\u001b[0;32m    916\u001b[0m \u001b[38;5;28;01mreturn\u001b[39;00m \u001b[38;5;28mself\u001b[39m\u001b[38;5;241m.\u001b[39mpostproc(resp, content)\n",
      "\u001b[1;31mHttpError\u001b[0m: <HttpError 400 when requesting https://earthengine-highvolume.googleapis.com/v1/projects/earthengine-legacy/image:computePixels? returned \"Pixel grid dimensions (1831980x1) must be less than or equal to 32768.\". Details: \"Pixel grid dimensions (1831980x1) must be less than or equal to 32768.\">",
      "\nDuring handling of the above exception, another exception occurred:\n",
      "\u001b[1;31mEEException\u001b[0m                               Traceback (most recent call last)",
      "File \u001b[1;32m<timed exec>:1\u001b[0m, in \u001b[0;36m<module>\u001b[1;34m\u001b[0m\n",
      "File \u001b[1;32m~\\OneDrive - World Resources Institute\\Documents\\cities-indicators-framework\\citymetrix\\cities-cif\\city_metrix\\metrics.py:32\u001b[0m, in \u001b[0;36mmean_tree_cover\u001b[1;34m(zones)\u001b[0m\n\u001b[0;32m     26\u001b[0m \u001b[38;5;28;01mdef\u001b[39;00m \u001b[38;5;21mmean_tree_cover\u001b[39m(zones: GeoDataFrame):\n\u001b[0;32m     27\u001b[0m \u001b[38;5;250m    \u001b[39m\u001b[38;5;124;03m\"\"\"\u001b[39;00m\n\u001b[0;32m     28\u001b[0m \u001b[38;5;124;03m    Get mean tree cover (WRI tropical tree cover).\u001b[39;00m\n\u001b[0;32m     29\u001b[0m \u001b[38;5;124;03m    :param zones: GeoDataFrame with geometries to collect zonal stats on\u001b[39;00m\n\u001b[0;32m     30\u001b[0m \u001b[38;5;124;03m    :return: Pandas Series of percentages\u001b[39;00m\n\u001b[0;32m     31\u001b[0m \u001b[38;5;124;03m    \"\"\"\u001b[39;00m\n\u001b[1;32m---> 32\u001b[0m     \u001b[38;5;28;01mreturn\u001b[39;00m \u001b[43mTreeCover\u001b[49m\u001b[43m(\u001b[49m\u001b[43m)\u001b[49m\u001b[38;5;241;43m.\u001b[39;49m\u001b[43mgroupby\u001b[49m\u001b[43m(\u001b[49m\u001b[43mzones\u001b[49m\u001b[43m)\u001b[49m\u001b[38;5;241;43m.\u001b[39;49m\u001b[43mmean\u001b[49m\u001b[43m(\u001b[49m\u001b[43m)\u001b[49m\n",
      "File \u001b[1;32m~\\OneDrive - World Resources Institute\\Documents\\cities-indicators-framework\\citymetrix\\cities-cif\\city_metrix\\layers\\layer.py:56\u001b[0m, in \u001b[0;36mLayerGroupBy.mean\u001b[1;34m(self)\u001b[0m\n\u001b[0;32m     55\u001b[0m \u001b[38;5;28;01mdef\u001b[39;00m \u001b[38;5;21mmean\u001b[39m(\u001b[38;5;28mself\u001b[39m):\n\u001b[1;32m---> 56\u001b[0m     \u001b[38;5;28;01mreturn\u001b[39;00m \u001b[38;5;28;43mself\u001b[39;49m\u001b[38;5;241;43m.\u001b[39;49m\u001b[43m_zonal_stats\u001b[49m\u001b[43m(\u001b[49m\u001b[38;5;124;43m\"\u001b[39;49m\u001b[38;5;124;43mmean\u001b[39;49m\u001b[38;5;124;43m\"\u001b[39;49m\u001b[43m)\u001b[49m\n",
      "File \u001b[1;32m~\\OneDrive - World Resources Institute\\Documents\\cities-indicators-framework\\citymetrix\\cities-cif\\city_metrix\\layers\\layer.py:64\u001b[0m, in \u001b[0;36mLayerGroupBy._zonal_stats\u001b[1;34m(self, stats_func)\u001b[0m\n\u001b[0;32m     61\u001b[0m \u001b[38;5;28;01mdef\u001b[39;00m \u001b[38;5;21m_zonal_stats\u001b[39m(\u001b[38;5;28mself\u001b[39m, stats_func):\n\u001b[0;32m     62\u001b[0m     bbox \u001b[38;5;241m=\u001b[39m \u001b[38;5;28mself\u001b[39m\u001b[38;5;241m.\u001b[39mzones\u001b[38;5;241m.\u001b[39mtotal_bounds\n\u001b[1;32m---> 64\u001b[0m     aggregate_data \u001b[38;5;241m=\u001b[39m \u001b[38;5;28;43mself\u001b[39;49m\u001b[38;5;241;43m.\u001b[39;49m\u001b[43maggregate\u001b[49m\u001b[38;5;241;43m.\u001b[39;49m\u001b[43mget_data\u001b[49m\u001b[43m(\u001b[49m\u001b[43mbbox\u001b[49m\u001b[43m)\u001b[49m\n\u001b[0;32m     65\u001b[0m     mask_datum \u001b[38;5;241m=\u001b[39m [mask\u001b[38;5;241m.\u001b[39mget_data(bbox) \u001b[38;5;28;01mfor\u001b[39;00m mask \u001b[38;5;129;01min\u001b[39;00m \u001b[38;5;28mself\u001b[39m\u001b[38;5;241m.\u001b[39mmasks]\n\u001b[0;32m     67\u001b[0m     \u001b[38;5;66;03m# align to highest resolution raster, which should be the largest raster\u001b[39;00m\n\u001b[0;32m     68\u001b[0m     \u001b[38;5;66;03m# since all are clipped to the extent\u001b[39;00m\n",
      "File \u001b[1;32m~\\OneDrive - World Resources Institute\\Documents\\cities-indicators-framework\\citymetrix\\cities-cif\\city_metrix\\layers\\tree_cover.py:27\u001b[0m, in \u001b[0;36mTreeCover.get_data\u001b[1;34m(self, bbox)\u001b[0m\n\u001b[0;32m     24\u001b[0m ttc_image \u001b[38;5;241m=\u001b[39m merged_ttc\u001b[38;5;241m.\u001b[39mreduce(ee\u001b[38;5;241m.\u001b[39mReducer\u001b[38;5;241m.\u001b[39mmean())\u001b[38;5;241m.\u001b[39mrename(\u001b[38;5;124m'\u001b[39m\u001b[38;5;124mttc\u001b[39m\u001b[38;5;124m'\u001b[39m)\n\u001b[0;32m     25\u001b[0m crs \u001b[38;5;241m=\u001b[39m get_utm_zone_epsg(bbox)\n\u001b[1;32m---> 27\u001b[0m ds \u001b[38;5;241m=\u001b[39m \u001b[43mxr\u001b[49m\u001b[38;5;241;43m.\u001b[39;49m\u001b[43mopen_dataset\u001b[49m\u001b[43m(\u001b[49m\n\u001b[0;32m     28\u001b[0m \u001b[43m    \u001b[49m\u001b[43mee\u001b[49m\u001b[38;5;241;43m.\u001b[39;49m\u001b[43mImageCollection\u001b[49m\u001b[43m(\u001b[49m\u001b[43mttc_image\u001b[49m\u001b[43m)\u001b[49m\u001b[43m,\u001b[49m\n\u001b[0;32m     29\u001b[0m \u001b[43m    \u001b[49m\u001b[43mengine\u001b[49m\u001b[38;5;241;43m=\u001b[39;49m\u001b[38;5;124;43m'\u001b[39;49m\u001b[38;5;124;43mee\u001b[39;49m\u001b[38;5;124;43m'\u001b[39;49m\u001b[43m,\u001b[49m\n\u001b[0;32m     30\u001b[0m \u001b[43m    \u001b[49m\u001b[43mscale\u001b[49m\u001b[38;5;241;43m=\u001b[39;49m\u001b[38;5;241;43m10\u001b[39;49m\u001b[43m,\u001b[49m\n\u001b[0;32m     31\u001b[0m \u001b[43m    \u001b[49m\u001b[43mcrs\u001b[49m\u001b[38;5;241;43m=\u001b[39;49m\u001b[43mcrs\u001b[49m\u001b[43m,\u001b[49m\n\u001b[0;32m     32\u001b[0m \u001b[43m    \u001b[49m\u001b[43mgeometry\u001b[49m\u001b[38;5;241;43m=\u001b[39;49m\u001b[43mee\u001b[49m\u001b[38;5;241;43m.\u001b[39;49m\u001b[43mGeometry\u001b[49m\u001b[38;5;241;43m.\u001b[39;49m\u001b[43mRectangle\u001b[49m\u001b[43m(\u001b[49m\u001b[38;5;241;43m*\u001b[39;49m\u001b[43mbbox\u001b[49m\u001b[43m)\u001b[49m\n\u001b[0;32m     33\u001b[0m \u001b[43m\u001b[49m\u001b[43m)\u001b[49m\n\u001b[0;32m     35\u001b[0m data \u001b[38;5;241m=\u001b[39m ds\u001b[38;5;241m.\u001b[39mttc\u001b[38;5;241m.\u001b[39mcompute()\n\u001b[0;32m     37\u001b[0m data \u001b[38;5;241m=\u001b[39m data\u001b[38;5;241m.\u001b[39mwhere(data \u001b[38;5;241m!=\u001b[39m \u001b[38;5;28mself\u001b[39m\u001b[38;5;241m.\u001b[39mNO_DATA_VALUE)\n",
      "File \u001b[1;32m~\\anaconda3\\lib\\site-packages\\xarray\\backends\\api.py:495\u001b[0m, in \u001b[0;36mopen_dataset\u001b[1;34m(filename_or_obj, engine, chunks, cache, decode_cf, mask_and_scale, decode_times, decode_timedelta, use_cftime, concat_characters, decode_coords, drop_variables, backend_kwargs, *args, **kwargs)\u001b[0m\n\u001b[0;32m    483\u001b[0m decoders \u001b[38;5;241m=\u001b[39m _resolve_decoders_kwargs(\n\u001b[0;32m    484\u001b[0m     decode_cf,\n\u001b[0;32m    485\u001b[0m     open_backend_dataset_parameters\u001b[38;5;241m=\u001b[39mbackend\u001b[38;5;241m.\u001b[39mopen_dataset_parameters,\n\u001b[1;32m   (...)\u001b[0m\n\u001b[0;32m    491\u001b[0m     decode_coords\u001b[38;5;241m=\u001b[39mdecode_coords,\n\u001b[0;32m    492\u001b[0m )\n\u001b[0;32m    494\u001b[0m overwrite_encoded_chunks \u001b[38;5;241m=\u001b[39m kwargs\u001b[38;5;241m.\u001b[39mpop(\u001b[38;5;124m\"\u001b[39m\u001b[38;5;124moverwrite_encoded_chunks\u001b[39m\u001b[38;5;124m\"\u001b[39m, \u001b[38;5;28;01mNone\u001b[39;00m)\n\u001b[1;32m--> 495\u001b[0m backend_ds \u001b[38;5;241m=\u001b[39m backend\u001b[38;5;241m.\u001b[39mopen_dataset(\n\u001b[0;32m    496\u001b[0m     filename_or_obj,\n\u001b[0;32m    497\u001b[0m     drop_variables\u001b[38;5;241m=\u001b[39mdrop_variables,\n\u001b[0;32m    498\u001b[0m     \u001b[38;5;241m*\u001b[39m\u001b[38;5;241m*\u001b[39mdecoders,\n\u001b[0;32m    499\u001b[0m     \u001b[38;5;241m*\u001b[39m\u001b[38;5;241m*\u001b[39mkwargs,\n\u001b[0;32m    500\u001b[0m )\n\u001b[0;32m    501\u001b[0m ds \u001b[38;5;241m=\u001b[39m _dataset_from_backend_dataset(\n\u001b[0;32m    502\u001b[0m     backend_ds,\n\u001b[0;32m    503\u001b[0m     filename_or_obj,\n\u001b[1;32m   (...)\u001b[0m\n\u001b[0;32m    510\u001b[0m     \u001b[38;5;241m*\u001b[39m\u001b[38;5;241m*\u001b[39mkwargs,\n\u001b[0;32m    511\u001b[0m )\n\u001b[0;32m    512\u001b[0m \u001b[38;5;28;01mreturn\u001b[39;00m ds\n",
      "File \u001b[1;32m~\\anaconda3\\lib\\site-packages\\xee\\ext.py:952\u001b[0m, in \u001b[0;36mEarthEngineBackendEntrypoint.open_dataset\u001b[1;34m(self, filename_or_obj, drop_variables, io_chunks, n_images, mask_and_scale, decode_times, decode_timedelta, use_cftime, concat_characters, decode_coords, crs, scale, projection, geometry, primary_dim_name, primary_dim_property, ee_mask_value, request_byte_limit)\u001b[0m\n\u001b[0;32m    949\u001b[0m store_entrypoint \u001b[38;5;241m=\u001b[39m backends_store\u001b[38;5;241m.\u001b[39mStoreBackendEntrypoint()\n\u001b[0;32m    951\u001b[0m \u001b[38;5;28;01mwith\u001b[39;00m utils\u001b[38;5;241m.\u001b[39mclose_on_error(store):\n\u001b[1;32m--> 952\u001b[0m   ds \u001b[38;5;241m=\u001b[39m \u001b[43mstore_entrypoint\u001b[49m\u001b[38;5;241;43m.\u001b[39;49m\u001b[43mopen_dataset\u001b[49m\u001b[43m(\u001b[49m\n\u001b[0;32m    953\u001b[0m \u001b[43m      \u001b[49m\u001b[43mstore\u001b[49m\u001b[43m,\u001b[49m\n\u001b[0;32m    954\u001b[0m \u001b[43m      \u001b[49m\u001b[43mmask_and_scale\u001b[49m\u001b[38;5;241;43m=\u001b[39;49m\u001b[43mmask_and_scale\u001b[49m\u001b[43m,\u001b[49m\n\u001b[0;32m    955\u001b[0m \u001b[43m      \u001b[49m\u001b[43mdecode_times\u001b[49m\u001b[38;5;241;43m=\u001b[39;49m\u001b[43mdecode_times\u001b[49m\u001b[43m,\u001b[49m\n\u001b[0;32m    956\u001b[0m \u001b[43m      \u001b[49m\u001b[43mconcat_characters\u001b[49m\u001b[38;5;241;43m=\u001b[39;49m\u001b[43mconcat_characters\u001b[49m\u001b[43m,\u001b[49m\n\u001b[0;32m    957\u001b[0m \u001b[43m      \u001b[49m\u001b[43mdecode_coords\u001b[49m\u001b[38;5;241;43m=\u001b[39;49m\u001b[43mdecode_coords\u001b[49m\u001b[43m,\u001b[49m\n\u001b[0;32m    958\u001b[0m \u001b[43m      \u001b[49m\u001b[43mdrop_variables\u001b[49m\u001b[38;5;241;43m=\u001b[39;49m\u001b[43mdrop_variables\u001b[49m\u001b[43m,\u001b[49m\n\u001b[0;32m    959\u001b[0m \u001b[43m      \u001b[49m\u001b[43muse_cftime\u001b[49m\u001b[38;5;241;43m=\u001b[39;49m\u001b[43muse_cftime\u001b[49m\u001b[43m,\u001b[49m\n\u001b[0;32m    960\u001b[0m \u001b[43m      \u001b[49m\u001b[43mdecode_timedelta\u001b[49m\u001b[38;5;241;43m=\u001b[39;49m\u001b[43mdecode_timedelta\u001b[49m\u001b[43m,\u001b[49m\n\u001b[0;32m    961\u001b[0m \u001b[43m  \u001b[49m\u001b[43m)\u001b[49m\n\u001b[0;32m    963\u001b[0m \u001b[38;5;28;01mreturn\u001b[39;00m ds\n",
      "File \u001b[1;32m~\\anaconda3\\lib\\site-packages\\xarray\\backends\\store.py:24\u001b[0m, in \u001b[0;36mStoreBackendEntrypoint.open_dataset\u001b[1;34m(self, store, mask_and_scale, decode_times, concat_characters, decode_coords, drop_variables, use_cftime, decode_timedelta)\u001b[0m\n\u001b[0;32m     12\u001b[0m \u001b[38;5;28;01mdef\u001b[39;00m \u001b[38;5;21mopen_dataset\u001b[39m(\n\u001b[0;32m     13\u001b[0m     \u001b[38;5;28mself\u001b[39m,\n\u001b[0;32m     14\u001b[0m     store,\n\u001b[1;32m   (...)\u001b[0m\n\u001b[0;32m     22\u001b[0m     decode_timedelta\u001b[38;5;241m=\u001b[39m\u001b[38;5;28;01mNone\u001b[39;00m,\n\u001b[0;32m     23\u001b[0m ):\n\u001b[1;32m---> 24\u001b[0m     \u001b[38;5;28mvars\u001b[39m, attrs \u001b[38;5;241m=\u001b[39m \u001b[43mstore\u001b[49m\u001b[38;5;241;43m.\u001b[39;49m\u001b[43mload\u001b[49m\u001b[43m(\u001b[49m\u001b[43m)\u001b[49m\n\u001b[0;32m     25\u001b[0m     encoding \u001b[38;5;241m=\u001b[39m store\u001b[38;5;241m.\u001b[39mget_encoding()\n\u001b[0;32m     27\u001b[0m     \u001b[38;5;28mvars\u001b[39m, attrs, coord_names \u001b[38;5;241m=\u001b[39m conventions\u001b[38;5;241m.\u001b[39mdecode_cf_variables(\n\u001b[0;32m     28\u001b[0m         \u001b[38;5;28mvars\u001b[39m,\n\u001b[0;32m     29\u001b[0m         attrs,\n\u001b[1;32m   (...)\u001b[0m\n\u001b[0;32m     36\u001b[0m         decode_timedelta\u001b[38;5;241m=\u001b[39mdecode_timedelta,\n\u001b[0;32m     37\u001b[0m     )\n",
      "File \u001b[1;32m~\\anaconda3\\lib\\site-packages\\xarray\\backends\\common.py:123\u001b[0m, in \u001b[0;36mAbstractDataStore.load\u001b[1;34m(self)\u001b[0m\n\u001b[0;32m    101\u001b[0m \u001b[38;5;28;01mdef\u001b[39;00m \u001b[38;5;21mload\u001b[39m(\u001b[38;5;28mself\u001b[39m):\n\u001b[0;32m    102\u001b[0m \u001b[38;5;250m    \u001b[39m\u001b[38;5;124;03m\"\"\"\u001b[39;00m\n\u001b[0;32m    103\u001b[0m \u001b[38;5;124;03m    This loads the variables and attributes simultaneously.\u001b[39;00m\n\u001b[0;32m    104\u001b[0m \u001b[38;5;124;03m    A centralized loading function makes it easier to create\u001b[39;00m\n\u001b[1;32m   (...)\u001b[0m\n\u001b[0;32m    120\u001b[0m \u001b[38;5;124;03m    are requested, so care should be taken to make sure its fast.\u001b[39;00m\n\u001b[0;32m    121\u001b[0m \u001b[38;5;124;03m    \"\"\"\u001b[39;00m\n\u001b[0;32m    122\u001b[0m     variables \u001b[38;5;241m=\u001b[39m FrozenDict(\n\u001b[1;32m--> 123\u001b[0m         (_decode_variable_name(k), v) \u001b[38;5;28;01mfor\u001b[39;00m k, v \u001b[38;5;129;01min\u001b[39;00m \u001b[38;5;28;43mself\u001b[39;49m\u001b[38;5;241;43m.\u001b[39;49m\u001b[43mget_variables\u001b[49m\u001b[43m(\u001b[49m\u001b[43m)\u001b[49m\u001b[38;5;241m.\u001b[39mitems()\n\u001b[0;32m    124\u001b[0m     )\n\u001b[0;32m    125\u001b[0m     attributes \u001b[38;5;241m=\u001b[39m FrozenDict(\u001b[38;5;28mself\u001b[39m\u001b[38;5;241m.\u001b[39mget_attrs())\n\u001b[0;32m    126\u001b[0m     \u001b[38;5;28;01mreturn\u001b[39;00m variables, attributes\n",
      "File \u001b[1;32m~\\anaconda3\\lib\\site-packages\\xee\\ext.py:557\u001b[0m, in \u001b[0;36mEarthEngineStore.get_variables\u001b[1;34m(self)\u001b[0m\n\u001b[0;32m    555\u001b[0m lon_grid \u001b[38;5;241m=\u001b[39m \u001b[38;5;28mself\u001b[39m\u001b[38;5;241m.\u001b[39mproject((\u001b[38;5;241m0\u001b[39m, \u001b[38;5;241m0\u001b[39m, v0\u001b[38;5;241m.\u001b[39mshape[\u001b[38;5;241m1\u001b[39m], \u001b[38;5;241m1\u001b[39m))\n\u001b[0;32m    556\u001b[0m lat_grid \u001b[38;5;241m=\u001b[39m \u001b[38;5;28mself\u001b[39m\u001b[38;5;241m.\u001b[39mproject((\u001b[38;5;241m0\u001b[39m, \u001b[38;5;241m0\u001b[39m, \u001b[38;5;241m1\u001b[39m, v0\u001b[38;5;241m.\u001b[39mshape[\u001b[38;5;241m2\u001b[39m]))\n\u001b[1;32m--> 557\u001b[0m lon \u001b[38;5;241m=\u001b[39m \u001b[38;5;28;43mself\u001b[39;49m\u001b[38;5;241;43m.\u001b[39;49m\u001b[43mimage_to_array\u001b[49m\u001b[43m(\u001b[49m\n\u001b[0;32m    558\u001b[0m \u001b[43m    \u001b[49m\u001b[43mlnglat_img\u001b[49m\u001b[43m,\u001b[49m\u001b[43m \u001b[49m\u001b[43mgrid\u001b[49m\u001b[38;5;241;43m=\u001b[39;49m\u001b[43mlon_grid\u001b[49m\u001b[43m,\u001b[49m\u001b[43m \u001b[49m\u001b[43mdtype\u001b[49m\u001b[38;5;241;43m=\u001b[39;49m\u001b[43mnp\u001b[49m\u001b[38;5;241;43m.\u001b[39;49m\u001b[43mfloat32\u001b[49m\u001b[43m,\u001b[49m\u001b[43m \u001b[49m\u001b[43mbandIds\u001b[49m\u001b[38;5;241;43m=\u001b[39;49m\u001b[43m[\u001b[49m\u001b[38;5;124;43m'\u001b[39;49m\u001b[38;5;124;43mlongitude\u001b[39;49m\u001b[38;5;124;43m'\u001b[39;49m\u001b[43m]\u001b[49m\n\u001b[0;32m    559\u001b[0m \u001b[43m\u001b[49m\u001b[43m)\u001b[49m\n\u001b[0;32m    560\u001b[0m lat \u001b[38;5;241m=\u001b[39m \u001b[38;5;28mself\u001b[39m\u001b[38;5;241m.\u001b[39mimage_to_array(\n\u001b[0;32m    561\u001b[0m     lnglat_img, grid\u001b[38;5;241m=\u001b[39mlat_grid, dtype\u001b[38;5;241m=\u001b[39mnp\u001b[38;5;241m.\u001b[39mfloat32, bandIds\u001b[38;5;241m=\u001b[39m[\u001b[38;5;124m'\u001b[39m\u001b[38;5;124mlatitude\u001b[39m\u001b[38;5;124m'\u001b[39m]\n\u001b[0;32m    562\u001b[0m )\n\u001b[0;32m    563\u001b[0m width_coord \u001b[38;5;241m=\u001b[39m np\u001b[38;5;241m.\u001b[39msqueeze(lon)\n",
      "File \u001b[1;32m~\\anaconda3\\lib\\site-packages\\xee\\ext.py:460\u001b[0m, in \u001b[0;36mEarthEngineStore.image_to_array\u001b[1;34m(self, image, pixels_getter, dtype, **kwargs)\u001b[0m\n\u001b[0;32m    454\u001b[0m image \u001b[38;5;241m=\u001b[39m image\u001b[38;5;241m.\u001b[39munmask(\u001b[38;5;28mself\u001b[39m\u001b[38;5;241m.\u001b[39mmask_value)\n\u001b[0;32m    455\u001b[0m params \u001b[38;5;241m=\u001b[39m {\n\u001b[0;32m    456\u001b[0m     \u001b[38;5;124m'\u001b[39m\u001b[38;5;124mexpression\u001b[39m\u001b[38;5;124m'\u001b[39m: image,\n\u001b[0;32m    457\u001b[0m     \u001b[38;5;124m'\u001b[39m\u001b[38;5;124mfileFormat\u001b[39m\u001b[38;5;124m'\u001b[39m: \u001b[38;5;124m'\u001b[39m\u001b[38;5;124mNUMPY_NDARRAY\u001b[39m\u001b[38;5;124m'\u001b[39m,\n\u001b[0;32m    458\u001b[0m     \u001b[38;5;241m*\u001b[39m\u001b[38;5;241m*\u001b[39mkwargs,\n\u001b[0;32m    459\u001b[0m }\n\u001b[1;32m--> 460\u001b[0m raw \u001b[38;5;241m=\u001b[39m \u001b[43mcommon\u001b[49m\u001b[38;5;241;43m.\u001b[39;49m\u001b[43mrobust_getitem\u001b[49m\u001b[43m(\u001b[49m\n\u001b[0;32m    461\u001b[0m \u001b[43m    \u001b[49m\u001b[43mpixels_getter\u001b[49m\u001b[43m,\u001b[49m\u001b[43m \u001b[49m\u001b[43mparams\u001b[49m\u001b[43m,\u001b[49m\u001b[43m \u001b[49m\u001b[43mcatch\u001b[49m\u001b[38;5;241;43m=\u001b[39;49m\u001b[43mee\u001b[49m\u001b[38;5;241;43m.\u001b[39;49m\u001b[43mee_exception\u001b[49m\u001b[38;5;241;43m.\u001b[39;49m\u001b[43mEEException\u001b[49m\n\u001b[0;32m    462\u001b[0m \u001b[43m\u001b[49m\u001b[43m)\u001b[49m\n\u001b[0;32m    464\u001b[0m \u001b[38;5;66;03m# TODO(#9): Find a way to make this more efficient. This is needed because\u001b[39;00m\n\u001b[0;32m    465\u001b[0m \u001b[38;5;66;03m# `raw` is a structured array of all the same dtype (i.e. number of images).\u001b[39;00m\n\u001b[0;32m    466\u001b[0m arr \u001b[38;5;241m=\u001b[39m np\u001b[38;5;241m.\u001b[39marray(raw\u001b[38;5;241m.\u001b[39mtolist(), dtype\u001b[38;5;241m=\u001b[39mdtype)\n",
      "File \u001b[1;32m~\\anaconda3\\lib\\site-packages\\xarray\\backends\\common.py:64\u001b[0m, in \u001b[0;36mrobust_getitem\u001b[1;34m(array, key, catch, max_retries, initial_delay)\u001b[0m\n\u001b[0;32m     62\u001b[0m \u001b[38;5;28;01mfor\u001b[39;00m n \u001b[38;5;129;01min\u001b[39;00m \u001b[38;5;28mrange\u001b[39m(max_retries \u001b[38;5;241m+\u001b[39m \u001b[38;5;241m1\u001b[39m):\n\u001b[0;32m     63\u001b[0m     \u001b[38;5;28;01mtry\u001b[39;00m:\n\u001b[1;32m---> 64\u001b[0m         \u001b[38;5;28;01mreturn\u001b[39;00m \u001b[43marray\u001b[49m\u001b[43m[\u001b[49m\u001b[43mkey\u001b[49m\u001b[43m]\u001b[49m\n\u001b[0;32m     65\u001b[0m     \u001b[38;5;28;01mexcept\u001b[39;00m catch:\n\u001b[0;32m     66\u001b[0m         \u001b[38;5;28;01mif\u001b[39;00m n \u001b[38;5;241m==\u001b[39m max_retries:\n",
      "File \u001b[1;32m~\\anaconda3\\lib\\site-packages\\xee\\ext.py:91\u001b[0m, in \u001b[0;36m_GetComputedPixels.__getitem__\u001b[1;34m(self, params)\u001b[0m\n\u001b[0;32m     90\u001b[0m \u001b[38;5;28;01mdef\u001b[39;00m \u001b[38;5;21m__getitem__\u001b[39m(\u001b[38;5;28mself\u001b[39m, params) \u001b[38;5;241m-\u001b[39m\u001b[38;5;241m>\u001b[39m np\u001b[38;5;241m.\u001b[39mndarray:\n\u001b[1;32m---> 91\u001b[0m   \u001b[38;5;28;01mreturn\u001b[39;00m \u001b[43mee\u001b[49m\u001b[38;5;241;43m.\u001b[39;49m\u001b[43mdata\u001b[49m\u001b[38;5;241;43m.\u001b[39;49m\u001b[43mcomputePixels\u001b[49m\u001b[43m(\u001b[49m\u001b[43mparams\u001b[49m\u001b[43m)\u001b[49m\n",
      "File \u001b[1;32m~\\anaconda3\\lib\\site-packages\\ee\\data.py:897\u001b[0m, in \u001b[0;36mcomputePixels\u001b[1;34m(params)\u001b[0m\n\u001b[0;32m    893\u001b[0m params[\u001b[38;5;124m'\u001b[39m\u001b[38;5;124mfileFormat\u001b[39m\u001b[38;5;124m'\u001b[39m] \u001b[38;5;241m=\u001b[39m _cloud_api_utils\u001b[38;5;241m.\u001b[39mconvert_to_image_file_format(\n\u001b[0;32m    894\u001b[0m     converter\u001b[38;5;241m.\u001b[39mexpected_data_format()\n\u001b[0;32m    895\u001b[0m )\n\u001b[0;32m    896\u001b[0m _maybe_populate_workload_tag(params)\n\u001b[1;32m--> 897\u001b[0m data \u001b[38;5;241m=\u001b[39m \u001b[43m_execute_cloud_call\u001b[49m\u001b[43m(\u001b[49m\n\u001b[0;32m    898\u001b[0m \u001b[43m    \u001b[49m\u001b[43m_get_cloud_projects_raw\u001b[49m\u001b[43m(\u001b[49m\u001b[43m)\u001b[49m\n\u001b[0;32m    899\u001b[0m \u001b[43m    \u001b[49m\u001b[38;5;241;43m.\u001b[39;49m\u001b[43mimage\u001b[49m\u001b[43m(\u001b[49m\u001b[43m)\u001b[49m\n\u001b[0;32m    900\u001b[0m \u001b[43m    \u001b[49m\u001b[38;5;241;43m.\u001b[39;49m\u001b[43mcomputePixels\u001b[49m\u001b[43m(\u001b[49m\u001b[43mproject\u001b[49m\u001b[38;5;241;43m=\u001b[39;49m\u001b[43m_get_projects_path\u001b[49m\u001b[43m(\u001b[49m\u001b[43m)\u001b[49m\u001b[43m,\u001b[49m\u001b[43m \u001b[49m\u001b[43mbody\u001b[49m\u001b[38;5;241;43m=\u001b[39;49m\u001b[43mparams\u001b[49m\u001b[43m)\u001b[49m\n\u001b[0;32m    901\u001b[0m \u001b[43m\u001b[49m\u001b[43m)\u001b[49m\n\u001b[0;32m    902\u001b[0m \u001b[38;5;28;01mif\u001b[39;00m converter:\n\u001b[0;32m    903\u001b[0m   \u001b[38;5;28;01mreturn\u001b[39;00m converter\u001b[38;5;241m.\u001b[39mdo_conversion(data)\n",
      "File \u001b[1;32m~\\anaconda3\\lib\\site-packages\\ee\\data.py:373\u001b[0m, in \u001b[0;36m_execute_cloud_call\u001b[1;34m(call, num_retries)\u001b[0m\n\u001b[0;32m    371\u001b[0m   \u001b[38;5;28;01mreturn\u001b[39;00m call\u001b[38;5;241m.\u001b[39mexecute(num_retries\u001b[38;5;241m=\u001b[39mnum_retries)\n\u001b[0;32m    372\u001b[0m \u001b[38;5;28;01mexcept\u001b[39;00m googleapiclient\u001b[38;5;241m.\u001b[39merrors\u001b[38;5;241m.\u001b[39mHttpError \u001b[38;5;28;01mas\u001b[39;00m e:\n\u001b[1;32m--> 373\u001b[0m   \u001b[38;5;28;01mraise\u001b[39;00m _translate_cloud_exception(e)\n",
      "\u001b[1;31mEEException\u001b[0m: Pixel grid dimensions (1831980x1) must be less than or equal to 32768."
     ]
    }
   ],
   "source": [
    "%%time\n",
    "\n",
    "cities[\"mean_tree_cover\"] = mean_tree_cover(cities) \n",
    "cities.head()"
   ]
  },
  {
   "cell_type": "code",
   "execution_count": null,
   "id": "3c494839-e6ad-4281-86ae-47a565b72a53",
   "metadata": {},
   "outputs": [],
   "source": []
  }
 ],
 "metadata": {
  "kernelspec": {
   "display_name": "Python 3 (ipykernel)",
   "language": "python",
   "name": "python3"
  },
  "language_info": {
   "codemirror_mode": {
    "name": "ipython",
    "version": 3
   },
   "file_extension": ".py",
   "mimetype": "text/x-python",
   "name": "python",
   "nbconvert_exporter": "python",
   "pygments_lexer": "ipython3",
   "version": "3.9.12"
  }
 },
 "nbformat": 4,
 "nbformat_minor": 5
}
