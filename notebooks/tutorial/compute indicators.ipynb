{
 "cells": [
  {
   "cell_type": "markdown",
   "id": "cdd83ce4-8281-496b-a27e-c17527387fec",
   "metadata": {},
   "source": [
    "# Introduction"
   ]
  },
  {
   "cell_type": "markdown",
   "id": "9e3282ba-378a-4272-b6ca-dedf965e4172",
   "metadata": {},
   "source": [
    "This tutorial provides instructions on nhow to use `city_metrix` to calcaulte indicators based on user-specific geometry."
   ]
  },
  {
   "cell_type": "markdown",
   "id": "6f77de84-d7a9-4377-afd5-9cb265112718",
   "metadata": {},
   "source": [
    "Every 'indicator' is defined as separate python function:\n",
    "\n",
    "| Indicator name | function name | Parameters | Method |\n",
    "| ---- | ---- | ---- | ---- |\n",
    "| Average tree cover | `mean_tree_cover()`  | | |\n",
    "| Percent of built land without tree cover | `built_land_without_tree_cover()` | | |"
   ]
  },
  {
   "cell_type": "markdown",
   "id": "48a31f86-c031-4347-be1d-e631ea0f636e",
   "metadata": {
    "tags": []
   },
   "source": [
    "# Setting"
   ]
  },
  {
   "cell_type": "code",
   "execution_count": 1,
   "id": "dcc7a7b9-cf15-442c-acfd-fef1806ad05e",
   "metadata": {},
   "outputs": [],
   "source": [
    "import os\n",
    "import geopandas as gpd\n",
    "from rasterio.plot import show\n",
    "import rasterio\n",
    "import pandas as pd"
   ]
  },
  {
   "cell_type": "code",
   "execution_count": 2,
   "id": "6bcc8215-0c19-45bd-8265-2be0c2a83c6b",
   "metadata": {},
   "outputs": [
    {
     "data": {
      "text/plain": [
       "'/Users/jt/dev/cities-cif'"
      ]
     },
     "execution_count": 2,
     "metadata": {},
     "output_type": "execute_result"
    }
   ],
   "source": [
    "# update the wd path to be able to laod the module\n",
    "os.chdir('../..') \n",
    "os.getcwd()"
   ]
  },
  {
   "cell_type": "code",
   "execution_count": 3,
   "id": "4ce04cdf-634c-4c9c-8d20-1e2a3caffac2",
   "metadata": {},
   "outputs": [],
   "source": [
    "os.environ['GCS_BUCKET']='gee-exports'\n",
    "os.environ['GOOGLE_APPLICATION_USER']='developers@citiesindicators.iam.gserviceaccount.com'\n",
    "os.environ['GOOGLE_APPLICATION_CREDENTIALS']='C:\\\\Users\\Saif.Shabou\\OneDrive - World Resources Institute\\Documents\\cities-indicators-framework\\citymetrix\\credentials-citiesindicators.json'"
   ]
  },
  {
   "cell_type": "markdown",
   "id": "67f86f26-b888-4cc2-b500-47ebe9458609",
   "metadata": {
    "tags": []
   },
   "source": [
    "# Get boundaries"
   ]
  },
  {
   "cell_type": "code",
   "execution_count": 3,
   "id": "acbc5aaa-5f47-44ff-b9ab-b885c06d7424",
   "metadata": {},
   "outputs": [
    {
     "data": {
      "text/html": [
       "<div>\n",
       "<style scoped>\n",
       "    .dataframe tbody tr th:only-of-type {\n",
       "        vertical-align: middle;\n",
       "    }\n",
       "\n",
       "    .dataframe tbody tr th {\n",
       "        vertical-align: top;\n",
       "    }\n",
       "\n",
       "    .dataframe thead th {\n",
       "        text-align: right;\n",
       "    }\n",
       "</style>\n",
       "<table border=\"1\" class=\"dataframe\">\n",
       "  <thead>\n",
       "    <tr style=\"text-align: right;\">\n",
       "      <th></th>\n",
       "      <th>geo_id</th>\n",
       "      <th>geo_level</th>\n",
       "      <th>geo_name</th>\n",
       "      <th>geo_parent_name</th>\n",
       "      <th>creation_date</th>\n",
       "      <th>geometry</th>\n",
       "    </tr>\n",
       "  </thead>\n",
       "  <tbody>\n",
       "    <tr>\n",
       "      <th>0</th>\n",
       "      <td>BRA-Salvador_ADM4-union_1</td>\n",
       "      <td>ADM4-union</td>\n",
       "      <td>BRA-Salvador</td>\n",
       "      <td>BRA-Salvador</td>\n",
       "      <td>2022-08-03</td>\n",
       "      <td>MULTIPOLYGON (((-38.50135 -13.01134, -38.50140...</td>\n",
       "    </tr>\n",
       "  </tbody>\n",
       "</table>\n",
       "</div>"
      ],
      "text/plain": [
       "                      geo_id   geo_level      geo_name geo_parent_name  \\\n",
       "0  BRA-Salvador_ADM4-union_1  ADM4-union  BRA-Salvador    BRA-Salvador   \n",
       "\n",
       "  creation_date                                           geometry  \n",
       "0    2022-08-03  MULTIPOLYGON (((-38.50135 -13.01134, -38.50140...  "
      ]
     },
     "execution_count": 3,
     "metadata": {},
     "output_type": "execute_result"
    }
   ],
   "source": [
    "# load boundary of a region of interest\n",
    "boundary_path = 'https://cities-indicators.s3.eu-west-3.amazonaws.com/data/boundaries/boundary-BRA-Salvador-ADM4union.geojson'\n",
    "city_gdf_aoi = gpd.read_file(boundary_path, driver='GeoJSON')\n",
    "city_gdf_aoi.head()"
   ]
  },
  {
   "cell_type": "code",
   "execution_count": 4,
   "id": "7af8657e-feed-42b8-b32a-d4ee5754cd4c",
   "metadata": {},
   "outputs": [
    {
     "data": {
      "text/html": [
       "<div>\n",
       "<style scoped>\n",
       "    .dataframe tbody tr th:only-of-type {\n",
       "        vertical-align: middle;\n",
       "    }\n",
       "\n",
       "    .dataframe tbody tr th {\n",
       "        vertical-align: top;\n",
       "    }\n",
       "\n",
       "    .dataframe thead th {\n",
       "        text-align: right;\n",
       "    }\n",
       "</style>\n",
       "<table border=\"1\" class=\"dataframe\">\n",
       "  <thead>\n",
       "    <tr style=\"text-align: right;\">\n",
       "      <th></th>\n",
       "      <th>geo_id</th>\n",
       "      <th>geo_level</th>\n",
       "      <th>geo_name</th>\n",
       "      <th>geo_parent_name</th>\n",
       "      <th>creation_date</th>\n",
       "      <th>geometry</th>\n",
       "    </tr>\n",
       "  </thead>\n",
       "  <tbody>\n",
       "    <tr>\n",
       "      <th>0</th>\n",
       "      <td>BRA-Salvador_ADM4_1</td>\n",
       "      <td>ADM4</td>\n",
       "      <td>Pituaçu</td>\n",
       "      <td>BRA-Salvador</td>\n",
       "      <td>2022-08-03</td>\n",
       "      <td>MULTIPOLYGON (((-38.40125 -12.96457, -38.40126...</td>\n",
       "    </tr>\n",
       "    <tr>\n",
       "      <th>1</th>\n",
       "      <td>BRA-Salvador_ADM4_2</td>\n",
       "      <td>ADM4</td>\n",
       "      <td>Patamares</td>\n",
       "      <td>BRA-Salvador</td>\n",
       "      <td>2022-08-03</td>\n",
       "      <td>MULTIPOLYGON (((-38.39898 -12.96269, -38.39898...</td>\n",
       "    </tr>\n",
       "    <tr>\n",
       "      <th>2</th>\n",
       "      <td>BRA-Salvador_ADM4_3</td>\n",
       "      <td>ADM4</td>\n",
       "      <td>Piatã</td>\n",
       "      <td>BRA-Salvador</td>\n",
       "      <td>2022-08-03</td>\n",
       "      <td>MULTIPOLYGON (((-38.37346 -12.93345, -38.37386...</td>\n",
       "    </tr>\n",
       "    <tr>\n",
       "      <th>3</th>\n",
       "      <td>BRA-Salvador_ADM4_4</td>\n",
       "      <td>ADM4</td>\n",
       "      <td>Boca do Rio</td>\n",
       "      <td>BRA-Salvador</td>\n",
       "      <td>2022-08-03</td>\n",
       "      <td>MULTIPOLYGON (((-38.41741 -12.97578, -38.41746...</td>\n",
       "    </tr>\n",
       "    <tr>\n",
       "      <th>4</th>\n",
       "      <td>BRA-Salvador_ADM4_5</td>\n",
       "      <td>ADM4</td>\n",
       "      <td>Jardim Armação</td>\n",
       "      <td>BRA-Salvador</td>\n",
       "      <td>2022-08-03</td>\n",
       "      <td>MULTIPOLYGON (((-38.43383 -12.98742, -38.43386...</td>\n",
       "    </tr>\n",
       "  </tbody>\n",
       "</table>\n",
       "</div>"
      ],
      "text/plain": [
       "                geo_id geo_level        geo_name geo_parent_name  \\\n",
       "0  BRA-Salvador_ADM4_1      ADM4         Pituaçu    BRA-Salvador   \n",
       "1  BRA-Salvador_ADM4_2      ADM4       Patamares    BRA-Salvador   \n",
       "2  BRA-Salvador_ADM4_3      ADM4           Piatã    BRA-Salvador   \n",
       "3  BRA-Salvador_ADM4_4      ADM4     Boca do Rio    BRA-Salvador   \n",
       "4  BRA-Salvador_ADM4_5      ADM4  Jardim Armação    BRA-Salvador   \n",
       "\n",
       "  creation_date                                           geometry  \n",
       "0    2022-08-03  MULTIPOLYGON (((-38.40125 -12.96457, -38.40126...  \n",
       "1    2022-08-03  MULTIPOLYGON (((-38.39898 -12.96269, -38.39898...  \n",
       "2    2022-08-03  MULTIPOLYGON (((-38.37346 -12.93345, -38.37386...  \n",
       "3    2022-08-03  MULTIPOLYGON (((-38.41741 -12.97578, -38.41746...  \n",
       "4    2022-08-03  MULTIPOLYGON (((-38.43383 -12.98742, -38.43386...  "
      ]
     },
     "execution_count": 4,
     "metadata": {},
     "output_type": "execute_result"
    }
   ],
   "source": [
    "# load boundary of sub-georgaphy\n",
    "boundary_path = 'https://cities-indicators.s3.eu-west-3.amazonaws.com/data/boundaries/boundary-BRA-Salvador-ADM4.geojson'\n",
    "city_gdf_sub = gpd.read_file(boundary_path, driver='GeoJSON')\n",
    "city_gdf_sub.head()"
   ]
  },
  {
   "cell_type": "markdown",
   "id": "788d5679-2fc5-4025-996c-25af1d35b900",
   "metadata": {
    "tags": []
   },
   "source": [
    "# LND-2 Average Tree Cover"
   ]
  },
  {
   "cell_type": "code",
   "execution_count": 5,
   "id": "8bdaa746-b071-4e9f-8959-c8c57921c73c",
   "metadata": {},
   "outputs": [
    {
     "name": "stdout",
     "output_type": "stream",
     "text": [
      "Authenticating to GEE with configured credentials file.\n"
     ]
    }
   ],
   "source": [
    "from city_metrix.metrics import mean_tree_cover"
   ]
  },
  {
   "cell_type": "code",
   "execution_count": 6,
   "id": "e69f2674-dc78-4098-b423-0686944eabe8",
   "metadata": {},
   "outputs": [],
   "source": [
    "from city_metrix import mean_tree_cover"
   ]
  },
  {
   "cell_type": "markdown",
   "id": "7b71f6e7-9e83-4c88-8a98-9d30958a8dc4",
   "metadata": {},
   "source": [
    "## City level - one city"
   ]
  },
  {
   "cell_type": "code",
   "execution_count": 9,
   "id": "8b85131c",
   "metadata": {},
   "outputs": [
    {
     "name": "stdout",
     "output_type": "stream",
     "text": [
      "Extracting layer tree cover from Google Earth Engine:\n",
      "CPU times: user 6.65 s, sys: 1.12 s, total: 7.77 s\n",
      "Wall time: 12.5 s\n"
     ]
    },
    {
     "data": {
      "text/html": [
       "<div>\n",
       "<style scoped>\n",
       "    .dataframe tbody tr th:only-of-type {\n",
       "        vertical-align: middle;\n",
       "    }\n",
       "\n",
       "    .dataframe tbody tr th {\n",
       "        vertical-align: top;\n",
       "    }\n",
       "\n",
       "    .dataframe thead th {\n",
       "        text-align: right;\n",
       "    }\n",
       "</style>\n",
       "<table border=\"1\" class=\"dataframe\">\n",
       "  <thead>\n",
       "    <tr style=\"text-align: right;\">\n",
       "      <th></th>\n",
       "      <th>geo_id</th>\n",
       "      <th>geo_level</th>\n",
       "      <th>geo_name</th>\n",
       "      <th>geo_parent_name</th>\n",
       "      <th>creation_date</th>\n",
       "      <th>geometry</th>\n",
       "      <th>mean_tree_cover</th>\n",
       "    </tr>\n",
       "  </thead>\n",
       "  <tbody>\n",
       "    <tr>\n",
       "      <th>0</th>\n",
       "      <td>BRA-Salvador_ADM4-union_1</td>\n",
       "      <td>ADM4-union</td>\n",
       "      <td>BRA-Salvador</td>\n",
       "      <td>BRA-Salvador</td>\n",
       "      <td>2022-08-03</td>\n",
       "      <td>MULTIPOLYGON (((-38.50135 -13.01134, -38.50140...</td>\n",
       "      <td>0.283668</td>\n",
       "    </tr>\n",
       "  </tbody>\n",
       "</table>\n",
       "</div>"
      ],
      "text/plain": [
       "                      geo_id   geo_level      geo_name geo_parent_name  \\\n",
       "0  BRA-Salvador_ADM4-union_1  ADM4-union  BRA-Salvador    BRA-Salvador   \n",
       "\n",
       "  creation_date                                           geometry  \\\n",
       "0    2022-08-03  MULTIPOLYGON (((-38.50135 -13.01134, -38.50140...   \n",
       "\n",
       "   mean_tree_cover  \n",
       "0         0.283668  "
      ]
     },
     "execution_count": 9,
     "metadata": {},
     "output_type": "execute_result"
    }
   ],
   "source": [
    "%%time\n",
    "\n",
    "# for one geography\n",
    "city_gdf_aoi[\"mean_tree_cover\"] = mean_tree_cover(city_gdf_aoi) \n",
    "city_gdf_aoi"
   ]
  },
  {
   "cell_type": "markdown",
   "id": "ee63ca6a-a5c5-4ce7-82cd-3a35e52d3cd6",
   "metadata": {},
   "source": [
    "## Sub-city level"
   ]
  },
  {
   "cell_type": "code",
   "execution_count": 8,
   "id": "71349065-4726-4a12-bbb8-1f998562c338",
   "metadata": {},
   "outputs": [
    {
     "name": "stdout",
     "output_type": "stream",
     "text": [
      "Extracting tree cover layer in bbox [-38.6469891  -13.0171475  -38.30455157 -12.75628844]:\n",
      "[########################################] | 100% Completed | 14.55 s\n",
      "CPU times: total: 17.1 s\n",
      "Wall time: 17.8 s\n"
     ]
    },
    {
     "data": {
      "text/html": [
       "<div>\n",
       "<style scoped>\n",
       "    .dataframe tbody tr th:only-of-type {\n",
       "        vertical-align: middle;\n",
       "    }\n",
       "\n",
       "    .dataframe tbody tr th {\n",
       "        vertical-align: top;\n",
       "    }\n",
       "\n",
       "    .dataframe thead th {\n",
       "        text-align: right;\n",
       "    }\n",
       "</style>\n",
       "<table border=\"1\" class=\"dataframe\">\n",
       "  <thead>\n",
       "    <tr style=\"text-align: right;\">\n",
       "      <th></th>\n",
       "      <th>geo_id</th>\n",
       "      <th>geo_level</th>\n",
       "      <th>geo_name</th>\n",
       "      <th>geo_parent_name</th>\n",
       "      <th>creation_date</th>\n",
       "      <th>geometry</th>\n",
       "      <th>mean_tree_cover</th>\n",
       "    </tr>\n",
       "  </thead>\n",
       "  <tbody>\n",
       "    <tr>\n",
       "      <th>0</th>\n",
       "      <td>BRA-Salvador_ADM4_1</td>\n",
       "      <td>ADM4</td>\n",
       "      <td>Pituaçu</td>\n",
       "      <td>BRA-Salvador</td>\n",
       "      <td>2022-08-03</td>\n",
       "      <td>MULTIPOLYGON (((-38.40125 -12.96457, -38.40126...</td>\n",
       "      <td>0.523927</td>\n",
       "    </tr>\n",
       "    <tr>\n",
       "      <th>1</th>\n",
       "      <td>BRA-Salvador_ADM4_2</td>\n",
       "      <td>ADM4</td>\n",
       "      <td>Patamares</td>\n",
       "      <td>BRA-Salvador</td>\n",
       "      <td>2022-08-03</td>\n",
       "      <td>MULTIPOLYGON (((-38.39898 -12.96269, -38.39898...</td>\n",
       "      <td>0.433088</td>\n",
       "    </tr>\n",
       "    <tr>\n",
       "      <th>2</th>\n",
       "      <td>BRA-Salvador_ADM4_3</td>\n",
       "      <td>ADM4</td>\n",
       "      <td>Piatã</td>\n",
       "      <td>BRA-Salvador</td>\n",
       "      <td>2022-08-03</td>\n",
       "      <td>MULTIPOLYGON (((-38.37346 -12.93345, -38.37386...</td>\n",
       "      <td>0.274104</td>\n",
       "    </tr>\n",
       "    <tr>\n",
       "      <th>3</th>\n",
       "      <td>BRA-Salvador_ADM4_4</td>\n",
       "      <td>ADM4</td>\n",
       "      <td>Boca do Rio</td>\n",
       "      <td>BRA-Salvador</td>\n",
       "      <td>2022-08-03</td>\n",
       "      <td>MULTIPOLYGON (((-38.41741 -12.97578, -38.41746...</td>\n",
       "      <td>0.157694</td>\n",
       "    </tr>\n",
       "    <tr>\n",
       "      <th>4</th>\n",
       "      <td>BRA-Salvador_ADM4_5</td>\n",
       "      <td>ADM4</td>\n",
       "      <td>Jardim Armação</td>\n",
       "      <td>BRA-Salvador</td>\n",
       "      <td>2022-08-03</td>\n",
       "      <td>MULTIPOLYGON (((-38.43383 -12.98742, -38.43386...</td>\n",
       "      <td>0.210874</td>\n",
       "    </tr>\n",
       "  </tbody>\n",
       "</table>\n",
       "</div>"
      ],
      "text/plain": [
       "                geo_id geo_level        geo_name geo_parent_name  \\\n",
       "0  BRA-Salvador_ADM4_1      ADM4         Pituaçu    BRA-Salvador   \n",
       "1  BRA-Salvador_ADM4_2      ADM4       Patamares    BRA-Salvador   \n",
       "2  BRA-Salvador_ADM4_3      ADM4           Piatã    BRA-Salvador   \n",
       "3  BRA-Salvador_ADM4_4      ADM4     Boca do Rio    BRA-Salvador   \n",
       "4  BRA-Salvador_ADM4_5      ADM4  Jardim Armação    BRA-Salvador   \n",
       "\n",
       "  creation_date                                           geometry  \\\n",
       "0    2022-08-03  MULTIPOLYGON (((-38.40125 -12.96457, -38.40126...   \n",
       "1    2022-08-03  MULTIPOLYGON (((-38.39898 -12.96269, -38.39898...   \n",
       "2    2022-08-03  MULTIPOLYGON (((-38.37346 -12.93345, -38.37386...   \n",
       "3    2022-08-03  MULTIPOLYGON (((-38.41741 -12.97578, -38.41746...   \n",
       "4    2022-08-03  MULTIPOLYGON (((-38.43383 -12.98742, -38.43386...   \n",
       "\n",
       "   mean_tree_cover  \n",
       "0         0.523927  \n",
       "1         0.433088  \n",
       "2         0.274104  \n",
       "3         0.157694  \n",
       "4         0.210874  "
      ]
     },
     "execution_count": 8,
     "metadata": {},
     "output_type": "execute_result"
    }
   ],
   "source": [
    "%%time\n",
    "\n",
    "# for sub geographies\n",
    "city_gdf_sub[\"mean_tree_cover\"] = mean_tree_cover(city_gdf_sub) \n",
    "city_gdf_sub.head()"
   ]
  },
  {
   "cell_type": "markdown",
   "id": "6580e18f-50b1-499c-adb7-9ed604c33e81",
   "metadata": {},
   "source": [
    "## Multiple cities"
   ]
  },
  {
   "cell_type": "code",
   "execution_count": 9,
   "id": "5006d2d3-6ef0-4460-b127-f72522e94585",
   "metadata": {},
   "outputs": [
    {
     "data": {
      "text/html": [
       "<div>\n",
       "<style scoped>\n",
       "    .dataframe tbody tr th:only-of-type {\n",
       "        vertical-align: middle;\n",
       "    }\n",
       "\n",
       "    .dataframe tbody tr th {\n",
       "        vertical-align: top;\n",
       "    }\n",
       "\n",
       "    .dataframe thead th {\n",
       "        text-align: right;\n",
       "    }\n",
       "</style>\n",
       "<table border=\"1\" class=\"dataframe\">\n",
       "  <thead>\n",
       "    <tr style=\"text-align: right;\">\n",
       "      <th></th>\n",
       "      <th>geo_id</th>\n",
       "      <th>geo_level</th>\n",
       "      <th>geo_name</th>\n",
       "      <th>geo_parent_name</th>\n",
       "      <th>creation_date</th>\n",
       "      <th>geometry</th>\n",
       "    </tr>\n",
       "  </thead>\n",
       "  <tbody>\n",
       "    <tr>\n",
       "      <th>0</th>\n",
       "      <td>BRA-Salvador_ADM4-union_1</td>\n",
       "      <td>ADM4-union</td>\n",
       "      <td>BRA-Salvador</td>\n",
       "      <td>BRA-Salvador</td>\n",
       "      <td>2022-08-03</td>\n",
       "      <td>MULTIPOLYGON (((-38.50135 -13.01134, -38.50140...</td>\n",
       "    </tr>\n",
       "    <tr>\n",
       "      <th>1</th>\n",
       "      <td>IDN-Jakarta_ADM-4-union_1</td>\n",
       "      <td>ADM-4-union</td>\n",
       "      <td>IDN-Jakarta</td>\n",
       "      <td>IDN-Jakarta</td>\n",
       "      <td>2022-06-27</td>\n",
       "      <td>MULTIPOLYGON (((106.78141 -6.31616, 106.78124 ...</td>\n",
       "    </tr>\n",
       "  </tbody>\n",
       "</table>\n",
       "</div>"
      ],
      "text/plain": [
       "                      geo_id    geo_level      geo_name geo_parent_name  \\\n",
       "0  BRA-Salvador_ADM4-union_1   ADM4-union  BRA-Salvador    BRA-Salvador   \n",
       "1  IDN-Jakarta_ADM-4-union_1  ADM-4-union   IDN-Jakarta     IDN-Jakarta   \n",
       "\n",
       "  creation_date                                           geometry  \n",
       "0    2022-08-03  MULTIPOLYGON (((-38.50135 -13.01134, -38.50140...  \n",
       "1    2022-06-27  MULTIPOLYGON (((106.78141 -6.31616, 106.78124 ...  "
      ]
     },
     "execution_count": 9,
     "metadata": {},
     "output_type": "execute_result"
    }
   ],
   "source": [
    "# Calculate indicator for multiple regions of interest\n",
    "\n",
    "boundary_path = 'https://cities-indicators.s3.eu-west-3.amazonaws.com/data/boundaries/boundary-BRA-Salvador-ADM4union.geojson'\n",
    "city_Salvador = gpd.read_file(boundary_path, driver='GeoJSON')\n",
    "\n",
    "boundary_path = 'https://cities-indicators.s3.eu-west-3.amazonaws.com/data/boundaries/boundary-IDN-Jakarta-ADM4union.geojson'\n",
    "city_Jakarta = gpd.read_file(boundary_path, driver='GeoJSON')\n",
    "\n",
    "cities = pd.concat([city_Salvador, city_Jakarta])\n",
    "cities = cities.reset_index(drop=True)\n",
    "cities"
   ]
  },
  {
   "cell_type": "code",
   "execution_count": 10,
   "id": "47791e3e-3761-404e-96a5-26493cc8ef54",
   "metadata": {},
   "outputs": [
    {
     "name": "stdout",
     "output_type": "stream",
     "text": [
      "Extracting tree cover layer in bbox [-38.6469891  -13.0171475  -38.30455157 -12.75628844]:\n",
      "[########################################] | 100% Completed | 16.77 s\n",
      "Extracting tree cover layer in bbox [106.685589   -6.3650478 106.8530109  -6.0891749]:\n",
      "[########################################] | 100% Completed | 9.38 ss\n",
      "Extracting tree cover layer in bbox [106.8530109  -6.3744575 106.973975   -6.0895823]:\n",
      "[########################################] | 100% Completed | 8.75 ss\n"
     ]
    }
   ],
   "source": [
    "cities[\"mean_tree_cover\"] = mean_tree_cover(cities)"
   ]
  },
  {
   "cell_type": "code",
   "execution_count": 11,
   "id": "d58a38fd-adea-4961-b0f8-abac0d0943cf",
   "metadata": {},
   "outputs": [
    {
     "data": {
      "text/html": [
       "<div>\n",
       "<style scoped>\n",
       "    .dataframe tbody tr th:only-of-type {\n",
       "        vertical-align: middle;\n",
       "    }\n",
       "\n",
       "    .dataframe tbody tr th {\n",
       "        vertical-align: top;\n",
       "    }\n",
       "\n",
       "    .dataframe thead th {\n",
       "        text-align: right;\n",
       "    }\n",
       "</style>\n",
       "<table border=\"1\" class=\"dataframe\">\n",
       "  <thead>\n",
       "    <tr style=\"text-align: right;\">\n",
       "      <th></th>\n",
       "      <th>geo_id</th>\n",
       "      <th>geo_level</th>\n",
       "      <th>geo_name</th>\n",
       "      <th>geo_parent_name</th>\n",
       "      <th>creation_date</th>\n",
       "      <th>geometry</th>\n",
       "      <th>mean_tree_cover</th>\n",
       "    </tr>\n",
       "  </thead>\n",
       "  <tbody>\n",
       "    <tr>\n",
       "      <th>0</th>\n",
       "      <td>BRA-Salvador_ADM4-union_1</td>\n",
       "      <td>ADM4-union</td>\n",
       "      <td>BRA-Salvador</td>\n",
       "      <td>BRA-Salvador</td>\n",
       "      <td>2022-08-03</td>\n",
       "      <td>MULTIPOLYGON (((-38.50135 -13.01134, -38.50140...</td>\n",
       "      <td>0.283667</td>\n",
       "    </tr>\n",
       "    <tr>\n",
       "      <th>1</th>\n",
       "      <td>IDN-Jakarta_ADM-4-union_1</td>\n",
       "      <td>ADM-4-union</td>\n",
       "      <td>IDN-Jakarta</td>\n",
       "      <td>IDN-Jakarta</td>\n",
       "      <td>2022-06-27</td>\n",
       "      <td>MULTIPOLYGON (((106.78141 -6.31616, 106.78124 ...</td>\n",
       "      <td>0.159044</td>\n",
       "    </tr>\n",
       "  </tbody>\n",
       "</table>\n",
       "</div>"
      ],
      "text/plain": [
       "                      geo_id    geo_level      geo_name geo_parent_name  \\\n",
       "0  BRA-Salvador_ADM4-union_1   ADM4-union  BRA-Salvador    BRA-Salvador   \n",
       "1  IDN-Jakarta_ADM-4-union_1  ADM-4-union   IDN-Jakarta     IDN-Jakarta   \n",
       "\n",
       "  creation_date                                           geometry  \\\n",
       "0    2022-08-03  MULTIPOLYGON (((-38.50135 -13.01134, -38.50140...   \n",
       "1    2022-06-27  MULTIPOLYGON (((106.78141 -6.31616, 106.78124 ...   \n",
       "\n",
       "   mean_tree_cover  \n",
       "0         0.283667  \n",
       "1         0.159044  "
      ]
     },
     "execution_count": 11,
     "metadata": {},
     "output_type": "execute_result"
    }
   ],
   "source": [
    "cities"
   ]
  },
  {
   "cell_type": "markdown",
   "id": "8aa3590f-b78e-4c57-872b-c5056266ff1a",
   "metadata": {
    "tags": []
   },
   "source": [
    "# HEA-4 Percent of built land without tree cover"
   ]
  },
  {
   "cell_type": "code",
   "execution_count": 14,
   "id": "e5948b81-cb27-4c97-9567-a297e078cdb5",
   "metadata": {},
   "outputs": [],
   "source": [
    "from city_metrix.metrics import built_land_without_tree_cover"
   ]
  },
  {
   "cell_type": "code",
   "execution_count": 15,
   "id": "10e89534-19d7-4dba-bc98-d4f3dd8b95f4",
   "metadata": {},
   "outputs": [
    {
     "name": "stdout",
     "output_type": "stream",
     "text": [
      "Extracting ESA world cover layer in bbox [-38.6469891  -13.0171475  -38.30455157 -12.75628844]:\n",
      "[########################################] | 100% Completed | 9.68 ss\n"
     ]
    },
    {
     "ename": "UnboundLocalError",
     "evalue": "local variable 'stats_funcs_dict' referenced before assignment",
     "output_type": "error",
     "traceback": [
      "\u001b[1;31m---------------------------------------------------------------------------\u001b[0m",
      "\u001b[1;31mUnboundLocalError\u001b[0m                         Traceback (most recent call last)",
      "File \u001b[1;32m<timed exec>:2\u001b[0m\n",
      "File \u001b[1;32m~\\OneDrive - World Resources Institute\\Documents\\cities-indicators-framework\\citymetrix\\cities-cif\\city_metrix\\metrics\\built_land_without_tree_cover.py:16\u001b[0m, in \u001b[0;36mbuilt_land_without_tree_cover\u001b[1;34m(zones)\u001b[0m\n\u001b[0;32m     13\u001b[0m built_up_land \u001b[38;5;241m=\u001b[39m EsaWorldCover(land_cover_class\u001b[38;5;241m=\u001b[39mEsaWorldCoverClass\u001b[38;5;241m.\u001b[39mBUILT_UP)\n\u001b[0;32m     14\u001b[0m tree_cover \u001b[38;5;241m=\u001b[39m TreeCover(min_tree_cover\u001b[38;5;241m=\u001b[39m\u001b[38;5;241m1\u001b[39m)\n\u001b[1;32m---> 16\u001b[0m built_land \u001b[38;5;241m=\u001b[39m \u001b[43mbuilt_up_land\u001b[49m\u001b[38;5;241;43m.\u001b[39;49m\u001b[43mgroupby\u001b[49m\u001b[43m(\u001b[49m\u001b[43mzones\u001b[49m\u001b[43m)\u001b[49m\u001b[38;5;241;43m.\u001b[39;49m\u001b[43mcount\u001b[49m\u001b[43m(\u001b[49m\u001b[43m)\u001b[49m\n\u001b[0;32m     17\u001b[0m tree_cover_in_built_land \u001b[38;5;241m=\u001b[39m tree_cover\u001b[38;5;241m.\u001b[39mmask(built_up_land)\u001b[38;5;241m.\u001b[39mgroupby(zones)\u001b[38;5;241m.\u001b[39mcount()\n\u001b[0;32m     19\u001b[0m percent_tree_cover_in_built_up_land \u001b[38;5;241m=\u001b[39m \u001b[38;5;241m1\u001b[39m \u001b[38;5;241m-\u001b[39m (tree_cover_in_built_land\u001b[38;5;241m.\u001b[39mfillna(\u001b[38;5;241m0\u001b[39m) \u001b[38;5;241m/\u001b[39m built_land)\n",
      "File \u001b[1;32m~\\OneDrive - World Resources Institute\\Documents\\cities-indicators-framework\\citymetrix\\cities-cif\\city_metrix\\layers\\layer.py:64\u001b[0m, in \u001b[0;36mLayerGroupBy.count\u001b[1;34m(self)\u001b[0m\n\u001b[0;32m     63\u001b[0m \u001b[38;5;28;01mdef\u001b[39;00m \u001b[38;5;21mcount\u001b[39m(\u001b[38;5;28mself\u001b[39m):\n\u001b[1;32m---> 64\u001b[0m     \u001b[38;5;28;01mreturn\u001b[39;00m \u001b[38;5;28;43mself\u001b[39;49m\u001b[38;5;241;43m.\u001b[39;49m\u001b[43m_zonal_stats\u001b[49m\u001b[43m(\u001b[49m\u001b[38;5;124;43m\"\u001b[39;49m\u001b[38;5;124;43mcount\u001b[39;49m\u001b[38;5;124;43m\"\u001b[39;49m\u001b[43m)\u001b[49m\n",
      "File \u001b[1;32m~\\OneDrive - World Resources Institute\\Documents\\cities-indicators-framework\\citymetrix\\cities-cif\\city_metrix\\layers\\layer.py:68\u001b[0m, in \u001b[0;36mLayerGroupBy._zonal_stats\u001b[1;34m(self, stats_func)\u001b[0m\n\u001b[0;32m     66\u001b[0m \u001b[38;5;28;01mdef\u001b[39;00m \u001b[38;5;21m_zonal_stats\u001b[39m(\u001b[38;5;28mself\u001b[39m, stats_func):\n\u001b[0;32m     67\u001b[0m     \u001b[38;5;28;01mif\u001b[39;00m box(\u001b[38;5;241m*\u001b[39m\u001b[38;5;28mself\u001b[39m\u001b[38;5;241m.\u001b[39mzones\u001b[38;5;241m.\u001b[39mtotal_bounds)\u001b[38;5;241m.\u001b[39marea \u001b[38;5;241m<\u001b[39m\u001b[38;5;241m=\u001b[39m MAX_TILE_SIZE\u001b[38;5;241m*\u001b[39m\u001b[38;5;241m*\u001b[39m\u001b[38;5;241m2\u001b[39m:\n\u001b[1;32m---> 68\u001b[0m         \u001b[38;5;28;01mreturn\u001b[39;00m \u001b[38;5;28;43mself\u001b[39;49m\u001b[38;5;241;43m.\u001b[39;49m\u001b[43m_zonal_stats_tile\u001b[49m\u001b[43m(\u001b[49m\u001b[38;5;28;43mself\u001b[39;49m\u001b[38;5;241;43m.\u001b[39;49m\u001b[43mzones\u001b[49m\u001b[43m,\u001b[49m\u001b[43m \u001b[49m\u001b[43mstats_func\u001b[49m\u001b[43m)\u001b[49m[stats_func]\n\u001b[0;32m     69\u001b[0m     \u001b[38;5;28;01melse\u001b[39;00m:\n\u001b[0;32m     70\u001b[0m         \u001b[38;5;28;01mreturn\u001b[39;00m \u001b[38;5;28mself\u001b[39m\u001b[38;5;241m.\u001b[39m_zonal_stats_fishnet(stats_func)\n",
      "File \u001b[1;32m~\\OneDrive - World Resources Institute\\Documents\\cities-indicators-framework\\citymetrix\\cities-cif\\city_metrix\\layers\\layer.py:116\u001b[0m, in \u001b[0;36mLayerGroupBy._zonal_stats_tile\u001b[1;34m(self, tile_gdf, stats_func)\u001b[0m\n\u001b[0;32m    113\u001b[0m     aggregate_data \u001b[38;5;241m=\u001b[39m aggregate_data\u001b[38;5;241m.\u001b[39mwhere(\u001b[38;5;241m~\u001b[39mnp\u001b[38;5;241m.\u001b[39misnan(mask))\n\u001b[0;32m    115\u001b[0m zones \u001b[38;5;241m=\u001b[39m \u001b[38;5;28mself\u001b[39m\u001b[38;5;241m.\u001b[39m_rasterize(tile_gdf, align_to)\n\u001b[1;32m--> 116\u001b[0m stats \u001b[38;5;241m=\u001b[39m \u001b[43mzonal_stats\u001b[49m\u001b[43m(\u001b[49m\u001b[43mzones\u001b[49m\u001b[43m,\u001b[49m\u001b[43m \u001b[49m\u001b[43maggregate_data\u001b[49m\u001b[43m,\u001b[49m\u001b[43m \u001b[49m\u001b[43mstats_funcs\u001b[49m\u001b[38;5;241;43m=\u001b[39;49m\u001b[43mstats_func\u001b[49m\u001b[43m)\u001b[49m\n\u001b[0;32m    118\u001b[0m \u001b[38;5;28;01mreturn\u001b[39;00m stats\n",
      "File \u001b[1;32m~\\anaconda3\\envs\\citymetrix_env\\lib\\site-packages\\xrspatial\\zonal.py:579\u001b[0m, in \u001b[0;36mstats\u001b[1;34m(zones, values, zone_ids, stats_funcs, nodata_values, return_type)\u001b[0m\n\u001b[0;32m    568\u001b[0m     stats_funcs_dict \u001b[38;5;241m=\u001b[39m stats_funcs\u001b[38;5;241m.\u001b[39mcopy()\n\u001b[0;32m    570\u001b[0m mapper \u001b[38;5;241m=\u001b[39m ArrayTypeFunctionMapping(\n\u001b[0;32m    571\u001b[0m     numpy_func\u001b[38;5;241m=\u001b[39m\u001b[38;5;28;01mlambda\u001b[39;00m \u001b[38;5;241m*\u001b[39margs: _stats_numpy(\u001b[38;5;241m*\u001b[39margs, return_type\u001b[38;5;241m=\u001b[39mreturn_type),\n\u001b[0;32m    572\u001b[0m     dask_func\u001b[38;5;241m=\u001b[39m_stats_dask_numpy,\n\u001b[1;32m   (...)\u001b[0m\n\u001b[0;32m    576\u001b[0m     ),\n\u001b[0;32m    577\u001b[0m )\n\u001b[0;32m    578\u001b[0m result \u001b[38;5;241m=\u001b[39m mapper(values)(\n\u001b[1;32m--> 579\u001b[0m     zones\u001b[38;5;241m.\u001b[39mdata, values\u001b[38;5;241m.\u001b[39mdata, zone_ids, \u001b[43mstats_funcs_dict\u001b[49m, nodata_values,\n\u001b[0;32m    580\u001b[0m )\n\u001b[0;32m    582\u001b[0m \u001b[38;5;28;01mif\u001b[39;00m return_type \u001b[38;5;241m==\u001b[39m \u001b[38;5;124m'\u001b[39m\u001b[38;5;124mxarray.DataArray\u001b[39m\u001b[38;5;124m'\u001b[39m:\n\u001b[0;32m    583\u001b[0m     \u001b[38;5;28;01mreturn\u001b[39;00m xr\u001b[38;5;241m.\u001b[39mDataArray(\n\u001b[0;32m    584\u001b[0m         result,\n\u001b[0;32m    585\u001b[0m         coords\u001b[38;5;241m=\u001b[39m{\u001b[38;5;124m'\u001b[39m\u001b[38;5;124mstats\u001b[39m\u001b[38;5;124m'\u001b[39m: \u001b[38;5;28mlist\u001b[39m(stats_funcs_dict\u001b[38;5;241m.\u001b[39mkeys()), \u001b[38;5;241m*\u001b[39m\u001b[38;5;241m*\u001b[39mvalues\u001b[38;5;241m.\u001b[39mcoords},\n\u001b[0;32m    586\u001b[0m         dims\u001b[38;5;241m=\u001b[39m(\u001b[38;5;124m'\u001b[39m\u001b[38;5;124mstats\u001b[39m\u001b[38;5;124m'\u001b[39m, \u001b[38;5;241m*\u001b[39mvalues\u001b[38;5;241m.\u001b[39mdims),\n\u001b[0;32m    587\u001b[0m         attrs\u001b[38;5;241m=\u001b[39mvalues\u001b[38;5;241m.\u001b[39mattrs\n\u001b[0;32m    588\u001b[0m     )\n",
      "\u001b[1;31mUnboundLocalError\u001b[0m: local variable 'stats_funcs_dict' referenced before assignment"
     ]
    }
   ],
   "source": [
    "%%time\n",
    "\n",
    "# for one geography\n",
    "city_gdf_aoi[\"built_land_without_tree_cover\"] = built_land_without_tree_cover(city_gdf_aoi) \n",
    "city_gdf_aoi"
   ]
  },
  {
   "cell_type": "markdown",
   "id": "afbb60b1-437f-4af5-99fe-9679559b250b",
   "metadata": {},
   "source": [
    "# HEA-3 Built land with Low Surface reflectivity"
   ]
  },
  {
   "cell_type": "code",
   "execution_count": 12,
   "id": "3c61a81e-f575-4d24-863d-ca9b7be34ad5",
   "metadata": {},
   "outputs": [],
   "source": [
    "from city_metrix.metrics import built_land_with_low_surface_reflectivity"
   ]
  },
  {
   "cell_type": "code",
   "execution_count": 13,
   "id": "748d1d72-c4fe-4c6c-91f6-99dac052bdd8",
   "metadata": {},
   "outputs": [
    {
     "name": "stdout",
     "output_type": "stream",
     "text": [
      "Extracting ESA world cover layer:\n",
      "[########################################] | 100% Completed | 8.21 ss\n",
      "Calculating albedo layer:\n",
      "[########################################] | 100% Completed | 84.36 s\n",
      "Extracting ESA world cover layer:\n",
      "[########################################] | 100% Completed | 8.32 ss\n",
      "CPU times: total: 30.5 s\n",
      "Wall time: 1min 49s\n"
     ]
    },
    {
     "data": {
      "text/html": [
       "<div>\n",
       "<style scoped>\n",
       "    .dataframe tbody tr th:only-of-type {\n",
       "        vertical-align: middle;\n",
       "    }\n",
       "\n",
       "    .dataframe tbody tr th {\n",
       "        vertical-align: top;\n",
       "    }\n",
       "\n",
       "    .dataframe thead th {\n",
       "        text-align: right;\n",
       "    }\n",
       "</style>\n",
       "<table border=\"1\" class=\"dataframe\">\n",
       "  <thead>\n",
       "    <tr style=\"text-align: right;\">\n",
       "      <th></th>\n",
       "      <th>geo_id</th>\n",
       "      <th>geo_level</th>\n",
       "      <th>geo_name</th>\n",
       "      <th>geo_parent_name</th>\n",
       "      <th>creation_date</th>\n",
       "      <th>geometry</th>\n",
       "      <th>mean_tree_cover</th>\n",
       "      <th>built_land_without_tree_cover</th>\n",
       "      <th>built_land_with_low_surface_reflectivity</th>\n",
       "    </tr>\n",
       "  </thead>\n",
       "  <tbody>\n",
       "    <tr>\n",
       "      <th>0</th>\n",
       "      <td>BRA-Salvador_ADM4-union_1</td>\n",
       "      <td>ADM4-union</td>\n",
       "      <td>BRA-Salvador</td>\n",
       "      <td>BRA-Salvador</td>\n",
       "      <td>2022-08-03</td>\n",
       "      <td>MULTIPOLYGON (((-38.50135 -13.01134, -38.50140...</td>\n",
       "      <td>28.366734</td>\n",
       "      <td>0.907382</td>\n",
       "      <td>0.786552</td>\n",
       "    </tr>\n",
       "  </tbody>\n",
       "</table>\n",
       "</div>"
      ],
      "text/plain": [
       "                      geo_id   geo_level      geo_name geo_parent_name  \\\n",
       "0  BRA-Salvador_ADM4-union_1  ADM4-union  BRA-Salvador    BRA-Salvador   \n",
       "\n",
       "  creation_date                                           geometry  \\\n",
       "0    2022-08-03  MULTIPOLYGON (((-38.50135 -13.01134, -38.50140...   \n",
       "\n",
       "   mean_tree_cover  built_land_without_tree_cover  \\\n",
       "0        28.366734                       0.907382   \n",
       "\n",
       "   built_land_with_low_surface_reflectivity  \n",
       "0                                  0.786552  "
      ]
     },
     "execution_count": 13,
     "metadata": {},
     "output_type": "execute_result"
    }
   ],
   "source": [
    "%%time\n",
    "\n",
    "city_gdf_aoi[\"built_land_with_low_surface_reflectivity\"] = built_land_with_low_surface_reflectivity(city_gdf_aoi) \n",
    "city_gdf_aoi"
   ]
  },
  {
   "cell_type": "markdown",
   "id": "bbfcabaa-2acc-4b9b-bdce-27b415e04354",
   "metadata": {},
   "source": [
    "# HEA-2 Built Land With High LST"
   ]
  },
  {
   "cell_type": "code",
   "execution_count": 14,
   "id": "6df5d7a3-1c25-49ac-ab33-9081722168c9",
   "metadata": {},
   "outputs": [],
   "source": [
    "from city_metrix.metrics import built_land_with_high_land_surface_temperature"
   ]
  },
  {
   "cell_type": "code",
   "execution_count": 15,
   "id": "5288d4e6-e35d-48f4-9ff7-2d84c857b21a",
   "metadata": {},
   "outputs": [
    {
     "name": "stdout",
     "output_type": "stream",
     "text": [
      "Extracting ESA world cover layer:\n",
      "[########################################] | 100% Completed | 8.65 ss\n",
      "Calculating land surface temperature layer:\n",
      "[########################################] | 100% Completed | 2.73 ss\n",
      "Extracting ESA world cover layer:\n",
      "[########################################] | 100% Completed | 9.16 ss\n",
      "CPU times: total: 14.8 s\n",
      "Wall time: 37.7 s\n"
     ]
    },
    {
     "data": {
      "text/html": [
       "<div>\n",
       "<style scoped>\n",
       "    .dataframe tbody tr th:only-of-type {\n",
       "        vertical-align: middle;\n",
       "    }\n",
       "\n",
       "    .dataframe tbody tr th {\n",
       "        vertical-align: top;\n",
       "    }\n",
       "\n",
       "    .dataframe thead th {\n",
       "        text-align: right;\n",
       "    }\n",
       "</style>\n",
       "<table border=\"1\" class=\"dataframe\">\n",
       "  <thead>\n",
       "    <tr style=\"text-align: right;\">\n",
       "      <th></th>\n",
       "      <th>geo_id</th>\n",
       "      <th>geo_level</th>\n",
       "      <th>geo_name</th>\n",
       "      <th>geo_parent_name</th>\n",
       "      <th>creation_date</th>\n",
       "      <th>geometry</th>\n",
       "      <th>mean_tree_cover</th>\n",
       "      <th>built_land_without_tree_cover</th>\n",
       "      <th>built_land_with_low_surface_reflectivity</th>\n",
       "      <th>built_land_with_high_land_surface_temperature</th>\n",
       "    </tr>\n",
       "  </thead>\n",
       "  <tbody>\n",
       "    <tr>\n",
       "      <th>0</th>\n",
       "      <td>BRA-Salvador_ADM4-union_1</td>\n",
       "      <td>ADM4-union</td>\n",
       "      <td>BRA-Salvador</td>\n",
       "      <td>BRA-Salvador</td>\n",
       "      <td>2022-08-03</td>\n",
       "      <td>MULTIPOLYGON (((-38.50135 -13.01134, -38.50140...</td>\n",
       "      <td>28.366734</td>\n",
       "      <td>0.907382</td>\n",
       "      <td>0.786552</td>\n",
       "      <td>0.0961</td>\n",
       "    </tr>\n",
       "  </tbody>\n",
       "</table>\n",
       "</div>"
      ],
      "text/plain": [
       "                      geo_id   geo_level      geo_name geo_parent_name  \\\n",
       "0  BRA-Salvador_ADM4-union_1  ADM4-union  BRA-Salvador    BRA-Salvador   \n",
       "\n",
       "  creation_date                                           geometry  \\\n",
       "0    2022-08-03  MULTIPOLYGON (((-38.50135 -13.01134, -38.50140...   \n",
       "\n",
       "   mean_tree_cover  built_land_without_tree_cover  \\\n",
       "0        28.366734                       0.907382   \n",
       "\n",
       "   built_land_with_low_surface_reflectivity  \\\n",
       "0                                  0.786552   \n",
       "\n",
       "   built_land_with_high_land_surface_temperature  \n",
       "0                                         0.0961  "
      ]
     },
     "execution_count": 15,
     "metadata": {},
     "output_type": "execute_result"
    }
   ],
   "source": [
    "%%time\n",
    "\n",
    "city_gdf_aoi[\"built_land_with_high_land_surface_temperature\"] = built_land_with_high_land_surface_temperature(city_gdf_aoi) \n",
    "city_gdf_aoi"
   ]
  },
  {
   "cell_type": "markdown",
   "id": "feb93688-9435-47a5-be31-0a806dd48fe1",
   "metadata": {},
   "source": [
    "# Percent of Natural areas"
   ]
  },
  {
   "cell_type": "code",
   "execution_count": 18,
   "id": "aee87e06-d16d-4017-a5e1-7fd8cef906d4",
   "metadata": {},
   "outputs": [],
   "source": [
    "from city_metrix.metrics import natural_areas"
   ]
  },
  {
   "cell_type": "code",
   "execution_count": null,
   "id": "026261af-a18d-4c0c-bdb8-b11a3c192ddc",
   "metadata": {},
   "outputs": [],
   "source": [
    "%%time\n",
    "\n",
    "# for one geography\n",
    "city_gdf_aoi[\"natural_areas\"] = natural_areas(city_gdf_aoi) \n",
    "city_gdf_aoi"
   ]
  },
  {
   "cell_type": "markdown",
   "id": "b05cef42-67cd-4cdc-a7db-5f34ddd7837b",
   "metadata": {},
   "source": [
    "# Open Space in built up land"
   ]
  },
  {
   "cell_type": "code",
   "execution_count": 21,
   "id": "b4281469-9ca5-4b2c-a308-32f2e2fd5404",
   "metadata": {},
   "outputs": [],
   "source": [
    "from city_metrix.metrics import urban_open_space"
   ]
  },
  {
   "cell_type": "code",
   "execution_count": 22,
   "id": "db612f31-eb82-4a10-9433-0907f0a64a0e",
   "metadata": {},
   "outputs": [
    {
     "name": "stdout",
     "output_type": "stream",
     "text": [
      "Extracting ESA world cover layer:\n",
      "[########################################] | 100% Completed | 12.48 s\n",
      "Extracting ESA world cover layer:\n",
      "[########################################] | 100% Completed | 9.08 ss\n",
      "CPU times: total: 24 s\n",
      "Wall time: 31.1 s\n"
     ]
    },
    {
     "data": {
      "text/html": [
       "<div>\n",
       "<style scoped>\n",
       "    .dataframe tbody tr th:only-of-type {\n",
       "        vertical-align: middle;\n",
       "    }\n",
       "\n",
       "    .dataframe tbody tr th {\n",
       "        vertical-align: top;\n",
       "    }\n",
       "\n",
       "    .dataframe thead th {\n",
       "        text-align: right;\n",
       "    }\n",
       "</style>\n",
       "<table border=\"1\" class=\"dataframe\">\n",
       "  <thead>\n",
       "    <tr style=\"text-align: right;\">\n",
       "      <th></th>\n",
       "      <th>geo_id</th>\n",
       "      <th>geo_level</th>\n",
       "      <th>geo_name</th>\n",
       "      <th>geo_parent_name</th>\n",
       "      <th>creation_date</th>\n",
       "      <th>geometry</th>\n",
       "      <th>mean_tree_cover</th>\n",
       "      <th>built_land_without_tree_cover</th>\n",
       "      <th>built_land_with_low_surface_reflectivity</th>\n",
       "      <th>built_land_with_high_land_surface_temperature</th>\n",
       "      <th>urban_open_space</th>\n",
       "    </tr>\n",
       "  </thead>\n",
       "  <tbody>\n",
       "    <tr>\n",
       "      <th>0</th>\n",
       "      <td>BRA-Salvador_ADM4-union_1</td>\n",
       "      <td>ADM4-union</td>\n",
       "      <td>BRA-Salvador</td>\n",
       "      <td>BRA-Salvador</td>\n",
       "      <td>2022-08-03</td>\n",
       "      <td>MULTIPOLYGON (((-38.50135 -13.01134, -38.50140...</td>\n",
       "      <td>28.366734</td>\n",
       "      <td>0.907382</td>\n",
       "      <td>0.786552</td>\n",
       "      <td>0.0961</td>\n",
       "      <td>0.028378</td>\n",
       "    </tr>\n",
       "  </tbody>\n",
       "</table>\n",
       "</div>"
      ],
      "text/plain": [
       "                      geo_id   geo_level      geo_name geo_parent_name  \\\n",
       "0  BRA-Salvador_ADM4-union_1  ADM4-union  BRA-Salvador    BRA-Salvador   \n",
       "\n",
       "  creation_date                                           geometry  \\\n",
       "0    2022-08-03  MULTIPOLYGON (((-38.50135 -13.01134, -38.50140...   \n",
       "\n",
       "   mean_tree_cover  built_land_without_tree_cover  \\\n",
       "0        28.366734                       0.907382   \n",
       "\n",
       "   built_land_with_low_surface_reflectivity  \\\n",
       "0                                  0.786552   \n",
       "\n",
       "   built_land_with_high_land_surface_temperature  urban_open_space  \n",
       "0                                         0.0961          0.028378  "
      ]
     },
     "execution_count": 22,
     "metadata": {},
     "output_type": "execute_result"
    }
   ],
   "source": [
    "%%time\n",
    "\n",
    "# for one geography\n",
    "city_gdf_aoi[\"urban_open_space\"] = urban_open_space(city_gdf_aoi) \n",
    "city_gdf_aoi"
   ]
  },
  {
   "cell_type": "code",
   "execution_count": null,
   "id": "951151f1-e0f5-4a8a-99a7-19a6f7c84591",
   "metadata": {},
   "outputs": [],
   "source": []
  }
 ],
 "metadata": {
  "kernelspec": {
   "display_name": "Python 3 (ipykernel)",
   "language": "python",
   "name": "python3"
  },
  "language_info": {
   "codemirror_mode": {
    "name": "ipython",
    "version": 3
   },
   "file_extension": ".py",
   "mimetype": "text/x-python",
   "name": "python",
   "nbconvert_exporter": "python",
   "pygments_lexer": "ipython3",
   "version": "3.10.13"
  }
 },
 "nbformat": 4,
 "nbformat_minor": 5
}
