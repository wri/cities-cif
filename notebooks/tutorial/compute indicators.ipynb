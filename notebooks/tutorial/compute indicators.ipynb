{
 "cells": [
  {
   "cell_type": "code",
   "execution_count": 10,
   "id": "dcc7a7b9-cf15-442c-acfd-fef1806ad05e",
   "metadata": {},
   "outputs": [],
   "source": [
    "import os\n",
    "import geopandas as gpd\n",
    "from rasterio.plot import show\n",
    "import rasterio\n",
    "import pandas as pd"
   ]
  },
  {
   "cell_type": "code",
   "execution_count": 2,
   "id": "6bcc8215-0c19-45bd-8265-2be0c2a83c6b",
   "metadata": {},
   "outputs": [
    {
     "data": {
      "text/plain": [
       "'C:\\\\Users\\\\Saif.Shabou\\\\OneDrive - World Resources Institute\\\\Documents\\\\cities-indicators-framework\\\\citymetrix\\\\cities-cif'"
      ]
     },
     "execution_count": 2,
     "metadata": {},
     "output_type": "execute_result"
    }
   ],
   "source": [
    "# update the wd path to be able to laod the module\n",
    "os.chdir('../..') \n",
    "os.getcwd()"
   ]
  },
  {
   "cell_type": "code",
   "execution_count": 3,
   "id": "4ce04cdf-634c-4c9c-8d20-1e2a3caffac2",
   "metadata": {},
   "outputs": [],
   "source": [
    "os.environ['GCS_BUCKET']='gee-exports'\n",
    "os.environ['GOOGLE_APPLICATION_USER']='developers@citiesindicators.iam.gserviceaccount.com'\n",
    "os.environ['GOOGLE_APPLICATION_CREDENTIALS']='C:\\\\Users\\Saif.Shabou\\OneDrive - World Resources Institute\\Documents\\cities-indicators-framework\\citymetrix\\credentials-citiesindicators.json'"
   ]
  },
  {
   "cell_type": "markdown",
   "id": "67f86f26-b888-4cc2-b500-47ebe9458609",
   "metadata": {
    "jp-MarkdownHeadingCollapsed": true,
    "tags": []
   },
   "source": [
    "# Get boundaries"
   ]
  },
  {
   "cell_type": "code",
   "execution_count": 4,
   "id": "acbc5aaa-5f47-44ff-b9ab-b885c06d7424",
   "metadata": {},
   "outputs": [
    {
     "data": {
      "text/html": [
       "<div>\n",
       "<style scoped>\n",
       "    .dataframe tbody tr th:only-of-type {\n",
       "        vertical-align: middle;\n",
       "    }\n",
       "\n",
       "    .dataframe tbody tr th {\n",
       "        vertical-align: top;\n",
       "    }\n",
       "\n",
       "    .dataframe thead th {\n",
       "        text-align: right;\n",
       "    }\n",
       "</style>\n",
       "<table border=\"1\" class=\"dataframe\">\n",
       "  <thead>\n",
       "    <tr style=\"text-align: right;\">\n",
       "      <th></th>\n",
       "      <th>geo_id</th>\n",
       "      <th>geo_level</th>\n",
       "      <th>geo_name</th>\n",
       "      <th>geo_parent_name</th>\n",
       "      <th>creation_date</th>\n",
       "      <th>geometry</th>\n",
       "    </tr>\n",
       "  </thead>\n",
       "  <tbody>\n",
       "    <tr>\n",
       "      <th>0</th>\n",
       "      <td>BRA-Salvador_ADM4-union_1</td>\n",
       "      <td>ADM4-union</td>\n",
       "      <td>BRA-Salvador</td>\n",
       "      <td>BRA-Salvador</td>\n",
       "      <td>2022-08-03</td>\n",
       "      <td>MULTIPOLYGON (((-38.50135 -13.01134, -38.50140...</td>\n",
       "    </tr>\n",
       "  </tbody>\n",
       "</table>\n",
       "</div>"
      ],
      "text/plain": [
       "                      geo_id   geo_level      geo_name geo_parent_name  \\\n",
       "0  BRA-Salvador_ADM4-union_1  ADM4-union  BRA-Salvador    BRA-Salvador   \n",
       "\n",
       "  creation_date                                           geometry  \n",
       "0    2022-08-03  MULTIPOLYGON (((-38.50135 -13.01134, -38.50140...  "
      ]
     },
     "execution_count": 4,
     "metadata": {},
     "output_type": "execute_result"
    }
   ],
   "source": [
    "# load boundary of a region of interest\n",
    "boundary_path = 'https://cities-indicators.s3.eu-west-3.amazonaws.com/data/boundaries/boundary-BRA-Salvador-ADM4union.geojson'\n",
    "city_gdf_aoi = gpd.read_file(boundary_path, driver='GeoJSON')\n",
    "city_gdf_aoi.head()"
   ]
  },
  {
   "cell_type": "code",
   "execution_count": 5,
   "id": "7af8657e-feed-42b8-b32a-d4ee5754cd4c",
   "metadata": {},
   "outputs": [
    {
     "data": {
      "text/html": [
       "<div>\n",
       "<style scoped>\n",
       "    .dataframe tbody tr th:only-of-type {\n",
       "        vertical-align: middle;\n",
       "    }\n",
       "\n",
       "    .dataframe tbody tr th {\n",
       "        vertical-align: top;\n",
       "    }\n",
       "\n",
       "    .dataframe thead th {\n",
       "        text-align: right;\n",
       "    }\n",
       "</style>\n",
       "<table border=\"1\" class=\"dataframe\">\n",
       "  <thead>\n",
       "    <tr style=\"text-align: right;\">\n",
       "      <th></th>\n",
       "      <th>geo_id</th>\n",
       "      <th>geo_level</th>\n",
       "      <th>geo_name</th>\n",
       "      <th>geo_parent_name</th>\n",
       "      <th>creation_date</th>\n",
       "      <th>geometry</th>\n",
       "    </tr>\n",
       "  </thead>\n",
       "  <tbody>\n",
       "    <tr>\n",
       "      <th>0</th>\n",
       "      <td>BRA-Salvador_ADM4_1</td>\n",
       "      <td>ADM4</td>\n",
       "      <td>Pituaçu</td>\n",
       "      <td>BRA-Salvador</td>\n",
       "      <td>2022-08-03</td>\n",
       "      <td>MULTIPOLYGON (((-38.40125 -12.96457, -38.40126...</td>\n",
       "    </tr>\n",
       "    <tr>\n",
       "      <th>1</th>\n",
       "      <td>BRA-Salvador_ADM4_2</td>\n",
       "      <td>ADM4</td>\n",
       "      <td>Patamares</td>\n",
       "      <td>BRA-Salvador</td>\n",
       "      <td>2022-08-03</td>\n",
       "      <td>MULTIPOLYGON (((-38.39898 -12.96269, -38.39898...</td>\n",
       "    </tr>\n",
       "    <tr>\n",
       "      <th>2</th>\n",
       "      <td>BRA-Salvador_ADM4_3</td>\n",
       "      <td>ADM4</td>\n",
       "      <td>Piatã</td>\n",
       "      <td>BRA-Salvador</td>\n",
       "      <td>2022-08-03</td>\n",
       "      <td>MULTIPOLYGON (((-38.37346 -12.93345, -38.37386...</td>\n",
       "    </tr>\n",
       "    <tr>\n",
       "      <th>3</th>\n",
       "      <td>BRA-Salvador_ADM4_4</td>\n",
       "      <td>ADM4</td>\n",
       "      <td>Boca do Rio</td>\n",
       "      <td>BRA-Salvador</td>\n",
       "      <td>2022-08-03</td>\n",
       "      <td>MULTIPOLYGON (((-38.41741 -12.97578, -38.41746...</td>\n",
       "    </tr>\n",
       "    <tr>\n",
       "      <th>4</th>\n",
       "      <td>BRA-Salvador_ADM4_5</td>\n",
       "      <td>ADM4</td>\n",
       "      <td>Jardim Armação</td>\n",
       "      <td>BRA-Salvador</td>\n",
       "      <td>2022-08-03</td>\n",
       "      <td>MULTIPOLYGON (((-38.43383 -12.98742, -38.43386...</td>\n",
       "    </tr>\n",
       "  </tbody>\n",
       "</table>\n",
       "</div>"
      ],
      "text/plain": [
       "                geo_id geo_level        geo_name geo_parent_name  \\\n",
       "0  BRA-Salvador_ADM4_1      ADM4         Pituaçu    BRA-Salvador   \n",
       "1  BRA-Salvador_ADM4_2      ADM4       Patamares    BRA-Salvador   \n",
       "2  BRA-Salvador_ADM4_3      ADM4           Piatã    BRA-Salvador   \n",
       "3  BRA-Salvador_ADM4_4      ADM4     Boca do Rio    BRA-Salvador   \n",
       "4  BRA-Salvador_ADM4_5      ADM4  Jardim Armação    BRA-Salvador   \n",
       "\n",
       "  creation_date                                           geometry  \n",
       "0    2022-08-03  MULTIPOLYGON (((-38.40125 -12.96457, -38.40126...  \n",
       "1    2022-08-03  MULTIPOLYGON (((-38.39898 -12.96269, -38.39898...  \n",
       "2    2022-08-03  MULTIPOLYGON (((-38.37346 -12.93345, -38.37386...  \n",
       "3    2022-08-03  MULTIPOLYGON (((-38.41741 -12.97578, -38.41746...  \n",
       "4    2022-08-03  MULTIPOLYGON (((-38.43383 -12.98742, -38.43386...  "
      ]
     },
     "execution_count": 5,
     "metadata": {},
     "output_type": "execute_result"
    }
   ],
   "source": [
    "# load boundary of sub-georgaphy\n",
    "boundary_path = 'https://cities-indicators.s3.eu-west-3.amazonaws.com/data/boundaries/boundary-BRA-Salvador-ADM4.geojson'\n",
    "city_gdf_sub = gpd.read_file(boundary_path, driver='GeoJSON')\n",
    "city_gdf_sub.head()"
   ]
  },
  {
   "cell_type": "markdown",
   "id": "788d5679-2fc5-4025-996c-25af1d35b900",
   "metadata": {
    "tags": []
   },
   "source": [
    "# Mean Tree Cover"
   ]
  },
  {
   "cell_type": "code",
   "execution_count": 6,
   "id": "8bdaa746-b071-4e9f-8959-c8c57921c73c",
   "metadata": {},
   "outputs": [
    {
     "name": "stdout",
     "output_type": "stream",
     "text": [
      "Authenticating to GEE with configured credentials file.\n"
     ]
    }
   ],
   "source": [
    "from city_metrix import mean_tree_cover"
   ]
  },
  {
   "cell_type": "code",
   "execution_count": 7,
   "id": "e69f2674-dc78-4098-b423-0686944eabe8",
   "metadata": {},
   "outputs": [
    {
     "name": "stdout",
     "output_type": "stream",
     "text": [
      "CPU times: total: 8.16 s\n",
      "Wall time: 38.1 s\n"
     ]
    },
    {
     "data": {
      "text/html": [
       "<div>\n",
       "<style scoped>\n",
       "    .dataframe tbody tr th:only-of-type {\n",
       "        vertical-align: middle;\n",
       "    }\n",
       "\n",
       "    .dataframe tbody tr th {\n",
       "        vertical-align: top;\n",
       "    }\n",
       "\n",
       "    .dataframe thead th {\n",
       "        text-align: right;\n",
       "    }\n",
       "</style>\n",
       "<table border=\"1\" class=\"dataframe\">\n",
       "  <thead>\n",
       "    <tr style=\"text-align: right;\">\n",
       "      <th></th>\n",
       "      <th>geo_id</th>\n",
       "      <th>geo_level</th>\n",
       "      <th>geo_name</th>\n",
       "      <th>geo_parent_name</th>\n",
       "      <th>creation_date</th>\n",
       "      <th>geometry</th>\n",
       "      <th>mean_tree_cover</th>\n",
       "    </tr>\n",
       "  </thead>\n",
       "  <tbody>\n",
       "    <tr>\n",
       "      <th>0</th>\n",
       "      <td>BRA-Salvador_ADM4-union_1</td>\n",
       "      <td>ADM4-union</td>\n",
       "      <td>BRA-Salvador</td>\n",
       "      <td>BRA-Salvador</td>\n",
       "      <td>2022-08-03</td>\n",
       "      <td>MULTIPOLYGON (((-38.50135 -13.01134, -38.50140...</td>\n",
       "      <td>28.366773</td>\n",
       "    </tr>\n",
       "  </tbody>\n",
       "</table>\n",
       "</div>"
      ],
      "text/plain": [
       "                      geo_id   geo_level      geo_name geo_parent_name  \\\n",
       "0  BRA-Salvador_ADM4-union_1  ADM4-union  BRA-Salvador    BRA-Salvador   \n",
       "\n",
       "  creation_date                                           geometry  \\\n",
       "0    2022-08-03  MULTIPOLYGON (((-38.50135 -13.01134, -38.50140...   \n",
       "\n",
       "   mean_tree_cover  \n",
       "0        28.366773  "
      ]
     },
     "execution_count": 7,
     "metadata": {},
     "output_type": "execute_result"
    }
   ],
   "source": [
    "%%time\n",
    "\n",
    "# for one geography\n",
    "city_gdf_aoi[\"mean_tree_cover\"] = mean_tree_cover(city_gdf_aoi) \n",
    "city_gdf_aoi"
   ]
  },
  {
   "cell_type": "code",
   "execution_count": 8,
   "id": "71349065-4726-4a12-bbb8-1f998562c338",
   "metadata": {},
   "outputs": [
    {
     "name": "stdout",
     "output_type": "stream",
     "text": [
      "CPU times: total: 7.39 s\n",
      "Wall time: 38.4 s\n"
     ]
    },
    {
     "data": {
      "text/html": [
       "<div>\n",
       "<style scoped>\n",
       "    .dataframe tbody tr th:only-of-type {\n",
       "        vertical-align: middle;\n",
       "    }\n",
       "\n",
       "    .dataframe tbody tr th {\n",
       "        vertical-align: top;\n",
       "    }\n",
       "\n",
       "    .dataframe thead th {\n",
       "        text-align: right;\n",
       "    }\n",
       "</style>\n",
       "<table border=\"1\" class=\"dataframe\">\n",
       "  <thead>\n",
       "    <tr style=\"text-align: right;\">\n",
       "      <th></th>\n",
       "      <th>geo_id</th>\n",
       "      <th>geo_level</th>\n",
       "      <th>geo_name</th>\n",
       "      <th>geo_parent_name</th>\n",
       "      <th>creation_date</th>\n",
       "      <th>geometry</th>\n",
       "      <th>mean_tree_cover</th>\n",
       "    </tr>\n",
       "  </thead>\n",
       "  <tbody>\n",
       "    <tr>\n",
       "      <th>0</th>\n",
       "      <td>BRA-Salvador_ADM4_1</td>\n",
       "      <td>ADM4</td>\n",
       "      <td>Pituaçu</td>\n",
       "      <td>BRA-Salvador</td>\n",
       "      <td>2022-08-03</td>\n",
       "      <td>MULTIPOLYGON (((-38.40125 -12.96457, -38.40126...</td>\n",
       "      <td>52.392370</td>\n",
       "    </tr>\n",
       "    <tr>\n",
       "      <th>1</th>\n",
       "      <td>BRA-Salvador_ADM4_2</td>\n",
       "      <td>ADM4</td>\n",
       "      <td>Patamares</td>\n",
       "      <td>BRA-Salvador</td>\n",
       "      <td>2022-08-03</td>\n",
       "      <td>MULTIPOLYGON (((-38.39898 -12.96269, -38.39898...</td>\n",
       "      <td>43.309331</td>\n",
       "    </tr>\n",
       "    <tr>\n",
       "      <th>2</th>\n",
       "      <td>BRA-Salvador_ADM4_3</td>\n",
       "      <td>ADM4</td>\n",
       "      <td>Piatã</td>\n",
       "      <td>BRA-Salvador</td>\n",
       "      <td>2022-08-03</td>\n",
       "      <td>MULTIPOLYGON (((-38.37346 -12.93345, -38.37386...</td>\n",
       "      <td>27.407306</td>\n",
       "    </tr>\n",
       "    <tr>\n",
       "      <th>3</th>\n",
       "      <td>BRA-Salvador_ADM4_4</td>\n",
       "      <td>ADM4</td>\n",
       "      <td>Boca do Rio</td>\n",
       "      <td>BRA-Salvador</td>\n",
       "      <td>2022-08-03</td>\n",
       "      <td>MULTIPOLYGON (((-38.41741 -12.97578, -38.41746...</td>\n",
       "      <td>15.772191</td>\n",
       "    </tr>\n",
       "    <tr>\n",
       "      <th>4</th>\n",
       "      <td>BRA-Salvador_ADM4_5</td>\n",
       "      <td>ADM4</td>\n",
       "      <td>Jardim Armação</td>\n",
       "      <td>BRA-Salvador</td>\n",
       "      <td>2022-08-03</td>\n",
       "      <td>MULTIPOLYGON (((-38.43383 -12.98742, -38.43386...</td>\n",
       "      <td>21.087379</td>\n",
       "    </tr>\n",
       "  </tbody>\n",
       "</table>\n",
       "</div>"
      ],
      "text/plain": [
       "                geo_id geo_level        geo_name geo_parent_name  \\\n",
       "0  BRA-Salvador_ADM4_1      ADM4         Pituaçu    BRA-Salvador   \n",
       "1  BRA-Salvador_ADM4_2      ADM4       Patamares    BRA-Salvador   \n",
       "2  BRA-Salvador_ADM4_3      ADM4           Piatã    BRA-Salvador   \n",
       "3  BRA-Salvador_ADM4_4      ADM4     Boca do Rio    BRA-Salvador   \n",
       "4  BRA-Salvador_ADM4_5      ADM4  Jardim Armação    BRA-Salvador   \n",
       "\n",
       "  creation_date                                           geometry  \\\n",
       "0    2022-08-03  MULTIPOLYGON (((-38.40125 -12.96457, -38.40126...   \n",
       "1    2022-08-03  MULTIPOLYGON (((-38.39898 -12.96269, -38.39898...   \n",
       "2    2022-08-03  MULTIPOLYGON (((-38.37346 -12.93345, -38.37386...   \n",
       "3    2022-08-03  MULTIPOLYGON (((-38.41741 -12.97578, -38.41746...   \n",
       "4    2022-08-03  MULTIPOLYGON (((-38.43383 -12.98742, -38.43386...   \n",
       "\n",
       "   mean_tree_cover  \n",
       "0        52.392370  \n",
       "1        43.309331  \n",
       "2        27.407306  \n",
       "3        15.772191  \n",
       "4        21.087379  "
      ]
     },
     "execution_count": 8,
     "metadata": {},
     "output_type": "execute_result"
    }
   ],
   "source": [
    "%%time\n",
    "\n",
    "# for sub geographies\n",
    "city_gdf_sub[\"mean_tree_cover\"] = mean_tree_cover(city_gdf_sub) \n",
    "city_gdf_sub.head()"
   ]
  },
  {
   "cell_type": "code",
   "execution_count": 11,
   "id": "5006d2d3-6ef0-4460-b127-f72522e94585",
   "metadata": {},
   "outputs": [
    {
     "data": {
      "text/html": [
       "<div>\n",
       "<style scoped>\n",
       "    .dataframe tbody tr th:only-of-type {\n",
       "        vertical-align: middle;\n",
       "    }\n",
       "\n",
       "    .dataframe tbody tr th {\n",
       "        vertical-align: top;\n",
       "    }\n",
       "\n",
       "    .dataframe thead th {\n",
       "        text-align: right;\n",
       "    }\n",
       "</style>\n",
       "<table border=\"1\" class=\"dataframe\">\n",
       "  <thead>\n",
       "    <tr style=\"text-align: right;\">\n",
       "      <th></th>\n",
       "      <th>geo_id</th>\n",
       "      <th>geo_level</th>\n",
       "      <th>geo_name</th>\n",
       "      <th>geo_parent_name</th>\n",
       "      <th>creation_date</th>\n",
       "      <th>geometry</th>\n",
       "    </tr>\n",
       "  </thead>\n",
       "  <tbody>\n",
       "    <tr>\n",
       "      <th>0</th>\n",
       "      <td>BRA-Salvador_ADM4-union_1</td>\n",
       "      <td>ADM4-union</td>\n",
       "      <td>BRA-Salvador</td>\n",
       "      <td>BRA-Salvador</td>\n",
       "      <td>2022-08-03</td>\n",
       "      <td>MULTIPOLYGON (((-38.50135 -13.01134, -38.50140...</td>\n",
       "    </tr>\n",
       "    <tr>\n",
       "      <th>1</th>\n",
       "      <td>IDN-Jakarta_ADM-4-union_1</td>\n",
       "      <td>ADM-4-union</td>\n",
       "      <td>IDN-Jakarta</td>\n",
       "      <td>IDN-Jakarta</td>\n",
       "      <td>2022-06-27</td>\n",
       "      <td>MULTIPOLYGON (((106.78141 -6.31616, 106.78124 ...</td>\n",
       "    </tr>\n",
       "  </tbody>\n",
       "</table>\n",
       "</div>"
      ],
      "text/plain": [
       "                      geo_id    geo_level      geo_name geo_parent_name  \\\n",
       "0  BRA-Salvador_ADM4-union_1   ADM4-union  BRA-Salvador    BRA-Salvador   \n",
       "1  IDN-Jakarta_ADM-4-union_1  ADM-4-union   IDN-Jakarta     IDN-Jakarta   \n",
       "\n",
       "  creation_date                                           geometry  \n",
       "0    2022-08-03  MULTIPOLYGON (((-38.50135 -13.01134, -38.50140...  \n",
       "1    2022-06-27  MULTIPOLYGON (((106.78141 -6.31616, 106.78124 ...  "
      ]
     },
     "execution_count": 11,
     "metadata": {},
     "output_type": "execute_result"
    }
   ],
   "source": [
    "# Calculate indicator for multiple regions of interest\n",
    "\n",
    "boundary_path = 'https://cities-indicators.s3.eu-west-3.amazonaws.com/data/boundaries/boundary-BRA-Salvador-ADM4union.geojson'\n",
    "city_Salvador = gpd.read_file(boundary_path, driver='GeoJSON')\n",
    "\n",
    "boundary_path = 'https://cities-indicators.s3.eu-west-3.amazonaws.com/data/boundaries/boundary-IDN-Jakarta-ADM4union.geojson'\n",
    "city_Jakarta = gpd.read_file(boundary_path, driver='GeoJSON')\n",
    "\n",
    "cities = pd.concat([city_Salvador, city_Jakarta])\n",
    "cities = cities.reset_index(drop=True)\n",
    "cities"
   ]
  },
  {
   "cell_type": "code",
   "execution_count": 12,
   "id": "47791e3e-3761-404e-96a5-26493cc8ef54",
   "metadata": {},
   "outputs": [],
   "source": [
    "# loop over cities\n",
    "for i in range(0,len(cities)):\n",
    "    city = cities.loc[[i]]\n",
    "    city_indicator = float(mean_tree_cover(city))\n",
    "    cities.loc[i,\"mean_tree_cover\"] = city_indicator"
   ]
  },
  {
   "cell_type": "code",
   "execution_count": null,
   "id": "19349ba7-1d88-4ef1-b50e-3da8f64895dd",
   "metadata": {},
   "outputs": [],
   "source": []
  }
 ],
 "metadata": {
  "kernelspec": {
   "display_name": "Python 3 (ipykernel)",
   "language": "python",
   "name": "python3"
  },
  "language_info": {
   "codemirror_mode": {
    "name": "ipython",
    "version": 3
   },
   "file_extension": ".py",
   "mimetype": "text/x-python",
   "name": "python",
   "nbconvert_exporter": "python",
   "pygments_lexer": "ipython3",
   "version": "3.9.12"
  }
 },
 "nbformat": 4,
 "nbformat_minor": 5
}
