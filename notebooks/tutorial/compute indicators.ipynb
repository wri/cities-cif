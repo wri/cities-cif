{
 "cells": [
  {
   "cell_type": "markdown",
   "id": "cdd83ce4-8281-496b-a27e-c17527387fec",
   "metadata": {},
   "source": [
    "# Introduction"
   ]
  },
  {
   "cell_type": "markdown",
   "id": "9e3282ba-378a-4272-b6ca-dedf965e4172",
   "metadata": {},
   "source": [
    "This tutorial provides instructions on nhow to use `city_metrix` to calcaulte indicators based on user-specific geometry."
   ]
  },
  {
   "cell_type": "markdown",
   "id": "6f77de84-d7a9-4377-afd5-9cb265112718",
   "metadata": {},
   "source": [
    "Every 'indicator' is defined as separate python function:\n",
    "\n",
    "| Indicator name | function name | Parameters | Method |\n",
    "| ---- | ---- | ---- | ---- |\n",
    "| Average tree cover | `mean_tree_cover()`  | | |\n",
    "| Percent of built land without tree cover | `built_land_without_tree_cover()` | | |"
   ]
  },
  {
   "cell_type": "markdown",
   "id": "48a31f86-c031-4347-be1d-e631ea0f636e",
   "metadata": {
    "tags": []
   },
   "source": [
    "# Setting"
   ]
  },
  {
   "cell_type": "code",
   "execution_count": 1,
   "id": "dcc7a7b9-cf15-442c-acfd-fef1806ad05e",
   "metadata": {},
   "outputs": [],
   "source": [
    "import os\n",
    "import geopandas as gpd\n",
    "from rasterio.plot import show\n",
    "import rasterio\n",
    "import pandas as pd"
   ]
  },
  {
   "cell_type": "code",
   "execution_count": 2,
   "id": "6bcc8215-0c19-45bd-8265-2be0c2a83c6b",
   "metadata": {},
   "outputs": [
    {
     "data": {
      "text/plain": [
       "'/Users/jt/dev/cities-cif'"
      ]
     },
     "execution_count": 2,
     "metadata": {},
     "output_type": "execute_result"
    }
   ],
   "source": [
    "# update the wd path to be able to laod the module\n",
    "os.chdir('../..') \n",
    "os.getcwd()"
   ]
  },
  {
   "cell_type": "code",
   "execution_count": 3,
   "id": "4ce04cdf-634c-4c9c-8d20-1e2a3caffac2",
   "metadata": {},
   "outputs": [],
   "source": [
    "os.environ['GCS_BUCKET']='gee-exports'\n",
    "os.environ['GOOGLE_APPLICATION_USER']='developers@citiesindicators.iam.gserviceaccount.com'\n",
    "os.environ['GOOGLE_APPLICATION_CREDENTIALS']='C:\\\\Users\\Saif.Shabou\\OneDrive - World Resources Institute\\Documents\\cities-indicators-framework\\citymetrix\\credentials-citiesindicators.json'"
   ]
  },
  {
   "cell_type": "markdown",
   "id": "67f86f26-b888-4cc2-b500-47ebe9458609",
   "metadata": {
    "tags": []
   },
   "source": [
    "# Get boundaries"
   ]
  },
  {
   "cell_type": "code",
   "execution_count": 4,
   "id": "acbc5aaa-5f47-44ff-b9ab-b885c06d7424",
   "metadata": {},
   "outputs": [
    {
     "data": {
      "text/html": [
       "<div>\n",
       "<style scoped>\n",
       "    .dataframe tbody tr th:only-of-type {\n",
       "        vertical-align: middle;\n",
       "    }\n",
       "\n",
       "    .dataframe tbody tr th {\n",
       "        vertical-align: top;\n",
       "    }\n",
       "\n",
       "    .dataframe thead th {\n",
       "        text-align: right;\n",
       "    }\n",
       "</style>\n",
       "<table border=\"1\" class=\"dataframe\">\n",
       "  <thead>\n",
       "    <tr style=\"text-align: right;\">\n",
       "      <th></th>\n",
       "      <th>geo_id</th>\n",
       "      <th>geo_level</th>\n",
       "      <th>geo_name</th>\n",
       "      <th>geo_parent_name</th>\n",
       "      <th>creation_date</th>\n",
       "      <th>geometry</th>\n",
       "    </tr>\n",
       "  </thead>\n",
       "  <tbody>\n",
       "    <tr>\n",
       "      <th>0</th>\n",
       "      <td>BRA-Salvador_ADM4-union_1</td>\n",
       "      <td>ADM4-union</td>\n",
       "      <td>BRA-Salvador</td>\n",
       "      <td>BRA-Salvador</td>\n",
       "      <td>2022-08-03</td>\n",
       "      <td>MULTIPOLYGON (((-38.50135 -13.01134, -38.50140...</td>\n",
       "    </tr>\n",
       "  </tbody>\n",
       "</table>\n",
       "</div>"
      ],
      "text/plain": [
       "                      geo_id   geo_level      geo_name geo_parent_name  \\\n",
       "0  BRA-Salvador_ADM4-union_1  ADM4-union  BRA-Salvador    BRA-Salvador   \n",
       "\n",
       "  creation_date                                           geometry  \n",
       "0    2022-08-03  MULTIPOLYGON (((-38.50135 -13.01134, -38.50140...  "
      ]
     },
     "execution_count": 4,
     "metadata": {},
     "output_type": "execute_result"
    }
   ],
   "source": [
    "# load boundary of a region of interest\n",
    "boundary_path = 'https://cities-indicators.s3.eu-west-3.amazonaws.com/data/boundaries/boundary-BRA-Salvador-ADM4union.geojson'\n",
    "city_gdf_aoi = gpd.read_file(boundary_path, driver='GeoJSON')\n",
    "city_gdf_aoi.head()"
   ]
  },
  {
   "cell_type": "code",
   "execution_count": 5,
   "id": "7af8657e-feed-42b8-b32a-d4ee5754cd4c",
   "metadata": {},
   "outputs": [
    {
     "data": {
      "text/html": [
       "<div>\n",
       "<style scoped>\n",
       "    .dataframe tbody tr th:only-of-type {\n",
       "        vertical-align: middle;\n",
       "    }\n",
       "\n",
       "    .dataframe tbody tr th {\n",
       "        vertical-align: top;\n",
       "    }\n",
       "\n",
       "    .dataframe thead th {\n",
       "        text-align: right;\n",
       "    }\n",
       "</style>\n",
       "<table border=\"1\" class=\"dataframe\">\n",
       "  <thead>\n",
       "    <tr style=\"text-align: right;\">\n",
       "      <th></th>\n",
       "      <th>geo_id</th>\n",
       "      <th>geo_level</th>\n",
       "      <th>geo_name</th>\n",
       "      <th>geo_parent_name</th>\n",
       "      <th>creation_date</th>\n",
       "      <th>geometry</th>\n",
       "    </tr>\n",
       "  </thead>\n",
       "  <tbody>\n",
       "    <tr>\n",
       "      <th>0</th>\n",
       "      <td>BRA-Salvador_ADM4_1</td>\n",
       "      <td>ADM4</td>\n",
       "      <td>Pituaçu</td>\n",
       "      <td>BRA-Salvador</td>\n",
       "      <td>2022-08-03</td>\n",
       "      <td>MULTIPOLYGON (((-38.40125 -12.96457, -38.40126...</td>\n",
       "    </tr>\n",
       "    <tr>\n",
       "      <th>1</th>\n",
       "      <td>BRA-Salvador_ADM4_2</td>\n",
       "      <td>ADM4</td>\n",
       "      <td>Patamares</td>\n",
       "      <td>BRA-Salvador</td>\n",
       "      <td>2022-08-03</td>\n",
       "      <td>MULTIPOLYGON (((-38.39898 -12.96269, -38.39898...</td>\n",
       "    </tr>\n",
       "    <tr>\n",
       "      <th>2</th>\n",
       "      <td>BRA-Salvador_ADM4_3</td>\n",
       "      <td>ADM4</td>\n",
       "      <td>Piatã</td>\n",
       "      <td>BRA-Salvador</td>\n",
       "      <td>2022-08-03</td>\n",
       "      <td>MULTIPOLYGON (((-38.37346 -12.93345, -38.37386...</td>\n",
       "    </tr>\n",
       "    <tr>\n",
       "      <th>3</th>\n",
       "      <td>BRA-Salvador_ADM4_4</td>\n",
       "      <td>ADM4</td>\n",
       "      <td>Boca do Rio</td>\n",
       "      <td>BRA-Salvador</td>\n",
       "      <td>2022-08-03</td>\n",
       "      <td>MULTIPOLYGON (((-38.41741 -12.97578, -38.41746...</td>\n",
       "    </tr>\n",
       "    <tr>\n",
       "      <th>4</th>\n",
       "      <td>BRA-Salvador_ADM4_5</td>\n",
       "      <td>ADM4</td>\n",
       "      <td>Jardim Armação</td>\n",
       "      <td>BRA-Salvador</td>\n",
       "      <td>2022-08-03</td>\n",
       "      <td>MULTIPOLYGON (((-38.43383 -12.98742, -38.43386...</td>\n",
       "    </tr>\n",
       "  </tbody>\n",
       "</table>\n",
       "</div>"
      ],
      "text/plain": [
       "                geo_id geo_level        geo_name geo_parent_name  \\\n",
       "0  BRA-Salvador_ADM4_1      ADM4         Pituaçu    BRA-Salvador   \n",
       "1  BRA-Salvador_ADM4_2      ADM4       Patamares    BRA-Salvador   \n",
       "2  BRA-Salvador_ADM4_3      ADM4           Piatã    BRA-Salvador   \n",
       "3  BRA-Salvador_ADM4_4      ADM4     Boca do Rio    BRA-Salvador   \n",
       "4  BRA-Salvador_ADM4_5      ADM4  Jardim Armação    BRA-Salvador   \n",
       "\n",
       "  creation_date                                           geometry  \n",
       "0    2022-08-03  MULTIPOLYGON (((-38.40125 -12.96457, -38.40126...  \n",
       "1    2022-08-03  MULTIPOLYGON (((-38.39898 -12.96269, -38.39898...  \n",
       "2    2022-08-03  MULTIPOLYGON (((-38.37346 -12.93345, -38.37386...  \n",
       "3    2022-08-03  MULTIPOLYGON (((-38.41741 -12.97578, -38.41746...  \n",
       "4    2022-08-03  MULTIPOLYGON (((-38.43383 -12.98742, -38.43386...  "
      ]
     },
     "execution_count": 5,
     "metadata": {},
     "output_type": "execute_result"
    }
   ],
   "source": [
    "# load boundary of sub-georgaphy\n",
    "boundary_path = 'https://cities-indicators.s3.eu-west-3.amazonaws.com/data/boundaries/boundary-BRA-Salvador-ADM4.geojson'\n",
    "city_gdf_sub = gpd.read_file(boundary_path, driver='GeoJSON')\n",
    "city_gdf_sub.head()"
   ]
  },
  {
   "cell_type": "markdown",
   "id": "788d5679-2fc5-4025-996c-25af1d35b900",
   "metadata": {
    "tags": []
   },
   "source": [
    "# LND-2 Average Tree Cover"
   ]
  },
  {
   "cell_type": "code",
<<<<<<< HEAD
   "execution_count": 6,
   "id": "8bdaa746-b071-4e9f-8959-c8c57921c73c",
   "metadata": {},
=======
   "execution_count": 8,
   "id": "8bdaa746-b071-4e9f-8959-c8c57921c73c",
   "metadata": {},
   "outputs": [
    {
     "name": "stdout",
     "output_type": "stream",
     "text": [
      "Authenticating to GEE with configured credentials file.\n"
     ]
    }
   ],
   "source": [
    "from city_metrix.metrics import mean_tree_cover"
   ]
  },
  {
   "cell_type": "code",
   "execution_count": 9,
   "id": "e69f2674-dc78-4098-b423-0686944eabe8",
   "metadata": {},
>>>>>>> b33b89a49c7d415a5e9adb1f5373f25e84b49584
   "outputs": [
    {
     "name": "stdout",
     "output_type": "stream",
     "text": [
<<<<<<< HEAD
      "Authenticating to GEE with configured credentials file.\n"
     ]
    },
    {
     "ename": "FileNotFoundError",
     "evalue": "[Errno 2] No such file or directory: 'C:\\\\Users\\\\Saif.Shabou\\\\OneDrive - World Resources Institute\\\\Documents\\\\cities-indicators-framework\\\\citymetrix\\\\credentials-citiesindicators.json'",
     "output_type": "error",
     "traceback": [
      "\u001b[0;31m---------------------------------------------------------------------------\u001b[0m",
      "\u001b[0;31mFileNotFoundError\u001b[0m                         Traceback (most recent call last)",
      "Cell \u001b[0;32mIn[6], line 1\u001b[0m\n\u001b[0;32m----> 1\u001b[0m \u001b[38;5;28;01mfrom\u001b[39;00m \u001b[38;5;21;01mcity_metrix\u001b[39;00m \u001b[38;5;28;01mimport\u001b[39;00m mean_tree_cover\n",
      "File \u001b[0;32m~/dev/cities-cif/city_metrix/__init__.py:11\u001b[0m\n\u001b[1;32m      9\u001b[0m     CREDENTIAL_FILE \u001b[38;5;241m=\u001b[39m os\u001b[38;5;241m.\u001b[39menviron[\u001b[38;5;124m\"\u001b[39m\u001b[38;5;124mGOOGLE_APPLICATION_CREDENTIALS\u001b[39m\u001b[38;5;124m\"\u001b[39m]\n\u001b[1;32m     10\u001b[0m     GEE_SERVICE_ACCOUNT \u001b[38;5;241m=\u001b[39m os\u001b[38;5;241m.\u001b[39menviron[\u001b[38;5;124m\"\u001b[39m\u001b[38;5;124mGOOGLE_APPLICATION_USER\u001b[39m\u001b[38;5;124m\"\u001b[39m]\n\u001b[0;32m---> 11\u001b[0m     auth \u001b[38;5;241m=\u001b[39m \u001b[43mee\u001b[49m\u001b[38;5;241;43m.\u001b[39;49m\u001b[43mServiceAccountCredentials\u001b[49m\u001b[43m(\u001b[49m\u001b[43mGEE_SERVICE_ACCOUNT\u001b[49m\u001b[43m,\u001b[49m\u001b[43m \u001b[49m\u001b[43mCREDENTIAL_FILE\u001b[49m\u001b[43m)\u001b[49m\n\u001b[1;32m     12\u001b[0m     ee\u001b[38;5;241m.\u001b[39mInitialize(auth, opt_url\u001b[38;5;241m=\u001b[39m\u001b[38;5;124m'\u001b[39m\u001b[38;5;124mhttps://earthengine-highvolume.googleapis.com\u001b[39m\u001b[38;5;124m'\u001b[39m)\n\u001b[1;32m     13\u001b[0m \u001b[38;5;28;01melse\u001b[39;00m:\n",
      "File \u001b[0;32m/usr/local/anaconda3/envs/cities-cif/lib/python3.10/site-packages/ee/_helpers.py:43\u001b[0m, in \u001b[0;36mServiceAccountCredentials\u001b[0;34m(email, key_file, key_data)\u001b[0m\n\u001b[1;32m     41\u001b[0m \u001b[38;5;66;03m# Assume anything that doesn't end in '.pem' is a JSON key.\u001b[39;00m\n\u001b[1;32m     42\u001b[0m \u001b[38;5;28;01mif\u001b[39;00m key_file \u001b[38;5;129;01mand\u001b[39;00m \u001b[38;5;129;01mnot\u001b[39;00m key_file\u001b[38;5;241m.\u001b[39mendswith(\u001b[38;5;124m'\u001b[39m\u001b[38;5;124m.pem\u001b[39m\u001b[38;5;124m'\u001b[39m):\n\u001b[0;32m---> 43\u001b[0m   \u001b[38;5;28;01mreturn\u001b[39;00m \u001b[43mservice_account\u001b[49m\u001b[38;5;241;43m.\u001b[39;49m\u001b[43mCredentials\u001b[49m\u001b[38;5;241;43m.\u001b[39;49m\u001b[43mfrom_service_account_file\u001b[49m\u001b[43m(\u001b[49m\n\u001b[1;32m     44\u001b[0m \u001b[43m      \u001b[49m\u001b[43mkey_file\u001b[49m\u001b[43m,\u001b[49m\u001b[43m \u001b[49m\u001b[43mscopes\u001b[49m\u001b[38;5;241;43m=\u001b[39;49m\u001b[43moauth\u001b[49m\u001b[38;5;241;43m.\u001b[39;49m\u001b[43mSCOPES\u001b[49m\u001b[43m)\u001b[49m\n\u001b[1;32m     46\u001b[0m \u001b[38;5;66;03m# If 'key_data' can be decoded as JSON, it's probably a raw JSON key.\u001b[39;00m\n\u001b[1;32m     47\u001b[0m \u001b[38;5;28;01mif\u001b[39;00m key_data:\n",
      "File \u001b[0;32m/usr/local/anaconda3/envs/cities-cif/lib/python3.10/site-packages/google/oauth2/service_account.py:260\u001b[0m, in \u001b[0;36mCredentials.from_service_account_file\u001b[0;34m(cls, filename, **kwargs)\u001b[0m\n\u001b[1;32m    248\u001b[0m \u001b[38;5;129m@classmethod\u001b[39m\n\u001b[1;32m    249\u001b[0m \u001b[38;5;28;01mdef\u001b[39;00m \u001b[38;5;21mfrom_service_account_file\u001b[39m(\u001b[38;5;28mcls\u001b[39m, filename, \u001b[38;5;241m*\u001b[39m\u001b[38;5;241m*\u001b[39mkwargs):\n\u001b[1;32m    250\u001b[0m \u001b[38;5;250m    \u001b[39m\u001b[38;5;124;03m\"\"\"Creates a Credentials instance from a service account json file.\u001b[39;00m\n\u001b[1;32m    251\u001b[0m \n\u001b[1;32m    252\u001b[0m \u001b[38;5;124;03m    Args:\u001b[39;00m\n\u001b[0;32m   (...)\u001b[0m\n\u001b[1;32m    258\u001b[0m \u001b[38;5;124;03m            credentials.\u001b[39;00m\n\u001b[1;32m    259\u001b[0m \u001b[38;5;124;03m    \"\"\"\u001b[39;00m\n\u001b[0;32m--> 260\u001b[0m     info, signer \u001b[38;5;241m=\u001b[39m \u001b[43m_service_account_info\u001b[49m\u001b[38;5;241;43m.\u001b[39;49m\u001b[43mfrom_filename\u001b[49m\u001b[43m(\u001b[49m\n\u001b[1;32m    261\u001b[0m \u001b[43m        \u001b[49m\u001b[43mfilename\u001b[49m\u001b[43m,\u001b[49m\u001b[43m \u001b[49m\u001b[43mrequire\u001b[49m\u001b[38;5;241;43m=\u001b[39;49m\u001b[43m[\u001b[49m\u001b[38;5;124;43m\"\u001b[39;49m\u001b[38;5;124;43mclient_email\u001b[39;49m\u001b[38;5;124;43m\"\u001b[39;49m\u001b[43m,\u001b[49m\u001b[43m \u001b[49m\u001b[38;5;124;43m\"\u001b[39;49m\u001b[38;5;124;43mtoken_uri\u001b[39;49m\u001b[38;5;124;43m\"\u001b[39;49m\u001b[43m]\u001b[49m\n\u001b[1;32m    262\u001b[0m \u001b[43m    \u001b[49m\u001b[43m)\u001b[49m\n\u001b[1;32m    263\u001b[0m     \u001b[38;5;28;01mreturn\u001b[39;00m \u001b[38;5;28mcls\u001b[39m\u001b[38;5;241m.\u001b[39m_from_signer_and_info(signer, info, \u001b[38;5;241m*\u001b[39m\u001b[38;5;241m*\u001b[39mkwargs)\n",
      "File \u001b[0;32m/usr/local/anaconda3/envs/cities-cif/lib/python3.10/site-packages/google/auth/_service_account_info.py:78\u001b[0m, in \u001b[0;36mfrom_filename\u001b[0;34m(filename, require, use_rsa_signer)\u001b[0m\n\u001b[1;32m     64\u001b[0m \u001b[38;5;28;01mdef\u001b[39;00m \u001b[38;5;21mfrom_filename\u001b[39m(filename, require\u001b[38;5;241m=\u001b[39m\u001b[38;5;28;01mNone\u001b[39;00m, use_rsa_signer\u001b[38;5;241m=\u001b[39m\u001b[38;5;28;01mTrue\u001b[39;00m):\n\u001b[1;32m     65\u001b[0m \u001b[38;5;250m    \u001b[39m\u001b[38;5;124;03m\"\"\"Reads a Google service account JSON file and returns its parsed info.\u001b[39;00m\n\u001b[1;32m     66\u001b[0m \n\u001b[1;32m     67\u001b[0m \u001b[38;5;124;03m    Args:\u001b[39;00m\n\u001b[0;32m   (...)\u001b[0m\n\u001b[1;32m     76\u001b[0m \u001b[38;5;124;03m            info and a signer instance.\u001b[39;00m\n\u001b[1;32m     77\u001b[0m \u001b[38;5;124;03m    \"\"\"\u001b[39;00m\n\u001b[0;32m---> 78\u001b[0m     \u001b[38;5;28;01mwith\u001b[39;00m \u001b[43mio\u001b[49m\u001b[38;5;241;43m.\u001b[39;49m\u001b[43mopen\u001b[49m\u001b[43m(\u001b[49m\u001b[43mfilename\u001b[49m\u001b[43m,\u001b[49m\u001b[43m \u001b[49m\u001b[38;5;124;43m\"\u001b[39;49m\u001b[38;5;124;43mr\u001b[39;49m\u001b[38;5;124;43m\"\u001b[39;49m\u001b[43m,\u001b[49m\u001b[43m \u001b[49m\u001b[43mencoding\u001b[49m\u001b[38;5;241;43m=\u001b[39;49m\u001b[38;5;124;43m\"\u001b[39;49m\u001b[38;5;124;43mutf-8\u001b[39;49m\u001b[38;5;124;43m\"\u001b[39;49m\u001b[43m)\u001b[49m \u001b[38;5;28;01mas\u001b[39;00m json_file:\n\u001b[1;32m     79\u001b[0m         data \u001b[38;5;241m=\u001b[39m json\u001b[38;5;241m.\u001b[39mload(json_file)\n\u001b[1;32m     80\u001b[0m         \u001b[38;5;28;01mreturn\u001b[39;00m data, from_dict(data, require\u001b[38;5;241m=\u001b[39mrequire, use_rsa_signer\u001b[38;5;241m=\u001b[39muse_rsa_signer)\n",
      "\u001b[0;31mFileNotFoundError\u001b[0m: [Errno 2] No such file or directory: 'C:\\\\Users\\\\Saif.Shabou\\\\OneDrive - World Resources Institute\\\\Documents\\\\cities-indicators-framework\\\\citymetrix\\\\credentials-citiesindicators.json'"
     ]
=======
      "Extracting tree cover layer:\n",
      "[########################################] | 100% Completed | 19.18 s\n",
      "CPU times: total: 25.4 s\n",
      "Wall time: 25.3 s\n"
     ]
    },
    {
     "data": {
      "text/html": [
       "<div>\n",
       "<style scoped>\n",
       "    .dataframe tbody tr th:only-of-type {\n",
       "        vertical-align: middle;\n",
       "    }\n",
       "\n",
       "    .dataframe tbody tr th {\n",
       "        vertical-align: top;\n",
       "    }\n",
       "\n",
       "    .dataframe thead th {\n",
       "        text-align: right;\n",
       "    }\n",
       "</style>\n",
       "<table border=\"1\" class=\"dataframe\">\n",
       "  <thead>\n",
       "    <tr style=\"text-align: right;\">\n",
       "      <th></th>\n",
       "      <th>geo_id</th>\n",
       "      <th>geo_level</th>\n",
       "      <th>geo_name</th>\n",
       "      <th>geo_parent_name</th>\n",
       "      <th>creation_date</th>\n",
       "      <th>geometry</th>\n",
       "      <th>mean_tree_cover</th>\n",
       "    </tr>\n",
       "  </thead>\n",
       "  <tbody>\n",
       "    <tr>\n",
       "      <th>0</th>\n",
       "      <td>BRA-Salvador_ADM4-union_1</td>\n",
       "      <td>ADM4-union</td>\n",
       "      <td>BRA-Salvador</td>\n",
       "      <td>BRA-Salvador</td>\n",
       "      <td>2022-08-03</td>\n",
       "      <td>MULTIPOLYGON (((-38.50135 -13.01134, -38.50140...</td>\n",
       "      <td>28.366734</td>\n",
       "    </tr>\n",
       "  </tbody>\n",
       "</table>\n",
       "</div>"
      ],
      "text/plain": [
       "                      geo_id   geo_level      geo_name geo_parent_name  \\\n",
       "0  BRA-Salvador_ADM4-union_1  ADM4-union  BRA-Salvador    BRA-Salvador   \n",
       "\n",
       "  creation_date                                           geometry  \\\n",
       "0    2022-08-03  MULTIPOLYGON (((-38.50135 -13.01134, -38.50140...   \n",
       "\n",
       "   mean_tree_cover  \n",
       "0        28.366734  "
      ]
     },
     "execution_count": 9,
     "metadata": {},
     "output_type": "execute_result"
>>>>>>> b33b89a49c7d415a5e9adb1f5373f25e84b49584
    }
   ],
   "source": [
    "from city_metrix import mean_tree_cover"
   ]
  },
  {
   "cell_type": "code",
   "execution_count": null,
   "id": "e69f2674-dc78-4098-b423-0686944eabe8",
   "metadata": {},
   "outputs": [],
   "source": [
    "%%time\n",
    "\n",
    "# for one geography\n",
    "city_gdf_aoi[\"mean_tree_cover\"] = mean_tree_cover(city_gdf_aoi) \n",
    "city_gdf_aoi"
   ]
  },
  {
   "cell_type": "code",
   "execution_count": 8,
   "id": "71349065-4726-4a12-bbb8-1f998562c338",
   "metadata": {},
   "outputs": [
    {
     "name": "stdout",
     "output_type": "stream",
     "text": [
      "Extracting tree cover layer:\n",
      "[########################################] | 100% Completed | 14.18 s\n",
      "CPU times: total: 10.1 s\n",
      "Wall time: 16.2 s\n"
     ]
    },
    {
     "data": {
      "text/html": [
       "<div>\n",
       "<style scoped>\n",
       "    .dataframe tbody tr th:only-of-type {\n",
       "        vertical-align: middle;\n",
       "    }\n",
       "\n",
       "    .dataframe tbody tr th {\n",
       "        vertical-align: top;\n",
       "    }\n",
       "\n",
       "    .dataframe thead th {\n",
       "        text-align: right;\n",
       "    }\n",
       "</style>\n",
       "<table border=\"1\" class=\"dataframe\">\n",
       "  <thead>\n",
       "    <tr style=\"text-align: right;\">\n",
       "      <th></th>\n",
       "      <th>geo_id</th>\n",
       "      <th>geo_level</th>\n",
       "      <th>geo_name</th>\n",
       "      <th>geo_parent_name</th>\n",
       "      <th>creation_date</th>\n",
       "      <th>geometry</th>\n",
       "      <th>mean_tree_cover</th>\n",
       "    </tr>\n",
       "  </thead>\n",
       "  <tbody>\n",
       "    <tr>\n",
       "      <th>0</th>\n",
       "      <td>BRA-Salvador_ADM4_1</td>\n",
       "      <td>ADM4</td>\n",
       "      <td>Pituaçu</td>\n",
       "      <td>BRA-Salvador</td>\n",
       "      <td>2022-08-03</td>\n",
       "      <td>MULTIPOLYGON (((-38.40125 -12.96457, -38.40126...</td>\n",
       "      <td>52.392668</td>\n",
       "    </tr>\n",
       "    <tr>\n",
       "      <th>1</th>\n",
       "      <td>BRA-Salvador_ADM4_2</td>\n",
       "      <td>ADM4</td>\n",
       "      <td>Patamares</td>\n",
       "      <td>BRA-Salvador</td>\n",
       "      <td>2022-08-03</td>\n",
       "      <td>MULTIPOLYGON (((-38.39898 -12.96269, -38.39898...</td>\n",
       "      <td>43.308827</td>\n",
       "    </tr>\n",
       "    <tr>\n",
       "      <th>2</th>\n",
       "      <td>BRA-Salvador_ADM4_3</td>\n",
       "      <td>ADM4</td>\n",
       "      <td>Piatã</td>\n",
       "      <td>BRA-Salvador</td>\n",
       "      <td>2022-08-03</td>\n",
       "      <td>MULTIPOLYGON (((-38.37346 -12.93345, -38.37386...</td>\n",
       "      <td>27.410428</td>\n",
       "    </tr>\n",
       "    <tr>\n",
       "      <th>3</th>\n",
       "      <td>BRA-Salvador_ADM4_4</td>\n",
       "      <td>ADM4</td>\n",
       "      <td>Boca do Rio</td>\n",
       "      <td>BRA-Salvador</td>\n",
       "      <td>2022-08-03</td>\n",
       "      <td>MULTIPOLYGON (((-38.41741 -12.97578, -38.41746...</td>\n",
       "      <td>15.769431</td>\n",
       "    </tr>\n",
       "    <tr>\n",
       "      <th>4</th>\n",
       "      <td>BRA-Salvador_ADM4_5</td>\n",
       "      <td>ADM4</td>\n",
       "      <td>Jardim Armação</td>\n",
       "      <td>BRA-Salvador</td>\n",
       "      <td>2022-08-03</td>\n",
       "      <td>MULTIPOLYGON (((-38.43383 -12.98742, -38.43386...</td>\n",
       "      <td>21.087379</td>\n",
       "    </tr>\n",
       "  </tbody>\n",
       "</table>\n",
       "</div>"
      ],
      "text/plain": [
       "                geo_id geo_level        geo_name geo_parent_name  \\\n",
       "0  BRA-Salvador_ADM4_1      ADM4         Pituaçu    BRA-Salvador   \n",
       "1  BRA-Salvador_ADM4_2      ADM4       Patamares    BRA-Salvador   \n",
       "2  BRA-Salvador_ADM4_3      ADM4           Piatã    BRA-Salvador   \n",
       "3  BRA-Salvador_ADM4_4      ADM4     Boca do Rio    BRA-Salvador   \n",
       "4  BRA-Salvador_ADM4_5      ADM4  Jardim Armação    BRA-Salvador   \n",
       "\n",
       "  creation_date                                           geometry  \\\n",
       "0    2022-08-03  MULTIPOLYGON (((-38.40125 -12.96457, -38.40126...   \n",
       "1    2022-08-03  MULTIPOLYGON (((-38.39898 -12.96269, -38.39898...   \n",
       "2    2022-08-03  MULTIPOLYGON (((-38.37346 -12.93345, -38.37386...   \n",
       "3    2022-08-03  MULTIPOLYGON (((-38.41741 -12.97578, -38.41746...   \n",
       "4    2022-08-03  MULTIPOLYGON (((-38.43383 -12.98742, -38.43386...   \n",
       "\n",
       "   mean_tree_cover  \n",
       "0        52.392668  \n",
       "1        43.308827  \n",
       "2        27.410428  \n",
       "3        15.769431  \n",
       "4        21.087379  "
      ]
     },
     "execution_count": 8,
     "metadata": {},
     "output_type": "execute_result"
    }
   ],
   "source": [
    "%%time\n",
    "\n",
    "# for sub geographies\n",
    "city_gdf_sub[\"mean_tree_cover\"] = mean_tree_cover(city_gdf_sub) \n",
    "city_gdf_sub.head()"
   ]
  },
  {
   "cell_type": "code",
   "execution_count": 9,
   "id": "5006d2d3-6ef0-4460-b127-f72522e94585",
   "metadata": {},
   "outputs": [
    {
     "data": {
      "text/html": [
       "<div>\n",
       "<style scoped>\n",
       "    .dataframe tbody tr th:only-of-type {\n",
       "        vertical-align: middle;\n",
       "    }\n",
       "\n",
       "    .dataframe tbody tr th {\n",
       "        vertical-align: top;\n",
       "    }\n",
       "\n",
       "    .dataframe thead th {\n",
       "        text-align: right;\n",
       "    }\n",
       "</style>\n",
       "<table border=\"1\" class=\"dataframe\">\n",
       "  <thead>\n",
       "    <tr style=\"text-align: right;\">\n",
       "      <th></th>\n",
       "      <th>geo_id</th>\n",
       "      <th>geo_level</th>\n",
       "      <th>geo_name</th>\n",
       "      <th>geo_parent_name</th>\n",
       "      <th>creation_date</th>\n",
       "      <th>geometry</th>\n",
       "    </tr>\n",
       "  </thead>\n",
       "  <tbody>\n",
       "    <tr>\n",
       "      <th>0</th>\n",
       "      <td>BRA-Salvador_ADM4-union_1</td>\n",
       "      <td>ADM4-union</td>\n",
       "      <td>BRA-Salvador</td>\n",
       "      <td>BRA-Salvador</td>\n",
       "      <td>2022-08-03</td>\n",
       "      <td>MULTIPOLYGON (((-38.50135 -13.01134, -38.50140...</td>\n",
       "    </tr>\n",
       "    <tr>\n",
       "      <th>1</th>\n",
       "      <td>IDN-Jakarta_ADM-4-union_1</td>\n",
       "      <td>ADM-4-union</td>\n",
       "      <td>IDN-Jakarta</td>\n",
       "      <td>IDN-Jakarta</td>\n",
       "      <td>2022-06-27</td>\n",
       "      <td>MULTIPOLYGON (((106.78141 -6.31616, 106.78124 ...</td>\n",
       "    </tr>\n",
       "  </tbody>\n",
       "</table>\n",
       "</div>"
      ],
      "text/plain": [
       "                      geo_id    geo_level      geo_name geo_parent_name  \\\n",
       "0  BRA-Salvador_ADM4-union_1   ADM4-union  BRA-Salvador    BRA-Salvador   \n",
       "1  IDN-Jakarta_ADM-4-union_1  ADM-4-union   IDN-Jakarta     IDN-Jakarta   \n",
       "\n",
       "  creation_date                                           geometry  \n",
       "0    2022-08-03  MULTIPOLYGON (((-38.50135 -13.01134, -38.50140...  \n",
       "1    2022-06-27  MULTIPOLYGON (((106.78141 -6.31616, 106.78124 ...  "
      ]
     },
     "execution_count": 9,
     "metadata": {},
     "output_type": "execute_result"
    }
   ],
   "source": [
    "# Calculate indicator for multiple regions of interest\n",
    "\n",
    "boundary_path = 'https://cities-indicators.s3.eu-west-3.amazonaws.com/data/boundaries/boundary-BRA-Salvador-ADM4union.geojson'\n",
    "city_Salvador = gpd.read_file(boundary_path, driver='GeoJSON')\n",
    "\n",
    "boundary_path = 'https://cities-indicators.s3.eu-west-3.amazonaws.com/data/boundaries/boundary-IDN-Jakarta-ADM4union.geojson'\n",
    "city_Jakarta = gpd.read_file(boundary_path, driver='GeoJSON')\n",
    "\n",
    "cities = pd.concat([city_Salvador, city_Jakarta])\n",
    "cities = cities.reset_index(drop=True)\n",
    "cities"
   ]
  },
  {
   "cell_type": "code",
   "execution_count": 10,
   "id": "47791e3e-3761-404e-96a5-26493cc8ef54",
   "metadata": {},
   "outputs": [
    {
     "name": "stdout",
     "output_type": "stream",
     "text": [
      "Extracting tree cover layer:\n",
      "[########################################] | 100% Completed | 11.78 s\n"
     ]
    },
    {
     "name": "stderr",
     "output_type": "stream",
     "text": [
      "C:\\Users\\Saif.Shabou\\AppData\\Local\\Temp\\ipykernel_48720\\1441690336.py:4: FutureWarning: Calling float on a single element Series is deprecated and will raise a TypeError in the future. Use float(ser.iloc[0]) instead\n",
      "  city_indicator = float(mean_tree_cover(city))\n"
     ]
    },
    {
     "name": "stdout",
     "output_type": "stream",
     "text": [
      "Extracting tree cover layer:\n",
      "[########################################] | 100% Completed | 11.60 s\n"
     ]
    },
    {
     "name": "stderr",
     "output_type": "stream",
     "text": [
      "C:\\Users\\Saif.Shabou\\AppData\\Local\\Temp\\ipykernel_48720\\1441690336.py:4: FutureWarning: Calling float on a single element Series is deprecated and will raise a TypeError in the future. Use float(ser.iloc[0]) instead\n",
      "  city_indicator = float(mean_tree_cover(city))\n"
     ]
    }
   ],
   "source": [
    "# loop over cities\n",
    "for i in range(0,len(cities)):\n",
    "    city = cities.loc[[i]]\n",
    "    city_indicator = float(mean_tree_cover(city))\n",
    "    cities.loc[i,\"mean_tree_cover\"] = city_indicator"
   ]
  },
  {
   "cell_type": "code",
   "execution_count": 11,
   "id": "d58a38fd-adea-4961-b0f8-abac0d0943cf",
   "metadata": {},
   "outputs": [
    {
     "data": {
      "text/html": [
       "<div>\n",
       "<style scoped>\n",
       "    .dataframe tbody tr th:only-of-type {\n",
       "        vertical-align: middle;\n",
       "    }\n",
       "\n",
       "    .dataframe tbody tr th {\n",
       "        vertical-align: top;\n",
       "    }\n",
       "\n",
       "    .dataframe thead th {\n",
       "        text-align: right;\n",
       "    }\n",
       "</style>\n",
       "<table border=\"1\" class=\"dataframe\">\n",
       "  <thead>\n",
       "    <tr style=\"text-align: right;\">\n",
       "      <th></th>\n",
       "      <th>geo_id</th>\n",
       "      <th>geo_level</th>\n",
       "      <th>geo_name</th>\n",
       "      <th>geo_parent_name</th>\n",
       "      <th>creation_date</th>\n",
       "      <th>geometry</th>\n",
       "      <th>mean_tree_cover</th>\n",
       "    </tr>\n",
       "  </thead>\n",
       "  <tbody>\n",
       "    <tr>\n",
       "      <th>0</th>\n",
       "      <td>BRA-Salvador_ADM4-union_1</td>\n",
       "      <td>ADM4-union</td>\n",
       "      <td>BRA-Salvador</td>\n",
       "      <td>BRA-Salvador</td>\n",
       "      <td>2022-08-03</td>\n",
       "      <td>MULTIPOLYGON (((-38.50135 -13.01134, -38.50140...</td>\n",
       "      <td>28.366734</td>\n",
       "    </tr>\n",
       "    <tr>\n",
       "      <th>1</th>\n",
       "      <td>IDN-Jakarta_ADM-4-union_1</td>\n",
       "      <td>ADM-4-union</td>\n",
       "      <td>IDN-Jakarta</td>\n",
       "      <td>IDN-Jakarta</td>\n",
       "      <td>2022-06-27</td>\n",
       "      <td>MULTIPOLYGON (((106.78141 -6.31616, 106.78124 ...</td>\n",
       "      <td>15.871763</td>\n",
       "    </tr>\n",
       "  </tbody>\n",
       "</table>\n",
       "</div>"
      ],
      "text/plain": [
       "                      geo_id    geo_level      geo_name geo_parent_name  \\\n",
       "0  BRA-Salvador_ADM4-union_1   ADM4-union  BRA-Salvador    BRA-Salvador   \n",
       "1  IDN-Jakarta_ADM-4-union_1  ADM-4-union   IDN-Jakarta     IDN-Jakarta   \n",
       "\n",
       "  creation_date                                           geometry  \\\n",
       "0    2022-08-03  MULTIPOLYGON (((-38.50135 -13.01134, -38.50140...   \n",
       "1    2022-06-27  MULTIPOLYGON (((106.78141 -6.31616, 106.78124 ...   \n",
       "\n",
       "   mean_tree_cover  \n",
       "0        28.366734  \n",
       "1        15.871763  "
      ]
     },
     "execution_count": 11,
     "metadata": {},
     "output_type": "execute_result"
    }
   ],
   "source": [
    "cities"
   ]
  },
  {
   "cell_type": "markdown",
   "id": "8aa3590f-b78e-4c57-872b-c5056266ff1a",
   "metadata": {
    "tags": []
   },
   "source": [
    "# HEA-4 Percent of built land without tree cover"
   ]
  },
  {
   "cell_type": "code",
   "execution_count": 10,
   "id": "e5948b81-cb27-4c97-9567-a297e078cdb5",
   "metadata": {},
   "outputs": [],
   "source": [
    "from city_metrix.metrics import built_land_without_tree_cover"
   ]
  },
  {
   "cell_type": "code",
   "execution_count": 11,
   "id": "10e89534-19d7-4dba-bc98-d4f3dd8b95f4",
   "metadata": {},
   "outputs": [
    {
     "name": "stdout",
     "output_type": "stream",
     "text": [
      "Extracting ESA world cover layer:\n",
      "[########################################] | 100% Completed | 8.37 ss\n",
      "Extracting tree cover layer:\n",
      "[########################################] | 100% Completed | 12.18 s\n",
      "Extracting ESA world cover layer:\n",
      "[########################################] | 100% Completed | 8.61 ss\n",
      "CPU times: total: 27.7 s\n",
      "Wall time: 37.5 s\n"
     ]
    },
    {
     "data": {
      "text/html": [
       "<div>\n",
       "<style scoped>\n",
       "    .dataframe tbody tr th:only-of-type {\n",
       "        vertical-align: middle;\n",
       "    }\n",
       "\n",
       "    .dataframe tbody tr th {\n",
       "        vertical-align: top;\n",
       "    }\n",
       "\n",
       "    .dataframe thead th {\n",
       "        text-align: right;\n",
       "    }\n",
       "</style>\n",
       "<table border=\"1\" class=\"dataframe\">\n",
       "  <thead>\n",
       "    <tr style=\"text-align: right;\">\n",
       "      <th></th>\n",
       "      <th>geo_id</th>\n",
       "      <th>geo_level</th>\n",
       "      <th>geo_name</th>\n",
       "      <th>geo_parent_name</th>\n",
       "      <th>creation_date</th>\n",
       "      <th>geometry</th>\n",
       "      <th>mean_tree_cover</th>\n",
       "      <th>built_land_without_tree_cover</th>\n",
       "    </tr>\n",
       "  </thead>\n",
       "  <tbody>\n",
       "    <tr>\n",
       "      <th>0</th>\n",
       "      <td>BRA-Salvador_ADM4-union_1</td>\n",
       "      <td>ADM4-union</td>\n",
       "      <td>BRA-Salvador</td>\n",
       "      <td>BRA-Salvador</td>\n",
       "      <td>2022-08-03</td>\n",
       "      <td>MULTIPOLYGON (((-38.50135 -13.01134, -38.50140...</td>\n",
       "      <td>28.366734</td>\n",
       "      <td>0.907382</td>\n",
       "    </tr>\n",
       "  </tbody>\n",
       "</table>\n",
       "</div>"
      ],
      "text/plain": [
       "                      geo_id   geo_level      geo_name geo_parent_name  \\\n",
       "0  BRA-Salvador_ADM4-union_1  ADM4-union  BRA-Salvador    BRA-Salvador   \n",
       "\n",
       "  creation_date                                           geometry  \\\n",
       "0    2022-08-03  MULTIPOLYGON (((-38.50135 -13.01134, -38.50140...   \n",
       "\n",
       "   mean_tree_cover  built_land_without_tree_cover  \n",
       "0        28.366734                       0.907382  "
      ]
     },
     "execution_count": 11,
     "metadata": {},
     "output_type": "execute_result"
    }
   ],
   "source": [
    "%%time\n",
    "\n",
    "# for one geography\n",
    "city_gdf_aoi[\"built_land_without_tree_cover\"] = built_land_without_tree_cover(city_gdf_aoi) \n",
    "city_gdf_aoi"
   ]
  },
  {
   "cell_type": "markdown",
   "id": "afbb60b1-437f-4af5-99fe-9679559b250b",
   "metadata": {},
   "source": [
    "# HEA-3 Built land with Low Surface reflectivity"
   ]
  },
  {
   "cell_type": "code",
   "execution_count": 12,
   "id": "3c61a81e-f575-4d24-863d-ca9b7be34ad5",
   "metadata": {},
   "outputs": [],
   "source": [
    "from city_metrix.metrics import built_land_with_low_surface_reflectivity"
   ]
  },
  {
   "cell_type": "code",
   "execution_count": 13,
   "id": "748d1d72-c4fe-4c6c-91f6-99dac052bdd8",
   "metadata": {},
   "outputs": [
    {
     "name": "stdout",
     "output_type": "stream",
     "text": [
      "Extracting ESA world cover layer:\n",
      "[########################################] | 100% Completed | 8.21 ss\n",
      "Calculating albedo layer:\n",
      "[########################################] | 100% Completed | 84.36 s\n",
      "Extracting ESA world cover layer:\n",
      "[########################################] | 100% Completed | 8.32 ss\n",
      "CPU times: total: 30.5 s\n",
      "Wall time: 1min 49s\n"
     ]
    },
    {
     "data": {
      "text/html": [
       "<div>\n",
       "<style scoped>\n",
       "    .dataframe tbody tr th:only-of-type {\n",
       "        vertical-align: middle;\n",
       "    }\n",
       "\n",
       "    .dataframe tbody tr th {\n",
       "        vertical-align: top;\n",
       "    }\n",
       "\n",
       "    .dataframe thead th {\n",
       "        text-align: right;\n",
       "    }\n",
       "</style>\n",
       "<table border=\"1\" class=\"dataframe\">\n",
       "  <thead>\n",
       "    <tr style=\"text-align: right;\">\n",
       "      <th></th>\n",
       "      <th>geo_id</th>\n",
       "      <th>geo_level</th>\n",
       "      <th>geo_name</th>\n",
       "      <th>geo_parent_name</th>\n",
       "      <th>creation_date</th>\n",
       "      <th>geometry</th>\n",
       "      <th>mean_tree_cover</th>\n",
       "      <th>built_land_without_tree_cover</th>\n",
       "      <th>built_land_with_low_surface_reflectivity</th>\n",
       "    </tr>\n",
       "  </thead>\n",
       "  <tbody>\n",
       "    <tr>\n",
       "      <th>0</th>\n",
       "      <td>BRA-Salvador_ADM4-union_1</td>\n",
       "      <td>ADM4-union</td>\n",
       "      <td>BRA-Salvador</td>\n",
       "      <td>BRA-Salvador</td>\n",
       "      <td>2022-08-03</td>\n",
       "      <td>MULTIPOLYGON (((-38.50135 -13.01134, -38.50140...</td>\n",
       "      <td>28.366734</td>\n",
       "      <td>0.907382</td>\n",
       "      <td>0.786552</td>\n",
       "    </tr>\n",
       "  </tbody>\n",
       "</table>\n",
       "</div>"
      ],
      "text/plain": [
       "                      geo_id   geo_level      geo_name geo_parent_name  \\\n",
       "0  BRA-Salvador_ADM4-union_1  ADM4-union  BRA-Salvador    BRA-Salvador   \n",
       "\n",
       "  creation_date                                           geometry  \\\n",
       "0    2022-08-03  MULTIPOLYGON (((-38.50135 -13.01134, -38.50140...   \n",
       "\n",
       "   mean_tree_cover  built_land_without_tree_cover  \\\n",
       "0        28.366734                       0.907382   \n",
       "\n",
       "   built_land_with_low_surface_reflectivity  \n",
       "0                                  0.786552  "
      ]
     },
     "execution_count": 13,
     "metadata": {},
     "output_type": "execute_result"
    }
   ],
   "source": [
    "%%time\n",
    "\n",
    "city_gdf_aoi[\"built_land_with_low_surface_reflectivity\"] = built_land_with_low_surface_reflectivity(city_gdf_aoi) \n",
    "city_gdf_aoi"
   ]
  },
  {
   "cell_type": "markdown",
   "id": "bbfcabaa-2acc-4b9b-bdce-27b415e04354",
   "metadata": {},
   "source": [
    "# HEA-2 Built Land With High LST"
   ]
  },
  {
   "cell_type": "code",
   "execution_count": 14,
   "id": "6df5d7a3-1c25-49ac-ab33-9081722168c9",
   "metadata": {},
   "outputs": [],
   "source": [
    "from city_metrix.metrics import built_land_with_high_land_surface_temperature"
   ]
  },
  {
   "cell_type": "code",
   "execution_count": 15,
   "id": "5288d4e6-e35d-48f4-9ff7-2d84c857b21a",
   "metadata": {},
   "outputs": [
    {
     "name": "stdout",
     "output_type": "stream",
     "text": [
      "Extracting ESA world cover layer:\n",
      "[########################################] | 100% Completed | 8.65 ss\n",
      "Calculating land surface temperature layer:\n",
      "[########################################] | 100% Completed | 2.73 ss\n",
      "Extracting ESA world cover layer:\n",
      "[########################################] | 100% Completed | 9.16 ss\n",
      "CPU times: total: 14.8 s\n",
      "Wall time: 37.7 s\n"
     ]
    },
    {
     "data": {
      "text/html": [
       "<div>\n",
       "<style scoped>\n",
       "    .dataframe tbody tr th:only-of-type {\n",
       "        vertical-align: middle;\n",
       "    }\n",
       "\n",
       "    .dataframe tbody tr th {\n",
       "        vertical-align: top;\n",
       "    }\n",
       "\n",
       "    .dataframe thead th {\n",
       "        text-align: right;\n",
       "    }\n",
       "</style>\n",
       "<table border=\"1\" class=\"dataframe\">\n",
       "  <thead>\n",
       "    <tr style=\"text-align: right;\">\n",
       "      <th></th>\n",
       "      <th>geo_id</th>\n",
       "      <th>geo_level</th>\n",
       "      <th>geo_name</th>\n",
       "      <th>geo_parent_name</th>\n",
       "      <th>creation_date</th>\n",
       "      <th>geometry</th>\n",
       "      <th>mean_tree_cover</th>\n",
       "      <th>built_land_without_tree_cover</th>\n",
       "      <th>built_land_with_low_surface_reflectivity</th>\n",
       "      <th>built_land_with_high_land_surface_temperature</th>\n",
       "    </tr>\n",
       "  </thead>\n",
       "  <tbody>\n",
       "    <tr>\n",
       "      <th>0</th>\n",
       "      <td>BRA-Salvador_ADM4-union_1</td>\n",
       "      <td>ADM4-union</td>\n",
       "      <td>BRA-Salvador</td>\n",
       "      <td>BRA-Salvador</td>\n",
       "      <td>2022-08-03</td>\n",
       "      <td>MULTIPOLYGON (((-38.50135 -13.01134, -38.50140...</td>\n",
       "      <td>28.366734</td>\n",
       "      <td>0.907382</td>\n",
       "      <td>0.786552</td>\n",
       "      <td>0.0961</td>\n",
       "    </tr>\n",
       "  </tbody>\n",
       "</table>\n",
       "</div>"
      ],
      "text/plain": [
       "                      geo_id   geo_level      geo_name geo_parent_name  \\\n",
       "0  BRA-Salvador_ADM4-union_1  ADM4-union  BRA-Salvador    BRA-Salvador   \n",
       "\n",
       "  creation_date                                           geometry  \\\n",
       "0    2022-08-03  MULTIPOLYGON (((-38.50135 -13.01134, -38.50140...   \n",
       "\n",
       "   mean_tree_cover  built_land_without_tree_cover  \\\n",
       "0        28.366734                       0.907382   \n",
       "\n",
       "   built_land_with_low_surface_reflectivity  \\\n",
       "0                                  0.786552   \n",
       "\n",
       "   built_land_with_high_land_surface_temperature  \n",
       "0                                         0.0961  "
      ]
     },
     "execution_count": 15,
     "metadata": {},
     "output_type": "execute_result"
    }
   ],
   "source": [
    "%%time\n",
    "\n",
    "city_gdf_aoi[\"built_land_with_high_land_surface_temperature\"] = built_land_with_high_land_surface_temperature(city_gdf_aoi) \n",
    "city_gdf_aoi"
   ]
  },
  {
   "cell_type": "markdown",
   "id": "feb93688-9435-47a5-be31-0a806dd48fe1",
   "metadata": {},
   "source": [
    "# Percent of Natural areas"
   ]
  },
  {
   "cell_type": "code",
   "execution_count": 18,
   "id": "aee87e06-d16d-4017-a5e1-7fd8cef906d4",
   "metadata": {},
   "outputs": [],
   "source": [
    "from city_metrix.metrics import natural_areas"
   ]
  },
  {
   "cell_type": "code",
   "execution_count": 19,
   "id": "026261af-a18d-4c0c-bdb8-b11a3c192ddc",
   "metadata": {},
   "outputs": [
    {
     "ename": "TypeError",
     "evalue": "'module' object is not callable",
     "output_type": "error",
     "traceback": [
      "\u001B[1;31m---------------------------------------------------------------------------\u001B[0m",
      "\u001B[1;31mTypeError\u001B[0m                                 Traceback (most recent call last)",
      "File \u001B[1;32m<timed exec>:2\u001B[0m\n",
      "\u001B[1;31mTypeError\u001B[0m: 'module' object is not callable"
     ]
    }
   ],
   "source": [
    "%%time\n",
    "\n",
    "# for one geography\n",
    "city_gdf_aoi[\"natural_areas\"] = natural_areas(city_gdf_aoi) \n",
    "city_gdf_aoi"
   ]
  },
  {
   "cell_type": "markdown",
   "id": "b05cef42-67cd-4cdc-a7db-5f34ddd7837b",
   "metadata": {},
   "source": [
    "# Open Space in built up land"
   ]
  },
  {
   "cell_type": "code",
   "execution_count": 21,
   "id": "b4281469-9ca5-4b2c-a308-32f2e2fd5404",
   "metadata": {},
   "outputs": [],
   "source": [
    "from city_metrix.metrics import urban_open_space"
   ]
  },
  {
   "cell_type": "code",
   "execution_count": 22,
   "id": "db612f31-eb82-4a10-9433-0907f0a64a0e",
   "metadata": {},
   "outputs": [
    {
     "name": "stdout",
     "output_type": "stream",
     "text": [
      "Extracting ESA world cover layer:\n",
      "[########################################] | 100% Completed | 12.48 s\n",
      "Extracting ESA world cover layer:\n",
      "[########################################] | 100% Completed | 9.08 ss\n",
      "CPU times: total: 24 s\n",
      "Wall time: 31.1 s\n"
     ]
    },
    {
     "data": {
      "text/html": [
       "<div>\n",
       "<style scoped>\n",
       "    .dataframe tbody tr th:only-of-type {\n",
       "        vertical-align: middle;\n",
       "    }\n",
       "\n",
       "    .dataframe tbody tr th {\n",
       "        vertical-align: top;\n",
       "    }\n",
       "\n",
       "    .dataframe thead th {\n",
       "        text-align: right;\n",
       "    }\n",
       "</style>\n",
       "<table border=\"1\" class=\"dataframe\">\n",
       "  <thead>\n",
       "    <tr style=\"text-align: right;\">\n",
       "      <th></th>\n",
       "      <th>geo_id</th>\n",
       "      <th>geo_level</th>\n",
       "      <th>geo_name</th>\n",
       "      <th>geo_parent_name</th>\n",
       "      <th>creation_date</th>\n",
       "      <th>geometry</th>\n",
       "      <th>mean_tree_cover</th>\n",
       "      <th>built_land_without_tree_cover</th>\n",
       "      <th>built_land_with_low_surface_reflectivity</th>\n",
       "      <th>built_land_with_high_land_surface_temperature</th>\n",
       "      <th>urban_open_space</th>\n",
       "    </tr>\n",
       "  </thead>\n",
       "  <tbody>\n",
       "    <tr>\n",
       "      <th>0</th>\n",
       "      <td>BRA-Salvador_ADM4-union_1</td>\n",
       "      <td>ADM4-union</td>\n",
       "      <td>BRA-Salvador</td>\n",
       "      <td>BRA-Salvador</td>\n",
       "      <td>2022-08-03</td>\n",
       "      <td>MULTIPOLYGON (((-38.50135 -13.01134, -38.50140...</td>\n",
       "      <td>28.366734</td>\n",
       "      <td>0.907382</td>\n",
       "      <td>0.786552</td>\n",
       "      <td>0.0961</td>\n",
       "      <td>0.028378</td>\n",
       "    </tr>\n",
       "  </tbody>\n",
       "</table>\n",
       "</div>"
      ],
      "text/plain": [
       "                      geo_id   geo_level      geo_name geo_parent_name  \\\n",
       "0  BRA-Salvador_ADM4-union_1  ADM4-union  BRA-Salvador    BRA-Salvador   \n",
       "\n",
       "  creation_date                                           geometry  \\\n",
       "0    2022-08-03  MULTIPOLYGON (((-38.50135 -13.01134, -38.50140...   \n",
       "\n",
       "   mean_tree_cover  built_land_without_tree_cover  \\\n",
       "0        28.366734                       0.907382   \n",
       "\n",
       "   built_land_with_low_surface_reflectivity  \\\n",
       "0                                  0.786552   \n",
       "\n",
       "   built_land_with_high_land_surface_temperature  urban_open_space  \n",
       "0                                         0.0961          0.028378  "
      ]
     },
     "execution_count": 22,
     "metadata": {},
     "output_type": "execute_result"
    }
   ],
   "source": [
    "%%time\n",
    "\n",
    "# for one geography\n",
    "city_gdf_aoi[\"urban_open_space\"] = urban_open_space(city_gdf_aoi) \n",
    "city_gdf_aoi"
   ]
  },
  {
   "cell_type": "code",
   "execution_count": null,
   "id": "951151f1-e0f5-4a8a-99a7-19a6f7c84591",
   "metadata": {},
   "outputs": [],
   "source": []
  }
 ],
 "metadata": {
  "kernelspec": {
   "display_name": "Python 3 (ipykernel)",
   "language": "python",
   "name": "python3"
  },
  "language_info": {
   "codemirror_mode": {
    "name": "ipython",
    "version": 3
   },
   "file_extension": ".py",
   "mimetype": "text/x-python",
   "name": "python",
   "nbconvert_exporter": "python",
   "pygments_lexer": "ipython3",
   "version": "3.10.13"
  }
 },
 "nbformat": 4,
 "nbformat_minor": 5
}