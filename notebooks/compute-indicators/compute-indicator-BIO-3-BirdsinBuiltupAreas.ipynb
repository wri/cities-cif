{
 "cells": [
  {
   "cell_type": "code",
   "execution_count": null,
   "id": "68aeaf86-c2d4-405b-b374-b905fbea1f7d",
   "metadata": {
    "tags": []
   },
   "outputs": [],
   "source": [
    "# import sys\n",
    "# !{sys.executable} -m pip install pip earthengine-api\n",
    "# !{sys.executable} -m pip install pip geemap\n",
    "# !{sys.executable} -m pip install --extra-index-url https://artifactory.vgt.vito.be/api/pypi/python-packages/simple terracatalogueclient\n",
    "# !{sys.executable} -m pip install pip rasterstats"
   ]
  },
  {
   "cell_type": "code",
   "execution_count": null,
   "id": "f6a181c1-70ac-49b2-94ff-0ea12016a341",
   "metadata": {},
   "outputs": [],
   "source": [
    "import warnings\n",
    "warnings.filterwarnings(action='ignore')"
   ]
  },
  {
   "cell_type": "code",
   "execution_count": null,
   "id": "290c014e-c5e7-4b00-b2bd-f20ea0ffff6d",
   "metadata": {},
   "outputs": [],
   "source": [
    "import os, requests, json, geojson\n",
    "import random, scipy\n",
    "from collections import defaultdict\n",
    "from scipy.optimize import curve_fit\n",
    "import numpy as np\n",
    "from shapely.geometry import Point, Polygon, MultiPolygon, shape\n",
    "from shapely.ops import unary_union\n",
    "import rasterio\n",
    "from rasterio.features import shapes\n",
    "import shapely\n",
    "from shapely.ops import transform\n",
    "from rasterio.merge import merge as rmerge\n",
    "import rasterio.mask\n",
    "from rasterstats import point_query\n",
    "import pandas as pd\n",
    "import geopandas as gpd\n",
    "import ee\n",
    "import geemap\n",
    "from terracatalogueclient import Catalogue as Terracat\n",
    "import boto3"
   ]
  },
  {
   "cell_type": "code",
   "execution_count": null,
   "id": "8db1a1d5-f024-4467-8f2b-1fe9ee2e1a53",
   "metadata": {},
   "outputs": [],
   "source": [
    "# ee.Authenticate()"
   ]
  },
  {
   "cell_type": "code",
   "execution_count": null,
   "id": "900da101-e53b-4654-ae29-947267be8a12",
   "metadata": {},
   "outputs": [],
   "source": [
    "ee.Initialize()"
   ]
  },
  {
   "cell_type": "code",
   "execution_count": null,
   "id": "3e256bf6-92e1-405b-a106-6fc62ba43422",
   "metadata": {},
   "outputs": [],
   "source": [
    "# define directory\n",
    "out_dir = os.getcwd()\n",
    "bucket_name = 'cities-indicators'\n",
    "aws_s3_dir = \"https://\"+bucket_name+\".s3.eu-west-3.amazonaws.com\"\n",
    "boundary_ext = '/data/boundaries/'\n",
    "indicators_file_aws = 'indicators/indicators.csv'"
   ]
  },
  {
   "cell_type": "code",
   "execution_count": null,
   "id": "056b5d7a-3f85-4ab8-a35c-8e321092772f",
   "metadata": {},
   "outputs": [],
   "source": [
    "OUTPUT_FILENAME = 'BIO-3-BirdsinBuiltupAreas.csv'"
   ]
  },
  {
   "cell_type": "code",
   "execution_count": null,
   "id": "e70a8b57-2583-4aa6-8490-f885ad739d02",
   "metadata": {},
   "outputs": [],
   "source": [
    "API_URL = 'https://api.gbif.org/v1/occurrence/search/'\n",
    "DATASETKEY = '50c9509d-22c7-4a22-a47d-8c48425ef4a7'  # iNaturalist research-grade observations\n",
    "#TAXONKEYS = {'Arthropoda': '54', 'Aves': '212', 'Tracheophyta': '7707728'}\n",
    "TAXON = 'Aves'\n",
    "TAXON_KEY = '212'\n",
    "STARTYEAR = '2016'\n",
    "ENDYEAR = '2021'\n",
    "LIMIT = 300\n",
    "\n",
    "NUM_CURVEFITS = 200"
   ]
  },
  {
   "cell_type": "code",
   "execution_count": null,
   "id": "7c582548-e301-42fa-8c35-fcef0e5821ad",
   "metadata": {},
   "outputs": [],
   "source": [
    "worldcover_catalogue = Terracat().authenticate() \n",
    "terracat = worldcover_catalogue.authenticate_non_interactive('tedwongwri', 'WRIpass12!')"
   ]
  },
  {
   "cell_type": "code",
   "execution_count": null,
   "id": "667abf1c-7d80-4afa-9b61-37419706b6b1",
   "metadata": {
    "tags": []
   },
   "outputs": [],
   "source": [
    "# get list of cities\n",
    "boundary_georef = pd.read_csv(aws_s3_dir + boundary_ext + 'boundary_georef.csv')\n",
    "boundary_georef"
   ]
  },
  {
   "cell_type": "code",
   "execution_count": null,
   "id": "ba6946dc-b73c-44b9-80cc-562d0db945c9",
   "metadata": {},
   "outputs": [],
   "source": [
    "def boundingbox_wkt(p):\n",
    "    # Returns WKT for bounding box.\n",
    "    # Necessary because GBIF API won't accept complex polygons.\n",
    "    minx, miny, maxx, maxy = p.bounds\n",
    "    return 'POLYGON (({0} {3}, {0} {2}, {1} {2}, {0} {3}))'.format(str(minx), str(maxx), str(miny), str(maxy))"
   ]
  },
  {
   "cell_type": "code",
   "execution_count": null,
   "id": "e3ad8ecb-81c0-4f04-80f2-e2b6945c66f4",
   "metadata": {},
   "outputs": [],
   "source": [
    "def classify_builtup(r):\n",
    "    r[r != 50] = 0\n",
    "    r[r == 50] = 1    # built up\n",
    "    return r"
   ]
  },
  {
   "cell_type": "code",
   "execution_count": null,
   "id": "63ff1e63-964f-4f55-a5a8-9ed1006f0dfb",
   "metadata": {},
   "outputs": [],
   "source": [
    "# This function clips and masks raster\n",
    "# Adapted from https://gis.stackexchange.com/a/387772\n",
    "\n",
    "def mask_raster_with_geometry(raster, transform, shapes, **kwargs):\n",
    "    \"\"\"Wrapper for rasterio.mask.mask to allow for in-memory processing.\n",
    "\n",
    "    Docs: https://rasterio.readthedocs.io/en/latest/api/rasterio.mask.html\n",
    "\n",
    "    Args:\n",
    "        raster (numpy.ndarray): raster to be masked with dim: [H, W]\n",
    "        transform (affine.Affine): the transform of the raster\n",
    "        shapes, **kwargs: passed to rasterio.mask.mask\n",
    "\n",
    "    Returns:\n",
    "        masked: numpy.ndarray or numpy.ma.MaskedArray with dim: [H, W], and new affine transform\n",
    "    \"\"\"\n",
    "    with rasterio.io.MemoryFile() as memfile:\n",
    "        with memfile.open(\n",
    "            driver='GTiff',\n",
    "            height=raster.shape[0],\n",
    "            width=raster.shape[1],\n",
    "            count=1,\n",
    "            dtype=raster.dtype,\n",
    "            transform=transform,\n",
    "        ) as dataset:\n",
    "            dataset.write(raster, 1)\n",
    "        with memfile.open() as dataset:\n",
    "            output, new_transform = rasterio.mask.mask(dataset, shapes, **kwargs)\n",
    "    return output.squeeze(0), new_transform"
   ]
  },
  {
   "cell_type": "code",
   "execution_count": null,
   "id": "573580c6-e545-49df-9d8c-f27d3599f64f",
   "metadata": {},
   "outputs": [],
   "source": [
    "def get_birdcount(poly, builtup_raster, builtupraster_transform):\n",
    "    outputs = []\n",
    "    # Get observation records from GBIF\n",
    "    \n",
    "    observations = []\n",
    "    \n",
    "    if poly.type == 'MultiPolygon':\n",
    "        poly = unary_union(poly)\n",
    "    \n",
    "    if str(poly) != 'GEOMETRYCOLLECTION EMPTY':\n",
    "        box = boundingbox_wkt(poly)\n",
    "\n",
    "        offset = -LIMIT\n",
    "        while offset == -LIMIT or not results['endOfRecords']:\n",
    "            offset += LIMIT\n",
    "            url = '{0}?dataset_key={1}&taxon_key={2}&year={3},{4}&geometry={5}&limit={6}&offset={7}&hasCoordinate=true'.format(API_URL, DATASETKEY, TAXON_KEY, STARTYEAR, ENDYEAR, box, LIMIT, offset)\n",
    "            resp = requests.get(url)\n",
    "            results = resp.json()\n",
    "            print('  {0}: {1}/{2}'.format(TAXON, results['offset'], results['count']))\n",
    "            # Note spatial subsetting of points happens below (twice) as part of the conditions in the list comprehensions\n",
    "            observations += [{\n",
    "                'species': i['species'],\n",
    "                'lat': i['decimalLatitude'],  # We don't really need to save lat/lon for this\n",
    "                'lon': i['decimalLongitude'],\n",
    "            } for i in results['results'] if 'species' in i.keys() and Point(float(i['decimalLongitude']), float(i['decimalLatitude'])).within(poly)]\n",
    "        observations = [j for j in observations if point_query(Point((j['lon'], j['lat'])), builtup_raster, affine=builtupraster_transform)[0] != 0]\n",
    "        # Estimate species counts by estimating asymptote of species-accumulation curve created when observation order is randomized\n",
    "        # Final estimate is average over NUM_CURVEFITS estimates\n",
    "\n",
    "        #count_estimate = None\n",
    "        if len(observations) > 1:\n",
    "            taxon_observations = [i['species'] for i in observations]\n",
    "            asymptotes = []\n",
    "            tries = 0\n",
    "            while len(asymptotes) < NUM_CURVEFITS:   # Different observation-orders give different results, so average over many\n",
    "                tries += 1\n",
    "                taxon_observations.sort(key=lambda x: random.random())                    # Randomize order of observations\n",
    "                sac = []                                                            # Initialize species accumulation curve data\n",
    "                for obs_count in range(1, len(taxon_observations)):                       # Go through observation list from beginning\n",
    "                    sac.append(len(set(taxon_observations[:obs_count])))                  # and count unique species from start to index\n",
    "                if len(sac) > 5 and tries <= 1000:          # Avoid letting infinite-species errors stop the process\n",
    "                    try:\n",
    "                        asymptotes.append(scipy.optimize.curve_fit(lambda x,a,b,c: -((a*np.exp(-b*x))+c), list(range(1, len(sac)+1)), sac)[0][2])\n",
    "                    except:\n",
    "                        pass\n",
    "                else:\n",
    "                    asymptotes.append(-1)\n",
    "            if -1 in asymptotes:\n",
    "                count_estimate = -9999\n",
    "            else:\n",
    "                count_estimate = -round(np.mean(asymptotes))\n",
    "            return count_estimate\n",
    "    return -9999"
   ]
  },
  {
   "cell_type": "code",
   "execution_count": null,
   "id": "7cb88e40-da2a-4403-b1a2-ad7412ef2b1f",
   "metadata": {},
   "outputs": [],
   "source": [
    "def do_one_geom(row):\n",
    "    poly = row[0]\n",
    "    if poly.type == 'Polygon':\n",
    "        poly = MultiPolygon([poly])\n",
    "    \n",
    "    box = boundingbox_wkt(poly)\n",
    "    products = terracat.get_products('urn:eop:VITO:ESA_WorldCover_10m_2020_V1', geometry=box)\n",
    "    \n",
    "    # Create mosaic raster of Worldcover rasters downloaded from ESA\n",
    "    rasters_to_mosaic = []\n",
    "    for product in products:\n",
    "        if not '{0}dir'.format(product.title) in os.listdir('.'):\n",
    "            terracat.download_file(product.data[0], '{0}dir'.format(product.title))\n",
    "        raster = rasterio.open('{0}dir/{0}_Map.tif'.format(product.title))\n",
    "        rasters_to_mosaic.append(raster)\n",
    "\n",
    "    mosaic, mosaic_transform = rmerge(rasters_to_mosaic)\n",
    "    \n",
    "    # Clip raster to district boundary\n",
    "    clipped_raster, clip_transform = mask_raster_with_geometry(mosaic[0], mosaic_transform, poly, crop=True)\n",
    "    # Classify clipped raster as habitat/nonhabitat\n",
    "    builtup_raster = classify_builtup(clipped_raster)\n",
    "    \n",
    "    birdcount = get_birdcount(poly, builtup_raster, clip_transform)\n",
    "    return birdcount"
   ]
  },
  {
   "cell_type": "code",
   "execution_count": null,
   "id": "13a68ee2-32dd-4076-80de-73769371dcc0",
   "metadata": {},
   "outputs": [],
   "source": [
    "results = []\n",
    "for i in range(34,len(boundary_georef)):\n",
    "    for boundary_name in ['aoi_boundary_name', 'units_boundary_name']:\n",
    "        if type(boundary_georef.loc[i, boundary_name]) != float: # sometimes boundary_id is nan\n",
    "            boundary_id = boundary_georef.loc[i, 'geo_name']+'-' + boundary_georef.loc[i, boundary_name]\n",
    "            print(boundary_id)\n",
    "            boundary_path = aws_s3_dir + boundary_ext +'boundary-'+boundary_id+'.geojson'\n",
    "            boundary_geo = requests.get(boundary_path).jsoboundary_geo = requests.get(boundary_path).json()\n",
    "            gdf = gpd.GeoDataFrame.from_features(boundary_geo)\n",
    "            gdf['BIO_3_percentBirdsinBuiltupAreas'] = gdf.apply(do_one_geom, axis=1)\n",
    "            results.append(gdf[['geo_id', 'geo_name', 'BIO_3_percentBirdsinBuiltupAreas']].copy())\n",
    "            output = pd.concat(results, axis=0)\n",
    "            output.to_csv(OUTPUT_FILENAME)\n",
    "            # Delete WorldCover rasters to prevent filling up disk\n",
    "    for directoryname in os.listdir('.'):\n",
    "        if directoryname[:15] == 'ESA_WorldCover_':\n",
    "            for filename in os.listdir(directoryname):\n",
    "                os.remove('{0}/{1}'.format(directoryname, filename))\n",
    "            os.rmdir(directoryname)"
   ]
  },
  {
   "cell_type": "code",
   "execution_count": null,
   "id": "795f672e-79e3-48b9-ac54-c3363cfdda5a",
   "metadata": {},
   "outputs": [],
   "source": [
    "outdf = result[['geo_id', 'geo_level', 'geo_name', 'geo_parent_name', 'BIO_3_percentBirdsinBuiltupAreas']]\n",
    "outdf"
   ]
  },
  {
   "cell_type": "code",
   "execution_count": null,
   "id": "c56198fc-8ea7-46ba-8ce3-4c022f47aa44",
   "metadata": {},
   "outputs": [],
   "source": [
    "processedcities = pd.read_csv(OUTPUT_FILENAME)\n",
    "processedcities"
   ]
  },
  {
   "cell_type": "code",
   "execution_count": null,
   "id": "4413a0bf-7951-4567-991b-00704eee3cd1",
   "metadata": {},
   "outputs": [],
   "source": [
    "# csv1 = pd.read_csv('BIO-3-BirdsinBuiltupAreas.csv')\n",
    "# csv2 = pd.read_csv('BIO-3-BirdsinBuiltupAreas2.csv')\n",
    "\n",
    "# processedcities = csv1.append(csv2)\n",
    "# processedcities"
   ]
  },
  {
   "cell_type": "code",
   "execution_count": null,
   "id": "f6fe8e83-9183-48af-a183-4210445065e8",
   "metadata": {},
   "outputs": [],
   "source": []
  },
  {
   "cell_type": "markdown",
   "id": "6a1e0d36-fa72-4f31-bca3-a964c8631302",
   "metadata": {
    "tags": []
   },
   "source": [
    "# Merge with indicator table"
   ]
  },
  {
   "cell_type": "code",
   "execution_count": null,
   "id": "955d97d8-676e-4e9b-b6d3-27619b77940d",
   "metadata": {},
   "outputs": [],
   "source": [
    "# read indicator table\n",
    "cities_indicators = pd.read_csv(aws_s3_dir +'/'+ indicators_file_aws)\n",
    "cities_indicators"
   ]
  },
  {
   "cell_type": "code",
   "execution_count": null,
   "id": "503ee0f6-b1e0-49b6-8461-66861cebb90d",
   "metadata": {},
   "outputs": [],
   "source": [
    "def merge_indicators(indicator_table, new_indicator_table, indicator_name):\n",
    "    if indicator_name in indicator_table.columns:\n",
    "        print(\"replace with new calculations\")\n",
    "        indicator_table.drop(indicator_name, inplace=True, axis=1)\n",
    "        cities_indicators_df = indicator_table.merge(new_indicator_table[[\"geo_id\",indicator_name]], \n",
    "                                                     on='geo_id', \n",
    "                                                     how='left')\n",
    "    else:\n",
    "        print(\"add new indicators\")\n",
    "        cities_indicators_df = indicator_table.merge(new_indicator_table[[\"geo_id\",indicator_name]], \n",
    "                                                     on='geo_id', \n",
    "                                                     how='left')\n",
    "    return(cities_indicators_df)"
   ]
  },
  {
   "cell_type": "code",
   "execution_count": null,
   "id": "24fa16b3-4d19-4b39-a795-ed4303011971",
   "metadata": {},
   "outputs": [],
   "source": [
    "cities_indicators_merged = merge_indicators(indicator_table = cities_indicators,\n",
    "                                            new_indicator_table = processedcities,\n",
    "                                            indicator_name = 'BIO_3_percentBirdsinBuiltupAreas')"
   ]
  },
  {
   "cell_type": "code",
   "execution_count": null,
   "id": "4c89885f-cf0c-43b8-ac8f-3b64e9e5bbff",
   "metadata": {},
   "outputs": [],
   "source": [
    "cities_indicators_merged"
   ]
  },
  {
   "cell_type": "markdown",
   "id": "da368bda-8009-4478-a9d7-bbdb59ff6616",
   "metadata": {},
   "source": [
    "## Upload in aws s3"
   ]
  },
  {
   "cell_type": "code",
   "execution_count": null,
   "id": "21d1915c-78cb-4b9e-af9f-5d47405a243c",
   "metadata": {},
   "outputs": [],
   "source": [
    "# connect to s3\n",
    "aws_credentials = pd.read_csv('/home/jovyan/PlanetaryComputerExamples/aws_credentials.csv')\n",
    "aws_key = aws_credentials.iloc[0]['Access key ID']\n",
    "aws_secret = aws_credentials.iloc[0]['Secret access key']\n",
    "\n",
    "s3 = boto3.resource(\n",
    "    service_name='s3',\n",
    "    aws_access_key_id=aws_key,\n",
    "    aws_secret_access_key=aws_secret\n",
    ")"
   ]
  },
  {
   "cell_type": "code",
   "execution_count": null,
   "id": "747d5345-5e5a-45bd-add9-d61b955f9985",
   "metadata": {},
   "outputs": [],
   "source": [
    "# upload to aws\n",
    "key_data = indicators_file_aws\n",
    "cities_indicators_merged.to_csv(\n",
    "    f\"s3://{bucket_name}/{key_data}\",\n",
    "    index=False,\n",
    "    storage_options={\n",
    "        \"key\": aws_key,\n",
    "        \"secret\": aws_secret\n",
    "    },\n",
    ")"
   ]
  },
  {
   "cell_type": "code",
   "execution_count": null,
   "id": "a97b562e-4313-4b26-8c5d-92c675e69cb2",
   "metadata": {},
   "outputs": [],
   "source": [
    "# make it public\n",
    "object_acl = s3.ObjectAcl(bucket_name,key_data)\n",
    "response = object_acl.put(ACL='public-read')"
   ]
  },
  {
   "cell_type": "code",
   "execution_count": null,
   "id": "21f5f90b-56e1-4e29-9772-7df982a52292",
   "metadata": {},
   "outputs": [],
   "source": []
  }
 ],
 "metadata": {
  "kernelspec": {
   "display_name": "Python 3 (ipykernel)",
   "language": "python",
   "name": "python3"
  },
  "language_info": {
   "codemirror_mode": {
    "name": "ipython",
    "version": 3
   },
   "file_extension": ".py",
   "mimetype": "text/x-python",
   "name": "python",
   "nbconvert_exporter": "python",
   "pygments_lexer": "ipython3",
   "version": "3.10.6"
  }
 },
 "nbformat": 4,
 "nbformat_minor": 5
}
