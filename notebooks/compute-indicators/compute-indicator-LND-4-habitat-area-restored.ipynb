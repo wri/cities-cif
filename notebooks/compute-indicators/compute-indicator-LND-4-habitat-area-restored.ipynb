{
 "cells": [
  {
   "cell_type": "code",
   "execution_count": null,
   "id": "41b1662b-6b27-4b79-9d8d-7c5c0bd52929",
   "metadata": {
    "tags": []
   },
   "outputs": [],
   "source": [
    "# import sys\n",
    "# !{sys.executable} -m pip install pip earthengine-api\n",
    "# !{sys.executable} -m pip install pip geemap"
   ]
  },
  {
   "cell_type": "code",
   "execution_count": null,
   "id": "cb454f14-522f-450c-b90b-a022f3714fa3",
   "metadata": {},
   "outputs": [],
   "source": [
    "import warnings\n",
    "warnings.filterwarnings(action='ignore')"
   ]
  },
  {
   "cell_type": "code",
   "execution_count": null,
   "id": "90ed0cfe-4d8f-403c-9c06-6bd5982b9ecb",
   "metadata": {},
   "outputs": [],
   "source": [
    "import os, requests, json, geojson, gc\n",
    "import pandas as pd\n",
    "import geopandas as gpd\n",
    "import ee\n",
    "import geemap\n",
    "import boto3"
   ]
  },
  {
   "cell_type": "code",
   "execution_count": null,
   "id": "3b5fa755-2e36-4dbe-8d6c-d8300c065c66",
   "metadata": {},
   "outputs": [],
   "source": [
    "# ee.Authenticate()"
   ]
  },
  {
   "cell_type": "code",
   "execution_count": null,
   "id": "3fc9bca6-ce68-4d0e-b125-4828819790dd",
   "metadata": {},
   "outputs": [],
   "source": [
    "ee.Initialize()"
   ]
  },
  {
   "cell_type": "code",
   "execution_count": null,
   "id": "41d9a906-e859-41a3-a8eb-5f6118a79378",
   "metadata": {},
   "outputs": [],
   "source": [
    "# define directory\n",
    "out_dir = os.getcwd()\n",
    "bucket_name = 'cities-indicators'\n",
    "aws_s3_dir = \"https://\"+bucket_name+\".s3.eu-west-3.amazonaws.com\"\n",
    "boundary_ext = '/data/boundaries/'\n",
    "indicators_file_aws = 'indicators/indicators.csv'"
   ]
  },
  {
   "cell_type": "code",
   "execution_count": null,
   "id": "6ee626da-5093-443c-8733-a4924e0ba4db",
   "metadata": {},
   "outputs": [],
   "source": [
    "OUTPUT_FILENAME = 'LND-4-habitat-area-restored.csv'"
   ]
  },
  {
   "cell_type": "code",
   "execution_count": null,
   "id": "8a4136ee-5adf-4363-984d-c32893df7dff",
   "metadata": {
    "tags": []
   },
   "outputs": [],
   "source": [
    "# get list of cities\n",
    "boundary_georef = pd.read_csv(aws_s3_dir + boundary_ext + 'boundary_georef.csv')\n",
    "boundary_georef"
   ]
  },
  {
   "cell_type": "code",
   "execution_count": null,
   "id": "1edac1a3-c725-4fae-82f2-0dadd2715b47",
   "metadata": {},
   "outputs": [],
   "source": [
    "# Convert from GLAD ARD types to simpler habitat types\n",
    "# ARD legend is at https://storage.googleapis.com/earthenginepartners-hansen/GLCLU2000-2020/legend.xlsx\n",
    "LANDCLASSES = {}\n",
    "for j in range(0, 19):\n",
    "    LANDCLASSES[j] = {'name': 'upland sparse vegetation', 'classval': 1, 'is_habitat': False}\n",
    "for j in range(19, 25):\n",
    "    LANDCLASSES[j] = {'name': 'upland short vegetation', 'classval': 2, 'is_habitat': True}\n",
    "for j in range(25, 49):\n",
    "    LANDCLASSES[j] = {'name': 'upland tree cover', 'classval': 3, 'is_habitat': True}\n",
    "for j in range(100, 119):\n",
    "    LANDCLASSES[j] = {'name': 'wetland sparse vegetation', 'classval': 4, 'is_habitat': True}\n",
    "for j in range(119, 125):\n",
    "    LANDCLASSES[j] = {'name': 'wetland short vegetation', 'classval': 5, 'is_habitat': True}\n",
    "for j in range(125, 149):\n",
    "    LANDCLASSES[j] = {'name': 'weland tree cover', 'classval': 6, 'is_habitat': True}\n",
    "for j in range(200, 208):\n",
    "    LANDCLASSES[j] = {'name': 'open water', 'classval': 7, 'is_habitat': True}\n",
    "LANDCLASSES[241] = {'name': 'snow and ice', 'classval': 8, 'is_habitat': False}\n",
    "LANDCLASSES[241] = {'name': 'cropland', 'classval': 9, 'is_habitat': False}\n",
    "LANDCLASSES[250] = {'name': 'built up', 'classval': 10, 'is_habitat': False}\n",
    "LANDCLASSES[254] = {'name': 'ocean', 'classval': 11, 'is_habitat': False}\n",
    "\n",
    "for j in range(256):\n",
    "    if not j in list(LANDCLASSES.keys()):\n",
    "        LANDCLASSES[j] = {'name': 'nodata', 'classval': 0, 'is_habitat': False}\n",
    "        \n",
    "froms = list(range(256))\n",
    "tos = [LANDCLASSES[j]['classval'] for j in froms]        \n",
    "LCLUC2000 = ee.Image('projects/glad/GLCLU2020/LCLUC_2000').remap(froms, tos, 0)\n",
    "LCLUC2020 = ee.Image('projects/glad/GLCLU2020/LCLUC_2020').remap(froms, tos, 0)"
   ]
  },
  {
   "cell_type": "code",
   "execution_count": null,
   "id": "9ba7577c-1cec-4893-9e7d-50d43331dd19",
   "metadata": {},
   "outputs": [],
   "source": [
    "#Convert to habitat/nonhabitat\n",
    "froms = [0, 1, 2, 3, 4, 5, 6, 7, 8, 9, 10, 11]\n",
    "tos = [0, 0, 1, 1, 1, 1, 1, 1, 0, 0, 0, 0]\n",
    "habitat_2000 = LCLUC2000.remap(froms, tos, 0)\n",
    "habitat_2020 = LCLUC2020.remap(froms, tos, 0)"
   ]
  },
  {
   "cell_type": "code",
   "execution_count": null,
   "id": "c3acf964-c1d5-4ce9-ad48-f9a9506d6155",
   "metadata": {
    "tags": []
   },
   "outputs": [],
   "source": [
    "new_habitat = habitat_2000.multiply(-1).add(1).multiply(habitat_2020)"
   ]
  },
  {
   "cell_type": "code",
   "execution_count": null,
   "id": "3019bffd-2c03-44d2-b886-57dcb602e300",
   "metadata": {},
   "outputs": [],
   "source": [
    "habitat2000_pixelarea = habitat_2000.pixelArea()\n",
    "newhabitat_pixelarea = new_habitat.pixelArea()"
   ]
  },
  {
   "cell_type": "code",
   "execution_count": null,
   "id": "e9da62de-50c7-422b-a6ca-f2fe58a8177a",
   "metadata": {},
   "outputs": [],
   "source": [
    "def get_ind(fc):\n",
    "    nonhabitatarea_2000 = habitat_2000.multiply(-1).add(1).multiply(habitat2000_pixelarea).reduceRegions(**{\n",
    "        'reducer': ee.Reducer.sum(),\n",
    "        'collection': fc,\n",
    "        'scale': 30\n",
    "    })\n",
    "    habitatarea_new = new_habitat.multiply(newhabitat_pixelarea).reduceRegions(**{\n",
    "        'reducer': ee.Reducer.sum(),\n",
    "        'collection': fc,\n",
    "        'scale': 30\n",
    "    })\n",
    "    ind = geemap.ee_to_pandas(habitatarea_new)['sum'] / geemap.ee_to_pandas(nonhabitatarea_2000)['sum']\n",
    "    return ind"
   ]
  },
  {
   "cell_type": "code",
   "execution_count": null,
   "id": "8ab64cd3-d7f0-4503-b6a5-e1239186f44f",
   "metadata": {
    "tags": []
   },
   "outputs": [],
   "source": [
    "all_results = []\n",
    "for i in range(0,len(boundary_georef)):\n",
    "    for boundary_name in ['aoi_boundary_name', 'units_boundary_name']:\n",
    "        if type(boundary_georef.loc[i, boundary_name]) != float: # sometimes boundary_id is nan\n",
    "            boundary_id = boundary_georef.loc[i, 'geo_name']+'-' + boundary_georef.loc[i, boundary_name]\n",
    "            print(boundary_id)\n",
    "            boundary_path = aws_s3_dir + boundary_ext +'boundary-'+boundary_id+'.geojson'\n",
    "            boundary_geo = requests.get(boundary_path).json()\n",
    "            temp_gdf = gpd.GeoDataFrame.from_features(boundary_geo)\n",
    "                        \n",
    "            boundary_geo_ee = geemap.geojson_to_ee(boundary_geo)\n",
    "            temp_gdf = gpd.GeoDataFrame.from_features(boundary_geo)\n",
    "            temp_gdf['LND_4_percentof2000HabitatAreaRestoredby2020'] = get_ind(boundary_geo_ee).fillna(-9999)\n",
    "            all_results.append(temp_gdf.copy())\n",
    "            outp = pd.concat(all_results, axis=0)[['geo_id', 'geo_level', 'geo_name', 'geo_parent_name', 'LND_4_percentof2000HabitatAreaRestoredby2020']]\n",
    "            outp.to_csv(OUTPUT_FILENAME)"
   ]
  },
  {
   "cell_type": "code",
   "execution_count": null,
   "id": "4ecb2cbc-062e-42d7-ae00-bf47eb8b9927",
   "metadata": {},
   "outputs": [],
   "source": [
    "processedcities = pd.read_csv(OUTPUT_FILENAME)\n",
    "processedcities"
   ]
  },
  {
   "cell_type": "markdown",
   "id": "18533fbc-3295-4f51-a725-4fea78048272",
   "metadata": {
    "tags": []
   },
   "source": [
    "# Merge with indicator table"
   ]
  },
  {
   "cell_type": "code",
   "execution_count": null,
   "id": "01507576-7793-4da6-8b82-deaf565112ec",
   "metadata": {},
   "outputs": [],
   "source": [
    "# read indicator table\n",
    "cities_indicators = pd.read_csv(aws_s3_dir +'/'+ indicators_file_aws)\n",
    "cities_indicators"
   ]
  },
  {
   "cell_type": "code",
   "execution_count": null,
   "id": "71b75445-16fa-4de1-a9eb-ae7f9b1bd050",
   "metadata": {},
   "outputs": [],
   "source": [
    "def merge_indicators(indicator_table, new_indicator_table, indicator_name):\n",
    "    if indicator_name in indicator_table.columns:\n",
    "        print(\"replace with new calculations\")\n",
    "        indicator_table.drop(indicator_name, inplace=True, axis=1)\n",
    "        cities_indicators_df = indicator_table.merge(new_indicator_table[[\"geo_id\",indicator_name]], \n",
    "                                                     on='geo_id', \n",
    "                                                     how='left')\n",
    "    else:\n",
    "        print(\"add new indicators\")\n",
    "        cities_indicators_df = indicator_table.merge(new_indicator_table[[\"geo_id\",indicator_name]], \n",
    "                                                     on='geo_id', \n",
    "                                                     how='left')\n",
    "    return(cities_indicators_df)"
   ]
  },
  {
   "cell_type": "code",
   "execution_count": null,
   "id": "418bd383-ecd5-43b3-9418-9d88943b2a48",
   "metadata": {},
   "outputs": [],
   "source": [
    "cities_indicators_merged = merge_indicators(indicator_table = cities_indicators,\n",
    "                                            new_indicator_table = processedcities,\n",
    "                                            indicator_name = 'LND_4_percentof2000HabitatAreaRestoredby2020')"
   ]
  },
  {
   "cell_type": "code",
   "execution_count": null,
   "id": "eeb3e6a4-0c66-4fa2-93a1-404cb17a3ce7",
   "metadata": {},
   "outputs": [],
   "source": [
    "cities_indicators_merged"
   ]
  },
  {
   "cell_type": "markdown",
   "id": "d52ac1b3-ef18-4867-ac25-e4309b46908c",
   "metadata": {},
   "source": [
    "## Upload in aws s3"
   ]
  },
  {
   "cell_type": "code",
   "execution_count": null,
   "id": "807d694d-d5e2-4b1c-8dbc-f74b35d12ed6",
   "metadata": {},
   "outputs": [],
   "source": [
    "# connect to s3\n",
    "aws_credentials = pd.read_csv('/home/jovyan/PlanetaryComputerExamples/aws_credentials.csv')\n",
    "aws_key = aws_credentials.iloc[0]['Access key ID']\n",
    "aws_secret = aws_credentials.iloc[0]['Secret access key']\n",
    "\n",
    "s3 = boto3.resource(\n",
    "    service_name='s3',\n",
    "    aws_access_key_id=aws_key,\n",
    "    aws_secret_access_key=aws_secret\n",
    ")"
   ]
  },
  {
   "cell_type": "code",
   "execution_count": null,
   "id": "8dc25fab-c9d3-4435-8290-64e59d5057a2",
   "metadata": {},
   "outputs": [],
   "source": [
    "# upload to aws\n",
    "key_data = indicators_file_aws\n",
    "cities_indicators_merged.to_csv(\n",
    "    f\"s3://{bucket_name}/{key_data}\",\n",
    "    index=False,\n",
    "    storage_options={\n",
    "        \"key\": aws_key,\n",
    "        \"secret\": aws_secret\n",
    "    },\n",
    ")"
   ]
  },
  {
   "cell_type": "code",
   "execution_count": null,
   "id": "26918825-cf8d-4a8c-a529-f702429822fe",
   "metadata": {},
   "outputs": [],
   "source": [
    "# make it public\n",
    "object_acl = s3.ObjectAcl(bucket_name,key_data)\n",
    "response = object_acl.put(ACL='public-read')"
   ]
  },
  {
   "cell_type": "code",
   "execution_count": null,
   "id": "28a88b02-d36a-453e-acc6-88ad13a1d151",
   "metadata": {},
   "outputs": [],
   "source": []
  }
 ],
 "metadata": {
  "kernelspec": {
   "display_name": "Python 3 (ipykernel)",
   "language": "python",
   "name": "python3"
  },
  "language_info": {
   "codemirror_mode": {
    "name": "ipython",
    "version": 3
   },
   "file_extension": ".py",
   "mimetype": "text/x-python",
   "name": "python",
   "nbconvert_exporter": "python",
   "pygments_lexer": "ipython3",
   "version": "3.10.6"
  }
 },
 "nbformat": 4,
 "nbformat_minor": 5
}
