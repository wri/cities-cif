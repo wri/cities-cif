{
 "cells": [
  {
   "cell_type": "code",
   "execution_count": null,
   "id": "41b1662b-6b27-4b79-9d8d-7c5c0bd52929",
   "metadata": {
    "tags": []
   },
   "outputs": [],
   "source": [
    "# import sys\n",
    "# !{sys.executable} -m pip install --extra-index-url https://artifactory.vgt.vito.be/api/pypi/python-packages/simple terracatalogueclient"
   ]
  },
  {
   "cell_type": "code",
   "execution_count": null,
   "id": "cb454f14-522f-450c-b90b-a022f3714fa3",
   "metadata": {},
   "outputs": [],
   "source": [
    "import warnings\n",
    "warnings.filterwarnings(action='ignore')"
   ]
  },
  {
   "cell_type": "code",
   "execution_count": null,
   "id": "90ed0cfe-4d8f-403c-9c06-6bd5982b9ecb",
   "metadata": {},
   "outputs": [],
   "source": [
    "import os, requests, json, geojson\n",
    "import pandas as pd\n",
    "import geopandas as gpd\n",
    "from shapely.geometry import Point, Polygon, MultiPolygon, shape\n",
    "from shapely.ops import unary_union\n",
    "import rasterio\n",
    "from rasterio.features import shapes\n",
    "from shapely.ops import transform\n",
    "from rasterio.merge import merge as rmerge\n",
    "import rasterio.mask\n",
    "import fiona\n",
    "import shapely\n",
    "import pyproj\n",
    "import boto3\n",
    "from terracatalogueclient import Catalogue as Terracat"
   ]
  },
  {
   "cell_type": "code",
   "execution_count": null,
   "id": "41d9a906-e859-41a3-a8eb-5f6118a79378",
   "metadata": {},
   "outputs": [],
   "source": [
    "# define directory\n",
    "out_dir = os.getcwd()\n",
    "bucket_name = 'cities-indicators'\n",
    "aws_s3_dir = \"https://\"+bucket_name+\".s3.eu-west-3.amazonaws.com\"\n",
    "boundary_ext = '/data/boundaries/'\n",
    "indicators_file_aws = 'indicators/indicators.csv'"
   ]
  },
  {
   "cell_type": "code",
   "execution_count": null,
   "id": "b51b81d9-323c-43c2-b86e-106d1d267146",
   "metadata": {},
   "outputs": [],
   "source": [
    "OUTPUT_FILENAME = 'LND-8-builtup-KBAs3.csv'"
   ]
  },
  {
   "cell_type": "code",
   "execution_count": null,
   "id": "6ee626da-5093-443c-8733-a4924e0ba4db",
   "metadata": {},
   "outputs": [],
   "source": [
    "KBA_FILENAME = 'data/KBA_data/KBAsGlobal_2022_March_01_POL'\n",
    "KBA_TEMPFILENAME = 'temp_kbadata'"
   ]
  },
  {
   "cell_type": "code",
   "execution_count": null,
   "id": "b284b1f8-7184-4252-94e1-cf807f49de2c",
   "metadata": {},
   "outputs": [],
   "source": [
    "# connect to s3\n",
    "aws_credentials = pd.read_csv('/home/jovyan/PlanetaryComputerExamples/aws_credentials.csv')\n",
    "aws_key = aws_credentials.iloc[0]['Access key ID']\n",
    "aws_secret = aws_credentials.iloc[0]['Secret access key']\n",
    "\n",
    "s3 = boto3.resource(\n",
    "    service_name='s3',\n",
    "    aws_access_key_id=aws_key,\n",
    "    aws_secret_access_key=aws_secret\n",
    ")"
   ]
  },
  {
   "cell_type": "code",
   "execution_count": null,
   "id": "d31ef7f6-61fe-4ae7-9663-e32105f3e9f9",
   "metadata": {},
   "outputs": [],
   "source": [
    "project = pyproj.Transformer.from_crs(\n",
    "    pyproj.CRS.from_epsg(4326), # source coordinate system\n",
    "    pyproj.CRS.from_epsg(4326), # destination coordinate system\n",
    "    always_xy=True\n",
    ")\n",
    "# Get ESA Wo"
   ]
  },
  {
   "cell_type": "code",
   "execution_count": null,
   "id": "9c6fcc20-4a7d-4f9f-95a3-51e08dd5c1dd",
   "metadata": {},
   "outputs": [],
   "source": [
    "worldcover_catalogue = Terracat().authenticate() \n",
    "terracat = worldcover_catalogue.authenticate_non_interactive('tedwongwri', 'WRIpass12!')"
   ]
  },
  {
   "cell_type": "code",
   "execution_count": null,
   "id": "109d620f-9469-450c-9416-c3dfcc2b4480",
   "metadata": {},
   "outputs": [],
   "source": [
    "source_bucket = s3.Bucket(bucket_name)\n",
    "for ext in ('shp', 'shx'):\n",
    "    source_bucket.download_file('{0}.{1}'.format(KBA_FILENAME, ext), '{0}.{1}'.format(KBA_TEMPFILENAME, ext))\n",
    "\n",
    "kba_multi = shapely.geometry.MultiPolygon([shapely.geometry.shape(poly['geometry']) for poly in fiona.open('{0}.shp'.format(KBA_TEMPFILENAME))]) "
   ]
  },
  {
   "cell_type": "code",
   "execution_count": null,
   "id": "8a4136ee-5adf-4363-984d-c32893df7dff",
   "metadata": {
    "tags": []
   },
   "outputs": [],
   "source": [
    "# get list of cities\n",
    "boundary_georef = pd.read_csv(aws_s3_dir + boundary_ext + 'boundary_georef.csv')\n",
    "boundary_georef"
   ]
  },
  {
   "cell_type": "code",
   "execution_count": null,
   "id": "1c2a6e9f-0e21-41fc-ac28-d02d3f94826d",
   "metadata": {
    "tags": []
   },
   "outputs": [],
   "source": [
    "def boundingbox_wkt(p):\n",
    "    # Returns WKT for bounding box.\n",
    "    # Necessary because GBIF API won't accept complex polygons.\n",
    "    minx, miny, maxx, maxy = p.bounds\n",
    "    return 'POLYGON (({0} {3}, {0} {2}, {1} {2}, {0} {3}))'.format(str(minx), str(maxx), str(miny), str(maxy))\n",
    "\n",
    "def classify_builtup(r):\n",
    "    r[r != 50] = 0\n",
    "    r[r == 50] = 1    # built up\n",
    "    return r\n",
    "\n",
    "def mask_raster_with_geometry(raster, transform, shapes, **kwargs):\n",
    "    # This function clips and masks raster\n",
    "    # Adapted from https://gis.stackexchange.com/a/387772\n",
    "    \"\"\"Wrapper for rasterio.mask.mask to allow for in-memory processing.\n",
    "\n",
    "    Docs: https://rasterio.readthedocs.io/en/latest/api/rasterio.mask.html\n",
    "\n",
    "    Args:\n",
    "        raster (numpy.ndarray): raster to be masked with dim: [H, W]\n",
    "        transform (affine.Affine): the transform of the raster\n",
    "        shapes, **kwargs: passed to rasterio.mask.mask\n",
    "\n",
    "    Returns:\n",
    "        masked: numpy.ndarray or numpy.ma.MaskedArray with dim: [H, W], and new affine transform\n",
    "    \"\"\"\n",
    "    with rasterio.io.MemoryFile() as memfile:\n",
    "        with memfile.open(\n",
    "            driver='GTiff',\n",
    "            height=raster.shape[0],\n",
    "            width=raster.shape[1],\n",
    "            count=1,\n",
    "            dtype=raster.dtype,\n",
    "            transform=transform,\n",
    "        ) as dataset:\n",
    "            dataset.write(raster, 1)\n",
    "        with memfile.open() as dataset:\n",
    "            output, new_transform = rasterio.mask.mask(dataset, shapes, **kwargs)\n",
    "    return output.squeeze(0), new_transform\n",
    "\n",
    "def do_one_geom(row):\n",
    "    poly = row[0]\n",
    "    shapelybox = poly.bounds\n",
    "    kba_box = shapely.ops.clip_by_rect(kba_multi, *shapelybox)\n",
    "    kba_box = shapely.ops.unary_union(kba_box)\n",
    "    kba_poly = kba_box.intersection(poly)\n",
    "    kbapoly_area = kba_poly.area\n",
    "    if kbapoly_area > 0:\n",
    "    \n",
    "        box = boundingbox_wkt(poly)\n",
    "\n",
    "        products = terracat.get_products('urn:eop:VITO:ESA_WorldCover_10m_2020_V1', geometry=box)\n",
    "\n",
    "        # Create mosaic raster of Worldcover rasters downloaded from ESA\n",
    "        rasters_to_mosaic = []\n",
    "        for product in products:\n",
    "            if not '{0}dir'.format(product.title) in os.listdir('.'):\n",
    "                terracat.download_file(product.data[0], '{0}dir'.format(product.title))\n",
    "            raster = rasterio.open('{0}dir/{0}_Map.tif'.format(product.title))\n",
    "            rasters_to_mosaic.append(raster)\n",
    "\n",
    "        mosaic, mosaic_transform = rmerge(rasters_to_mosaic)\n",
    "\n",
    "\n",
    "        # Clip raster to district boundary\n",
    "        if poly.type == 'Polygon':\n",
    "            multipoly = MultiPolygon([poly])\n",
    "        else:\n",
    "            multipoly = poly\n",
    "\n",
    "        clipped_raster, clip_transform = mask_raster_with_geometry(mosaic[0], mosaic_transform, multipoly, crop=True)\n",
    "        # Classify clipped raster as habitat/nonhabitat\n",
    "        builtup_raster = classify_builtup(clipped_raster)\n",
    "\n",
    "\n",
    "        # Vectorize and collect only the builtup patches\n",
    "        with rasterio.Env():\n",
    "            image = builtup_raster\n",
    "            results = (\n",
    "            {'properties': {'raster_val': v}, 'geometry': s}\n",
    "            for (s, v) \n",
    "            in shapes(image, transform=clip_transform) if v == 1)\n",
    "        shapelist = list(results)\n",
    "        shapelist = shapelist[:-1]\n",
    "        all_patches = [  # project to UTM so that spatial unit is meter\n",
    "            transform(project.transform, Polygon(shapelist[i]['geometry']['coordinates'][0])) for i in range(len(shapelist))\n",
    "        ]\n",
    "        patches = [j.simplify(0, preserve_topology=False) for j in all_patches]\n",
    "        #patchgeoms = gpd.GeoDataFrame(geometry=patches, crs='EPSG:{}'.format(target_epsg), index=range(len(patches)))\n",
    "        #patchgeoms_sindex = patchgeoms.sindex\n",
    "\n",
    "        builtup_multi = MultiPolygon(patches)\n",
    "\n",
    "        builtup_box = shapely.ops.clip_by_rect(builtup_multi, *shapelybox)\n",
    "        builtup_box = shapely.ops.unary_union(builtup_box)    # unary_union repairs inalid geometries\n",
    "\n",
    "        builtup_kba_poly = builtup_box.intersection(kba_poly)\n",
    "\n",
    "        result = builtup_kba_poly.area/kbapoly_area\n",
    "    else:\n",
    "        result = -9999\n",
    "\n",
    "    print('{0}: {1}'.format(row[1], result))\n",
    "    return result"
   ]
  },
  {
   "cell_type": "code",
   "execution_count": null,
   "id": "8ab64cd3-d7f0-4503-b6a5-e1239186f44f",
   "metadata": {},
   "outputs": [],
   "source": [
    "for i in range(16,17): #0,len(boundary_georef)): # cities not working: 16\n",
    "    if not OUTPUT_FILENAME in os.listdir('.'):\n",
    "        so_far_df = pd.DataFrame()\n",
    "        so_far_df.to_csv(OUTPUT_FILENAME)\n",
    "        so_far = []\n",
    "    else:\n",
    "        so_far_df = pd.read_csv(OUTPUT_FILENAME)\n",
    "        so_far = [so_far_df.iloc[j]['geo_id'] for j in range(len(so_far_df))]\n",
    "    \n",
    "    most_recent = []\n",
    "    #outputs_df = pd.DataFrame()\n",
    "    for boundary_name in ['aoi_boundary_name', 'units_boundary_name']:\n",
    "        if type(boundary_georef.loc[i, boundary_name]) != float: # sometimes boundary_id is nan\n",
    "            boundary_id = boundary_georef.loc[i, 'geo_name']+'-' + boundary_georef.loc[i, boundary_name]\n",
    "            boundary_path = aws_s3_dir + boundary_ext +'boundary-'+boundary_id+'.geojson'\n",
    "            boundary_geo = requests.get(boundary_path).json()\n",
    "            temp_gdf = gpd.GeoDataFrame.from_features(boundary_geo)\n",
    "            temp_gdf['LND_8_percentKBAsBuiltup'] = temp_gdf.apply(do_one_geom, axis=1)\n",
    "            most_recent.append(temp_gdf.copy())\n",
    "            \n",
    "    # Delete WorldCover rasters to prevent filling up disk\n",
    "    for directoryname in os.listdir('.'):\n",
    "        if directoryname[:15] == 'ESA_WorldCover_':\n",
    "            for filename in os.listdir(directoryname):\n",
    "                os.remove('{0}/{1}'.format(directoryname, filename))\n",
    "            os.rmdir(directoryname)\n",
    "            \n",
    "    result = pd.concat([so_far_df] + most_recent, axis=0)\n",
    "    result[['geometry', 'geo_id', 'geo_level', 'geo_name', 'geo_parent_name', 'LND_8_percentKBAsBuiltup']].to_csv(OUTPUT_FILENAME)"
   ]
  },
  {
   "cell_type": "code",
   "execution_count": null,
   "id": "6430ee8f-212e-4fa1-9637-603aac22dbc7",
   "metadata": {},
   "outputs": [],
   "source": [
    "processedcities = pd.read_csv(OUTPUT_FILENAME)\n",
    "processedcities"
   ]
  },
  {
   "cell_type": "code",
   "execution_count": null,
   "id": "57d8d53f-28e0-4801-bb80-8e45c3a826f9",
   "metadata": {},
   "outputs": [],
   "source": [
    "csv1 = pd.read_csv('LND-8-builtup-KBAs.csv')\n",
    "csv2 = pd.read_csv('LND-8-builtup-KBAs3.csv')\n",
    "csv3 = pd.read_csv('LND-8-builtup-KBAs2.csv')\n",
    "\n",
    "processedcities = csv1.append(csv2).append(csv3)\n",
    "processedcities"
   ]
  },
  {
   "cell_type": "markdown",
   "id": "dd333ef3-9ddc-4dbb-9961-fb6d28194573",
   "metadata": {
    "tags": []
   },
   "source": [
    "# Merge with indicator table"
   ]
  },
  {
   "cell_type": "code",
   "execution_count": null,
   "id": "52e2f1e8-32d6-4578-99bf-4b820feeaebc",
   "metadata": {},
   "outputs": [],
   "source": [
    "# read indicator table\n",
    "cities_indicators = pd.read_csv(aws_s3_dir +'/'+ indicators_file_aws)\n",
    "cities_indicators"
   ]
  },
  {
   "cell_type": "code",
   "execution_count": null,
   "id": "9e9118b3-1128-4b1f-8733-79a2088d320b",
   "metadata": {},
   "outputs": [],
   "source": [
    "def merge_indicators(indicator_table, new_indicator_table, indicator_name):\n",
    "    if indicator_name in indicator_table.columns:\n",
    "        print(\"replace with new calculations\")\n",
    "        indicator_table.drop(indicator_name, inplace=True, axis=1)\n",
    "        cities_indicators_df = indicator_table.merge(new_indicator_table[[\"geo_id\",indicator_name]], \n",
    "                                                     on='geo_id', \n",
    "                                                     how='left')\n",
    "    else:\n",
    "        print(\"add new indicators\")\n",
    "        cities_indicators_df = indicator_table.merge(new_indicator_table[[\"geo_id\",indicator_name]], \n",
    "                                                     on='geo_id', \n",
    "                                                     how='left')\n",
    "    return(cities_indicators_df)"
   ]
  },
  {
   "cell_type": "code",
   "execution_count": null,
   "id": "57c60bb6-17bf-4aa1-8a86-8a163241e446",
   "metadata": {},
   "outputs": [],
   "source": [
    "cities_indicators_merged = merge_indicators(indicator_table = cities_indicators,\n",
    "                                            new_indicator_table = processedcities,\n",
    "                                            indicator_name = 'LND_8_percentKBAsBuiltup')"
   ]
  },
  {
   "cell_type": "code",
   "execution_count": null,
   "id": "9c00d092-f769-45bd-83e3-8fe3448ef6e5",
   "metadata": {},
   "outputs": [],
   "source": [
    "cities_indicators_merged"
   ]
  },
  {
   "cell_type": "markdown",
   "id": "9b1cecaa-901b-446f-83db-59ebb95205bf",
   "metadata": {},
   "source": [
    "## Upload in aws s3"
   ]
  },
  {
   "cell_type": "code",
   "execution_count": null,
   "id": "d2bba10c-74b1-47c7-8f2f-6cd19c7233ba",
   "metadata": {},
   "outputs": [],
   "source": [
    "# upload to aws\n",
    "key_data = indicators_file_aws\n",
    "cities_indicators_merged.to_csv(\n",
    "    f\"s3://{bucket_name}/{key_data}\",\n",
    "    index=False,\n",
    "    storage_options={\n",
    "        \"key\": aws_key,\n",
    "        \"secret\": aws_secret\n",
    "    },\n",
    ")"
   ]
  },
  {
   "cell_type": "code",
   "execution_count": null,
   "id": "53af4011-51ca-45bd-8e19-8dcf7b3266e0",
   "metadata": {},
   "outputs": [],
   "source": [
    "# make it public\n",
    "object_acl = s3.ObjectAcl(bucket_name,key_data)\n",
    "response = object_acl.put(ACL='public-read')"
   ]
  },
  {
   "cell_type": "code",
   "execution_count": null,
   "id": "9d70b66a-ec52-4bf5-8aa0-27f7ebeeffbe",
   "metadata": {},
   "outputs": [],
   "source": []
  },
  {
   "cell_type": "code",
   "execution_count": null,
   "id": "6b79b128-e7a4-4c68-9062-555558fd8a17",
   "metadata": {},
   "outputs": [],
   "source": [
    "# delete temporary files\n",
    "for ext in ('shp', 'shx'):\n",
    "    os.remove('{0}.{1}'.format(KBA_TEMPFILENAME, ext))"
   ]
  }
 ],
 "metadata": {
  "kernelspec": {
   "display_name": "Python 3 (ipykernel)",
   "language": "python",
   "name": "python3"
  },
  "language_info": {
   "codemirror_mode": {
    "name": "ipython",
    "version": 3
   },
   "file_extension": ".py",
   "mimetype": "text/x-python",
   "name": "python",
   "nbconvert_exporter": "python",
   "pygments_lexer": "ipython3",
   "version": "3.10.6"
  }
 },
 "nbformat": 4,
 "nbformat_minor": 5
}
