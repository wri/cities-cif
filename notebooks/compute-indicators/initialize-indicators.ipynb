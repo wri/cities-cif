{
 "cells": [
  {
   "cell_type": "code",
   "execution_count": null,
   "id": "f2ece008-71e1-404d-b4cb-8bf77452d3df",
   "metadata": {},
   "outputs": [],
   "source": [
    "import geopandas as gpd\n",
    "import pandas as pd\n",
    "import os\n",
    "import io\n",
    "import requests\n",
    "import boto3"
   ]
  },
  {
   "cell_type": "markdown",
   "id": "cd8fd65c-5e5f-4d12-90db-2404354df0ea",
   "metadata": {},
   "source": [
    "This script intitate the dataframes that will store the different indicators calauclated for cities.\n",
    "- Input: georef file containing the list of cities' names and that we use for retrieving the boundaries files from the aws s3 (you can find more information about the georeferential-file in [this wiki page](https://github.com/wri/cities-urbanshift/wiki/Tutorial#administrative-boundaries))\n",
    "- Output: A data frame containing the list of cities and sub-cities with their uniques identifies. This dataframe will be used as a based for integrating the indicators. It is stored in aws s3 bucket.\n",
    "\n",
    "Run the script only when you want to initialize all the indicators."
   ]
  },
  {
   "cell_type": "markdown",
   "id": "421dca67-0252-4354-b42f-257da8dc35fc",
   "metadata": {
    "tags": []
   },
   "source": [
    "# Load input data"
   ]
  },
  {
   "cell_type": "code",
   "execution_count": null,
   "id": "ad4563c7-d1a9-4a5f-8355-09ddba38a815",
   "metadata": {},
   "outputs": [],
   "source": [
    "# define directory\n",
    "out_dir = os.getcwd()\n",
    "bucket_name = 'cities-indicators'\n",
    "aws_s3_dir = \"https://\"+bucket_name+\".s3.eu-west-3.amazonaws.com\"\n",
    "boundary_ext = '/data/boundaries/'\n",
    "indicators_file_aws = 'indicators/indicators.csv'"
   ]
  },
  {
   "cell_type": "code",
   "execution_count": null,
   "id": "3da73b85-3230-46a7-8254-7749d624b2de",
   "metadata": {},
   "outputs": [],
   "source": [
    "# get list of cities\n",
    "boundary_georef = pd.read_csv(aws_s3_dir + boundary_ext + 'boundary_georef.csv')\n",
    "boundary_georef"
   ]
  },
  {
   "cell_type": "markdown",
   "id": "d79cc717-7441-4f45-ae04-d917ee7f3021",
   "metadata": {
    "tags": []
   },
   "source": [
    "# Fill initial indicator table with the list of features"
   ]
  },
  {
   "cell_type": "code",
   "execution_count": null,
   "id": "91d028bc-2cfa-4661-84f7-37808f1725db",
   "metadata": {},
   "outputs": [],
   "source": [
    "# create empty df\n",
    "cities_indicators = pd.DataFrame()"
   ]
  },
  {
   "cell_type": "code",
   "execution_count": null,
   "id": "e05886fb-d813-4f13-b853-d27c99a94262",
   "metadata": {},
   "outputs": [],
   "source": [
    "# populate the df with the list of geo identifiers\n",
    "for i in range(0, len(boundary_georef)):\n",
    "    print(i)\n",
    "    geo_name = boundary_georef.loc[i, 'geo_name']\n",
    "    print(\"\\n geo_name: \"+geo_name)\n",
    "    \n",
    "    # get boundary area of interest\n",
    "    boundary_id_aoi = boundary_georef.loc[i, 'geo_name']+'-'+boundary_georef.loc[i, 'aoi_boundary_name']\n",
    "    boundary_path = aws_s3_dir + boundary_ext +'boundary-'+boundary_id_aoi+'.geojson'\n",
    "    boundary_data = gpd.read_file(boundary_path)\n",
    "    boundary_data = boundary_data[[\"geo_id\",\"geo_level\", \"geo_name\",\"geo_parent_name\"]]\n",
    "    \n",
    "    # append to dataframe\n",
    "    cities_indicators = pd.concat([cities_indicators, boundary_data])\n",
    "    \n",
    "    # get boundary unit of analysis\n",
    "    boundary_id_unit = boundary_georef.loc[i, 'geo_name']+'-'+boundary_georef.loc[i, 'units_boundary_name']\n",
    "    boundary_path = aws_s3_dir + boundary_ext +'boundary-'+boundary_id_unit+'.geojson'\n",
    "    boundary_data = gpd.read_file(boundary_path)\n",
    "    boundary_data = boundary_data[[\"geo_id\",\"geo_level\", \"geo_name\",\"geo_parent_name\"]]\n",
    "    \n",
    "    # append to dataframe\n",
    "    cities_indicators = pd.concat([cities_indicators, boundary_data])\n",
    "    "
   ]
  },
  {
   "cell_type": "code",
   "execution_count": null,
   "id": "9b6a387f-f227-49c9-843d-7424776c1d2f",
   "metadata": {},
   "outputs": [],
   "source": [
    "cities_indicators"
   ]
  },
  {
   "cell_type": "markdown",
   "id": "548aa660-b3c1-4e20-ac03-5f1cc5347803",
   "metadata": {
    "tags": []
   },
   "source": [
    "# Upload in aws s3"
   ]
  },
  {
   "cell_type": "code",
   "execution_count": null,
   "id": "289ddd9c-3e84-4a6c-8523-b73532ef3a3e",
   "metadata": {},
   "outputs": [],
   "source": [
    "# connect to s3\n",
    "aws_credentials = pd.read_csv('/home/jovyan/PlanetaryComputerExamples/aws_credentials.csv')\n",
    "# aws_credentials = pd.read_csv('C:\\\\Users\\\\Saif.Shabou\\\\OneDrive - World Resources Institute\\\\Documents\\\\aws\\\\credentials.csv')\n",
    "aws_key = aws_credentials.iloc[0]['Access key ID']\n",
    "aws_secret = aws_credentials.iloc[0]['Secret access key']\n",
    "\n",
    "s3 = boto3.resource(\n",
    "    service_name='s3',\n",
    "    aws_access_key_id=aws_key,\n",
    "    aws_secret_access_key=aws_secret\n",
    ")"
   ]
  },
  {
   "cell_type": "code",
   "execution_count": null,
   "id": "67e6a50c-9e5a-492a-9067-91b986036476",
   "metadata": {},
   "outputs": [],
   "source": [
    "# upload to aws\n",
    "key_data = indicators_file_aws\n",
    "cities_indicators.to_csv(\n",
    "    f\"s3://{bucket_name}/{key_data}\",\n",
    "    index=False,\n",
    "    storage_options={\n",
    "        \"key\": aws_key,\n",
    "        \"secret\": aws_secret\n",
    "    },\n",
    ")"
   ]
  },
  {
   "cell_type": "code",
   "execution_count": null,
   "id": "15e760e1-c18f-4a58-a2f7-fdea24926922",
   "metadata": {},
   "outputs": [],
   "source": [
    "# make it public\n",
    "object_acl = s3.ObjectAcl(bucket_name,key_data)\n",
    "response = object_acl.put(ACL='public-read')"
   ]
  },
  {
   "cell_type": "code",
   "execution_count": null,
   "id": "f802c723-167f-4e3c-9e91-bb70d42ab50e",
   "metadata": {},
   "outputs": [],
   "source": []
  }
 ],
 "metadata": {
  "kernelspec": {
   "display_name": "Python 3 (ipykernel)",
   "language": "python",
   "name": "python3"
  },
  "language_info": {
   "codemirror_mode": {
    "name": "ipython",
    "version": 3
   },
   "file_extension": ".py",
   "mimetype": "text/x-python",
   "name": "python",
   "nbconvert_exporter": "python",
   "pygments_lexer": "ipython3",
   "version": "3.10.6"
  }
 },
 "nbformat": 4,
 "nbformat_minor": 5
}
