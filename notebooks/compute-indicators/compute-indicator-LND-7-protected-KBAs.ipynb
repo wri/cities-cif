{
 "cells": [
  {
   "cell_type": "code",
   "execution_count": null,
   "id": "e59cc439-7de2-459a-9c06-acb77df425f8",
   "metadata": {
    "tags": []
   },
   "outputs": [],
   "source": [
    "# import sys\n",
    "# !{sys.executable} -m pip install pip earthengine-api\n",
    "# !{sys.executable} -m pip install pip geemap\n",
    "# !{sys.executable} -m pip install pip wget\n",
    "# !{sys.executable} -m pip install pip fiona[s3]"
   ]
  },
  {
   "cell_type": "code",
   "execution_count": null,
   "id": "90ed0cfe-4d8f-403c-9c06-6bd5982b9ecb",
   "metadata": {},
   "outputs": [],
   "source": [
    "import os, requests, json, geojson\n",
    "import pandas as pd\n",
    "import geopandas as gpd\n",
    "#import ee\n",
    "#import geemap\n",
    "import fiona\n",
    "import boto3\n",
    "from fiona.session import AWSSession\n",
    "import shapely"
   ]
  },
  {
   "cell_type": "code",
   "execution_count": null,
   "id": "41d9a906-e859-41a3-a8eb-5f6118a79378",
   "metadata": {},
   "outputs": [],
   "source": [
    "# define directory\n",
    "out_dir = os.getcwd()\n",
    "bucket_name = 'cities-indicators'\n",
    "aws_s3_dir = \"https://\"+bucket_name+\".s3.eu-west-3.amazonaws.com\"\n",
    "boundary_ext = '/data/boundaries/'\n",
    "indicators_file_aws = 'indicators/indicators.csv'"
   ]
  },
  {
   "cell_type": "code",
   "execution_count": null,
   "id": "0e30e25d-5112-44ec-856d-627aa573c9c7",
   "metadata": {},
   "outputs": [],
   "source": [
    "OUTPUT_FILENAME = 'LND-7-protected-KBAs.csv'"
   ]
  },
  {
   "cell_type": "code",
   "execution_count": null,
   "id": "6ee626da-5093-443c-8733-a4924e0ba4db",
   "metadata": {},
   "outputs": [],
   "source": [
    "WDPA_FILENAME = 'data/WDPA_data/WDPA_Oct2022_Public_shp-polygons'\n",
    "KBA_FILENAME = 'data/KBA_data/KBAsGlobal_2022_March_01_POL'\n",
    "WDPA_TEMPFILENAME = 'temp_wdpadata'\n",
    "KBA_TEMPFILENAME = 'temp_kbadata'"
   ]
  },
  {
   "cell_type": "code",
   "execution_count": null,
   "id": "5a3a06e7-19e8-4aa5-b071-6df55d36eb85",
   "metadata": {},
   "outputs": [],
   "source": [
    "# connect to s3\n",
    "aws_credentials = pd.read_csv('/home/jovyan/PlanetaryComputerExamples/aws_credentials.csv')\n",
    "aws_key = aws_credentials.iloc[0]['Access key ID']\n",
    "aws_secret = aws_credentials.iloc[0]['Secret access key']\n",
    "\n",
    "s3 = boto3.resource(\n",
    "    service_name='s3',\n",
    "    aws_access_key_id=aws_key,\n",
    "    aws_secret_access_key=aws_secret\n",
    ")"
   ]
  },
  {
   "cell_type": "code",
   "execution_count": null,
   "id": "fb8b1a7e-8870-4270-9a77-dc0d645b3d8d",
   "metadata": {},
   "outputs": [],
   "source": [
    "source_bucket = s3.Bucket(bucket_name)\n",
    "for ext in ('shp', 'shx'):\n",
    "    source_bucket.download_file('{0}.{1}'.format(WDPA_FILENAME, ext), '{0}.{1}'.format(WDPA_TEMPFILENAME, ext))\n",
    "    source_bucket.download_file('{0}.{1}'.format(KBA_FILENAME, ext), '{0}.{1}'.format(KBA_TEMPFILENAME, ext))"
   ]
  },
  {
   "cell_type": "code",
   "execution_count": null,
   "id": "6eed4c9a-16ea-4319-8ebb-df9ca4a33be0",
   "metadata": {},
   "outputs": [],
   "source": [
    "wdpa_multi = shapely.geometry.MultiPolygon([shapely.geometry.shape(poly['geometry']) for poly in fiona.open('{0}.shp'.format(WDPA_TEMPFILENAME))])\n",
    "kba_multi = shapely.geometry.MultiPolygon([shapely.geometry.shape(poly['geometry']) for poly in fiona.open('{0}.shp'.format(KBA_TEMPFILENAME))]) "
   ]
  },
  {
   "cell_type": "code",
   "execution_count": null,
   "id": "8a4136ee-5adf-4363-984d-c32893df7dff",
   "metadata": {
    "tags": []
   },
   "outputs": [],
   "source": [
    "# get list of cities\n",
    "boundary_georef = pd.read_csv(aws_s3_dir + boundary_ext + 'boundary_georef.csv')\n",
    "boundary_georef"
   ]
  },
  {
   "cell_type": "code",
   "execution_count": null,
   "id": "1c2a6e9f-0e21-41fc-ac28-d02d3f94826d",
   "metadata": {
    "tags": []
   },
   "outputs": [],
   "source": [
    "def do_one_geom(row):\n",
    "    poly = row[0]\n",
    "    box = poly.bounds\n",
    "    protected_box = shapely.ops.clip_by_rect(wdpa_multi, *box)\n",
    "    protected_box = shapely.ops.unary_union(protected_box)    # unary_union repairs inalid geometries\n",
    "    kba_box = shapely.ops.clip_by_rect(kba_multi, *box)\n",
    "    kba_box = shapely.ops.unary_union(kba_box)\n",
    "    key_poly = kba_box.intersection(poly)\n",
    "    protectedkey_poly = protected_box.intersection(key_poly)\n",
    "    keypoly_area = key_poly.area\n",
    "    if keypoly_area > 0:\n",
    "        result = protectedkey_poly.area/key_poly.area\n",
    "    else:\n",
    "        result = -9999\n",
    "    print('{0}: {1}'.format(row[1], result))\n",
    "    return result"
   ]
  },
  {
   "cell_type": "code",
   "execution_count": null,
   "id": "8ab64cd3-d7f0-4503-b6a5-e1239186f44f",
   "metadata": {},
   "outputs": [],
   "source": [
    "for i in range(0,len(boundary_georef)):\n",
    "    if not OUTPUT_FILENAME in os.listdir('.'):\n",
    "        so_far_df = pd.DataFrame()\n",
    "        so_far_df.to_csv(OUTPUT_FILENAME)\n",
    "        so_far = []\n",
    "    else:\n",
    "        so_far_df = pd.read_csv(OUTPUT_FILENAME)\n",
    "        so_far = [so_far_df.iloc[j]['geo_id'] for j in range(len(so_far_df))]\n",
    "    \n",
    "    most_recent = []\n",
    "    #outputs_df = pd.DataFrame()\n",
    "    for boundary_name in ['aoi_boundary_name', 'units_boundary_name']:\n",
    "        if type(boundary_georef.loc[i, boundary_name]) != float: # sometimes boundary_id is nan\n",
    "            boundary_id = boundary_georef.loc[i, 'geo_name']+'-' + boundary_georef.loc[i, boundary_name]\n",
    "            boundary_path = aws_s3_dir + boundary_ext +'boundary-'+boundary_id+'.geojson'\n",
    "            boundary_geo = requests.get(boundary_path).json()\n",
    "            temp_gdf = gpd.GeoDataFrame.from_features(boundary_geo)\n",
    "            temp_gdf['LND_7_percentKBAsProtected'] = temp_gdf.apply(do_one_geom, axis=1)\n",
    "            most_recent.append(temp_gdf.copy())\n",
    "    result = pd.concat([so_far_df] + most_recent, axis=0)\n",
    "    result[['geometry', 'geo_id', 'geo_level', 'geo_name', 'geo_parent_name', 'LND_7_percentKBAsProtected']].to_csv(OUTPUT_FILENAME)"
   ]
  },
  {
   "cell_type": "code",
   "execution_count": null,
   "id": "06d280db-4a1c-4473-b4c8-a69c0859f797",
   "metadata": {},
   "outputs": [],
   "source": []
  },
  {
   "cell_type": "code",
   "execution_count": null,
   "id": "f6b283ba-9e45-4a7e-82d9-21e42e32d5cc",
   "metadata": {},
   "outputs": [],
   "source": [
    "processedcities = pd.read_csv(OUTPUT_FILENAME)\n",
    "processedcities"
   ]
  },
  {
   "cell_type": "code",
   "execution_count": null,
   "id": "71f255c1",
   "metadata": {},
   "outputs": [],
   "source": [
    "# delete temporary files\n",
    "for ext in ('shp', 'shx'):\n",
    "    os.remove('{0}.{1}'.format(WDPA_TEMPFILENAME, ext))"
   ]
  },
  {
   "cell_type": "markdown",
   "id": "efadd29a-4fbd-43a8-9f46-767c2255beab",
   "metadata": {
    "tags": []
   },
   "source": [
    "# Merge with indicator table"
   ]
  },
  {
   "cell_type": "code",
   "execution_count": null,
   "id": "5e3ae12e-fd3b-485b-851b-d8c27bd3eeec",
   "metadata": {},
   "outputs": [],
   "source": [
    "# read indicator table\n",
    "cities_indicators = pd.read_csv(aws_s3_dir +'/'+ indicators_file_aws)\n",
    "cities_indicators"
   ]
  },
  {
   "cell_type": "code",
   "execution_count": null,
   "id": "b174dbeb-6271-47a2-8147-c445f78766c2",
   "metadata": {},
   "outputs": [],
   "source": [
    "def merge_indicators(indicator_table, new_indicator_table, indicator_name):\n",
    "    if indicator_name in indicator_table.columns:\n",
    "        print(\"replace with new calculations\")\n",
    "        indicator_table.drop(indicator_name, inplace=True, axis=1)\n",
    "        cities_indicators_df = indicator_table.merge(new_indicator_table[[\"geo_id\",indicator_name]], \n",
    "                                                     on='geo_id', \n",
    "                                                     how='left')\n",
    "    else:\n",
    "        print(\"add new indicators\")\n",
    "        cities_indicators_df = indicator_table.merge(new_indicator_table[[\"geo_id\",indicator_name]], \n",
    "                                                     on='geo_id', \n",
    "                                                     how='left')\n",
    "    return(cities_indicators_df)"
   ]
  },
  {
   "cell_type": "code",
   "execution_count": null,
   "id": "5a4115c6-ab75-4433-8d11-98d81eb13335",
   "metadata": {},
   "outputs": [],
   "source": [
    "cities_indicators_merged = merge_indicators(indicator_table = cities_indicators,\n",
    "                                            new_indicator_table = processedcities,\n",
    "                                            indicator_name = 'LND_7_percentKBAsProtected')"
   ]
  },
  {
   "cell_type": "code",
   "execution_count": null,
   "id": "8df09aa7-c22a-4170-bd6b-8fe5ceee31cd",
   "metadata": {},
   "outputs": [],
   "source": [
    "cities_indicators_merged"
   ]
  },
  {
   "cell_type": "markdown",
   "id": "3ac89316-16fd-477f-9b63-e4c716cd7b7c",
   "metadata": {},
   "source": [
    "## Upload in aws s3"
   ]
  },
  {
   "cell_type": "code",
   "execution_count": null,
   "id": "2fcb3579-0f4e-4980-8901-cdaa6142529f",
   "metadata": {},
   "outputs": [],
   "source": [
    "# upload to aws\n",
    "key_data = indicators_file_aws\n",
    "cities_indicators_merged.to_csv(\n",
    "    f\"s3://{bucket_name}/{key_data}\",\n",
    "    index=False,\n",
    "    storage_options={\n",
    "        \"key\": aws_key,\n",
    "        \"secret\": aws_secret\n",
    "    },\n",
    ")"
   ]
  },
  {
   "cell_type": "code",
   "execution_count": null,
   "id": "6d20be56-9b61-400d-935e-912818994b8a",
   "metadata": {},
   "outputs": [],
   "source": [
    "# make it public\n",
    "object_acl = s3.ObjectAcl(bucket_name,key_data)\n",
    "response = object_acl.put(ACL='public-read')"
   ]
  },
  {
   "cell_type": "code",
   "execution_count": null,
   "id": "2e4c2b3d-d8af-494c-ba32-0e46a8bcda3a",
   "metadata": {},
   "outputs": [],
   "source": []
  }
 ],
 "metadata": {
  "kernelspec": {
   "display_name": "Python 3 (ipykernel)",
   "language": "python",
   "name": "python3"
  },
  "language_info": {
   "codemirror_mode": {
    "name": "ipython",
    "version": 3
   },
   "file_extension": ".py",
   "mimetype": "text/x-python",
   "name": "python",
   "nbconvert_exporter": "python",
   "pygments_lexer": "ipython3",
   "version": "3.10.6"
  }
 },
 "nbformat": 4,
 "nbformat_minor": 5
}
