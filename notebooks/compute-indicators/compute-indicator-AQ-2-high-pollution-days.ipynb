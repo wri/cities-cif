{
 "cells": [
  {
   "cell_type": "code",
   "execution_count": null,
   "id": "3478617d-5758-4d08-8e2a-3cd77b92ecc9",
   "metadata": {},
   "outputs": [],
   "source": [
    "import io, sys, os, datetime, requests\n",
    "from collections import defaultdict\n",
    "import numpy as np\n",
    "import pandas as pd\n",
    "import xarray as xr\n",
    "import netCDF4\n",
    "import shapely\n",
    "import boto3\n",
    "import geopandas as gpd\n",
    "import io"
   ]
  },
  {
   "cell_type": "code",
   "execution_count": null,
   "id": "a312e99e-7585-4d7e-8801-6c492fbaa1dd",
   "metadata": {
    "tags": []
   },
   "outputs": [],
   "source": [
    "# !{sys.executable} -m pip install pip earthengine-api\n",
    "# !{sys.executable} -m pip install pip geemap"
   ]
  },
  {
   "cell_type": "code",
   "execution_count": null,
   "id": "5901237b-55df-454c-a304-332c3cefdb34",
   "metadata": {},
   "outputs": [],
   "source": [
    "import geemap\n",
    "import ee\n",
    "# ee.Authenticate()"
   ]
  },
  {
   "cell_type": "code",
   "execution_count": null,
   "id": "0728d5e4-6883-44f9-b4b0-0b7ec5fb2e94",
   "metadata": {},
   "outputs": [],
   "source": [
    "ee.Initialize()"
   ]
  },
  {
   "cell_type": "code",
   "execution_count": null,
   "id": "679c3ee1-acea-47df-a9a0-392fa82f505c",
   "metadata": {},
   "outputs": [],
   "source": [
    "OUTPUT_FILENAME = 'AQ-2-highpollutiondays.csv'"
   ]
  },
  {
   "cell_type": "code",
   "execution_count": null,
   "id": "a8aec839-08f7-40f9-aba2-1274cf652046",
   "metadata": {
    "tags": []
   },
   "outputs": [],
   "source": [
    "SPECIES_INFO = {\n",
    "    'no2': {\n",
    "        'name': 'nitrogen dioxide',\n",
    "        'molar_mass': 46.0055,\n",
    "        'cams_unit': 'kg/kg',\n",
    "        'who_threshold': 25.0,\n",
    "    },\n",
    "    'so2': {\n",
    "        'name': 'sulfur dioxide',\n",
    "        'molar_mass': 64.066,\n",
    "        'cams_unit': 'kg/kg',\n",
    "        'who_threshold': 40.0\n",
    "    },\n",
    "    'o3': {    # Ozone thresholds are based on 8-hour average, not 24-hour.\n",
    "               # We use averages at 9am, noon, 3pm to get a 9-hour average at peak O3 production.\n",
    "        'name': 'ozone',\n",
    "        'molar_mass': 48.0,\n",
    "        'cams_unit': 'kg/kg',\n",
    "        'who_threshold': 100.0\n",
    "    },\n",
    "    'pm25': {\n",
    "        'name': 'fine particulate matter',\n",
    "        'cams_unit': 'kg/m^3',\n",
    "        'who_threshold': 15.0\n",
    "    },\n",
    "    'pm10': {\n",
    "        'name': 'coarse particulate matter',\n",
    "        'cams_unit': 'kg/m^3',\n",
    "        'who_threshold': 45.0\n",
    "    },\n",
    "    'co': {\n",
    "        'name': 'carbon monoxide',\n",
    "        'molar_mass': 28.01,\n",
    "        'cams_unit': 'kg/kg',\n",
    "        'who_threshold': 4000.0\n",
    "    }\n",
    "}\n",
    "\n",
    "datasets = defaultdict(None)"
   ]
  },
  {
   "cell_type": "code",
   "execution_count": null,
   "id": "9cf7f14d-aeae-408c-82c7-7ffdf792c2ba",
   "metadata": {},
   "outputs": [],
   "source": [
    "# connect to s3\n",
    "aws_credentials = pd.read_csv('/home/jovyan/PlanetaryComputerExamples/aws_credentials.csv')\n",
    "aws_key = aws_credentials.iloc[0]['Access key ID']\n",
    "aws_secret = aws_credentials.iloc[0]['Secret access key']\n",
    "\n",
    "s3 = boto3.client(\n",
    "    service_name='s3',\n",
    "    aws_access_key_id=aws_key,\n",
    "    aws_secret_access_key=aws_secret\n",
    ")"
   ]
  },
  {
   "cell_type": "code",
   "execution_count": null,
   "id": "70eb1c96-2c58-4d4c-b3d1-bb9766bdd0cc",
   "metadata": {},
   "outputs": [],
   "source": [
    "# define directory\n",
    "out_dir = os.getcwd()\n",
    "bucket_name = 'cities-indicators'\n",
    "aws_s3_dir = \"https://\"+bucket_name+\".s3.eu-west-3.amazonaws.com\""
   ]
  },
  {
   "cell_type": "code",
   "execution_count": null,
   "id": "5a200364-f586-4ea7-aa36-4e3574b33d4f",
   "metadata": {},
   "outputs": [],
   "source": [
    "for species in SPECIES_INFO:\n",
    "    local_filename = 'cams-eac4_{}_sfc_2020.nc'.format(species)\n",
    "    f = s3.download_file(bucket_name, 'data/air_pollution/cams/cams-eac4_{}_sfc_2020.nc'.format(species), local_filename)\n",
    "    datasets[species] = xr.open_dataset(local_filename)"
   ]
  },
  {
   "cell_type": "code",
   "execution_count": null,
   "id": "bdce8358-8037-403f-9e6c-22e1f86b4f6a",
   "metadata": {},
   "outputs": [],
   "source": [
    "# get list of cities\n",
    "boundary_georef = pd.read_csv(aws_s3_dir +'/data/boundaries/boundary_georef.csv')\n",
    "boundary_georef"
   ]
  },
  {
   "cell_type": "code",
   "execution_count": null,
   "id": "efe8118f-af0e-47a2-a2ff-da275e7e751d",
   "metadata": {},
   "outputs": [],
   "source": [
    "def massfraction_to_concentration(massfraction):\n",
    "    # input masses in kg, volumes in m^3\n",
    "    # returns ug/m^3\n",
    "    # 10^9 ug/kg\n",
    "    # air density 1.223803 kg/m3 from https://confluence.ecmwf.int/display/UDOC/L60+model+level+definitions\n",
    "    return massfraction * 1.223803 * 10**9"
   ]
  },
  {
   "cell_type": "code",
   "execution_count": null,
   "id": "e94cc144-64cc-4984-a6d7-df4b6259d421",
   "metadata": {},
   "outputs": [],
   "source": [
    "def kilogrampersquaremeter_to_microgrampersquaremeter(conc):\n",
    "    return conc * 10**9"
   ]
  },
  {
   "cell_type": "code",
   "execution_count": null,
   "id": "cb02e4c3-c822-45b6-aebc-62388c51c053",
   "metadata": {},
   "outputs": [],
   "source": [
    "def exceedancedays(species, lon, lat):\n",
    "    speciesdata = datasets[species]\n",
    "    threshold = SPECIES_INFO[species]['who_threshold']\n",
    "    localdata = speciesdata.sel(latitude=lat, longitude=lon, method='nearest')\n",
    "    if SPECIES_INFO[species]['cams_unit'] == 'kg/kg':\n",
    "        conc = massfraction_to_concentration(localdata)\n",
    "    elif SPECIES_INFO[species]['cams_unit'] == 'kg/m^3':\n",
    "        conc = kilogrampersquaremeter_to_microgrampersquaremeter(localdata)\n",
    "    else:\n",
    "        raise Exception('Unknown CAMS unit')\n",
    "    dailymax = pd.DataFrame()\n",
    "    dailymax['thedata'] = conc.to_array()[0]\n",
    "    dailymax = dailymax.set_index(conc.time.to_index())\n",
    "    dailymax = dailymax.resample('D').mean()\n",
    "    exceeds = dailymax.thedata >= threshold\n",
    "    return np.sum(exceeds), exceeds"
   ]
  },
  {
   "cell_type": "code",
   "execution_count": null,
   "id": "450db1c5-ff0c-4854-9098-ecd3ebe691bc",
   "metadata": {
    "tags": []
   },
   "outputs": [],
   "source": [
    "cams_multispecies_aq_indicator = pd.DataFrame()\n",
    "for i in range(0, len(boundary_georef)):\n",
    "    print(i)\n",
    "    geo_name = boundary_georef.loc[i, 'geo_name']\n",
    "    \n",
    "    \n",
    "    boundary_id_aoi = boundary_georef.loc[i, 'geo_name']+'-'+boundary_georef.loc[i, 'aoi_boundary_name']\n",
    "    boundary_id_unit = boundary_georef.loc[i, 'geo_name']+'-'+boundary_georef.loc[i, 'units_boundary_name']\n",
    "    \n",
    "    print(\"\\n geo_name: \"+boundary_id_aoi)\n",
    "    \n",
    "    # AOI\n",
    "    boundary_id = boundary_id_aoi\n",
    "    print(\"\\n boundary_id_aoi: \"+boundary_id_aoi)\n",
    "    # read boundaries\n",
    "    boundary_path = aws_s3_dir +'/data/boundaries/boundary-'+boundary_id_aoi+'.geojson'\n",
    "    boundary_geo = requests.get(boundary_path).json()\n",
    "    boundary_geo_ee = geemap.geojson_to_ee(boundary_geo).select(['geo_parent_name','geo_name','geo_level','geo_id'])\n",
    "    shape = shapely.geometry.shape(boundary_geo['features'][0]['geometry'])\n",
    "    centroid = shape.centroid\n",
    "    clon, clat = centroid.coords[0]  # Breaks if multipolygon\n",
    "    df = geemap.ee_to_pandas(boundary_geo_ee)\n",
    "\n",
    "    allspecies_exceeds = []\n",
    "    for species in SPECIES_INFO:\n",
    "        print(SPECIES_INFO[species]['name'])\n",
    "        result, onespecies_exceeds = exceedancedays(species, clon, clat)\n",
    "        allspecies_exceeds.append(onespecies_exceeds)\n",
    "        df['exceedancedays_{}'.format(SPECIES_INFO[species]['name'])] = result\n",
    "    df['exceedancedays_additive'] = pd.concat(allspecies_exceeds, axis=1).sum(axis=1).sum(axis=0)\n",
    "    df['exceedancedays_atleastone'] = pd.concat(allspecies_exceeds, axis=1).sum(axis=1).gt(0).sum(axis=0)\n",
    "    cams_multispecies_aq_indicator = pd.concat([cams_multispecies_aq_indicator, df])\n",
    "    cams_multispecies_aq_indicator.to_csv(OUTPUT_FILENAME)"
   ]
  },
  {
   "cell_type": "code",
   "execution_count": null,
   "id": "23bede14-532b-4e32-b431-1b1ca24422d8",
   "metadata": {},
   "outputs": [],
   "source": [
    "pd.concat(allspecies_exceeds, axis=1).sum(axis=1).gt(0).sum(axis=0)"
   ]
  },
  {
   "cell_type": "code",
   "execution_count": null,
   "id": "0007ef0a-6148-43ed-95d3-9822d83ae1d5",
   "metadata": {},
   "outputs": [],
   "source": [
    "processedcities = pd.read_csv(OUTPUT_FILENAME)\n",
    "# ''out_dir +'/' OUTPUT_FILENAME'\n",
    "processedcities"
   ]
  },
  {
   "cell_type": "markdown",
   "id": "9b931bb4-1853-4e02-b75a-853e4861bbf9",
   "metadata": {},
   "source": [
    "# Upload in aws s3"
   ]
  },
  {
   "cell_type": "code",
   "execution_count": null,
   "id": "4c059a57-b6a6-4354-b24b-f45102ec8399",
   "metadata": {},
   "outputs": [],
   "source": [
    "# connect to s3\n",
    "aws_credentials = pd.read_csv('/home/jovyan/PlanetaryComputerExamples/aws_credentials.csv')\n",
    "# aws_credentials = pd.read_csv('C:\\\\Users\\\\Saif.Shabou\\\\OneDrive - World Resources Institute\\\\Documents\\\\aws\\\\credentials.csv')\n",
    "aws_key = aws_credentials.iloc[0]['Access key ID']\n",
    "aws_secret = aws_credentials.iloc[0]['Secret access key']\n",
    "\n",
    "s3 = boto3.resource(\n",
    "    service_name='s3',\n",
    "    aws_access_key_id=aws_key,\n",
    "    aws_secret_access_key=aws_secret\n",
    ")"
   ]
  },
  {
   "cell_type": "code",
   "execution_count": null,
   "id": "1a2235f8-fb77-40f6-91d8-908dca3fd164",
   "metadata": {},
   "outputs": [],
   "source": [
    "# upload to aws\n",
    "key_data = 'indicators/'+OUTPUT_FILENAME+''\n",
    "\n",
    "processedcities.to_csv(\n",
    "    f\"s3://{bucket_name}/{key_data}\",\n",
    "    index=False,\n",
    "    storage_options={\n",
    "        \"key\": aws_key,\n",
    "        \"secret\": aws_secret\n",
    "    },\n",
    ")"
   ]
  },
  {
   "cell_type": "code",
   "execution_count": null,
   "id": "db9ed391-015d-4778-acc5-37c0c7a04703",
   "metadata": {},
   "outputs": [],
   "source": [
    "# make it public\n",
    "object_acl = s3.ObjectAcl(bucket_name,key_data)\n",
    "response = object_acl.put(ACL='public-read')"
   ]
  },
  {
   "cell_type": "code",
   "execution_count": null,
   "id": "2d9079a4-f792-46db-b03f-e37b3d31fcc6",
   "metadata": {},
   "outputs": [],
   "source": []
  }
 ],
 "metadata": {
  "kernelspec": {
   "display_name": "Python 3 (ipykernel)",
   "language": "python",
   "name": "python3"
  },
  "language_info": {
   "codemirror_mode": {
    "name": "ipython",
    "version": 3
   },
   "file_extension": ".py",
   "mimetype": "text/x-python",
   "name": "python",
   "nbconvert_exporter": "python",
   "pygments_lexer": "ipython3",
   "version": "3.10.6"
  }
 },
 "nbformat": 4,
 "nbformat_minor": 5
}
