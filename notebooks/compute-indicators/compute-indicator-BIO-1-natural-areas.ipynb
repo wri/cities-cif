{
 "cells": [
  {
   "cell_type": "code",
   "execution_count": null,
   "id": "41b1662b-6b27-4b79-9d8d-7c5c0bd52929",
   "metadata": {
    "tags": []
   },
   "outputs": [],
   "source": [
    "# import sys\n",
    "# !{sys.executable} -m pip install --extra-index-url https://artifactory.vgt.vito.be/api/pypi/python-packages/simple terracatalogueclient"
   ]
  },
  {
   "cell_type": "code",
   "execution_count": null,
   "id": "cb454f14-522f-450c-b90b-a022f3714fa3",
   "metadata": {},
   "outputs": [],
   "source": [
    "import warnings\n",
    "warnings.filterwarnings(action='ignore')"
   ]
  },
  {
   "cell_type": "code",
   "execution_count": null,
   "id": "90ed0cfe-4d8f-403c-9c06-6bd5982b9ecb",
   "metadata": {},
   "outputs": [],
   "source": [
    "import os, requests, json, geojson, gc\n",
    "import pandas as pd\n",
    "import geopandas as gpd\n",
    "from shapely.geometry import Point, Polygon, MultiPolygon, shape\n",
    "from shapely.ops import unary_union\n",
    "import rasterio\n",
    "from rasterio.features import shapes\n",
    "from shapely.ops import transform\n",
    "import numpy as np\n",
    "import numpy.ma as ma\n",
    "from rasterio.merge import merge as rmerge\n",
    "import rasterio.mask\n",
    "import fiona\n",
    "import shapely\n",
    "import pyproj\n",
    "from rasterstats import zonal_stats\n",
    "from terracatalogueclient import Catalogue as Terracat\n",
    "import boto3"
   ]
  },
  {
   "cell_type": "code",
   "execution_count": null,
   "id": "41d9a906-e859-41a3-a8eb-5f6118a79378",
   "metadata": {},
   "outputs": [],
   "source": [
    "# define directory\n",
    "out_dir = os.getcwd()\n",
    "bucket_name = 'cities-indicators'\n",
    "aws_s3_dir = \"https://\"+bucket_name+\".s3.eu-west-3.amazonaws.com\"\n",
    "boundary_ext = '/data/boundaries/'\n",
    "indicators_file_aws = 'indicators/indicators.csv'"
   ]
  },
  {
   "cell_type": "code",
   "execution_count": null,
   "id": "6ee626da-5093-443c-8733-a4924e0ba4db",
   "metadata": {},
   "outputs": [],
   "source": [
    "OUTPUT_FILENAME = 'BIO-1-natural-areas.csv'"
   ]
  },
  {
   "cell_type": "code",
   "execution_count": null,
   "id": "d31ef7f6-61fe-4ae7-9663-e32105f3e9f9",
   "metadata": {},
   "outputs": [],
   "source": [
    "project = pyproj.Transformer.from_crs(\n",
    "    pyproj.CRS.from_epsg(4326), # source coordinate system\n",
    "    pyproj.CRS.from_epsg(4326), # destination coordinate system\n",
    "    always_xy=True\n",
    ")\n",
    "# Get ESA Wo"
   ]
  },
  {
   "cell_type": "code",
   "execution_count": null,
   "id": "9c6fcc20-4a7d-4f9f-95a3-51e08dd5c1dd",
   "metadata": {},
   "outputs": [],
   "source": [
    "worldcover_catalogue = Terracat().authenticate() \n",
    "terracat = worldcover_catalogue.authenticate_non_interactive('tedwongwri', 'WRIpass12!')"
   ]
  },
  {
   "cell_type": "code",
   "execution_count": null,
   "id": "8a4136ee-5adf-4363-984d-c32893df7dff",
   "metadata": {
    "tags": []
   },
   "outputs": [],
   "source": [
    "# get list of cities\n",
    "boundary_georef = pd.read_csv(aws_s3_dir + boundary_ext + 'boundary_georef.csv')\n",
    "boundary_georef"
   ]
  },
  {
   "cell_type": "code",
   "execution_count": null,
   "id": "1c2a6e9f-0e21-41fc-ac28-d02d3f94826d",
   "metadata": {
    "tags": []
   },
   "outputs": [],
   "source": [
    "def boundingbox_wkt(p):\n",
    "    # Returns WKT for bounding box.\n",
    "    # Necessary because GBIF API won't accept complex polygons.\n",
    "    minx, miny, maxx, maxy = p.bounds\n",
    "    return 'POLYGON (({0} {3}, {0} {2}, {1} {2}, {0} {3}))'.format(str(minx), str(maxx), str(miny), str(maxy))\n",
    "\n",
    "def classify_naturalarea(r):\n",
    "    r[r == 0] = 0   # no data\n",
    "    r[(r > 0) & (r <= 30)] = 1  # Tree cover\n",
    "    #r[r == 20] = 1  # Shrubland\n",
    "    #r[r == 30] = 1  # Grassland\n",
    "    #r[r == 40] = 0  # Cropland\n",
    "    r[(r > 30) & (r <= 80)] = 0  # Built-up\n",
    "    #r[r == 60] = 0  # Bare / sparse vegetation\n",
    "    #r[r == 70] = 0  # Snow and ice\n",
    "    #r[r == 80] = 0  # Permanent water bodies\n",
    "    r[r > 80] = 1  # Herbaceous wetland\n",
    "    #r[r == 95] = 1  # Mangroves\n",
    "    #r[r == 100] = 1 # Moss and lichen\n",
    "    return r\n",
    "\n",
    "def mask_raster_with_geometry(raster, transform, shapes, **kwargs):\n",
    "    # This function clips and masks raster\n",
    "    # Adapted from https://gis.stackexchange.com/a/387772\n",
    "    \"\"\"Wrapper for rasterio.mask.mask to allow for in-memory processing.\n",
    "\n",
    "    Docs: https://rasterio.readthedocs.io/en/latest/api/rasterio.mask.html\n",
    "\n",
    "    Args:\n",
    "        raster (numpy.ndarray): raster to be masked with dim: [H, W]\n",
    "        transform (affine.Affine): the transform of the raster\n",
    "        shapes, **kwargs: passed to rasterio.mask.mask\n",
    "\n",
    "    Returns:\n",
    "        masked: numpy.ndarray or numpy.ma.MaskedArray with dim: [H, W], and new affine transform\n",
    "    \"\"\"\n",
    "    with rasterio.io.MemoryFile() as memfile:\n",
    "        with memfile.open(\n",
    "            driver='GTiff',\n",
    "            height=raster.shape[0],\n",
    "            width=raster.shape[1],\n",
    "            count=1,\n",
    "            dtype=raster.dtype,\n",
    "            transform=transform,\n",
    "        ) as dataset:\n",
    "            dataset.write(raster, 1)\n",
    "        with memfile.open() as dataset:\n",
    "            output, new_transform = rasterio.mask.mask(dataset, shapes, **kwargs)\n",
    "    return output.squeeze(0), new_transform\n",
    "\n",
    "def do_one_geom(row):    \n",
    "    poly = unary_union(row[0])\n",
    "    \n",
    "    box = boundingbox_wkt(poly)\n",
    "\n",
    "    products = terracat.get_products('urn:eop:VITO:ESA_WorldCover_10m_2020_V1', geometry=box)\n",
    "    # Create mosaic raster of Worldcover rasters downloaded from ESA\n",
    "    rasters_to_mosaic = []\n",
    "    for product in products:\n",
    "        if not '{0}dir'.format(product.title) in os.listdir('.'):\n",
    "            terracat.download_file(product.data[0], '{0}dir'.format(product.title))\n",
    "        raster = rasterio.open('{0}dir/{0}_Map.tif'.format(product.title))\n",
    "        rasters_to_mosaic.append(raster)\n",
    "    mosaic, mosaic_transform = rmerge(rasters_to_mosaic, bounds=poly.bounds)\n",
    "    del rasters_to_mosaic\n",
    "    gc.collect()\n",
    "    \n",
    "    # Create bbox of all ones\n",
    "    boxras, boxras_transform = mask_raster_with_geometry(mosaic[0], mosaic_transform, [shapely.geometry.box(*poly.bounds)], crop=True)\n",
    "    allone = (boxras * 0) + 1\n",
    "    \n",
    "    # Make boxras into a mask\n",
    "    maskras, dummy = mask_raster_with_geometry(allone, mosaic_transform, [poly], crop=True)\n",
    "    \n",
    "    clipped_raster, clip_transform = mask_raster_with_geometry(mosaic[0], mosaic_transform, [poly], crop=True)\n",
    "    \n",
    "    # Explicitly mask clipped raster. (Clipping doesn't seem to clip well on its own.)\n",
    "    naturalarea_raster = ma.masked_array(classify_naturalarea(clipped_raster), mask=((1-maskras)*-1))\n",
    "    del mosaic\n",
    "    gc.collect()\n",
    "    \n",
    "    result = np.mean(naturalarea_raster)\n",
    "    \n",
    "    print('{0}: {1}'.format(row[1], result))\n",
    "    return result\n"
   ]
  },
  {
   "cell_type": "code",
   "execution_count": null,
   "id": "8ab64cd3-d7f0-4503-b6a5-e1239186f44f",
   "metadata": {
    "tags": []
   },
   "outputs": [],
   "source": [
    "for i in range(0,len(boundary_georef)):\n",
    "    if not OUTPUT_FILENAME in os.listdir('.'):\n",
    "        so_far_df = pd.DataFrame()\n",
    "        so_far_df.to_csv(OUTPUT_FILENAME)\n",
    "        so_far = []\n",
    "    else:\n",
    "        so_far_df = pd.read_csv(OUTPUT_FILENAME)\n",
    "        so_far = [so_far_df.iloc[j]['geo_id'] for j in range(len(so_far_df))]\n",
    "\n",
    "    #outputs_df = pd.DataFrame()\n",
    "    do_units = True\n",
    "    most_recent = []\n",
    "    for boundary_name in ['aoi_boundary_name', 'units_boundary_name']:\n",
    "        if type(boundary_georef.loc[i, boundary_name]) != float: # sometimes boundary_id is nan\n",
    "            boundary_id = boundary_georef.loc[i, 'geo_name']+'-' + boundary_georef.loc[i, boundary_name]\n",
    "            boundary_path = aws_s3_dir + boundary_ext +'boundary-'+boundary_id+'.geojson'\n",
    "            boundary_geo = requests.get(boundary_path).json()\n",
    "            temp_gdf = gpd.GeoDataFrame.from_features(boundary_geo)\n",
    "            #if True or boundary_name == 'aoi_boundary_name':  # Calculates naturalarea for aoi, uses it for all unit-of-analysis calculations.\n",
    "               \n",
    "            temp_gdf['BIO_1_percentNaturalArea'] = temp_gdf.apply(do_one_geom, axis=1)\n",
    "          \n",
    "            most_recent.append(temp_gdf.copy())\n",
    "            if boundary_name == 'aoi_boundary_name':\n",
    "                do_units = most_recent[-1]['BIO_1_percentNaturalArea'][0] > 0\n",
    "    # Delete WorldCover rasters to prevent filling up disk\n",
    "    for directoryname in os.listdir('.'):\n",
    "        if directoryname[:15] == 'ESA_WorldCover_':\n",
    "            for filename in os.listdir(directoryname):\n",
    "                os.remove('{0}/{1}'.format(directoryname, filename))\n",
    "            os.rmdir(directoryname)\n",
    "            \n",
    "    result = pd.concat([so_far_df] + most_recent, axis=0)\n",
    "    result[['geometry', 'geo_id', 'geo_level', 'geo_name', 'geo_parent_name', 'BIO_1_percentNaturalArea']].to_csv(OUTPUT_FILENAME)"
   ]
  },
  {
   "cell_type": "code",
   "execution_count": null,
   "id": "473ff044-39c7-42dd-b6ab-60272a98905d",
   "metadata": {},
   "outputs": [],
   "source": [
    "processedcities = pd.read_csv(OUTPUT_FILENAME)\n",
    "# ''out_dir +'/' OUTPUT_FILENAME'\n",
    "processedcities"
   ]
  },
  {
   "cell_type": "code",
   "execution_count": null,
   "id": "b5942d18-6670-4f05-a5f1-0767034afec2",
   "metadata": {},
   "outputs": [],
   "source": []
  },
  {
   "cell_type": "markdown",
   "id": "fce8ef41-911a-48b5-824c-7468a6edbaa2",
   "metadata": {
    "tags": []
   },
   "source": [
    "# Merge with indicator table"
   ]
  },
  {
   "cell_type": "code",
   "execution_count": null,
   "id": "a2e62994-530d-4abc-b935-c08864beba13",
   "metadata": {},
   "outputs": [],
   "source": [
    "# read indicator table\n",
    "cities_indicators = pd.read_csv(aws_s3_dir +'/'+ indicators_file_aws)\n",
    "cities_indicators"
   ]
  },
  {
   "cell_type": "code",
   "execution_count": null,
   "id": "31c67ff3-7f08-4925-a94b-799c202fddf4",
   "metadata": {},
   "outputs": [],
   "source": [
    "def merge_indicators(indicator_table, new_indicator_table, indicator_name):\n",
    "    if indicator_name in indicator_table.columns:\n",
    "        print(\"replace with new calculations\")\n",
    "        indicator_table.drop(indicator_name, inplace=True, axis=1)\n",
    "        cities_indicators_df = indicator_table.merge(new_indicator_table[[\"geo_id\",indicator_name]], \n",
    "                                                     on='geo_id', \n",
    "                                                     how='left')\n",
    "    else:\n",
    "        print(\"add new indicators\")\n",
    "        cities_indicators_df = indicator_table.merge(new_indicator_table[[\"geo_id\",indicator_name]], \n",
    "                                                     on='geo_id', \n",
    "                                                     how='left')\n",
    "    return(cities_indicators_df)"
   ]
  },
  {
   "cell_type": "code",
   "execution_count": null,
   "id": "76c080fe-3d29-44f3-aaea-009c36173efd",
   "metadata": {},
   "outputs": [],
   "source": [
    "cities_indicators_merged = merge_indicators(indicator_table = cities_indicators,\n",
    "                                            new_indicator_table = processedcities,\n",
    "                                            indicator_name = 'BIO_1_percentNaturalArea')"
   ]
  },
  {
   "cell_type": "code",
   "execution_count": null,
   "id": "abe9d507-455b-49b1-bd68-8e98180f398c",
   "metadata": {},
   "outputs": [],
   "source": [
    "cities_indicators_merged"
   ]
  },
  {
   "cell_type": "markdown",
   "id": "da80a183-31ef-4618-ac39-c9cc6aade26c",
   "metadata": {},
   "source": [
    "# Upload in aws s3"
   ]
  },
  {
   "cell_type": "code",
   "execution_count": null,
   "id": "9ddc5587-57a6-4d01-a233-40067943a52e",
   "metadata": {},
   "outputs": [],
   "source": [
    "# connect to s3\n",
    "aws_credentials = pd.read_csv('/home/jovyan/PlanetaryComputerExamples/aws_credentials.csv')\n",
    "aws_key = aws_credentials.iloc[0]['Access key ID']\n",
    "aws_secret = aws_credentials.iloc[0]['Secret access key']\n",
    "\n",
    "s3 = boto3.resource(\n",
    "    service_name='s3',\n",
    "    aws_access_key_id=aws_key,\n",
    "    aws_secret_access_key=aws_secret\n",
    ")"
   ]
  },
  {
   "cell_type": "code",
   "execution_count": null,
   "id": "5bdf2f36-3b01-4710-a7ff-48bdda1cacb8",
   "metadata": {},
   "outputs": [],
   "source": [
    "# upload to aws\n",
    "key_data = indicators_file_aws\n",
    "cities_indicators_merged.to_csv(\n",
    "    f\"s3://{bucket_name}/{key_data}\",\n",
    "    index=False,\n",
    "    storage_options={\n",
    "        \"key\": aws_key,\n",
    "        \"secret\": aws_secret\n",
    "    },\n",
    ")"
   ]
  },
  {
   "cell_type": "code",
   "execution_count": null,
   "id": "4c94b1c5-78cc-4e99-af6f-413420fad5dd",
   "metadata": {},
   "outputs": [],
   "source": [
    "# make it public\n",
    "object_acl = s3.ObjectAcl(bucket_name,key_data)\n",
    "response = object_acl.put(ACL='public-read')"
   ]
  },
  {
   "cell_type": "code",
   "execution_count": null,
   "id": "ffe26d8b-31e1-42d5-8130-75cd6b601763",
   "metadata": {},
   "outputs": [],
   "source": []
  }
 ],
 "metadata": {
  "kernelspec": {
   "display_name": "Python 3 (ipykernel)",
   "language": "python",
   "name": "python3"
  },
  "language_info": {
   "codemirror_mode": {
    "name": "ipython",
    "version": 3
   },
   "file_extension": ".py",
   "mimetype": "text/x-python",
   "name": "python",
   "nbconvert_exporter": "python",
   "pygments_lexer": "ipython3",
   "version": "3.10.6"
  }
 },
 "nbformat": 4,
 "nbformat_minor": 5
}
